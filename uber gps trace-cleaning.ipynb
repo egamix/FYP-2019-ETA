{
 "cells": [
  {
   "cell_type": "code",
   "execution_count": 3,
   "metadata": {},
   "outputs": [],
   "source": [
    "from __future__ import print_function\n",
    "\n",
    "from IPython import display\n",
    "\n",
    "import math\n",
    "import matplotlib\n",
    "import sklearn\n",
    "import pandas as pd\n",
    "import numpy as np\n",
    "from matplotlib import pyplot as plt\n",
    "from numpy import radians, cos, sin, arcsin, arccos, sqrt, pi, arctan2, degrees, arctan\n",
    "import itertools\n",
    "\n",
    "from tqdm import tqdm, tqdm_notebook\n",
    "tqdm.pandas()\n",
    "tqdm.pandas(tqdm_notebook)\n",
    "\n",
    "import osrm\n",
    "from joblib import dump, load\n",
    "\n",
    "from sklearn.decomposition import PCA\n",
    "from sklearn.cluster import DBSCAN\n",
    "from sklearn.cluster import KMeans\n",
    "\n",
    "from natsort import natsorted\n",
    "from sklearn.model_selection import train_test_split\n",
    "from sklearn.model_selection import RandomizedSearchCV, GridSearchCV, train_test_split\n",
    "from sklearn import metrics\n",
    "\n",
    "from xgboost import XGBRegressor\n",
    "\n",
    "pd.options.display.max_rows = 10"
   ]
  },
  {
   "cell_type": "code",
   "execution_count": 4,
   "metadata": {},
   "outputs": [],
   "source": [
    "df = pd.read_csv('all_withspeed.tsv',parse_dates=[2])\n",
    "df.drop(df.columns[0], axis=1, inplace = True)"
   ]
  },
  {
   "cell_type": "code",
   "execution_count": 5,
   "metadata": {},
   "outputs": [],
   "source": [
    "grouper = df.groupby('trip id')"
   ]
  },
  {
   "cell_type": "code",
   "execution_count": 6,
   "metadata": {},
   "outputs": [
    {
     "data": {
      "text/plain": [
       "<matplotlib.axes._subplots.AxesSubplot at 0x7f50bc8672e8>"
      ]
     },
     "execution_count": 6,
     "metadata": {},
     "output_type": "execute_result"
    },
    {
     "data": {
      "image/png": "[encoded data removed]",
      "text/plain": [
       "<Figure size 432x288 with 1 Axes>"
      ]
     },
     "metadata": {
      "needs_background": "light"
     },
     "output_type": "display_data"
    }
   ],
   "source": [
    "df[df['time_elapsed_seconds'] > 4]['time_elapsed_seconds'].hist()"
   ]
  },
  {
   "cell_type": "code",
   "execution_count": 7,
   "metadata": {},
   "outputs": [
    {
     "data": {
      "text/html": [
       "<div>\n",
       "<style scoped>\n",
       "    .dataframe tbody tr th:only-of-type {\n",
       "        vertical-align: middle;\n",
       "    }\n",
       "\n",
       "    .dataframe tbody tr th {\n",
       "        vertical-align: top;\n",
       "    }\n",
       "\n",
       "    .dataframe thead th {\n",
       "        text-align: right;\n",
       "    }\n",
       "</style>\n",
       "<table border=\"1\" class=\"dataframe\">\n",
       "  <thead>\n",
       "    <tr style=\"text-align: right;\">\n",
       "      <th></th>\n",
       "      <th>trip id</th>\n",
       "      <th>iso timestamp</th>\n",
       "      <th>latitude</th>\n",
       "      <th>longitude</th>\n",
       "      <th>distance_travelled</th>\n",
       "      <th>time_elapsed_seconds</th>\n",
       "      <th>speed m/s</th>\n",
       "      <th>speed kmh</th>\n",
       "    </tr>\n",
       "  </thead>\n",
       "  <tbody>\n",
       "    <tr>\n",
       "      <th>901</th>\n",
       "      <td>25</td>\n",
       "      <td>2007-01-02 00:47:06+00:00</td>\n",
       "      <td>37.769229</td>\n",
       "      <td>-122.397556</td>\n",
       "      <td>0.176986</td>\n",
       "      <td>4.0</td>\n",
       "      <td>44.246530</td>\n",
       "      <td>159.287510</td>\n",
       "    </tr>\n",
       "    <tr>\n",
       "      <th>1522</th>\n",
       "      <td>38</td>\n",
       "      <td>2007-01-07 16:02:30+00:00</td>\n",
       "      <td>37.769852</td>\n",
       "      <td>-122.421149</td>\n",
       "      <td>0.167707</td>\n",
       "      <td>4.0</td>\n",
       "      <td>41.926721</td>\n",
       "      <td>150.936195</td>\n",
       "    </tr>\n",
       "    <tr>\n",
       "      <th>3143</th>\n",
       "      <td>75</td>\n",
       "      <td>2007-01-05 06:37:30+00:00</td>\n",
       "      <td>37.797065</td>\n",
       "      <td>-122.435534</td>\n",
       "      <td>0.342549</td>\n",
       "      <td>4.0</td>\n",
       "      <td>85.637281</td>\n",
       "      <td>308.294212</td>\n",
       "    </tr>\n",
       "    <tr>\n",
       "      <th>3772</th>\n",
       "      <td>90</td>\n",
       "      <td>2007-01-03 22:18:03+00:00</td>\n",
       "      <td>37.770069</td>\n",
       "      <td>-122.389482</td>\n",
       "      <td>0.505344</td>\n",
       "      <td>12.0</td>\n",
       "      <td>42.111971</td>\n",
       "      <td>151.603097</td>\n",
       "    </tr>\n",
       "    <tr>\n",
       "      <th>4800</th>\n",
       "      <td>115</td>\n",
       "      <td>2007-01-06 16:37:27+00:00</td>\n",
       "      <td>37.787824</td>\n",
       "      <td>-122.403667</td>\n",
       "      <td>0.183029</td>\n",
       "      <td>4.0</td>\n",
       "      <td>45.757294</td>\n",
       "      <td>164.726258</td>\n",
       "    </tr>\n",
       "    <tr>\n",
       "      <th>...</th>\n",
       "      <td>...</td>\n",
       "      <td>...</td>\n",
       "      <td>...</td>\n",
       "      <td>...</td>\n",
       "      <td>...</td>\n",
       "      <td>...</td>\n",
       "      <td>...</td>\n",
       "      <td>...</td>\n",
       "    </tr>\n",
       "    <tr>\n",
       "      <th>1122588</th>\n",
       "      <td>24866</td>\n",
       "      <td>2007-01-04 06:07:18+00:00</td>\n",
       "      <td>37.777878</td>\n",
       "      <td>-122.401372</td>\n",
       "      <td>0.175524</td>\n",
       "      <td>4.0</td>\n",
       "      <td>43.881065</td>\n",
       "      <td>157.971834</td>\n",
       "    </tr>\n",
       "    <tr>\n",
       "      <th>1125453</th>\n",
       "      <td>24930</td>\n",
       "      <td>2007-01-07 07:59:58+00:00</td>\n",
       "      <td>37.802203</td>\n",
       "      <td>-122.425453</td>\n",
       "      <td>0.466617</td>\n",
       "      <td>4.0</td>\n",
       "      <td>116.654234</td>\n",
       "      <td>419.955241</td>\n",
       "    </tr>\n",
       "    <tr>\n",
       "      <th>1125708</th>\n",
       "      <td>24935</td>\n",
       "      <td>2007-01-01 02:53:09+00:00</td>\n",
       "      <td>37.762851</td>\n",
       "      <td>-122.429794</td>\n",
       "      <td>0.265298</td>\n",
       "      <td>3.0</td>\n",
       "      <td>88.432713</td>\n",
       "      <td>318.357765</td>\n",
       "    </tr>\n",
       "    <tr>\n",
       "      <th>1127649</th>\n",
       "      <td>24979</td>\n",
       "      <td>2007-01-06 01:54:01+00:00</td>\n",
       "      <td>37.794081</td>\n",
       "      <td>-122.426424</td>\n",
       "      <td>0.160344</td>\n",
       "      <td>1.0</td>\n",
       "      <td>160.343764</td>\n",
       "      <td>577.237552</td>\n",
       "    </tr>\n",
       "    <tr>\n",
       "      <th>1127656</th>\n",
       "      <td>24979</td>\n",
       "      <td>2007-01-06 01:54:53+00:00</td>\n",
       "      <td>37.791099</td>\n",
       "      <td>-122.425861</td>\n",
       "      <td>0.235906</td>\n",
       "      <td>1.0</td>\n",
       "      <td>235.906367</td>\n",
       "      <td>849.262923</td>\n",
       "    </tr>\n",
       "  </tbody>\n",
       "</table>\n",
       "<p>4098 rows × 8 columns</p>\n",
       "</div>"
      ],
      "text/plain": [
       "         trip id             iso timestamp   latitude   longitude  \\\n",
       "901           25 2007-01-02 00:47:06+00:00  37.769229 -122.397556   \n",
       "1522          38 2007-01-07 16:02:30+00:00  37.769852 -122.421149   \n",
       "3143          75 2007-01-05 06:37:30+00:00  37.797065 -122.435534   \n",
       "3772          90 2007-01-03 22:18:03+00:00  37.770069 -122.389482   \n",
       "4800         115 2007-01-06 16:37:27+00:00  37.787824 -122.403667   \n",
       "...          ...                       ...        ...         ...   \n",
       "1122588    24866 2007-01-04 06:07:18+00:00  37.777878 -122.401372   \n",
       "1125453    24930 2007-01-07 07:59:58+00:00  37.802203 -122.425453   \n",
       "1125708    24935 2007-01-01 02:53:09+00:00  37.762851 -122.429794   \n",
       "1127649    24979 2007-01-06 01:54:01+00:00  37.794081 -122.426424   \n",
       "1127656    24979 2007-01-06 01:54:53+00:00  37.791099 -122.425861   \n",
       "\n",
       "         distance_travelled  time_elapsed_seconds   speed m/s   speed kmh  \n",
       "901                0.176986                   4.0   44.246530  159.287510  \n",
       "1522               0.167707                   4.0   41.926721  150.936195  \n",
       "3143               0.342549                   4.0   85.637281  308.294212  \n",
       "3772               0.505344                  12.0   42.111971  151.603097  \n",
       "4800               0.183029                   4.0   45.757294  164.726258  \n",
       "...                     ...                   ...         ...         ...  \n",
       "1122588            0.175524                   4.0   43.881065  157.971834  \n",
       "1125453            0.466617                   4.0  116.654234  419.955241  \n",
       "1125708            0.265298                   3.0   88.432713  318.357765  \n",
       "1127649            0.160344                   1.0  160.343764  577.237552  \n",
       "1127656            0.235906                   1.0  235.906367  849.262923  \n",
       "\n",
       "[4098 rows x 8 columns]"
      ]
     },
     "execution_count": 7,
     "metadata": {},
     "output_type": "execute_result"
    }
   ],
   "source": [
    "df[df['speed kmh'] > 150]"
   ]
  },
  {
   "cell_type": "code",
   "execution_count": null,
   "metadata": {},
   "outputs": [],
   "source": [
    "i = 0\n",
    "fig, ax = plt.subplots()\n",
    "for name, val in tqdm(grouper):\n",
    "    val.plot(kind = 'scatter',x = 'longitude', y = 'latitude', c = 'speed kmh', ax = ax, legend = False, figsize = (10,12))\n",
    "    i+= 1\n",
    "    if i >10:\n",
    "        break"
   ]
  },
  {
   "cell_type": "code",
   "execution_count": 10,
   "metadata": {},
   "outputs": [
    {
     "data": {
      "text/plain": [
       "<matplotlib.axes._subplots.AxesSubplot at 0x7f50c1fca240>"
      ]
     },
     "execution_count": 10,
     "metadata": {},
     "output_type": "execute_result"
    },
    {
     "data": {
      "image/png": "[encoded data removed]",
      "text/plain": [
       "<Figure size 432x288 with 1 Axes>"
      ]
     },
     "metadata": {
      "needs_background": "light"
     },
     "output_type": "display_data"
    },
    {
     "data": {
      "image/png": "[encoded data removed]",
      "text/plain": [
       "<Figure size 432x288 with 2 Axes>"
      ]
     },
     "metadata": {
      "needs_background": "light"
     },
     "output_type": "display_data"
    }
   ],
   "source": [
    "df[df['trip id'] == 25].plot(x = 'iso timestamp', y ='speed kmh')\n",
    "df[df['trip id'] == 25].plot(kind = 'scatter', y = 'latitude', x = 'longitude' ,c = 'speed kmh')"
   ]
  },
  {
   "cell_type": "code",
   "execution_count": 16,
   "metadata": {},
   "outputs": [],
   "source": [
    "def running_mean(x ,N):\n",
    "    cumsum = np.cumsum(np.insert(x, 0, 0))\n",
    "    return (cumsum[N:] - cumsum[:-N])/float(N)\n",
    "\n",
    "def kalman_oneD(kinematics, col, plot):\n",
    "    n_iter = kinematics.shape[0]\n",
    "    sz = (n_iter,)\n",
    "    z = kinematics[col].values\n",
    "    Q = 9e-5 #process variance\n",
    "    xhat=np.zeros(sz) #a posteri x estimate\n",
    "    P=np.zeros(sz) #a priori error estimate\n",
    "    xhatminus=np.zeros(sz)\n",
    "    Pminus=np.zeros(sz)\n",
    "    K=np.zeros(sz)\n",
    "\n",
    "    R = 0.045**2 #measurement variance\n",
    "\n",
    "    xhat[0] = z[0]\n",
    "    P[0] = 1.0\n",
    "\n",
    "    for k in range(1, n_iter):\n",
    "        #time update\n",
    "        xhatminus[k] = xhat[k-1]\n",
    "        Pminus[k] = P[k-1] + Q\n",
    "        #measurement update\n",
    "        K[k] = Pminus[k]/(Pminus[k] + R)\n",
    "        xhat[k] = xhatminus[k] + K[k]*(z[k]-xhatminus[k])\n",
    "        P[k] = (1-K[k])*Pminus[k]\n",
    "\n",
    "    rmk = running_mean(xhat, 10)\n",
    "    rm = running_mean(z, 15)\n",
    "    \n",
    "    \n",
    "    if plot == True:\n",
    "        plt.figure(figsize=(20,10))\n",
    "        plt.plot(kinematics['iso timestamp'],z, 'k+', label = 'derived speed')\n",
    "        plt.plot(kinematics['iso timestamp'],kinematics[col].rolling(window = 15).mean(), 'g-', label = 'pandas rolling')\n",
    "        plt.plot(kinematics['iso timestamp'], xhat, 'b-', label = 'speed estimate')\n",
    "#         plt.plot(kinematics['iso timestamp'], kinematics['knots AIS'], 'y-', label = 'AIS speed')\n",
    "        plt.plot(kinematics['iso timestamp'].iloc[:len(rmk)], rmk, label = 'runningmean kalman')\n",
    "        plt.plot(kinematics['iso timestamp'].iloc[:len(rm)], rm, 'r-', label = 'runningmean raw')\n",
    "        plt.xlabel('Time')\n",
    "        plt.ylabel('Speed')\n",
    "        plt.legend()\n",
    "\n",
    "    rmk = np.append(rmk, xhat[-9:])\n",
    "    \n",
    "    return rmk\n"
   ]
  },
  {
   "cell_type": "code",
   "execution_count": 17,
   "metadata": {},
   "outputs": [
    {
     "data": {
      "text/plain": [
       "array([13.02448679, 14.97622457, 15.50966773, 16.45622642, 17.52119383,\n",
       "       18.56852537, 19.84599843, 21.58058272, 24.13303417, 27.66718195,\n",
       "       31.7064042 , 35.58533023, 39.25902973, 44.37464588, 49.8485177 ,\n",
       "       56.243861  , 62.93658244, 69.4541522 , 75.2690219 , 78.90642925,\n",
       "       81.89051716, 84.07216366, 85.07913017, 83.1726789 , 80.14737846,\n",
       "       76.0715401 , 70.95509537, 65.32213816, 59.60402935, 55.22463617,\n",
       "       50.4203778 , 45.26396776, 40.62957794, 37.16401077, 34.64342779,\n",
       "       32.65816589, 31.09003056, 29.86562896, 28.71066268, 27.30629876,\n",
       "       28.55900287, 27.38689662, 28.0912744 , 29.28728543, 28.17844215,\n",
       "       24.96943166, 25.12435721, 25.32608427, 22.65239964])"
      ]
     },
     "execution_count": 17,
     "metadata": {},
     "output_type": "execute_result"
    },
    {
     "data": {
      "image/png": "[encoded data removed]",
      "text/plain": [
       "<Figure size 1440x720 with 1 Axes>"
      ]
     },
     "metadata": {
      "needs_background": "light"
     },
     "output_type": "display_data"
    }
   ],
   "source": [
    "kalman_oneD(df[df['trip id'] == 25], 'speed kmh', plot = 1)"
   ]
  },
  {
   "cell_type": "code",
   "execution_count": null,
   "metadata": {},
   "outputs": [],
   "source": []
  },
  {
   "cell_type": "code",
   "execution_count": 3,
   "metadata": {},
   "outputs": [],
   "source": [
    "grouper = df.groupby('trip id')"
   ]
  },
  {
   "cell_type": "code",
   "execution_count": 4,
   "metadata": {},
   "outputs": [
    {
     "name": "stderr",
     "output_type": "stream",
     "text": [
      "100%|██████████| 24999/24999 [05:30<00:00, 75.53it/s] \n"
     ]
    }
   ],
   "source": [
    "taxi2 = []\n",
    "for name, val in tqdm(grouper):\n",
    "    prod = []\n",
    "    for pair in itertools.combinations(val.iloc[:,1:].values,2):\n",
    "        prod.append(pair)\n",
    "    try:\n",
    "        foo = pd.DataFrame.from_records(prod)\n",
    "        foo = pd.concat([pd.DataFrame(foo[0].values.tolist()), pd.DataFrame(foo[1].values.tolist())], axis = 1)\n",
    "        taxi2.append(foo)\n",
    "    except KeyError:\n",
    "        pass"
   ]
  },
  {
   "cell_type": "code",
   "execution_count": 5,
   "metadata": {},
   "outputs": [
    {
     "data": {
      "text/plain": [
       "['/mnt/hgfs/FYP/allpairs_speed']"
      ]
     },
     "execution_count": 5,
     "metadata": {},
     "output_type": "execute_result"
    }
   ],
   "source": [
    "dump(taxi2, '/mnt/hgfs/FYP/allpairs_speed')"
   ]
  },
  {
   "cell_type": "code",
   "execution_count": 2,
   "metadata": {},
   "outputs": [],
   "source": [
    "taxi2 = load('/mnt/hgfs/FYP/allpairs_speed')"
   ]
  },
  {
   "cell_type": "code",
   "execution_count": 3,
   "metadata": {},
   "outputs": [
    {
     "data": {
      "text/html": [
       "<div>\n",
       "<style scoped>\n",
       "    .dataframe tbody tr th:only-of-type {\n",
       "        vertical-align: middle;\n",
       "    }\n",
       "\n",
       "    .dataframe tbody tr th {\n",
       "        vertical-align: top;\n",
       "    }\n",
       "\n",
       "    .dataframe thead th {\n",
       "        text-align: right;\n",
       "    }\n",
       "</style>\n",
       "<table border=\"1\" class=\"dataframe\">\n",
       "  <thead>\n",
       "    <tr style=\"text-align: right;\">\n",
       "      <th></th>\n",
       "      <th>0</th>\n",
       "      <th>1</th>\n",
       "      <th>2</th>\n",
       "      <th>3</th>\n",
       "      <th>4</th>\n",
       "      <th>5</th>\n",
       "      <th>6</th>\n",
       "      <th>0</th>\n",
       "      <th>1</th>\n",
       "      <th>2</th>\n",
       "      <th>3</th>\n",
       "      <th>4</th>\n",
       "      <th>5</th>\n",
       "      <th>6</th>\n",
       "    </tr>\n",
       "  </thead>\n",
       "  <tbody>\n",
       "    <tr>\n",
       "      <th>0</th>\n",
       "      <td>2007-01-06 06:22:35+00:00</td>\n",
       "      <td>37.800224</td>\n",
       "      <td>-122.433520</td>\n",
       "      <td>0.000000</td>\n",
       "      <td>0.0</td>\n",
       "      <td>0.000000</td>\n",
       "      <td>0.000000</td>\n",
       "      <td>2007-01-06 06:22:39+00:00</td>\n",
       "      <td>37.800155</td>\n",
       "      <td>-122.434101</td>\n",
       "      <td>0.051678</td>\n",
       "      <td>4.0</td>\n",
       "      <td>12.919610</td>\n",
       "      <td>46.510594</td>\n",
       "    </tr>\n",
       "    <tr>\n",
       "      <th>1</th>\n",
       "      <td>2007-01-06 06:22:35+00:00</td>\n",
       "      <td>37.800224</td>\n",
       "      <td>-122.433520</td>\n",
       "      <td>0.000000</td>\n",
       "      <td>0.0</td>\n",
       "      <td>0.000000</td>\n",
       "      <td>0.000000</td>\n",
       "      <td>2007-01-06 06:22:43+00:00</td>\n",
       "      <td>37.800160</td>\n",
       "      <td>-122.434430</td>\n",
       "      <td>0.028944</td>\n",
       "      <td>4.0</td>\n",
       "      <td>7.236004</td>\n",
       "      <td>26.049615</td>\n",
       "    </tr>\n",
       "    <tr>\n",
       "      <th>2</th>\n",
       "      <td>2007-01-06 06:22:35+00:00</td>\n",
       "      <td>37.800224</td>\n",
       "      <td>-122.433520</td>\n",
       "      <td>0.000000</td>\n",
       "      <td>0.0</td>\n",
       "      <td>0.000000</td>\n",
       "      <td>0.000000</td>\n",
       "      <td>2007-01-06 06:22:47+00:00</td>\n",
       "      <td>37.800378</td>\n",
       "      <td>-122.434527</td>\n",
       "      <td>0.025724</td>\n",
       "      <td>4.0</td>\n",
       "      <td>6.430954</td>\n",
       "      <td>23.151435</td>\n",
       "    </tr>\n",
       "    <tr>\n",
       "      <th>3</th>\n",
       "      <td>2007-01-06 06:22:35+00:00</td>\n",
       "      <td>37.800224</td>\n",
       "      <td>-122.433520</td>\n",
       "      <td>0.000000</td>\n",
       "      <td>0.0</td>\n",
       "      <td>0.000000</td>\n",
       "      <td>0.000000</td>\n",
       "      <td>2007-01-06 06:22:51+00:00</td>\n",
       "      <td>37.800738</td>\n",
       "      <td>-122.434598</td>\n",
       "      <td>0.040559</td>\n",
       "      <td>4.0</td>\n",
       "      <td>10.139675</td>\n",
       "      <td>36.502829</td>\n",
       "    </tr>\n",
       "    <tr>\n",
       "      <th>4</th>\n",
       "      <td>2007-01-06 06:22:35+00:00</td>\n",
       "      <td>37.800224</td>\n",
       "      <td>-122.433520</td>\n",
       "      <td>0.000000</td>\n",
       "      <td>0.0</td>\n",
       "      <td>0.000000</td>\n",
       "      <td>0.000000</td>\n",
       "      <td>2007-01-06 06:22:55+00:00</td>\n",
       "      <td>37.800938</td>\n",
       "      <td>-122.434650</td>\n",
       "      <td>0.022729</td>\n",
       "      <td>4.0</td>\n",
       "      <td>5.682216</td>\n",
       "      <td>20.455978</td>\n",
       "    </tr>\n",
       "    <tr>\n",
       "      <th>...</th>\n",
       "      <td>...</td>\n",
       "      <td>...</td>\n",
       "      <td>...</td>\n",
       "      <td>...</td>\n",
       "      <td>...</td>\n",
       "      <td>...</td>\n",
       "      <td>...</td>\n",
       "      <td>...</td>\n",
       "      <td>...</td>\n",
       "      <td>...</td>\n",
       "      <td>...</td>\n",
       "      <td>...</td>\n",
       "      <td>...</td>\n",
       "      <td>...</td>\n",
       "    </tr>\n",
       "    <tr>\n",
       "      <th>148</th>\n",
       "      <td>2007-01-06 06:23:55+00:00</td>\n",
       "      <td>37.800395</td>\n",
       "      <td>-122.436172</td>\n",
       "      <td>0.030915</td>\n",
       "      <td>4.0</td>\n",
       "      <td>7.728735</td>\n",
       "      <td>27.823444</td>\n",
       "      <td>2007-01-06 06:24:07+00:00</td>\n",
       "      <td>37.800169</td>\n",
       "      <td>-122.436130</td>\n",
       "      <td>0.006682</td>\n",
       "      <td>8.0</td>\n",
       "      <td>0.835287</td>\n",
       "      <td>3.007033</td>\n",
       "    </tr>\n",
       "    <tr>\n",
       "      <th>149</th>\n",
       "      <td>2007-01-06 06:23:55+00:00</td>\n",
       "      <td>37.800395</td>\n",
       "      <td>-122.436172</td>\n",
       "      <td>0.030915</td>\n",
       "      <td>4.0</td>\n",
       "      <td>7.728735</td>\n",
       "      <td>27.823444</td>\n",
       "      <td>2007-01-06 06:25:03+00:00</td>\n",
       "      <td>37.800066</td>\n",
       "      <td>-122.436167</td>\n",
       "      <td>0.011919</td>\n",
       "      <td>56.0</td>\n",
       "      <td>0.212836</td>\n",
       "      <td>0.766211</td>\n",
       "    </tr>\n",
       "    <tr>\n",
       "      <th>150</th>\n",
       "      <td>2007-01-06 06:23:59+00:00</td>\n",
       "      <td>37.800228</td>\n",
       "      <td>-122.436116</td>\n",
       "      <td>0.019232</td>\n",
       "      <td>4.0</td>\n",
       "      <td>4.807962</td>\n",
       "      <td>17.308664</td>\n",
       "      <td>2007-01-06 06:24:07+00:00</td>\n",
       "      <td>37.800169</td>\n",
       "      <td>-122.436130</td>\n",
       "      <td>0.006682</td>\n",
       "      <td>8.0</td>\n",
       "      <td>0.835287</td>\n",
       "      <td>3.007033</td>\n",
       "    </tr>\n",
       "    <tr>\n",
       "      <th>151</th>\n",
       "      <td>2007-01-06 06:23:59+00:00</td>\n",
       "      <td>37.800228</td>\n",
       "      <td>-122.436116</td>\n",
       "      <td>0.019232</td>\n",
       "      <td>4.0</td>\n",
       "      <td>4.807962</td>\n",
       "      <td>17.308664</td>\n",
       "      <td>2007-01-06 06:25:03+00:00</td>\n",
       "      <td>37.800066</td>\n",
       "      <td>-122.436167</td>\n",
       "      <td>0.011919</td>\n",
       "      <td>56.0</td>\n",
       "      <td>0.212836</td>\n",
       "      <td>0.766211</td>\n",
       "    </tr>\n",
       "    <tr>\n",
       "      <th>152</th>\n",
       "      <td>2007-01-06 06:24:07+00:00</td>\n",
       "      <td>37.800169</td>\n",
       "      <td>-122.436130</td>\n",
       "      <td>0.006682</td>\n",
       "      <td>8.0</td>\n",
       "      <td>0.835287</td>\n",
       "      <td>3.007033</td>\n",
       "      <td>2007-01-06 06:25:03+00:00</td>\n",
       "      <td>37.800066</td>\n",
       "      <td>-122.436167</td>\n",
       "      <td>0.011919</td>\n",
       "      <td>56.0</td>\n",
       "      <td>0.212836</td>\n",
       "      <td>0.766211</td>\n",
       "    </tr>\n",
       "  </tbody>\n",
       "</table>\n",
       "<p>153 rows × 14 columns</p>\n",
       "</div>"
      ],
      "text/plain": [
       "                            0          1           2         3    4         5  \\\n",
       "0   2007-01-06 06:22:35+00:00  37.800224 -122.433520  0.000000  0.0  0.000000   \n",
       "1   2007-01-06 06:22:35+00:00  37.800224 -122.433520  0.000000  0.0  0.000000   \n",
       "2   2007-01-06 06:22:35+00:00  37.800224 -122.433520  0.000000  0.0  0.000000   \n",
       "3   2007-01-06 06:22:35+00:00  37.800224 -122.433520  0.000000  0.0  0.000000   \n",
       "4   2007-01-06 06:22:35+00:00  37.800224 -122.433520  0.000000  0.0  0.000000   \n",
       "..                        ...        ...         ...       ...  ...       ...   \n",
       "148 2007-01-06 06:23:55+00:00  37.800395 -122.436172  0.030915  4.0  7.728735   \n",
       "149 2007-01-06 06:23:55+00:00  37.800395 -122.436172  0.030915  4.0  7.728735   \n",
       "150 2007-01-06 06:23:59+00:00  37.800228 -122.436116  0.019232  4.0  4.807962   \n",
       "151 2007-01-06 06:23:59+00:00  37.800228 -122.436116  0.019232  4.0  4.807962   \n",
       "152 2007-01-06 06:24:07+00:00  37.800169 -122.436130  0.006682  8.0  0.835287   \n",
       "\n",
       "             6                         0          1           2         3  \\\n",
       "0     0.000000 2007-01-06 06:22:39+00:00  37.800155 -122.434101  0.051678   \n",
       "1     0.000000 2007-01-06 06:22:43+00:00  37.800160 -122.434430  0.028944   \n",
       "2     0.000000 2007-01-06 06:22:47+00:00  37.800378 -122.434527  0.025724   \n",
       "3     0.000000 2007-01-06 06:22:51+00:00  37.800738 -122.434598  0.040559   \n",
       "4     0.000000 2007-01-06 06:22:55+00:00  37.800938 -122.434650  0.022729   \n",
       "..         ...                       ...        ...         ...       ...   \n",
       "148  27.823444 2007-01-06 06:24:07+00:00  37.800169 -122.436130  0.006682   \n",
       "149  27.823444 2007-01-06 06:25:03+00:00  37.800066 -122.436167  0.011919   \n",
       "150  17.308664 2007-01-06 06:24:07+00:00  37.800169 -122.436130  0.006682   \n",
       "151  17.308664 2007-01-06 06:25:03+00:00  37.800066 -122.436167  0.011919   \n",
       "152   3.007033 2007-01-06 06:25:03+00:00  37.800066 -122.436167  0.011919   \n",
       "\n",
       "        4          5          6  \n",
       "0     4.0  12.919610  46.510594  \n",
       "1     4.0   7.236004  26.049615  \n",
       "2     4.0   6.430954  23.151435  \n",
       "3     4.0  10.139675  36.502829  \n",
       "4     4.0   5.682216  20.455978  \n",
       "..    ...        ...        ...  \n",
       "148   8.0   0.835287   3.007033  \n",
       "149  56.0   0.212836   0.766211  \n",
       "150   8.0   0.835287   3.007033  \n",
       "151  56.0   0.212836   0.766211  \n",
       "152  56.0   0.212836   0.766211  \n",
       "\n",
       "[153 rows x 14 columns]"
      ]
     },
     "execution_count": 3,
     "metadata": {},
     "output_type": "execute_result"
    }
   ],
   "source": [
    "taxi2[1]"
   ]
  },
  {
   "cell_type": "code",
   "execution_count": 5,
   "metadata": {},
   "outputs": [
    {
     "name": "stderr",
     "output_type": "stream",
     "text": [
      "100%|██████████| 24999/24999 [00:36<00:00, 687.10it/s]\n"
     ]
    }
   ],
   "source": [
    "# fofoo = []\n",
    "# for name, val in tqdm(grouper):\n",
    "#     prod = []\n",
    "#     for pair in itertools.combinations(val.iloc[:,1:].values,2):\n",
    "#         prod.append(pair)\n",
    "#     fofoo.append(prod)\n",
    "# flat_list = [item for sublist in fofoo for item in sublist]\n",
    "# foo = pd.DataFrame(flat_list)\n",
    "# foo = pd.concat([pd.DataFrame(foo[0].values.tolist()), pd.DataFrame(foo[1].values.tolist())], axis = 1)    "
   ]
  },
  {
   "cell_type": "code",
   "execution_count": null,
   "metadata": {},
   "outputs": [],
   "source": [
    "foo = pd.concat(taxi2)"
   ]
  },
  {
   "cell_type": "code",
   "execution_count": null,
   "metadata": {},
   "outputs": [],
   "source": [
    "col_names = ['pickup_datetime','pickup_latitude', 'pickup_longitude'\n",
    "         ,'dropoff_datetime','dropoff_latitude', 'dropoff_longitude']\n",
    "# foo = pd.concat([foo[0].progress_apply(pd.Series), foo[1].apply(pd.Series)], axis = 1)\n",
    "# foo = pd.concat([pd.DataFrame(foo[0].values.tolist()), pd.DataFrame(foo[1].values.tolist())], axis = 1)\n",
    "foo.columns = col_names"
   ]
  },
  {
   "cell_type": "code",
   "execution_count": null,
   "metadata": {},
   "outputs": [],
   "source": [
    "foo.to_csv('./allpairs.csv')"
   ]
  },
  {
   "cell_type": "code",
   "execution_count": null,
   "metadata": {},
   "outputs": [],
   "source": [
    "foo.sample(10000).plot(x = 'pickup_latitude', y = 'pickup_longitude')"
   ]
  },
  {
   "cell_type": "code",
   "execution_count": null,
   "metadata": {},
   "outputs": [],
   "source": [
    "chunk = 0\n",
    "taxi = []\n",
    "for df in pd.read_csv('allpairs.csv', chunksize = 1000000):\n",
    "    taxi.append(df)\n",
    "    chunk += 1\n",
    "    if chunk == 5:\n",
    "        break\n",
    "    "
   ]
  },
  {
   "cell_type": "code",
   "execution_count": null,
   "metadata": {},
   "outputs": [],
   "source": [
    "df = pd.read_csv('allpairs.csv')"
   ]
  },
  {
   "cell_type": "code",
   "execution_count": null,
   "metadata": {},
   "outputs": [],
   "source": [
    "df2 = df.sample(frac = 1)"
   ]
  },
  {
   "cell_type": "code",
   "execution_count": null,
   "metadata": {},
   "outputs": [],
   "source": [
    "df2.to_csv('/mnt/hgfs/FYP/allpairs_shuffled.csv')"
   ]
  },
  {
   "cell_type": "code",
   "execution_count": null,
   "metadata": {},
   "outputs": [],
   "source": []
  }
 ],
 "metadata": {
  "kernelspec": {
   "display_name": "Python 3",
   "language": "python",
   "name": "python3"
  },
  "language_info": {
   "codemirror_mode": {
    "name": "ipython",
    "version": 3
   },
   "file_extension": ".py",
   "mimetype": "text/x-python",
   "name": "python",
   "nbconvert_exporter": "python",
   "pygments_lexer": "ipython3",
   "version": "3.7.3"
  }
 },
 "nbformat": 4,
 "nbformat_minor": 4
}
