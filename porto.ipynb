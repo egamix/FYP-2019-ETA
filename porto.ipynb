{
 "cells": [
  {
   "cell_type": "code",
   "execution_count": 1,
   "metadata": {},
   "outputs": [],
   "source": [
    "from __future__ import print_function\n",
    "\n",
    "from IPython import display\n",
    "\n",
    "import math\n",
    "import matplotlib\n",
    "import sklearn\n",
    "import pandas as pd\n",
    "import numpy as np\n",
    "from matplotlib import pyplot as plt\n",
    "from numpy import radians, cos, sin, arcsin, arccos, sqrt, pi, arctan2, degrees, arctan\n",
    "import itertools\n",
    "\n",
    "from tqdm import tqdm, tqdm_notebook\n",
    "tqdm.pandas()\n",
    "tqdm.pandas(tqdm_notebook)\n",
    "\n",
    "import osrm\n",
    "from joblib import dump, load\n",
    "\n",
    "from sklearn.decomposition import PCA\n",
    "from sklearn.cluster import DBSCAN\n",
    "from sklearn.cluster import KMeans\n",
    "\n",
    "from natsort import natsorted\n",
    "from sklearn.model_selection import train_test_split\n",
    "from sklearn.model_selection import RandomizedSearchCV, GridSearchCV, train_test_split\n",
    "from sklearn import metrics\n",
    "\n",
    "from xgboost import XGBRegressor\n",
    "\n",
    "pd.options.display.max_rows = 10"
   ]
  },
  {
   "cell_type": "code",
   "execution_count": 2,
   "metadata": {},
   "outputs": [],
   "source": [
    "def coord_prec(coord):\n",
    "    precision =  math.pow(10, 3)\n",
    "    new_coord = float((int(precision * coord)))/precision\n",
    "    return new_coord\n",
    "def rmsle(ypred, ytest) :\n",
    "    assert len(ytest) == len(ypred)\n",
    "    return np.sqrt(np.mean((np.log1p(ypred) - np.log1p(ytest))**2))\n",
    "def cal_bearing(lat1, lon1, lat2, lon2):\n",
    "    \"\"\"\n",
    "    Calculates the bearing between two points using the formula\n",
    "        θ = atan2(sin(Δlong).cos(lat2),\n",
    "                  cos(lat1).sin(lat2) − sin(lat1).cos(lat2).cos(Δlong))\n",
    "    \"\"\"\n",
    "    \n",
    "    lat1, lon1, lat2, lon2 = map(radians, [lat1, lon1, lat2, lon2])\n",
    "\n",
    "    dlon = lon2 - lon1\n",
    "\n",
    "    x = sin(dlon) * cos(lat2)\n",
    "    y1 = cos(lat1) * sin(lat2)\n",
    "    y2 = sin(lat1) * cos(lat2) * cos(dlon)\n",
    "    y = y1 - y2\n",
    "\n",
    "    initial_bearing = arctan2(x, y)\n",
    "\n",
    "    initial_bearing = degrees(initial_bearing)\n",
    "    compass_bearing = (initial_bearing + 360) % 360\n",
    "\n",
    "    return compass_bearing"
   ]
  },
  {
   "cell_type": "code",
   "execution_count": 3,
   "metadata": {},
   "outputs": [],
   "source": [
    "taxi = load('/mnt/hgfs/FYP/porto_sampled.pkl')  "
   ]
  },
  {
   "cell_type": "code",
   "execution_count": 4,
   "metadata": {},
   "outputs": [],
   "source": [
    "taxi.drop('Unnamed: 0', axis = 1, inplace = True)\n",
    "taxi.reset_index(drop = True, inplace = True)"
   ]
  },
  {
   "cell_type": "code",
   "execution_count": 5,
   "metadata": {},
   "outputs": [],
   "source": [
    "taxi.columns = ['pickup_time', 'pickup_longitude', 'pickup_latitude', 'ID',\n",
    "       'distance_travelled', 'time_elapsed_seconds', 'speed m/s', 'speed kmh',\n",
    "       'bearing', 'bearing_diff', 'rate_of_turn', 'acceleration',\n",
    "       'distance_travelled_sum2', 'longitude_mean2', 'latitude_mean2',\n",
    "       'distance_travelled_mean2', 'speed m/s_mean2', 'speed kmh_mean2',\n",
    "       'bearing_mean2', 'bearing_diff_mean2', 'rate_of_turn_mean2',\n",
    "       'acceleration_mean2', 'longitude_stddev2', 'latitude_stddev2',\n",
    "       'distance_travelled_stddev2', 'speed m/s_stddev2', 'speed kmh_stddev2',\n",
    "       'bearing_stddev2', 'bearing_diff_stddev2', 'rate_of_turn_stddev2',\n",
    "       'acceleration_stddev2', 'distance_travelled_kurt2', 'speed m/s_kurt2',\n",
    "       'speed kmh_kurt2', 'bearing_kurt2', 'bearing_diff_kurt2',\n",
    "       'rate_of_turn_kurt2', 'acceleration_kurt2', 'distance_travelled_skew2',\n",
    "       'speed m/s_skew2', 'speed kmh_skew2', 'bearing_skew2',\n",
    "       'bearing_diff_skew2', 'rate_of_turn_skew2', 'acceleration_skew2',\n",
    "       'dropoff_time', 'dropoff_longitude', 'dropoff_latitude']"
   ]
  },
  {
   "cell_type": "code",
   "execution_count": 6,
   "metadata": {},
   "outputs": [
    {
     "data": {
      "text/html": [
       "<div>\n",
       "<style scoped>\n",
       "    .dataframe tbody tr th:only-of-type {\n",
       "        vertical-align: middle;\n",
       "    }\n",
       "\n",
       "    .dataframe tbody tr th {\n",
       "        vertical-align: top;\n",
       "    }\n",
       "\n",
       "    .dataframe thead th {\n",
       "        text-align: right;\n",
       "    }\n",
       "</style>\n",
       "<table border=\"1\" class=\"dataframe\">\n",
       "  <thead>\n",
       "    <tr style=\"text-align: right;\">\n",
       "      <th></th>\n",
       "      <th>pickup_time</th>\n",
       "      <th>pickup_longitude</th>\n",
       "      <th>pickup_latitude</th>\n",
       "      <th>ID</th>\n",
       "      <th>distance_travelled</th>\n",
       "      <th>time_elapsed_seconds</th>\n",
       "      <th>speed m/s</th>\n",
       "      <th>speed kmh</th>\n",
       "      <th>bearing</th>\n",
       "      <th>bearing_diff</th>\n",
       "      <th>...</th>\n",
       "      <th>distance_travelled_skew2</th>\n",
       "      <th>speed m/s_skew2</th>\n",
       "      <th>speed kmh_skew2</th>\n",
       "      <th>bearing_skew2</th>\n",
       "      <th>bearing_diff_skew2</th>\n",
       "      <th>rate_of_turn_skew2</th>\n",
       "      <th>acceleration_skew2</th>\n",
       "      <th>dropoff_time</th>\n",
       "      <th>dropoff_longitude</th>\n",
       "      <th>dropoff_latitude</th>\n",
       "    </tr>\n",
       "  </thead>\n",
       "  <tbody>\n",
       "    <tr>\n",
       "      <th>0</th>\n",
       "      <td>2013-07-15 14:16:33</td>\n",
       "      <td>-8.607177</td>\n",
       "      <td>41.151177</td>\n",
       "      <td>20000040</td>\n",
       "      <td>0.000000</td>\n",
       "      <td>0.0</td>\n",
       "      <td>0.000000</td>\n",
       "      <td>0.000000</td>\n",
       "      <td>0.000000</td>\n",
       "      <td>0.000000</td>\n",
       "      <td>...</td>\n",
       "      <td>NaN</td>\n",
       "      <td>NaN</td>\n",
       "      <td>NaN</td>\n",
       "      <td>NaN</td>\n",
       "      <td>NaN</td>\n",
       "      <td>NaN</td>\n",
       "      <td>NaN</td>\n",
       "      <td>2013-07-15 14:16:48</td>\n",
       "      <td>-8.607042</td>\n",
       "      <td>41.151132</td>\n",
       "    </tr>\n",
       "    <tr>\n",
       "      <th>1</th>\n",
       "      <td>2013-07-15 14:16:33</td>\n",
       "      <td>-8.607177</td>\n",
       "      <td>41.151177</td>\n",
       "      <td>20000040</td>\n",
       "      <td>0.000000</td>\n",
       "      <td>0.0</td>\n",
       "      <td>0.000000</td>\n",
       "      <td>0.000000</td>\n",
       "      <td>0.000000</td>\n",
       "      <td>0.000000</td>\n",
       "      <td>...</td>\n",
       "      <td>NaN</td>\n",
       "      <td>NaN</td>\n",
       "      <td>NaN</td>\n",
       "      <td>NaN</td>\n",
       "      <td>NaN</td>\n",
       "      <td>NaN</td>\n",
       "      <td>NaN</td>\n",
       "      <td>2013-07-15 14:17:03</td>\n",
       "      <td>-8.606646</td>\n",
       "      <td>41.151267</td>\n",
       "    </tr>\n",
       "    <tr>\n",
       "      <th>2</th>\n",
       "      <td>2013-07-15 14:16:33</td>\n",
       "      <td>-8.607177</td>\n",
       "      <td>41.151177</td>\n",
       "      <td>20000040</td>\n",
       "      <td>0.000000</td>\n",
       "      <td>0.0</td>\n",
       "      <td>0.000000</td>\n",
       "      <td>0.000000</td>\n",
       "      <td>0.000000</td>\n",
       "      <td>0.000000</td>\n",
       "      <td>...</td>\n",
       "      <td>NaN</td>\n",
       "      <td>NaN</td>\n",
       "      <td>NaN</td>\n",
       "      <td>NaN</td>\n",
       "      <td>NaN</td>\n",
       "      <td>NaN</td>\n",
       "      <td>NaN</td>\n",
       "      <td>2013-07-15 14:17:18</td>\n",
       "      <td>-8.606205</td>\n",
       "      <td>41.152068</td>\n",
       "    </tr>\n",
       "    <tr>\n",
       "      <th>3</th>\n",
       "      <td>2013-07-15 14:16:33</td>\n",
       "      <td>-8.607177</td>\n",
       "      <td>41.151177</td>\n",
       "      <td>20000040</td>\n",
       "      <td>0.000000</td>\n",
       "      <td>0.0</td>\n",
       "      <td>0.000000</td>\n",
       "      <td>0.000000</td>\n",
       "      <td>0.000000</td>\n",
       "      <td>0.000000</td>\n",
       "      <td>...</td>\n",
       "      <td>NaN</td>\n",
       "      <td>NaN</td>\n",
       "      <td>NaN</td>\n",
       "      <td>NaN</td>\n",
       "      <td>NaN</td>\n",
       "      <td>NaN</td>\n",
       "      <td>NaN</td>\n",
       "      <td>2013-07-15 14:17:33</td>\n",
       "      <td>-8.605800</td>\n",
       "      <td>41.152752</td>\n",
       "    </tr>\n",
       "    <tr>\n",
       "      <th>4</th>\n",
       "      <td>2013-07-15 14:16:33</td>\n",
       "      <td>-8.607177</td>\n",
       "      <td>41.151177</td>\n",
       "      <td>20000040</td>\n",
       "      <td>0.000000</td>\n",
       "      <td>0.0</td>\n",
       "      <td>0.000000</td>\n",
       "      <td>0.000000</td>\n",
       "      <td>0.000000</td>\n",
       "      <td>0.000000</td>\n",
       "      <td>...</td>\n",
       "      <td>NaN</td>\n",
       "      <td>NaN</td>\n",
       "      <td>NaN</td>\n",
       "      <td>NaN</td>\n",
       "      <td>NaN</td>\n",
       "      <td>NaN</td>\n",
       "      <td>NaN</td>\n",
       "      <td>2013-07-15 14:17:48</td>\n",
       "      <td>-8.605377</td>\n",
       "      <td>41.153382</td>\n",
       "    </tr>\n",
       "    <tr>\n",
       "      <th>...</th>\n",
       "      <td>...</td>\n",
       "      <td>...</td>\n",
       "      <td>...</td>\n",
       "      <td>...</td>\n",
       "      <td>...</td>\n",
       "      <td>...</td>\n",
       "      <td>...</td>\n",
       "      <td>...</td>\n",
       "      <td>...</td>\n",
       "      <td>...</td>\n",
       "      <td>...</td>\n",
       "      <td>...</td>\n",
       "      <td>...</td>\n",
       "      <td>...</td>\n",
       "      <td>...</td>\n",
       "      <td>...</td>\n",
       "      <td>...</td>\n",
       "      <td>...</td>\n",
       "      <td>...</td>\n",
       "      <td>...</td>\n",
       "      <td>...</td>\n",
       "    </tr>\n",
       "    <tr>\n",
       "      <th>2596061</th>\n",
       "      <td>2013-07-02 08:50:10</td>\n",
       "      <td>-8.628651</td>\n",
       "      <td>41.158764</td>\n",
       "      <td>20000046</td>\n",
       "      <td>0.110427</td>\n",
       "      <td>15.0</td>\n",
       "      <td>7.361822</td>\n",
       "      <td>26.502560</td>\n",
       "      <td>152.763402</td>\n",
       "      <td>21.097608</td>\n",
       "      <td>...</td>\n",
       "      <td>0.298048</td>\n",
       "      <td>0.298048</td>\n",
       "      <td>0.298048</td>\n",
       "      <td>1.975752</td>\n",
       "      <td>1.252292</td>\n",
       "      <td>1.252292</td>\n",
       "      <td>-0.262774</td>\n",
       "      <td>2013-07-02 08:50:40</td>\n",
       "      <td>-8.628462</td>\n",
       "      <td>41.160699</td>\n",
       "    </tr>\n",
       "    <tr>\n",
       "      <th>2596062</th>\n",
       "      <td>2013-07-02 08:50:10</td>\n",
       "      <td>-8.628651</td>\n",
       "      <td>41.158764</td>\n",
       "      <td>20000046</td>\n",
       "      <td>0.110427</td>\n",
       "      <td>15.0</td>\n",
       "      <td>7.361822</td>\n",
       "      <td>26.502560</td>\n",
       "      <td>152.763402</td>\n",
       "      <td>21.097608</td>\n",
       "      <td>...</td>\n",
       "      <td>0.298048</td>\n",
       "      <td>0.298048</td>\n",
       "      <td>0.298048</td>\n",
       "      <td>1.975752</td>\n",
       "      <td>1.252292</td>\n",
       "      <td>1.252292</td>\n",
       "      <td>-0.262774</td>\n",
       "      <td>2013-07-02 08:50:55</td>\n",
       "      <td>-8.629074</td>\n",
       "      <td>41.160924</td>\n",
       "    </tr>\n",
       "    <tr>\n",
       "      <th>2596063</th>\n",
       "      <td>2013-07-02 08:50:25</td>\n",
       "      <td>-8.628660</td>\n",
       "      <td>41.159628</td>\n",
       "      <td>20000046</td>\n",
       "      <td>0.096183</td>\n",
       "      <td>15.0</td>\n",
       "      <td>6.412200</td>\n",
       "      <td>23.083919</td>\n",
       "      <td>179.550662</td>\n",
       "      <td>26.787260</td>\n",
       "      <td>...</td>\n",
       "      <td>0.295691</td>\n",
       "      <td>0.295691</td>\n",
       "      <td>0.295691</td>\n",
       "      <td>1.599079</td>\n",
       "      <td>1.085225</td>\n",
       "      <td>1.085225</td>\n",
       "      <td>0.199650</td>\n",
       "      <td>2013-07-02 08:50:40</td>\n",
       "      <td>-8.628462</td>\n",
       "      <td>41.160699</td>\n",
       "    </tr>\n",
       "    <tr>\n",
       "      <th>2596064</th>\n",
       "      <td>2013-07-02 08:50:25</td>\n",
       "      <td>-8.628660</td>\n",
       "      <td>41.159628</td>\n",
       "      <td>20000046</td>\n",
       "      <td>0.096183</td>\n",
       "      <td>15.0</td>\n",
       "      <td>6.412200</td>\n",
       "      <td>23.083919</td>\n",
       "      <td>179.550662</td>\n",
       "      <td>26.787260</td>\n",
       "      <td>...</td>\n",
       "      <td>0.295691</td>\n",
       "      <td>0.295691</td>\n",
       "      <td>0.295691</td>\n",
       "      <td>1.599079</td>\n",
       "      <td>1.085225</td>\n",
       "      <td>1.085225</td>\n",
       "      <td>0.199650</td>\n",
       "      <td>2013-07-02 08:50:55</td>\n",
       "      <td>-8.629074</td>\n",
       "      <td>41.160924</td>\n",
       "    </tr>\n",
       "    <tr>\n",
       "      <th>2596065</th>\n",
       "      <td>2013-07-02 08:50:40</td>\n",
       "      <td>-8.628462</td>\n",
       "      <td>41.160699</td>\n",
       "      <td>20000046</td>\n",
       "      <td>0.120372</td>\n",
       "      <td>15.0</td>\n",
       "      <td>8.024832</td>\n",
       "      <td>28.889396</td>\n",
       "      <td>187.923959</td>\n",
       "      <td>8.373297</td>\n",
       "      <td>...</td>\n",
       "      <td>-0.147885</td>\n",
       "      <td>-0.147885</td>\n",
       "      <td>-0.147885</td>\n",
       "      <td>1.204571</td>\n",
       "      <td>1.112143</td>\n",
       "      <td>1.112143</td>\n",
       "      <td>-0.310844</td>\n",
       "      <td>2013-07-02 08:50:55</td>\n",
       "      <td>-8.629074</td>\n",
       "      <td>41.160924</td>\n",
       "    </tr>\n",
       "  </tbody>\n",
       "</table>\n",
       "<p>2596066 rows × 48 columns</p>\n",
       "</div>"
      ],
      "text/plain": [
       "                pickup_time  pickup_longitude  pickup_latitude        ID  \\\n",
       "0       2013-07-15 14:16:33         -8.607177        41.151177  20000040   \n",
       "1       2013-07-15 14:16:33         -8.607177        41.151177  20000040   \n",
       "2       2013-07-15 14:16:33         -8.607177        41.151177  20000040   \n",
       "3       2013-07-15 14:16:33         -8.607177        41.151177  20000040   \n",
       "4       2013-07-15 14:16:33         -8.607177        41.151177  20000040   \n",
       "...                     ...               ...              ...       ...   \n",
       "2596061 2013-07-02 08:50:10         -8.628651        41.158764  20000046   \n",
       "2596062 2013-07-02 08:50:10         -8.628651        41.158764  20000046   \n",
       "2596063 2013-07-02 08:50:25         -8.628660        41.159628  20000046   \n",
       "2596064 2013-07-02 08:50:25         -8.628660        41.159628  20000046   \n",
       "2596065 2013-07-02 08:50:40         -8.628462        41.160699  20000046   \n",
       "\n",
       "         distance_travelled  time_elapsed_seconds  speed m/s  speed kmh  \\\n",
       "0                  0.000000                   0.0   0.000000   0.000000   \n",
       "1                  0.000000                   0.0   0.000000   0.000000   \n",
       "2                  0.000000                   0.0   0.000000   0.000000   \n",
       "3                  0.000000                   0.0   0.000000   0.000000   \n",
       "4                  0.000000                   0.0   0.000000   0.000000   \n",
       "...                     ...                   ...        ...        ...   \n",
       "2596061            0.110427                  15.0   7.361822  26.502560   \n",
       "2596062            0.110427                  15.0   7.361822  26.502560   \n",
       "2596063            0.096183                  15.0   6.412200  23.083919   \n",
       "2596064            0.096183                  15.0   6.412200  23.083919   \n",
       "2596065            0.120372                  15.0   8.024832  28.889396   \n",
       "\n",
       "            bearing  bearing_diff  ...  distance_travelled_skew2  \\\n",
       "0          0.000000      0.000000  ...                       NaN   \n",
       "1          0.000000      0.000000  ...                       NaN   \n",
       "2          0.000000      0.000000  ...                       NaN   \n",
       "3          0.000000      0.000000  ...                       NaN   \n",
       "4          0.000000      0.000000  ...                       NaN   \n",
       "...             ...           ...  ...                       ...   \n",
       "2596061  152.763402     21.097608  ...                  0.298048   \n",
       "2596062  152.763402     21.097608  ...                  0.298048   \n",
       "2596063  179.550662     26.787260  ...                  0.295691   \n",
       "2596064  179.550662     26.787260  ...                  0.295691   \n",
       "2596065  187.923959      8.373297  ...                 -0.147885   \n",
       "\n",
       "         speed m/s_skew2  speed kmh_skew2  bearing_skew2  bearing_diff_skew2  \\\n",
       "0                    NaN              NaN            NaN                 NaN   \n",
       "1                    NaN              NaN            NaN                 NaN   \n",
       "2                    NaN              NaN            NaN                 NaN   \n",
       "3                    NaN              NaN            NaN                 NaN   \n",
       "4                    NaN              NaN            NaN                 NaN   \n",
       "...                  ...              ...            ...                 ...   \n",
       "2596061         0.298048         0.298048       1.975752            1.252292   \n",
       "2596062         0.298048         0.298048       1.975752            1.252292   \n",
       "2596063         0.295691         0.295691       1.599079            1.085225   \n",
       "2596064         0.295691         0.295691       1.599079            1.085225   \n",
       "2596065        -0.147885        -0.147885       1.204571            1.112143   \n",
       "\n",
       "         rate_of_turn_skew2  acceleration_skew2        dropoff_time  \\\n",
       "0                       NaN                 NaN 2013-07-15 14:16:48   \n",
       "1                       NaN                 NaN 2013-07-15 14:17:03   \n",
       "2                       NaN                 NaN 2013-07-15 14:17:18   \n",
       "3                       NaN                 NaN 2013-07-15 14:17:33   \n",
       "4                       NaN                 NaN 2013-07-15 14:17:48   \n",
       "...                     ...                 ...                 ...   \n",
       "2596061            1.252292           -0.262774 2013-07-02 08:50:40   \n",
       "2596062            1.252292           -0.262774 2013-07-02 08:50:55   \n",
       "2596063            1.085225            0.199650 2013-07-02 08:50:40   \n",
       "2596064            1.085225            0.199650 2013-07-02 08:50:55   \n",
       "2596065            1.112143           -0.310844 2013-07-02 08:50:55   \n",
       "\n",
       "         dropoff_longitude  dropoff_latitude  \n",
       "0                -8.607042         41.151132  \n",
       "1                -8.606646         41.151267  \n",
       "2                -8.606205         41.152068  \n",
       "3                -8.605800         41.152752  \n",
       "4                -8.605377         41.153382  \n",
       "...                    ...               ...  \n",
       "2596061          -8.628462         41.160699  \n",
       "2596062          -8.629074         41.160924  \n",
       "2596063          -8.628462         41.160699  \n",
       "2596064          -8.629074         41.160924  \n",
       "2596065          -8.629074         41.160924  \n",
       "\n",
       "[2596066 rows x 48 columns]"
      ]
     },
     "execution_count": 6,
     "metadata": {},
     "output_type": "execute_result"
    }
   ],
   "source": [
    "taxi"
   ]
  },
  {
   "cell_type": "code",
   "execution_count": 7,
   "metadata": {},
   "outputs": [
    {
     "data": {
      "text/plain": [
       "<matplotlib.axes._subplots.AxesSubplot at 0x7f60b4e35128>"
      ]
     },
     "execution_count": 7,
     "metadata": {},
     "output_type": "execute_result"
    },
    {
     "data": {
      "image/png": "[encoded data removed]",
      "text/plain": [
       "<Figure size 720x864 with 1 Axes>"
      ]
     },
     "metadata": {
      "needs_background": "light"
     },
     "output_type": "display_data"
    }
   ],
   "source": [
    "taxi.sample(10000).plot(kind = 'scatter', x = 'pickup_longitude', y = 'pickup_latitude', figsize = (10,12))"
   ]
  },
  {
   "cell_type": "code",
   "execution_count": 8,
   "metadata": {},
   "outputs": [
    {
     "data": {
      "text/html": [
       "<div>\n",
       "<style scoped>\n",
       "    .dataframe tbody tr th:only-of-type {\n",
       "        vertical-align: middle;\n",
       "    }\n",
       "\n",
       "    .dataframe tbody tr th {\n",
       "        vertical-align: top;\n",
       "    }\n",
       "\n",
       "    .dataframe thead th {\n",
       "        text-align: right;\n",
       "    }\n",
       "</style>\n",
       "<table border=\"1\" class=\"dataframe\">\n",
       "  <thead>\n",
       "    <tr style=\"text-align: right;\">\n",
       "      <th></th>\n",
       "      <th>pickup_time</th>\n",
       "      <th>pickup_longitude</th>\n",
       "      <th>pickup_latitude</th>\n",
       "      <th>ID</th>\n",
       "      <th>distance_travelled</th>\n",
       "      <th>time_elapsed_seconds</th>\n",
       "      <th>speed m/s</th>\n",
       "      <th>speed kmh</th>\n",
       "      <th>bearing</th>\n",
       "      <th>bearing_diff</th>\n",
       "      <th>...</th>\n",
       "      <th>distance_travelled_skew2</th>\n",
       "      <th>speed m/s_skew2</th>\n",
       "      <th>speed kmh_skew2</th>\n",
       "      <th>bearing_skew2</th>\n",
       "      <th>bearing_diff_skew2</th>\n",
       "      <th>rate_of_turn_skew2</th>\n",
       "      <th>acceleration_skew2</th>\n",
       "      <th>dropoff_time</th>\n",
       "      <th>dropoff_longitude</th>\n",
       "      <th>dropoff_latitude</th>\n",
       "    </tr>\n",
       "  </thead>\n",
       "  <tbody>\n",
       "    <tr>\n",
       "      <th>0</th>\n",
       "      <td>2013-07-15 14:16:33</td>\n",
       "      <td>-8.607177</td>\n",
       "      <td>41.151177</td>\n",
       "      <td>20000040</td>\n",
       "      <td>0.0</td>\n",
       "      <td>0.0</td>\n",
       "      <td>0.0</td>\n",
       "      <td>0.0</td>\n",
       "      <td>0.0</td>\n",
       "      <td>0.0</td>\n",
       "      <td>...</td>\n",
       "      <td>NaN</td>\n",
       "      <td>NaN</td>\n",
       "      <td>NaN</td>\n",
       "      <td>NaN</td>\n",
       "      <td>NaN</td>\n",
       "      <td>NaN</td>\n",
       "      <td>NaN</td>\n",
       "      <td>2013-07-15 14:16:48</td>\n",
       "      <td>-8.607042</td>\n",
       "      <td>41.151132</td>\n",
       "    </tr>\n",
       "    <tr>\n",
       "      <th>1</th>\n",
       "      <td>2013-07-15 14:16:33</td>\n",
       "      <td>-8.607177</td>\n",
       "      <td>41.151177</td>\n",
       "      <td>20000040</td>\n",
       "      <td>0.0</td>\n",
       "      <td>0.0</td>\n",
       "      <td>0.0</td>\n",
       "      <td>0.0</td>\n",
       "      <td>0.0</td>\n",
       "      <td>0.0</td>\n",
       "      <td>...</td>\n",
       "      <td>NaN</td>\n",
       "      <td>NaN</td>\n",
       "      <td>NaN</td>\n",
       "      <td>NaN</td>\n",
       "      <td>NaN</td>\n",
       "      <td>NaN</td>\n",
       "      <td>NaN</td>\n",
       "      <td>2013-07-15 14:17:03</td>\n",
       "      <td>-8.606646</td>\n",
       "      <td>41.151267</td>\n",
       "    </tr>\n",
       "    <tr>\n",
       "      <th>2</th>\n",
       "      <td>2013-07-15 14:16:33</td>\n",
       "      <td>-8.607177</td>\n",
       "      <td>41.151177</td>\n",
       "      <td>20000040</td>\n",
       "      <td>0.0</td>\n",
       "      <td>0.0</td>\n",
       "      <td>0.0</td>\n",
       "      <td>0.0</td>\n",
       "      <td>0.0</td>\n",
       "      <td>0.0</td>\n",
       "      <td>...</td>\n",
       "      <td>NaN</td>\n",
       "      <td>NaN</td>\n",
       "      <td>NaN</td>\n",
       "      <td>NaN</td>\n",
       "      <td>NaN</td>\n",
       "      <td>NaN</td>\n",
       "      <td>NaN</td>\n",
       "      <td>2013-07-15 14:17:18</td>\n",
       "      <td>-8.606205</td>\n",
       "      <td>41.152068</td>\n",
       "    </tr>\n",
       "    <tr>\n",
       "      <th>3</th>\n",
       "      <td>2013-07-15 14:16:33</td>\n",
       "      <td>-8.607177</td>\n",
       "      <td>41.151177</td>\n",
       "      <td>20000040</td>\n",
       "      <td>0.0</td>\n",
       "      <td>0.0</td>\n",
       "      <td>0.0</td>\n",
       "      <td>0.0</td>\n",
       "      <td>0.0</td>\n",
       "      <td>0.0</td>\n",
       "      <td>...</td>\n",
       "      <td>NaN</td>\n",
       "      <td>NaN</td>\n",
       "      <td>NaN</td>\n",
       "      <td>NaN</td>\n",
       "      <td>NaN</td>\n",
       "      <td>NaN</td>\n",
       "      <td>NaN</td>\n",
       "      <td>2013-07-15 14:17:33</td>\n",
       "      <td>-8.605800</td>\n",
       "      <td>41.152752</td>\n",
       "    </tr>\n",
       "    <tr>\n",
       "      <th>4</th>\n",
       "      <td>2013-07-15 14:16:33</td>\n",
       "      <td>-8.607177</td>\n",
       "      <td>41.151177</td>\n",
       "      <td>20000040</td>\n",
       "      <td>0.0</td>\n",
       "      <td>0.0</td>\n",
       "      <td>0.0</td>\n",
       "      <td>0.0</td>\n",
       "      <td>0.0</td>\n",
       "      <td>0.0</td>\n",
       "      <td>...</td>\n",
       "      <td>NaN</td>\n",
       "      <td>NaN</td>\n",
       "      <td>NaN</td>\n",
       "      <td>NaN</td>\n",
       "      <td>NaN</td>\n",
       "      <td>NaN</td>\n",
       "      <td>NaN</td>\n",
       "      <td>2013-07-15 14:17:48</td>\n",
       "      <td>-8.605377</td>\n",
       "      <td>41.153382</td>\n",
       "    </tr>\n",
       "    <tr>\n",
       "      <th>5</th>\n",
       "      <td>2013-07-15 14:16:33</td>\n",
       "      <td>-8.607177</td>\n",
       "      <td>41.151177</td>\n",
       "      <td>20000040</td>\n",
       "      <td>0.0</td>\n",
       "      <td>0.0</td>\n",
       "      <td>0.0</td>\n",
       "      <td>0.0</td>\n",
       "      <td>0.0</td>\n",
       "      <td>0.0</td>\n",
       "      <td>...</td>\n",
       "      <td>NaN</td>\n",
       "      <td>NaN</td>\n",
       "      <td>NaN</td>\n",
       "      <td>NaN</td>\n",
       "      <td>NaN</td>\n",
       "      <td>NaN</td>\n",
       "      <td>NaN</td>\n",
       "      <td>2013-07-15 14:18:03</td>\n",
       "      <td>-8.606088</td>\n",
       "      <td>41.153634</td>\n",
       "    </tr>\n",
       "    <tr>\n",
       "      <th>6</th>\n",
       "      <td>2013-07-15 14:16:33</td>\n",
       "      <td>-8.607177</td>\n",
       "      <td>41.151177</td>\n",
       "      <td>20000040</td>\n",
       "      <td>0.0</td>\n",
       "      <td>0.0</td>\n",
       "      <td>0.0</td>\n",
       "      <td>0.0</td>\n",
       "      <td>0.0</td>\n",
       "      <td>0.0</td>\n",
       "      <td>...</td>\n",
       "      <td>NaN</td>\n",
       "      <td>NaN</td>\n",
       "      <td>NaN</td>\n",
       "      <td>NaN</td>\n",
       "      <td>NaN</td>\n",
       "      <td>NaN</td>\n",
       "      <td>NaN</td>\n",
       "      <td>2013-07-15 14:18:18</td>\n",
       "      <td>-8.607942</td>\n",
       "      <td>41.153643</td>\n",
       "    </tr>\n",
       "    <tr>\n",
       "      <th>7</th>\n",
       "      <td>2013-07-15 14:16:33</td>\n",
       "      <td>-8.607177</td>\n",
       "      <td>41.151177</td>\n",
       "      <td>20000040</td>\n",
       "      <td>0.0</td>\n",
       "      <td>0.0</td>\n",
       "      <td>0.0</td>\n",
       "      <td>0.0</td>\n",
       "      <td>0.0</td>\n",
       "      <td>0.0</td>\n",
       "      <td>...</td>\n",
       "      <td>NaN</td>\n",
       "      <td>NaN</td>\n",
       "      <td>NaN</td>\n",
       "      <td>NaN</td>\n",
       "      <td>NaN</td>\n",
       "      <td>NaN</td>\n",
       "      <td>NaN</td>\n",
       "      <td>2013-07-15 14:18:33</td>\n",
       "      <td>-8.609508</td>\n",
       "      <td>41.153589</td>\n",
       "    </tr>\n",
       "    <tr>\n",
       "      <th>8</th>\n",
       "      <td>2013-07-15 14:16:33</td>\n",
       "      <td>-8.607177</td>\n",
       "      <td>41.151177</td>\n",
       "      <td>20000040</td>\n",
       "      <td>0.0</td>\n",
       "      <td>0.0</td>\n",
       "      <td>0.0</td>\n",
       "      <td>0.0</td>\n",
       "      <td>0.0</td>\n",
       "      <td>0.0</td>\n",
       "      <td>...</td>\n",
       "      <td>NaN</td>\n",
       "      <td>NaN</td>\n",
       "      <td>NaN</td>\n",
       "      <td>NaN</td>\n",
       "      <td>NaN</td>\n",
       "      <td>NaN</td>\n",
       "      <td>NaN</td>\n",
       "      <td>2013-07-15 14:18:48</td>\n",
       "      <td>-8.609688</td>\n",
       "      <td>41.153706</td>\n",
       "    </tr>\n",
       "    <tr>\n",
       "      <th>9</th>\n",
       "      <td>2013-07-15 14:16:33</td>\n",
       "      <td>-8.607177</td>\n",
       "      <td>41.151177</td>\n",
       "      <td>20000040</td>\n",
       "      <td>0.0</td>\n",
       "      <td>0.0</td>\n",
       "      <td>0.0</td>\n",
       "      <td>0.0</td>\n",
       "      <td>0.0</td>\n",
       "      <td>0.0</td>\n",
       "      <td>...</td>\n",
       "      <td>NaN</td>\n",
       "      <td>NaN</td>\n",
       "      <td>NaN</td>\n",
       "      <td>NaN</td>\n",
       "      <td>NaN</td>\n",
       "      <td>NaN</td>\n",
       "      <td>NaN</td>\n",
       "      <td>2013-07-15 14:19:03</td>\n",
       "      <td>-8.609652</td>\n",
       "      <td>41.153760</td>\n",
       "    </tr>\n",
       "  </tbody>\n",
       "</table>\n",
       "<p>10 rows × 48 columns</p>\n",
       "</div>"
      ],
      "text/plain": [
       "          pickup_time  pickup_longitude  pickup_latitude        ID  \\\n",
       "0 2013-07-15 14:16:33         -8.607177        41.151177  20000040   \n",
       "1 2013-07-15 14:16:33         -8.607177        41.151177  20000040   \n",
       "2 2013-07-15 14:16:33         -8.607177        41.151177  20000040   \n",
       "3 2013-07-15 14:16:33         -8.607177        41.151177  20000040   \n",
       "4 2013-07-15 14:16:33         -8.607177        41.151177  20000040   \n",
       "5 2013-07-15 14:16:33         -8.607177        41.151177  20000040   \n",
       "6 2013-07-15 14:16:33         -8.607177        41.151177  20000040   \n",
       "7 2013-07-15 14:16:33         -8.607177        41.151177  20000040   \n",
       "8 2013-07-15 14:16:33         -8.607177        41.151177  20000040   \n",
       "9 2013-07-15 14:16:33         -8.607177        41.151177  20000040   \n",
       "\n",
       "   distance_travelled  time_elapsed_seconds  speed m/s  speed kmh  bearing  \\\n",
       "0                 0.0                   0.0        0.0        0.0      0.0   \n",
       "1                 0.0                   0.0        0.0        0.0      0.0   \n",
       "2                 0.0                   0.0        0.0        0.0      0.0   \n",
       "3                 0.0                   0.0        0.0        0.0      0.0   \n",
       "4                 0.0                   0.0        0.0        0.0      0.0   \n",
       "5                 0.0                   0.0        0.0        0.0      0.0   \n",
       "6                 0.0                   0.0        0.0        0.0      0.0   \n",
       "7                 0.0                   0.0        0.0        0.0      0.0   \n",
       "8                 0.0                   0.0        0.0        0.0      0.0   \n",
       "9                 0.0                   0.0        0.0        0.0      0.0   \n",
       "\n",
       "   bearing_diff  ...  distance_travelled_skew2  speed m/s_skew2  \\\n",
       "0           0.0  ...                       NaN              NaN   \n",
       "1           0.0  ...                       NaN              NaN   \n",
       "2           0.0  ...                       NaN              NaN   \n",
       "3           0.0  ...                       NaN              NaN   \n",
       "4           0.0  ...                       NaN              NaN   \n",
       "5           0.0  ...                       NaN              NaN   \n",
       "6           0.0  ...                       NaN              NaN   \n",
       "7           0.0  ...                       NaN              NaN   \n",
       "8           0.0  ...                       NaN              NaN   \n",
       "9           0.0  ...                       NaN              NaN   \n",
       "\n",
       "   speed kmh_skew2  bearing_skew2  bearing_diff_skew2  rate_of_turn_skew2  \\\n",
       "0              NaN            NaN                 NaN                 NaN   \n",
       "1              NaN            NaN                 NaN                 NaN   \n",
       "2              NaN            NaN                 NaN                 NaN   \n",
       "3              NaN            NaN                 NaN                 NaN   \n",
       "4              NaN            NaN                 NaN                 NaN   \n",
       "5              NaN            NaN                 NaN                 NaN   \n",
       "6              NaN            NaN                 NaN                 NaN   \n",
       "7              NaN            NaN                 NaN                 NaN   \n",
       "8              NaN            NaN                 NaN                 NaN   \n",
       "9              NaN            NaN                 NaN                 NaN   \n",
       "\n",
       "   acceleration_skew2        dropoff_time  dropoff_longitude  dropoff_latitude  \n",
       "0                 NaN 2013-07-15 14:16:48          -8.607042         41.151132  \n",
       "1                 NaN 2013-07-15 14:17:03          -8.606646         41.151267  \n",
       "2                 NaN 2013-07-15 14:17:18          -8.606205         41.152068  \n",
       "3                 NaN 2013-07-15 14:17:33          -8.605800         41.152752  \n",
       "4                 NaN 2013-07-15 14:17:48          -8.605377         41.153382  \n",
       "5                 NaN 2013-07-15 14:18:03          -8.606088         41.153634  \n",
       "6                 NaN 2013-07-15 14:18:18          -8.607942         41.153643  \n",
       "7                 NaN 2013-07-15 14:18:33          -8.609508         41.153589  \n",
       "8                 NaN 2013-07-15 14:18:48          -8.609688         41.153706  \n",
       "9                 NaN 2013-07-15 14:19:03          -8.609652         41.153760  \n",
       "\n",
       "[10 rows x 48 columns]"
      ]
     },
     "execution_count": 8,
     "metadata": {},
     "output_type": "execute_result"
    }
   ],
   "source": [
    "taxi.head(10)"
   ]
  },
  {
   "cell_type": "code",
   "execution_count": 6,
   "metadata": {},
   "outputs": [],
   "source": [
    "def haversine(lat1, lon1, lat2, lon2):\n",
    "    #ensure using numpy and not math, or pandas series cannot be passed\n",
    "    lat1, lon1, lat2, lon2 = map(radians, [lat1, lon1, lat2, lon2])\n",
    "    dlon = lon2 - lon1\n",
    "    dlat = lat2 - lat1\n",
    "    a = sin(dlat/2)**2 + cos(lat1) * cos(lat2) * sin(dlon/2)**2\n",
    "    c = 2 * arcsin(sqrt(a))\n",
    "    r = 6378.137 ##radius of earth km\n",
    "    return c * r\n",
    "\n",
    "def compute_dist(df):\n",
    "    next_df = df.shift(1)\n",
    "    dist = haversine(df.iloc[:,0], df.iloc[:,1],\n",
    "                    next_df.iloc[:,0], next_df.iloc[:,1])\n",
    "    return dist\n",
    "\n",
    "def add_travel_vector_features(df):\n",
    "    df['abs_diff_longitude'] = (df.dropoff_longitude - df.pickup_longitude).abs()\n",
    "    df['abs_diff_latitude'] = (df.dropoff_latitude - df.pickup_latitude).abs()\n",
    "    \n",
    "    #the Haversine version\n",
    "    foob = df[[\"pickup_latitude\", \"pickup_longitude\",\"dropoff_latitude\", \"dropoff_longitude\"]].astype(float)\n",
    "    df['hav_dist_lat'] = haversine(foob.iloc[:,0], foob.iloc[:,1],foob.iloc[:,2],foob.iloc[:,1])\n",
    "    df['hav_dist_lon'] = haversine(foob.iloc[:,2], foob.iloc[:,1],foob.iloc[:,2],foob.iloc[:,3])\n",
    "    \n",
    "    \n",
    "def convert_km(df):\n",
    "    df['abs_diff_longitude'] = df.abs_diff_longitude*80.4\n",
    "    df['abs_diff_latitude'] = df.abs_diff_latitude*111"
   ]
  },
  {
   "cell_type": "code",
   "execution_count": 7,
   "metadata": {},
   "outputs": [],
   "source": [
    "add_travel_vector_features(taxi)\n",
    "convert_km(taxi)\n",
    "\n",
    "taxi['Euclidean'] = (taxi.abs_diff_latitude**2 + taxi.abs_diff_longitude**2)**0.5 \n",
    "    \n",
    "taxi['manh_length_hav'] = taxi.hav_dist_lat + taxi.hav_dist_lon\n",
    "taxi['manh_length_euc'] = taxi.abs_diff_latitude + taxi.abs_diff_longitude\n",
    "\n",
    "taxi['minkowski_0.9'] = (taxi.hav_dist_lat**0.92 + taxi.hav_dist_lon**0.92)**(1/0.92)\n",
    "taxi['dist_to_dest'] = haversine(taxi['pickup_latitude'].values, taxi['pickup_longitude'].values, taxi['dropoff_latitude'].values, taxi['dropoff_longitude'].values)\n"
   ]
  },
  {
   "cell_type": "code",
   "execution_count": 8,
   "metadata": {},
   "outputs": [],
   "source": [
    "taxi['pickup_lat_cut'] = taxi.pickup_latitude.apply(coord_prec)\n",
    "taxi['pickup_lon_cut'] = taxi.pickup_longitude.apply(coord_prec)\n",
    "taxi['dropoff_lat_cut'] = taxi.dropoff_latitude.apply(coord_prec)\n",
    "taxi['dropoff_lon_cut'] = taxi.dropoff_longitude.apply(coord_prec)\n",
    "taxi['bearing_to_dest'] = cal_bearing(taxi.iloc[:,1], taxi.iloc[:,2],taxi.iloc[:,8],taxi.iloc[:,9])"
   ]
  },
  {
   "cell_type": "code",
   "execution_count": 9,
   "metadata": {},
   "outputs": [],
   "source": [
    "taxi['pickup_weekday'] = taxi['pickup_time'].dt.weekday\n",
    "taxi['pickup_hour_weekofyear'] = taxi['pickup_time'].dt.weekofyear\n",
    "taxi['pickup_hour'] = taxi['pickup_time'].dt.hour\n",
    "taxi['pickup_minute'] = taxi['pickup_time'].dt.minute\n",
    "taxi['pickup_dt'] = (taxi['pickup_time'] - taxi['pickup_time'].min()).dt.total_seconds()\n",
    "taxi['pickup_week_hour'] = taxi['pickup_weekday'] * 24 + taxi['pickup_hour']"
   ]
  },
  {
   "cell_type": "code",
   "execution_count": 10,
   "metadata": {},
   "outputs": [],
   "source": [
    "coords = np.vstack((taxi[['pickup_latitude', 'pickup_longitude']].values,\n",
    "                    taxi[['dropoff_latitude', 'dropoff_longitude']].values))\n",
    "pca = PCA()\n",
    "pca = pca.fit(coords)\n",
    "taxi['pickup_pca0'] = pca.transform(taxi[['pickup_latitude', 'pickup_longitude']])[:, 0]\n",
    "taxi['pickup_pca1'] = pca.transform(taxi[['pickup_latitude', 'pickup_longitude']])[:, 1]\n",
    "taxi['dropoff_pca0'] = pca.transform(taxi[['dropoff_latitude', 'dropoff_longitude']])[:, 0]\n",
    "taxi['dropoff_pca1'] = pca.transform(taxi[['dropoff_latitude', 'dropoff_longitude']])[:, 1]\n"
   ]
  },
  {
   "cell_type": "code",
   "execution_count": 11,
   "metadata": {},
   "outputs": [],
   "source": [
    "km = KMeans(\n",
    "    n_clusters=50, init='random',\n",
    "    n_init=10, max_iter=300, \n",
    "    tol=1e-04, random_state=0\n",
    ")\n",
    "\n",
    "# km = load('kmeans_0310.joblib')\n",
    "coordinates = taxi[[\"pickup_longitude\", \"pickup_latitude\"]].head(100000).values\n",
    "km.fit_predict(coordinates)\n",
    "\n",
    "coordinates = taxi[[\"pickup_longitude\", \"pickup_latitude\"]].values\n",
    "pickup_km = km.predict(coordinates)\n",
    "\n",
    "coordinates = taxi[[\"dropoff_longitude\", \"dropoff_latitude\"]].values\n",
    "dropoff_km = km.predict(coordinates)\n",
    "\n",
    "\n",
    "taxi[\"pickup_cluster\"] = pickup_km\n",
    "taxi[\"dropoff_cluster\"] = dropoff_km"
   ]
  },
  {
   "cell_type": "code",
   "execution_count": 12,
   "metadata": {},
   "outputs": [],
   "source": [
    "taxi['duration'] = taxi['dropoff_time'] - taxi['pickup_time']\n",
    "taxi['duration'] = taxi['duration'].dt.total_seconds().astype(int)"
   ]
  },
  {
   "cell_type": "code",
   "execution_count": 13,
   "metadata": {},
   "outputs": [],
   "source": [
    "taxi = taxi[taxi['duration'] > 60]\n",
    "taxi = taxi[taxi['duration'] < 4000]"
   ]
  },
  {
   "cell_type": "code",
   "execution_count": 14,
   "metadata": {},
   "outputs": [
    {
     "data": {
      "text/plain": [
       "<matplotlib.axes._subplots.AxesSubplot at 0x7f0bedac7d68>"
      ]
     },
     "execution_count": 14,
     "metadata": {},
     "output_type": "execute_result"
    },
    {
     "data": {
      "image/png": "[encoded data removed]",
      "text/plain": [
       "<Figure size 432x288 with 1 Axes>"
      ]
     },
     "metadata": {
      "needs_background": "light"
     },
     "output_type": "display_data"
    }
   ],
   "source": [
    "taxi['duration'].hist(bins = 100)"
   ]
  },
  {
   "cell_type": "code",
   "execution_count": 17,
   "metadata": {},
   "outputs": [
    {
     "data": {
      "text/plain": [
       "Index(['pickup_time', 'pickup_longitude', 'pickup_latitude', 'ID',\n",
       "       'distance_travelled', 'time_elapsed_seconds', 'speed m/s', 'speed kmh',\n",
       "       'bearing', 'bearing_diff', 'rate_of_turn', 'acceleration',\n",
       "       'distance_travelled_sum2', 'longitude_mean2', 'latitude_mean2',\n",
       "       'distance_travelled_mean2', 'speed m/s_mean2', 'speed kmh_mean2',\n",
       "       'bearing_mean2', 'bearing_diff_mean2', 'rate_of_turn_mean2',\n",
       "       'acceleration_mean2', 'longitude_stddev2', 'latitude_stddev2',\n",
       "       'distance_travelled_stddev2', 'speed m/s_stddev2', 'speed kmh_stddev2',\n",
       "       'bearing_stddev2', 'bearing_diff_stddev2', 'rate_of_turn_stddev2',\n",
       "       'acceleration_stddev2', 'distance_travelled_kurt2', 'speed m/s_kurt2',\n",
       "       'speed kmh_kurt2', 'bearing_kurt2', 'bearing_diff_kurt2',\n",
       "       'rate_of_turn_kurt2', 'acceleration_kurt2', 'distance_travelled_skew2',\n",
       "       'speed m/s_skew2', 'speed kmh_skew2', 'bearing_skew2',\n",
       "       'bearing_diff_skew2', 'rate_of_turn_skew2', 'acceleration_skew2',\n",
       "       'dropoff_time', 'dropoff_longitude', 'dropoff_latitude',\n",
       "       'abs_diff_longitude', 'abs_diff_latitude', 'hav_dist_lat',\n",
       "       'hav_dist_lon', 'Euclidean', 'manh_length_hav', 'manh_length_euc',\n",
       "       'minkowski_0.9', 'dist_to_dest', 'pickup_lat_cut', 'pickup_lon_cut',\n",
       "       'dropoff_lat_cut', 'dropoff_lon_cut', 'bearing_to_dest',\n",
       "       'pickup_weekday', 'pickup_hour_weekofyear', 'pickup_hour',\n",
       "       'pickup_minute', 'pickup_dt', 'pickup_week_hour', 'pickup_pca0',\n",
       "       'pickup_pca1', 'dropoff_pca0', 'dropoff_pca1', 'pickup_cluster',\n",
       "       'dropoff_cluster', 'duration'],\n",
       "      dtype='object')"
      ]
     },
     "execution_count": 17,
     "metadata": {},
     "output_type": "execute_result"
    }
   ],
   "source": [
    "taxi.columns"
   ]
  },
  {
   "cell_type": "markdown",
   "metadata": {},
   "source": [
    "## Control - No speed info - like NYC data"
   ]
  },
  {
   "cell_type": "code",
   "execution_count": 15,
   "metadata": {},
   "outputs": [],
   "source": [
    "x = taxi[['pickup_latitude', 'pickup_longitude', 'dropoff_latitude', 'dropoff_longitude',\n",
    "       'pickup_lat_cut', 'pickup_lon_cut', 'dropoff_lat_cut',\n",
    "       'dropoff_lon_cut', 'pickup_weekday', 'pickup_hour_weekofyear',\n",
    "       'pickup_hour', 'pickup_minute', 'pickup_dt', 'pickup_week_hour',\n",
    "       'pickup_pca0', 'pickup_pca1', 'dropoff_pca0', 'dropoff_pca1',\n",
    "       'pickup_cluster', 'dropoff_cluster']]\n",
    "y = taxi['duration']"
   ]
  },
  {
   "cell_type": "code",
   "execution_count": 16,
   "metadata": {},
   "outputs": [],
   "source": [
    "X_train, X_validation, Y_train, Y_validation =  train_test_split(x,y, test_size = 0.1, random_state = 42)\n",
    "del x\n",
    "del y"
   ]
  },
  {
   "cell_type": "code",
   "execution_count": 17,
   "metadata": {},
   "outputs": [],
   "source": [
    "# x_train_prescale = X_train.values\n",
    "# x_validation_prescale = X_validation.values"
   ]
  },
  {
   "cell_type": "code",
   "execution_count": 17,
   "metadata": {},
   "outputs": [],
   "source": [
    "control_scaler_nodist = sklearn.preprocessing.StandardScaler()\n",
    "x_train = control_scaler_nodist.fit_transform(X_train.values)\n",
    "x_test = control_scaler_nodist.transform(X_validation.values)\n",
    "del X_train"
   ]
  },
  {
   "cell_type": "code",
   "execution_count": 20,
   "metadata": {},
   "outputs": [],
   "source": [
    "xg_reg_nodist = XGBRegressor(objective ='reg:squarederror', n_jobs = -1, min_child_weight = 3, max_depth = 12, learning_rate = 0.1,\n",
    "                      gamma = 0.1, colsample_bytree = 0.5, alpha = 10, n_estimators = 370)"
   ]
  },
  {
   "cell_type": "code",
   "execution_count": 23,
   "metadata": {},
   "outputs": [
    {
     "name": "stderr",
     "output_type": "stream",
     "text": [
      "/home/ericlow/anaconda3/lib/python3.7/site-packages/xgboost/core.py:587: FutureWarning: Series.base is deprecated and will be removed in a future version\n",
      "  if getattr(data, 'base', None) is not None and \\\n"
     ]
    },
    {
     "data": {
      "text/plain": [
       "XGBRegressor(alpha=10, base_score=0.5, booster='gbtree', colsample_bylevel=1,\n",
       "             colsample_bynode=1, colsample_bytree=0.5, gamma=0.1,\n",
       "             importance_type='gain', learning_rate=0.1, max_delta_step=0,\n",
       "             max_depth=12, min_child_weight=3, missing=None, n_estimators=370,\n",
       "             n_jobs=-1, nthread=None, objective='reg:squarederror',\n",
       "             random_state=0, reg_alpha=0, reg_lambda=1, scale_pos_weight=1,\n",
       "             seed=None, silent=None, subsample=1, verbosity=1)"
      ]
     },
     "execution_count": 23,
     "metadata": {},
     "output_type": "execute_result"
    }
   ],
   "source": [
    "xg_reg_nodist.fit(x_train,Y_train)\n"
   ]
  },
  {
   "cell_type": "code",
   "execution_count": 24,
   "metadata": {},
   "outputs": [
    {
     "name": "stdout",
     "output_type": "stream",
     "text": [
      "MAE:  46.339813810753405 \n",
      "RMSLE:  0.2252817632695172\n"
     ]
    },
    {
     "name": "stderr",
     "output_type": "stream",
     "text": [
      "/home/ericlow/anaconda3/lib/python3.7/site-packages/ipykernel_launcher.py:7: RuntimeWarning: invalid value encountered in log1p\n",
      "  import sys\n"
     ]
    }
   ],
   "source": [
    "y_pred = xg_reg_nodist.predict(x_test)\n",
    "print(\"MAE: \", metrics.mean_absolute_error(Y_validation, y_pred), \"\\nRMSLE: \", rmsle(Y_validation, y_pred))"
   ]
  },
  {
   "cell_type": "code",
   "execution_count": 1,
   "metadata": {},
   "outputs": [
    {
     "data": {
      "text/plain": [
       "0"
      ]
     },
     "execution_count": 1,
     "metadata": {},
     "output_type": "execute_result"
    }
   ],
   "source": [
    "import gc\n",
    "gc.collect()"
   ]
  },
  {
   "cell_type": "code",
   "execution_count": 37,
   "metadata": {},
   "outputs": [
    {
     "data": {
      "text/plain": [
       "['xgboost2203_control.pkl']"
      ]
     },
     "execution_count": 37,
     "metadata": {},
     "output_type": "execute_result"
    }
   ],
   "source": [
    "dump(xg_reg_nodist, 'xgboost2203_control.pkl')"
   ]
  },
  {
   "cell_type": "code",
   "execution_count": 18,
   "metadata": {},
   "outputs": [],
   "source": [
    "xg_reg_nodist = load('xgboost2203_control.pkl')"
   ]
  },
  {
   "cell_type": "code",
   "execution_count": 22,
   "metadata": {},
   "outputs": [
    {
     "data": {
      "text/html": [
       "<div>\n",
       "<style scoped>\n",
       "    .dataframe tbody tr th:only-of-type {\n",
       "        vertical-align: middle;\n",
       "    }\n",
       "\n",
       "    .dataframe tbody tr th {\n",
       "        vertical-align: top;\n",
       "    }\n",
       "\n",
       "    .dataframe thead th {\n",
       "        text-align: right;\n",
       "    }\n",
       "</style>\n",
       "<table border=\"1\" class=\"dataframe\">\n",
       "  <thead>\n",
       "    <tr style=\"text-align: right;\">\n",
       "      <th></th>\n",
       "      <th>count</th>\n",
       "    </tr>\n",
       "    <tr>\n",
       "      <th>duration</th>\n",
       "      <th></th>\n",
       "    </tr>\n",
       "  </thead>\n",
       "  <tbody>\n",
       "    <tr>\n",
       "      <th>(71.085, 270.75]</th>\n",
       "      <td>802513</td>\n",
       "    </tr>\n",
       "    <tr>\n",
       "      <th>(270.75, 466.5]</th>\n",
       "      <td>469559</td>\n",
       "    </tr>\n",
       "    <tr>\n",
       "      <th>(466.5, 662.25]</th>\n",
       "      <td>279079</td>\n",
       "    </tr>\n",
       "    <tr>\n",
       "      <th>(662.25, 858.0]</th>\n",
       "      <td>164575</td>\n",
       "    </tr>\n",
       "    <tr>\n",
       "      <th>(858.0, 1053.75]</th>\n",
       "      <td>103457</td>\n",
       "    </tr>\n",
       "    <tr>\n",
       "      <th>...</th>\n",
       "      <td>...</td>\n",
       "    </tr>\n",
       "    <tr>\n",
       "      <th>(3011.25, 3207.0]</th>\n",
       "      <td>14153</td>\n",
       "    </tr>\n",
       "    <tr>\n",
       "      <th>(3207.0, 3402.75]</th>\n",
       "      <td>13176</td>\n",
       "    </tr>\n",
       "    <tr>\n",
       "      <th>(3402.75, 3598.5]</th>\n",
       "      <td>12000</td>\n",
       "    </tr>\n",
       "    <tr>\n",
       "      <th>(3598.5, 3794.25]</th>\n",
       "      <td>10938</td>\n",
       "    </tr>\n",
       "    <tr>\n",
       "      <th>(3794.25, 3990.0]</th>\n",
       "      <td>10438</td>\n",
       "    </tr>\n",
       "  </tbody>\n",
       "</table>\n",
       "<p>20 rows × 1 columns</p>\n",
       "</div>"
      ],
      "text/plain": [
       "                    count\n",
       "duration                 \n",
       "(71.085, 270.75]   802513\n",
       "(270.75, 466.5]    469559\n",
       "(466.5, 662.25]    279079\n",
       "(662.25, 858.0]    164575\n",
       "(858.0, 1053.75]   103457\n",
       "...                   ...\n",
       "(3011.25, 3207.0]   14153\n",
       "(3207.0, 3402.75]   13176\n",
       "(3402.75, 3598.5]   12000\n",
       "(3598.5, 3794.25]   10938\n",
       "(3794.25, 3990.0]   10438\n",
       "\n",
       "[20 rows x 1 columns]"
      ]
     },
     "execution_count": 22,
     "metadata": {},
     "output_type": "execute_result"
    }
   ],
   "source": [
    "bins = pd.cut(taxi['duration'], 20)\n",
    "taxi.groupby(bins)['duration'].agg(['count'])"
   ]
  },
  {
   "cell_type": "code",
   "execution_count": 50,
   "metadata": {},
   "outputs": [
    {
     "data": {
      "text/plain": [
       "<pandas.core.groupby.generic.DataFrameGroupBy object at 0x7f642717dcc0>"
      ]
     },
     "execution_count": 50,
     "metadata": {},
     "output_type": "execute_result"
    }
   ],
   "source": [
    "X_validation.merge(Y_validation, left_index=True, right_index=True).groupby(pd.cut(Y_validation, 20))"
   ]
  },
  {
   "cell_type": "code",
   "execution_count": null,
   "metadata": {},
   "outputs": [],
   "source": [
    "errors_nodist = pd.DataFrame()\n",
    "tt = []\n",
    "for bin_name, group in X_validation.merge(Y_validation, left_index=True, right_index=True).groupby(pd.cut(Y_validation, 20)):\n",
    "    print(bin_name)\n",
    "    group.drop('duration', axis = 1, inplace = True)\n",
    "    y_grp = Y_validation.loc[group.index]\n",
    "    y_pred= xg_reg_nodist.predict(control_scaler_nodist.transform(group.values))\n",
    "    \n",
    "    aa = metrics.mean_absolute_error(y_grp, y_pred)\n",
    "    bb = rmsle(y_grp, y_pred)\n",
    "    \n",
    "    fooh = pd.DataFrame([aa, bb], columns = [bin_name])\n",
    "    errors_nodist = pd.concat([errors_nodist, fooh], axis = 1)\n",
    "    \n",
    "    predict_results = xg_reg_nodist.predict(control_scaler_nodist.transform(group))\n",
    "    predict_res = pd.DataFrame(predict_results.flatten() - y_grp)\n",
    "# #     print(predict_res.describe())\n",
    "# #     predict_res.hist(bins = 100)\n",
    "    tt.append(predict_res.values)\n",
    "    \n",
    "# display.display(errors_dist)"
   ]
  },
  {
   "cell_type": "code",
   "execution_count": 20,
   "metadata": {},
   "outputs": [],
   "source": [
    "errors_nodist = errors_nodist.rename(index = {0: 'loss_nostats', 1:'rmsle_nostats'})"
   ]
  },
  {
   "cell_type": "code",
   "execution_count": 21,
   "metadata": {},
   "outputs": [
    {
     "data": {
      "image/png": "[encoded data removed]",
      "text/plain": [
       "<Figure size 720x432 with 1 Axes>"
      ]
     },
     "metadata": {
      "needs_background": "light"
     },
     "output_type": "display_data"
    },
    {
     "data": {
      "image/png": "[encoded data removed]",
      "text/plain": [
       "<Figure size 720x432 with 1 Axes>"
      ]
     },
     "metadata": {
      "needs_background": "light"
     },
     "output_type": "display_data"
    }
   ],
   "source": [
    "errors_nodist.loc['rmsle_nostats'].T.plot(figsize = (10 ,6 ), style ='.-')\n",
    "plt.xlabel('dist_bin')\n",
    "plt.ylabel('rmsle')\n",
    "plt.grid(True)\n",
    "\n",
    "plt.show()\n",
    "errors_nodist.loc['loss_nostats'].T.plot(figsize = (10 ,6 ), style ='.-')\n",
    "plt.xlabel('duration_bin')\n",
    "plt.ylabel('mae')\n",
    "plt.grid(True)"
   ]
  },
  {
   "cell_type": "code",
   "execution_count": 22,
   "metadata": {},
   "outputs": [
    {
     "data": {
      "text/html": [
       "<div>\n",
       "<style scoped>\n",
       "    .dataframe tbody tr th:only-of-type {\n",
       "        vertical-align: middle;\n",
       "    }\n",
       "\n",
       "    .dataframe tbody tr th {\n",
       "        vertical-align: top;\n",
       "    }\n",
       "\n",
       "    .dataframe thead th {\n",
       "        text-align: right;\n",
       "    }\n",
       "</style>\n",
       "<table border=\"1\" class=\"dataframe\">\n",
       "  <thead>\n",
       "    <tr style=\"text-align: right;\">\n",
       "      <th></th>\n",
       "      <th>(71.085, 270.75]</th>\n",
       "      <th>(270.75, 466.5]</th>\n",
       "      <th>(466.5, 662.25]</th>\n",
       "      <th>(662.25, 858.0]</th>\n",
       "      <th>(858.0, 1053.75]</th>\n",
       "      <th>(1053.75, 1249.5]</th>\n",
       "      <th>(1249.5, 1445.25]</th>\n",
       "      <th>(1445.25, 1641.0]</th>\n",
       "      <th>(1641.0, 1836.75]</th>\n",
       "      <th>(1836.75, 2032.5]</th>\n",
       "      <th>(2032.5, 2228.25]</th>\n",
       "      <th>(2228.25, 2424.0]</th>\n",
       "      <th>(2424.0, 2619.75]</th>\n",
       "      <th>(2619.75, 2815.5]</th>\n",
       "      <th>(2815.5, 3011.25]</th>\n",
       "      <th>(3011.25, 3207.0]</th>\n",
       "      <th>(3207.0, 3402.75]</th>\n",
       "      <th>(3402.75, 3598.5]</th>\n",
       "      <th>(3598.5, 3794.25]</th>\n",
       "      <th>(3794.25, 3990.0]</th>\n",
       "    </tr>\n",
       "  </thead>\n",
       "  <tbody>\n",
       "    <tr>\n",
       "      <th>loss_nostats</th>\n",
       "      <td>39.801486</td>\n",
       "      <td>37.863503</td>\n",
       "      <td>41.235665</td>\n",
       "      <td>45.946056</td>\n",
       "      <td>51.520425</td>\n",
       "      <td>59.374076</td>\n",
       "      <td>61.565620</td>\n",
       "      <td>67.989232</td>\n",
       "      <td>65.064237</td>\n",
       "      <td>69.912337</td>\n",
       "      <td>75.344192</td>\n",
       "      <td>79.034469</td>\n",
       "      <td>79.982596</td>\n",
       "      <td>78.635504</td>\n",
       "      <td>88.516008</td>\n",
       "      <td>86.015118</td>\n",
       "      <td>81.999599</td>\n",
       "      <td>99.824052</td>\n",
       "      <td>94.597231</td>\n",
       "      <td>131.998259</td>\n",
       "    </tr>\n",
       "    <tr>\n",
       "      <th>rmsle_nostats</th>\n",
       "      <td>0.338633</td>\n",
       "      <td>0.149771</td>\n",
       "      <td>0.113540</td>\n",
       "      <td>0.099462</td>\n",
       "      <td>0.092632</td>\n",
       "      <td>0.094820</td>\n",
       "      <td>0.090241</td>\n",
       "      <td>0.085282</td>\n",
       "      <td>0.071863</td>\n",
       "      <td>0.078666</td>\n",
       "      <td>0.075996</td>\n",
       "      <td>0.077897</td>\n",
       "      <td>0.070630</td>\n",
       "      <td>0.067876</td>\n",
       "      <td>0.086697</td>\n",
       "      <td>0.075588</td>\n",
       "      <td>0.071262</td>\n",
       "      <td>0.100291</td>\n",
       "      <td>0.086098</td>\n",
       "      <td>0.093588</td>\n",
       "    </tr>\n",
       "  </tbody>\n",
       "</table>\n",
       "</div>"
      ],
      "text/plain": [
       "               (71.085, 270.75]  (270.75, 466.5]  (466.5, 662.25]  \\\n",
       "loss_nostats          39.801486        37.863503        41.235665   \n",
       "rmsle_nostats          0.338633         0.149771         0.113540   \n",
       "\n",
       "               (662.25, 858.0]  (858.0, 1053.75]  (1053.75, 1249.5]  \\\n",
       "loss_nostats         45.946056         51.520425          59.374076   \n",
       "rmsle_nostats         0.099462          0.092632           0.094820   \n",
       "\n",
       "               (1249.5, 1445.25]  (1445.25, 1641.0]  (1641.0, 1836.75]  \\\n",
       "loss_nostats           61.565620          67.989232          65.064237   \n",
       "rmsle_nostats           0.090241           0.085282           0.071863   \n",
       "\n",
       "               (1836.75, 2032.5]  (2032.5, 2228.25]  (2228.25, 2424.0]  \\\n",
       "loss_nostats           69.912337          75.344192          79.034469   \n",
       "rmsle_nostats           0.078666           0.075996           0.077897   \n",
       "\n",
       "               (2424.0, 2619.75]  (2619.75, 2815.5]  (2815.5, 3011.25]  \\\n",
       "loss_nostats           79.982596          78.635504          88.516008   \n",
       "rmsle_nostats           0.070630           0.067876           0.086697   \n",
       "\n",
       "               (3011.25, 3207.0]  (3207.0, 3402.75]  (3402.75, 3598.5]  \\\n",
       "loss_nostats           86.015118          81.999599          99.824052   \n",
       "rmsle_nostats           0.075588           0.071262           0.100291   \n",
       "\n",
       "               (3598.5, 3794.25]  (3794.25, 3990.0]  \n",
       "loss_nostats           94.597231         131.998259  \n",
       "rmsle_nostats           0.086098           0.093588  "
      ]
     },
     "execution_count": 22,
     "metadata": {},
     "output_type": "execute_result"
    }
   ],
   "source": [
    "errors_nodist"
   ]
  },
  {
   "cell_type": "markdown",
   "metadata": {},
   "source": [
    "## With Stats"
   ]
  },
  {
   "cell_type": "code",
   "execution_count": 29,
   "metadata": {},
   "outputs": [
    {
     "data": {
      "text/plain": [
       "Index(['pickup_time', 'pickup_longitude', 'pickup_latitude', 'ID',\n",
       "       'distance_travelled', 'time_elapsed_seconds', 'speed m/s', 'speed kmh',\n",
       "       'bearing', 'bearing_diff', 'rate_of_turn', 'acceleration',\n",
       "       'distance_travelled_sum2', 'longitude_mean2', 'latitude_mean2',\n",
       "       'distance_travelled_mean2', 'speed m/s_mean2', 'speed kmh_mean2',\n",
       "       'bearing_mean2', 'bearing_diff_mean2', 'rate_of_turn_mean2',\n",
       "       'acceleration_mean2', 'longitude_stddev2', 'latitude_stddev2',\n",
       "       'distance_travelled_stddev2', 'speed m/s_stddev2', 'speed kmh_stddev2',\n",
       "       'bearing_stddev2', 'bearing_diff_stddev2', 'rate_of_turn_stddev2',\n",
       "       'acceleration_stddev2', 'distance_travelled_kurt2', 'speed m/s_kurt2',\n",
       "       'speed kmh_kurt2', 'bearing_kurt2', 'bearing_diff_kurt2',\n",
       "       'rate_of_turn_kurt2', 'acceleration_kurt2', 'distance_travelled_skew2',\n",
       "       'speed m/s_skew2', 'speed kmh_skew2', 'bearing_skew2',\n",
       "       'bearing_diff_skew2', 'rate_of_turn_skew2', 'acceleration_skew2',\n",
       "       'dropoff_time', 'dropoff_longitude', 'dropoff_latitude',\n",
       "       'abs_diff_longitude', 'abs_diff_latitude', 'hav_dist_lat',\n",
       "       'hav_dist_lon', 'Euclidean', 'manh_length_hav', 'manh_length_euc',\n",
       "       'minkowski_0.9', 'dist_to_dest', 'pickup_lat_cut', 'pickup_lon_cut',\n",
       "       'dropoff_lat_cut', 'dropoff_lon_cut', 'bearing_to_dest',\n",
       "       'pickup_weekday', 'pickup_hour_weekofyear', 'pickup_hour',\n",
       "       'pickup_minute', 'pickup_dt', 'pickup_week_hour', 'pickup_pca0',\n",
       "       'pickup_pca1', 'dropoff_pca0', 'dropoff_pca1', 'pickup_cluster',\n",
       "       'dropoff_cluster', 'duration'],\n",
       "      dtype='object')"
      ]
     },
     "execution_count": 29,
     "metadata": {},
     "output_type": "execute_result"
    }
   ],
   "source": [
    "taxi.columns"
   ]
  },
  {
   "cell_type": "code",
   "execution_count": 42,
   "metadata": {},
   "outputs": [],
   "source": [
    "x = taxi.drop(['pickup_time', 'ID', 'dropoff_time', 'duration'], axis = 1)\n",
    "y = taxi['duration']"
   ]
  },
  {
   "cell_type": "code",
   "execution_count": 43,
   "metadata": {},
   "outputs": [],
   "source": [
    "X_train, X_validation, Y_train, Y_validation =  train_test_split(x,y, test_size = 0.1, random_state = 43)\n",
    "del x\n",
    "del y"
   ]
  },
  {
   "cell_type": "code",
   "execution_count": 19,
   "metadata": {},
   "outputs": [],
   "source": [
    "# x_train_prescale = X_train.values\n",
    "# x_validation_prescale = X_validation.values"
   ]
  },
  {
   "cell_type": "code",
   "execution_count": 34,
   "metadata": {},
   "outputs": [],
   "source": [
    "control_scaler_nodist_speed = sklearn.preprocessing.StandardScaler()\n",
    "x_train = control_scaler_nodist_speed.fit_transform(X_train.values)\n",
    "del X_train\n",
    "x_test = control_scaler_nodist_speed.transform(X_validation.values)\n",
    "# del X_validation"
   ]
  },
  {
   "cell_type": "code",
   "execution_count": 57,
   "metadata": {},
   "outputs": [
    {
     "data": {
      "text/plain": [
       "98"
      ]
     },
     "execution_count": 57,
     "metadata": {},
     "output_type": "execute_result"
    }
   ],
   "source": [
    "# del x\n",
    "# del y\n",
    "# del X_train\n",
    "# # del x_train\n",
    "# # del x_test\n",
    "# # del X_validation\n",
    "# del Y_train\n",
    "gc.collect()"
   ]
  },
  {
   "cell_type": "code",
   "execution_count": 25,
   "metadata": {},
   "outputs": [],
   "source": [
    "xg_reg_nodist_speed = XGBRegressor(objective ='reg:squarederror', n_jobs = -1, min_child_weight = 3, max_depth = 12, learning_rate = 0.1,\n",
    "                      gamma = 0.1, colsample_bytree = 0.5, alpha = 10, n_estimators = 370)"
   ]
  },
  {
   "cell_type": "code",
   "execution_count": 26,
   "metadata": {},
   "outputs": [
    {
     "name": "stderr",
     "output_type": "stream",
     "text": [
      "/home/ericlow/anaconda3/lib/python3.7/site-packages/xgboost/core.py:587: FutureWarning: Series.base is deprecated and will be removed in a future version\n",
      "  if getattr(data, 'base', None) is not None and \\\n"
     ]
    },
    {
     "data": {
      "text/plain": [
       "XGBRegressor(alpha=10, base_score=0.5, booster='gbtree', colsample_bylevel=1,\n",
       "             colsample_bynode=1, colsample_bytree=0.5, gamma=0.1,\n",
       "             importance_type='gain', learning_rate=0.1, max_delta_step=0,\n",
       "             max_depth=12, min_child_weight=3, missing=None, n_estimators=370,\n",
       "             n_jobs=-1, nthread=None, objective='reg:squarederror',\n",
       "             random_state=0, reg_alpha=0, reg_lambda=1, scale_pos_weight=1,\n",
       "             seed=None, silent=None, subsample=1, verbosity=1)"
      ]
     },
     "execution_count": 26,
     "metadata": {},
     "output_type": "execute_result"
    }
   ],
   "source": [
    "xg_reg_nodist_speed.fit(x_train,Y_train)\n"
   ]
  },
  {
   "cell_type": "code",
   "execution_count": 27,
   "metadata": {},
   "outputs": [
    {
     "name": "stdout",
     "output_type": "stream",
     "text": [
      "MAE:  55.08904493096334 \n",
      "RMSLE:  0.24139658310346473\n"
     ]
    },
    {
     "name": "stderr",
     "output_type": "stream",
     "text": [
      "/home/ericlow/anaconda3/lib/python3.7/site-packages/ipykernel_launcher.py:7: RuntimeWarning: invalid value encountered in log1p\n",
      "  import sys\n"
     ]
    }
   ],
   "source": [
    "y_pred = xg_reg_nodist_speed.predict(x_test)\n",
    "print(\"MAE: \", metrics.mean_absolute_error(Y_validation, y_pred), \"\\nRMSLE: \", rmsle(Y_validation, y_pred))"
   ]
  },
  {
   "cell_type": "code",
   "execution_count": 41,
   "metadata": {},
   "outputs": [
    {
     "data": {
      "text/plain": [
       "11045"
      ]
     },
     "execution_count": 41,
     "metadata": {},
     "output_type": "execute_result"
    }
   ],
   "source": [
    "import gc\n",
    "gc.collect()"
   ]
  },
  {
   "cell_type": "code",
   "execution_count": 29,
   "metadata": {},
   "outputs": [
    {
     "data": {
      "text/plain": [
       "['xgbooststats2303.pkl']"
      ]
     },
     "execution_count": 29,
     "metadata": {},
     "output_type": "execute_result"
    }
   ],
   "source": [
    "dump(xg_reg_nodist_speed, 'xgbooststats2303.pkl')"
   ]
  },
  {
   "cell_type": "code",
   "execution_count": 17,
   "metadata": {},
   "outputs": [],
   "source": [
    "xg_reg_nodist = load('xgboost1612.pkl')"
   ]
  },
  {
   "cell_type": "code",
   "execution_count": null,
   "metadata": {},
   "outputs": [],
   "source": [
    "bins = pd.cut(taxi['duration'], 20)\n",
    "taxi.groupby(bins)['duration'].agg(['count'])"
   ]
  },
  {
   "cell_type": "code",
   "execution_count": 26,
   "metadata": {},
   "outputs": [],
   "source": [
    "xg_reg_nodist_speed = load('xgbooststats2303.pkl')"
   ]
  },
  {
   "cell_type": "code",
   "execution_count": 63,
   "metadata": {},
   "outputs": [
    {
     "data": {
      "text/plain": [
       "<pandas.core.groupby.generic.DataFrameGroupBy object at 0x7f6444d92a90>"
      ]
     },
     "execution_count": 63,
     "metadata": {},
     "output_type": "execute_result"
    }
   ],
   "source": [
    "X_validation.merge(Y_validation, left_index=True, right_index=True).groupby(pd.cut(Y_validation, 20))"
   ]
  },
  {
   "cell_type": "code",
   "execution_count": null,
   "metadata": {},
   "outputs": [],
   "source": [
    "errors_nodist_speed = pd.DataFrame()\n",
    "tt = []\n",
    "for bin_name, group in X_validation.merge(Y_validation, left_index=True, right_index=True).groupby(pd.cut(Y_validation, 20)):\n",
    "    print(bin_name)\n",
    "    group.drop('duration', axis = 1, inplace = True)\n",
    "    y_grp = Y_validation.loc[group.index]\n",
    "    y_pred= xg_reg_nodist_speed.predict(control_scaler_nodist_speed.transform(group.values))\n",
    "    \n",
    "    aa = metrics.mean_absolute_error(y_grp, y_pred)\n",
    "    bb = rmsle(y_grp, y_pred)\n",
    "    \n",
    "    fooh = pd.DataFrame([aa, bb], columns = [bin_name])\n",
    "    errors_nodist_speed = pd.concat([errors_nodist_speed, fooh], axis = 1)\n",
    "    \n",
    "    predict_results = xg_reg_nodist_speed.predict(control_scaler_nodist_speed.transform(group))\n",
    "    predict_res = pd.DataFrame(predict_results.flatten() - y_grp)\n",
    "# #     print(predict_res.describe())\n",
    "# #     predict_res.hist(bins = 100)\n",
    "    tt.append(predict_res.values)\n",
    "    \n",
    "# display.display(errors_dist)"
   ]
  },
  {
   "cell_type": "code",
   "execution_count": 45,
   "metadata": {},
   "outputs": [],
   "source": [
    "errors_nodist_speed = errors_nodist_speed.rename(index = {0: 'loss_stats', 1:'rmsle_stats'})"
   ]
  },
  {
   "cell_type": "code",
   "execution_count": 28,
   "metadata": {},
   "outputs": [],
   "source": [
    "errors_nodist_speed = errors_nodist_speed.rename(index = {'loss_nodist': 'loss_stats', 'rmsle_nodist':'rmsle_stats'})"
   ]
  },
  {
   "cell_type": "code",
   "execution_count": 46,
   "metadata": {},
   "outputs": [
    {
     "data": {
      "image/png": "[encoded data removed]",
      "text/plain": [
       "<Figure size 720x432 with 1 Axes>"
      ]
     },
     "metadata": {
      "needs_background": "light"
     },
     "output_type": "display_data"
    },
    {
     "data": {
      "image/png": "[encoded data removed]",
      "text/plain": [
       "<Figure size 720x432 with 1 Axes>"
      ]
     },
     "metadata": {
      "needs_background": "light"
     },
     "output_type": "display_data"
    }
   ],
   "source": [
    "errors_nodist_speed.loc['loss_stats'].T.plot(figsize = (10 ,6 ), style ='.-')\n",
    "plt.xlabel('dist_bin')\n",
    "plt.ylabel('MAE')\n",
    "plt.grid(True)\n",
    "plt.show()\n",
    "\n",
    "errors_nodist_speed.loc['rmsle_stats'].T.plot(figsize = (10 ,6 ), style ='.-')\n",
    "plt.xlabel('dist_bin')\n",
    "plt.ylabel('rmsle')\n",
    "plt.grid(True)\n"
   ]
  },
  {
   "cell_type": "code",
   "execution_count": 38,
   "metadata": {},
   "outputs": [
    {
     "data": {
      "text/html": [
       "<div>\n",
       "<style scoped>\n",
       "    .dataframe tbody tr th:only-of-type {\n",
       "        vertical-align: middle;\n",
       "    }\n",
       "\n",
       "    .dataframe tbody tr th {\n",
       "        vertical-align: top;\n",
       "    }\n",
       "\n",
       "    .dataframe thead th {\n",
       "        text-align: right;\n",
       "    }\n",
       "</style>\n",
       "<table border=\"1\" class=\"dataframe\">\n",
       "  <thead>\n",
       "    <tr style=\"text-align: right;\">\n",
       "      <th></th>\n",
       "      <th>(71.085, 270.75]</th>\n",
       "      <th>(270.75, 466.5]</th>\n",
       "      <th>(466.5, 662.25]</th>\n",
       "      <th>(662.25, 858.0]</th>\n",
       "      <th>(858.0, 1053.75]</th>\n",
       "      <th>(1053.75, 1249.5]</th>\n",
       "      <th>(1249.5, 1445.25]</th>\n",
       "      <th>(1445.25, 1641.0]</th>\n",
       "      <th>(1641.0, 1836.75]</th>\n",
       "      <th>(1836.75, 2032.5]</th>\n",
       "      <th>(2032.5, 2228.25]</th>\n",
       "      <th>(2228.25, 2424.0]</th>\n",
       "      <th>(2424.0, 2619.75]</th>\n",
       "      <th>(2619.75, 2815.5]</th>\n",
       "      <th>(2815.5, 3011.25]</th>\n",
       "      <th>(3011.25, 3207.0]</th>\n",
       "      <th>(3207.0, 3402.75]</th>\n",
       "      <th>(3402.75, 3598.5]</th>\n",
       "      <th>(3598.5, 3794.25]</th>\n",
       "      <th>(3794.25, 3990.0]</th>\n",
       "    </tr>\n",
       "  </thead>\n",
       "  <tbody>\n",
       "    <tr>\n",
       "      <th>loss_stats</th>\n",
       "      <td>43.527040</td>\n",
       "      <td>45.129080</td>\n",
       "      <td>49.456179</td>\n",
       "      <td>56.774314</td>\n",
       "      <td>64.859484</td>\n",
       "      <td>74.433932</td>\n",
       "      <td>80.251887</td>\n",
       "      <td>88.670689</td>\n",
       "      <td>82.735997</td>\n",
       "      <td>91.006493</td>\n",
       "      <td>93.682746</td>\n",
       "      <td>98.562682</td>\n",
       "      <td>100.308449</td>\n",
       "      <td>99.364997</td>\n",
       "      <td>107.027599</td>\n",
       "      <td>107.680746</td>\n",
       "      <td>98.097407</td>\n",
       "      <td>122.169050</td>\n",
       "      <td>124.097368</td>\n",
       "      <td>167.599597</td>\n",
       "    </tr>\n",
       "    <tr>\n",
       "      <th>rmsle_stats</th>\n",
       "      <td>0.354173</td>\n",
       "      <td>0.173994</td>\n",
       "      <td>0.133717</td>\n",
       "      <td>0.119990</td>\n",
       "      <td>0.114670</td>\n",
       "      <td>0.117525</td>\n",
       "      <td>0.113943</td>\n",
       "      <td>0.114632</td>\n",
       "      <td>0.091463</td>\n",
       "      <td>0.102731</td>\n",
       "      <td>0.100329</td>\n",
       "      <td>0.100966</td>\n",
       "      <td>0.091595</td>\n",
       "      <td>0.088594</td>\n",
       "      <td>0.100332</td>\n",
       "      <td>0.094384</td>\n",
       "      <td>0.082366</td>\n",
       "      <td>0.115563</td>\n",
       "      <td>0.104592</td>\n",
       "      <td>0.122561</td>\n",
       "    </tr>\n",
       "  </tbody>\n",
       "</table>\n",
       "</div>"
      ],
      "text/plain": [
       "             (71.085, 270.75]  (270.75, 466.5]  (466.5, 662.25]  \\\n",
       "loss_stats          43.527040        45.129080        49.456179   \n",
       "rmsle_stats          0.354173         0.173994         0.133717   \n",
       "\n",
       "             (662.25, 858.0]  (858.0, 1053.75]  (1053.75, 1249.5]  \\\n",
       "loss_stats         56.774314         64.859484          74.433932   \n",
       "rmsle_stats         0.119990          0.114670           0.117525   \n",
       "\n",
       "             (1249.5, 1445.25]  (1445.25, 1641.0]  (1641.0, 1836.75]  \\\n",
       "loss_stats           80.251887          88.670689          82.735997   \n",
       "rmsle_stats           0.113943           0.114632           0.091463   \n",
       "\n",
       "             (1836.75, 2032.5]  (2032.5, 2228.25]  (2228.25, 2424.0]  \\\n",
       "loss_stats           91.006493          93.682746          98.562682   \n",
       "rmsle_stats           0.102731           0.100329           0.100966   \n",
       "\n",
       "             (2424.0, 2619.75]  (2619.75, 2815.5]  (2815.5, 3011.25]  \\\n",
       "loss_stats          100.308449          99.364997         107.027599   \n",
       "rmsle_stats           0.091595           0.088594           0.100332   \n",
       "\n",
       "             (3011.25, 3207.0]  (3207.0, 3402.75]  (3402.75, 3598.5]  \\\n",
       "loss_stats          107.680746          98.097407         122.169050   \n",
       "rmsle_stats           0.094384           0.082366           0.115563   \n",
       "\n",
       "             (3598.5, 3794.25]  (3794.25, 3990.0]  \n",
       "loss_stats          124.097368         167.599597  \n",
       "rmsle_stats           0.104592           0.122561  "
      ]
     },
     "execution_count": 38,
     "metadata": {},
     "output_type": "execute_result"
    }
   ],
   "source": [
    "errors_nodist_speed"
   ]
  },
  {
   "cell_type": "code",
   "execution_count": 47,
   "metadata": {},
   "outputs": [],
   "source": [
    "err = pd.concat([errors_nodist_speed, errors_nodist])"
   ]
  },
  {
   "cell_type": "code",
   "execution_count": 48,
   "metadata": {},
   "outputs": [
    {
     "data": {
      "image/png": "[encoded data removed]",
      "text/plain": [
       "<Figure size 720x432 with 1 Axes>"
      ]
     },
     "metadata": {
      "needs_background": "light"
     },
     "output_type": "display_data"
    },
    {
     "data": {
      "image/png": "[encoded data removed]",
      "text/plain": [
       "<Figure size 720x432 with 1 Axes>"
      ]
     },
     "metadata": {
      "needs_background": "light"
     },
     "output_type": "display_data"
    }
   ],
   "source": [
    "err.loc['loss_stats'].T.plot(figsize = (10 ,6 ), style ='.-')\n",
    "err.loc['loss_nostats'].T.plot(figsize = (10 ,6 ), style ='.-')\n",
    "plt.xlabel('dist_bin')\n",
    "plt.ylabel('MAE')\n",
    "plt.legend()\n",
    "plt.grid(True)\n",
    "plt.show()\n",
    "\n",
    "err.loc['rmsle_stats'].T.plot(figsize = (10 ,6 ), style ='.-')\n",
    "err.loc['rmsle_nostats'].T.plot(figsize = (10 ,6 ), style ='.-')\n",
    "plt.xlabel('dist_bin')\n",
    "plt.ylabel('rmsle')\n",
    "plt.legend()\n",
    "plt.grid(True)"
   ]
  },
  {
   "cell_type": "code",
   "execution_count": null,
   "metadata": {},
   "outputs": [],
   "source": []
  }
 ],
 "metadata": {
  "kernelspec": {
   "display_name": "Python 3",
   "language": "python",
   "name": "python3"
  },
  "language_info": {
   "codemirror_mode": {
    "name": "ipython",
    "version": 3
   },
   "file_extension": ".py",
   "mimetype": "text/x-python",
   "name": "python",
   "nbconvert_exporter": "python",
   "pygments_lexer": "ipython3",
   "version": "3.7.3"
  }
 },
 "nbformat": 4,
 "nbformat_minor": 4
}
