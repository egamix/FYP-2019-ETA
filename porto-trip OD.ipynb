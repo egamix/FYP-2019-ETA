{
 "cells": [
  {
   "cell_type": "code",
   "execution_count": 1,
   "metadata": {},
   "outputs": [],
   "source": [
    "from __future__ import print_function\n",
    "\n",
    "from IPython import display\n",
    "\n",
    "import math\n",
    "import matplotlib\n",
    "import sklearn\n",
    "import pandas as pd\n",
    "import numpy as np\n",
    "from matplotlib import pyplot as plt\n",
    "from numpy import radians, cos, sin, arcsin, arccos, sqrt, pi, arctan2, degrees, arctan\n",
    "import itertools\n",
    "\n",
    "from tqdm import tqdm, tqdm_notebook\n",
    "tqdm.pandas()\n",
    "tqdm.pandas(tqdm_notebook)\n",
    "\n",
    "import osrm\n",
    "from joblib import dump, load\n",
    "\n",
    "from sklearn.decomposition import PCA\n",
    "from sklearn.cluster import DBSCAN\n",
    "from sklearn.cluster import KMeans\n",
    "\n",
    "from natsort import natsorted\n",
    "from sklearn.model_selection import train_test_split\n",
    "from sklearn.model_selection import RandomizedSearchCV, GridSearchCV, train_test_split\n",
    "from sklearn import metrics\n",
    "\n",
    "from xgboost import XGBRegressor\n",
    "\n",
    "pd.options.display.max_rows = 10"
   ]
  },
  {
   "cell_type": "code",
   "execution_count": 2,
   "metadata": {},
   "outputs": [],
   "source": [
    "def coord_prec(coord):\n",
    "    precision =  math.pow(10, 3)\n",
    "    new_coord = float((int(precision * coord)))/precision\n",
    "    return new_coord\n",
    "def rmsle(ypred, ytest) :\n",
    "    assert len(ytest) == len(ypred)\n",
    "    return np.sqrt(np.mean((np.log1p(ypred) - np.log1p(ytest))**2))\n",
    "def cal_bearing(lat1, lon1, lat2, lon2):\n",
    "    \"\"\"\n",
    "    Calculates the bearing between two points using the formula\n",
    "        θ = atan2(sin(Δlong).cos(lat2),\n",
    "                  cos(lat1).sin(lat2) − sin(lat1).cos(lat2).cos(Δlong))\n",
    "    \"\"\"\n",
    "    \n",
    "    lat1, lon1, lat2, lon2 = map(radians, [lat1, lon1, lat2, lon2])\n",
    "\n",
    "    dlon = lon2 - lon1\n",
    "\n",
    "    x = sin(dlon) * cos(lat2)\n",
    "    y1 = cos(lat1) * sin(lat2)\n",
    "    y2 = sin(lat1) * cos(lat2) * cos(dlon)\n",
    "    y = y1 - y2\n",
    "\n",
    "    initial_bearing = arctan2(x, y)\n",
    "\n",
    "    initial_bearing = degrees(initial_bearing)\n",
    "    compass_bearing = (initial_bearing + 360) % 360\n",
    "\n",
    "    return compass_bearing"
   ]
  },
  {
   "cell_type": "code",
   "execution_count": 3,
   "metadata": {},
   "outputs": [],
   "source": [
    "df =  pd.read_csv('/mnt/hgfs/FYP/porto_cleaned_100000.csv', parse_dates = ['time'])"
   ]
  },
  {
   "cell_type": "code",
   "execution_count": 85,
   "metadata": {},
   "outputs": [
    {
     "data": {
      "text/html": [
       "<div>\n",
       "<style scoped>\n",
       "    .dataframe tbody tr th:only-of-type {\n",
       "        vertical-align: middle;\n",
       "    }\n",
       "\n",
       "    .dataframe tbody tr th {\n",
       "        vertical-align: top;\n",
       "    }\n",
       "\n",
       "    .dataframe thead th {\n",
       "        text-align: right;\n",
       "    }\n",
       "</style>\n",
       "<table border=\"1\" class=\"dataframe\">\n",
       "  <thead>\n",
       "    <tr style=\"text-align: right;\">\n",
       "      <th></th>\n",
       "      <th>Unnamed: 0</th>\n",
       "      <th>time</th>\n",
       "      <th>longitude</th>\n",
       "      <th>latitude</th>\n",
       "      <th>ID</th>\n",
       "    </tr>\n",
       "  </thead>\n",
       "  <tbody>\n",
       "    <tr>\n",
       "      <th>0</th>\n",
       "      <td>0</td>\n",
       "      <td>2013-07-01 00:00:58</td>\n",
       "      <td>-8.618643</td>\n",
       "      <td>41.141412</td>\n",
       "      <td>20000589</td>\n",
       "    </tr>\n",
       "    <tr>\n",
       "      <th>1</th>\n",
       "      <td>1</td>\n",
       "      <td>2013-07-01 00:01:28</td>\n",
       "      <td>-8.620326</td>\n",
       "      <td>41.142510</td>\n",
       "      <td>20000589</td>\n",
       "    </tr>\n",
       "    <tr>\n",
       "      <th>2</th>\n",
       "      <td>2</td>\n",
       "      <td>2013-07-01 00:01:43</td>\n",
       "      <td>-8.622153</td>\n",
       "      <td>41.143815</td>\n",
       "      <td>20000589</td>\n",
       "    </tr>\n",
       "    <tr>\n",
       "      <th>3</th>\n",
       "      <td>3</td>\n",
       "      <td>2013-07-01 00:01:58</td>\n",
       "      <td>-8.623953</td>\n",
       "      <td>41.144373</td>\n",
       "      <td>20000589</td>\n",
       "    </tr>\n",
       "    <tr>\n",
       "      <th>4</th>\n",
       "      <td>4</td>\n",
       "      <td>2013-07-01 00:02:13</td>\n",
       "      <td>-8.626680</td>\n",
       "      <td>41.144778</td>\n",
       "      <td>20000589</td>\n",
       "    </tr>\n",
       "    <tr>\n",
       "      <th>...</th>\n",
       "      <td>...</td>\n",
       "      <td>...</td>\n",
       "      <td>...</td>\n",
       "      <td>...</td>\n",
       "      <td>...</td>\n",
       "    </tr>\n",
       "    <tr>\n",
       "      <th>15</th>\n",
       "      <td>15</td>\n",
       "      <td>2013-07-01 00:04:58</td>\n",
       "      <td>-8.630838</td>\n",
       "      <td>41.152680</td>\n",
       "      <td>20000589</td>\n",
       "    </tr>\n",
       "    <tr>\n",
       "      <th>16</th>\n",
       "      <td>16</td>\n",
       "      <td>2013-07-01 00:05:13</td>\n",
       "      <td>-8.632323</td>\n",
       "      <td>41.153022</td>\n",
       "      <td>20000589</td>\n",
       "    </tr>\n",
       "    <tr>\n",
       "      <th>17</th>\n",
       "      <td>17</td>\n",
       "      <td>2013-07-01 00:05:28</td>\n",
       "      <td>-8.631144</td>\n",
       "      <td>41.154489</td>\n",
       "      <td>20000589</td>\n",
       "    </tr>\n",
       "    <tr>\n",
       "      <th>18</th>\n",
       "      <td>18</td>\n",
       "      <td>2013-07-01 00:05:43</td>\n",
       "      <td>-8.630829</td>\n",
       "      <td>41.154507</td>\n",
       "      <td>20000589</td>\n",
       "    </tr>\n",
       "    <tr>\n",
       "      <th>19</th>\n",
       "      <td>19</td>\n",
       "      <td>2013-07-01 00:06:13</td>\n",
       "      <td>-8.630829</td>\n",
       "      <td>41.154498</td>\n",
       "      <td>20000589</td>\n",
       "    </tr>\n",
       "  </tbody>\n",
       "</table>\n",
       "<p>20 rows × 5 columns</p>\n",
       "</div>"
      ],
      "text/plain": [
       "    Unnamed: 0                time  longitude   latitude        ID\n",
       "0            0 2013-07-01 00:00:58  -8.618643  41.141412  20000589\n",
       "1            1 2013-07-01 00:01:28  -8.620326  41.142510  20000589\n",
       "2            2 2013-07-01 00:01:43  -8.622153  41.143815  20000589\n",
       "3            3 2013-07-01 00:01:58  -8.623953  41.144373  20000589\n",
       "4            4 2013-07-01 00:02:13  -8.626680  41.144778  20000589\n",
       "..         ...                 ...        ...        ...       ...\n",
       "15          15 2013-07-01 00:04:58  -8.630838  41.152680  20000589\n",
       "16          16 2013-07-01 00:05:13  -8.632323  41.153022  20000589\n",
       "17          17 2013-07-01 00:05:28  -8.631144  41.154489  20000589\n",
       "18          18 2013-07-01 00:05:43  -8.630829  41.154507  20000589\n",
       "19          19 2013-07-01 00:06:13  -8.630829  41.154498  20000589\n",
       "\n",
       "[20 rows x 5 columns]"
      ]
     },
     "execution_count": 85,
     "metadata": {},
     "output_type": "execute_result"
    }
   ],
   "source": [
    "df.head(20)"
   ]
  },
  {
   "cell_type": "code",
   "execution_count": 5,
   "metadata": {},
   "outputs": [],
   "source": [
    "grouper = df.groupby('ID')"
   ]
  },
  {
   "cell_type": "code",
   "execution_count": null,
   "metadata": {
    "scrolled": true
   },
   "outputs": [],
   "source": [
    "taxi1 = []\n",
    "for name, val in tqdm(grouper):\n",
    "    idx_grper = val.groupby(val['Unnamed: 0'].diff().ne(1).cumsum()) #cause of the repeating indexes\n",
    "    for name2, val in tqdm(idx_grper):\n",
    "        trip = []\n",
    "        trip.append(name)\n",
    "        trip.append(val['time'].iloc[0])\n",
    "        trip.append(val['latitude'].iloc[0])\n",
    "        trip.append(val['longitude'].iloc[0])\n",
    "        trip.append(val['time'].iloc[-1])\n",
    "        trip.append(val['latitude'].iloc[-1])\n",
    "        trip.append(val['longitude'].iloc[-1])\n",
    "        taxi1.append(trip)"
   ]
  },
  {
   "cell_type": "code",
   "execution_count": 11,
   "metadata": {},
   "outputs": [
    {
     "data": {
      "text/plain": [
       "96648"
      ]
     },
     "execution_count": 11,
     "metadata": {},
     "output_type": "execute_result"
    }
   ],
   "source": [
    "len(taxi1)"
   ]
  },
  {
   "cell_type": "code",
   "execution_count": 123,
   "metadata": {},
   "outputs": [
    {
     "data": {
      "text/html": [
       "<div>\n",
       "<style scoped>\n",
       "    .dataframe tbody tr th:only-of-type {\n",
       "        vertical-align: middle;\n",
       "    }\n",
       "\n",
       "    .dataframe tbody tr th {\n",
       "        vertical-align: top;\n",
       "    }\n",
       "\n",
       "    .dataframe thead th {\n",
       "        text-align: right;\n",
       "    }\n",
       "</style>\n",
       "<table border=\"1\" class=\"dataframe\">\n",
       "  <thead>\n",
       "    <tr style=\"text-align: right;\">\n",
       "      <th></th>\n",
       "      <th>trip_id</th>\n",
       "      <th>pickup_time</th>\n",
       "      <th>pickup_latitude</th>\n",
       "      <th>pickup_longitude</th>\n",
       "      <th>dropoff_time</th>\n",
       "      <th>dropoff_latitude</th>\n",
       "      <th>dropoff_longitude</th>\n",
       "    </tr>\n",
       "  </thead>\n",
       "  <tbody>\n",
       "    <tr>\n",
       "      <th>0</th>\n",
       "      <td>20000001</td>\n",
       "      <td>2013-07-01 07:06:43</td>\n",
       "      <td>41.163174</td>\n",
       "      <td>-8.584353</td>\n",
       "      <td>2013-07-01 07:11:13</td>\n",
       "      <td>41.161995</td>\n",
       "      <td>-8.605206</td>\n",
       "    </tr>\n",
       "    <tr>\n",
       "      <th>1</th>\n",
       "      <td>20000001</td>\n",
       "      <td>2013-07-01 08:12:57</td>\n",
       "      <td>41.153436</td>\n",
       "      <td>-8.608824</td>\n",
       "      <td>2013-07-01 08:18:27</td>\n",
       "      <td>41.158314</td>\n",
       "      <td>-8.604540</td>\n",
       "    </tr>\n",
       "    <tr>\n",
       "      <th>2</th>\n",
       "      <td>20000001</td>\n",
       "      <td>2013-07-01 08:59:14</td>\n",
       "      <td>41.160249</td>\n",
       "      <td>-8.609562</td>\n",
       "      <td>2013-07-01 09:07:44</td>\n",
       "      <td>41.149188</td>\n",
       "      <td>-8.593713</td>\n",
       "    </tr>\n",
       "    <tr>\n",
       "      <th>3</th>\n",
       "      <td>20000001</td>\n",
       "      <td>2013-07-01 09:50:48</td>\n",
       "      <td>41.153490</td>\n",
       "      <td>-8.608869</td>\n",
       "      <td>2013-07-01 09:59:48</td>\n",
       "      <td>41.159322</td>\n",
       "      <td>-8.623566</td>\n",
       "    </tr>\n",
       "    <tr>\n",
       "      <th>4</th>\n",
       "      <td>20000001</td>\n",
       "      <td>2013-07-01 10:55:57</td>\n",
       "      <td>41.150331</td>\n",
       "      <td>-8.607096</td>\n",
       "      <td>2013-07-01 11:08:42</td>\n",
       "      <td>41.174712</td>\n",
       "      <td>-8.565732</td>\n",
       "    </tr>\n",
       "    <tr>\n",
       "      <th>...</th>\n",
       "      <td>...</td>\n",
       "      <td>...</td>\n",
       "      <td>...</td>\n",
       "      <td>...</td>\n",
       "      <td>...</td>\n",
       "      <td>...</td>\n",
       "      <td>...</td>\n",
       "    </tr>\n",
       "    <tr>\n",
       "      <th>96643</th>\n",
       "      <td>20000904</td>\n",
       "      <td>2013-07-21 14:03:19</td>\n",
       "      <td>41.145687</td>\n",
       "      <td>-8.610840</td>\n",
       "      <td>2013-07-21 14:08:34</td>\n",
       "      <td>41.157531</td>\n",
       "      <td>-8.627040</td>\n",
       "    </tr>\n",
       "    <tr>\n",
       "      <th>96644</th>\n",
       "      <td>20000904</td>\n",
       "      <td>2013-07-21 15:04:25</td>\n",
       "      <td>41.145633</td>\n",
       "      <td>-8.610750</td>\n",
       "      <td>2013-07-21 15:08:55</td>\n",
       "      <td>41.157189</td>\n",
       "      <td>-8.604513</td>\n",
       "    </tr>\n",
       "    <tr>\n",
       "      <th>96645</th>\n",
       "      <td>20000904</td>\n",
       "      <td>2013-07-21 16:07:38</td>\n",
       "      <td>41.145597</td>\n",
       "      <td>-8.610903</td>\n",
       "      <td>2013-07-21 16:51:38</td>\n",
       "      <td>41.557050</td>\n",
       "      <td>-8.395173</td>\n",
       "    </tr>\n",
       "    <tr>\n",
       "      <th>96646</th>\n",
       "      <td>20000904</td>\n",
       "      <td>2013-07-21 17:37:45</td>\n",
       "      <td>41.145723</td>\n",
       "      <td>-8.610795</td>\n",
       "      <td>2013-07-21 17:46:45</td>\n",
       "      <td>41.165136</td>\n",
       "      <td>-8.630649</td>\n",
       "    </tr>\n",
       "    <tr>\n",
       "      <th>96647</th>\n",
       "      <td>20000904</td>\n",
       "      <td>2013-07-21 17:55:01</td>\n",
       "      <td>41.147010</td>\n",
       "      <td>-8.617788</td>\n",
       "      <td>2013-07-21 18:14:31</td>\n",
       "      <td>41.236857</td>\n",
       "      <td>-8.670114</td>\n",
       "    </tr>\n",
       "  </tbody>\n",
       "</table>\n",
       "<p>96648 rows × 7 columns</p>\n",
       "</div>"
      ],
      "text/plain": [
       "        trip_id         pickup_time  pickup_latitude  pickup_longitude  \\\n",
       "0      20000001 2013-07-01 07:06:43        41.163174         -8.584353   \n",
       "1      20000001 2013-07-01 08:12:57        41.153436         -8.608824   \n",
       "2      20000001 2013-07-01 08:59:14        41.160249         -8.609562   \n",
       "3      20000001 2013-07-01 09:50:48        41.153490         -8.608869   \n",
       "4      20000001 2013-07-01 10:55:57        41.150331         -8.607096   \n",
       "...         ...                 ...              ...               ...   \n",
       "96643  20000904 2013-07-21 14:03:19        41.145687         -8.610840   \n",
       "96644  20000904 2013-07-21 15:04:25        41.145633         -8.610750   \n",
       "96645  20000904 2013-07-21 16:07:38        41.145597         -8.610903   \n",
       "96646  20000904 2013-07-21 17:37:45        41.145723         -8.610795   \n",
       "96647  20000904 2013-07-21 17:55:01        41.147010         -8.617788   \n",
       "\n",
       "             dropoff_time  dropoff_latitude  dropoff_longitude  \n",
       "0     2013-07-01 07:11:13         41.161995          -8.605206  \n",
       "1     2013-07-01 08:18:27         41.158314          -8.604540  \n",
       "2     2013-07-01 09:07:44         41.149188          -8.593713  \n",
       "3     2013-07-01 09:59:48         41.159322          -8.623566  \n",
       "4     2013-07-01 11:08:42         41.174712          -8.565732  \n",
       "...                   ...               ...                ...  \n",
       "96643 2013-07-21 14:08:34         41.157531          -8.627040  \n",
       "96644 2013-07-21 15:08:55         41.157189          -8.604513  \n",
       "96645 2013-07-21 16:51:38         41.557050          -8.395173  \n",
       "96646 2013-07-21 17:46:45         41.165136          -8.630649  \n",
       "96647 2013-07-21 18:14:31         41.236857          -8.670114  \n",
       "\n",
       "[96648 rows x 7 columns]"
      ]
     },
     "execution_count": 123,
     "metadata": {},
     "output_type": "execute_result"
    }
   ],
   "source": [
    "pd.DataFrame(taxi1, columns = col_names)"
   ]
  },
  {
   "cell_type": "code",
   "execution_count": 23,
   "metadata": {},
   "outputs": [],
   "source": [
    "col_names = ['trip_id', 'pickup_time','pickup_latitude', 'pickup_longitude'\n",
    "             ,'dropoff_time','dropoff_latitude', 'dropoff_longitude']\n",
    "taxi = pd.DataFrame(taxi1, columns = col_names)"
   ]
  },
  {
   "cell_type": "code",
   "execution_count": 86,
   "metadata": {},
   "outputs": [
    {
     "data": {
      "text/html": [
       "<div>\n",
       "<style scoped>\n",
       "    .dataframe tbody tr th:only-of-type {\n",
       "        vertical-align: middle;\n",
       "    }\n",
       "\n",
       "    .dataframe tbody tr th {\n",
       "        vertical-align: top;\n",
       "    }\n",
       "\n",
       "    .dataframe thead th {\n",
       "        text-align: right;\n",
       "    }\n",
       "</style>\n",
       "<table border=\"1\" class=\"dataframe\">\n",
       "  <thead>\n",
       "    <tr style=\"text-align: right;\">\n",
       "      <th></th>\n",
       "      <th>trip_id</th>\n",
       "      <th>pickup_time</th>\n",
       "      <th>pickup_latitude</th>\n",
       "      <th>pickup_longitude</th>\n",
       "      <th>dropoff_time</th>\n",
       "      <th>dropoff_latitude</th>\n",
       "      <th>dropoff_longitude</th>\n",
       "      <th>abs_diff_longitude</th>\n",
       "      <th>abs_diff_latitude</th>\n",
       "      <th>hav_dist_lat</th>\n",
       "      <th>...</th>\n",
       "      <th>pickup_minute</th>\n",
       "      <th>pickup_dt</th>\n",
       "      <th>pickup_week_hour</th>\n",
       "      <th>pickup_pca0</th>\n",
       "      <th>pickup_pca1</th>\n",
       "      <th>dropoff_pca0</th>\n",
       "      <th>dropoff_pca1</th>\n",
       "      <th>pickup_cluster</th>\n",
       "      <th>dropoff_cluster</th>\n",
       "      <th>duration</th>\n",
       "    </tr>\n",
       "  </thead>\n",
       "  <tbody>\n",
       "    <tr>\n",
       "      <th>0</th>\n",
       "      <td>20000001</td>\n",
       "      <td>2013-07-01 07:06:43</td>\n",
       "      <td>41.163174</td>\n",
       "      <td>-8.584353</td>\n",
       "      <td>2013-07-01 07:11:13</td>\n",
       "      <td>41.161995</td>\n",
       "      <td>-8.605206</td>\n",
       "      <td>1.676581</td>\n",
       "      <td>0.130869</td>\n",
       "      <td>0.131246</td>\n",
       "      <td>...</td>\n",
       "      <td>6</td>\n",
       "      <td>25550.0</td>\n",
       "      <td>7</td>\n",
       "      <td>0.031958</td>\n",
       "      <td>-0.014030</td>\n",
       "      <td>0.012389</td>\n",
       "      <td>-0.006730</td>\n",
       "      <td>44</td>\n",
       "      <td>4</td>\n",
       "      <td>270</td>\n",
       "    </tr>\n",
       "    <tr>\n",
       "      <th>1</th>\n",
       "      <td>20000001</td>\n",
       "      <td>2013-07-01 08:12:57</td>\n",
       "      <td>41.153436</td>\n",
       "      <td>-8.608824</td>\n",
       "      <td>2013-07-01 08:18:27</td>\n",
       "      <td>41.158314</td>\n",
       "      <td>-8.604540</td>\n",
       "      <td>0.344434</td>\n",
       "      <td>0.541458</td>\n",
       "      <td>0.543016</td>\n",
       "      <td>...</td>\n",
       "      <td>12</td>\n",
       "      <td>29524.0</td>\n",
       "      <td>8</td>\n",
       "      <td>0.011467</td>\n",
       "      <td>0.002516</td>\n",
       "      <td>0.014115</td>\n",
       "      <td>-0.003411</td>\n",
       "      <td>9</td>\n",
       "      <td>4</td>\n",
       "      <td>330</td>\n",
       "    </tr>\n",
       "    <tr>\n",
       "      <th>2</th>\n",
       "      <td>20000001</td>\n",
       "      <td>2013-07-01 08:59:14</td>\n",
       "      <td>41.160249</td>\n",
       "      <td>-8.609562</td>\n",
       "      <td>2013-07-01 09:07:44</td>\n",
       "      <td>41.149188</td>\n",
       "      <td>-8.593713</td>\n",
       "      <td>1.274260</td>\n",
       "      <td>1.227771</td>\n",
       "      <td>1.231305</td>\n",
       "      <td>...</td>\n",
       "      <td>59</td>\n",
       "      <td>32301.0</td>\n",
       "      <td>8</td>\n",
       "      <td>0.008745</td>\n",
       "      <td>-0.003773</td>\n",
       "      <td>0.027158</td>\n",
       "      <td>0.002100</td>\n",
       "      <td>1</td>\n",
       "      <td>22</td>\n",
       "      <td>510</td>\n",
       "    </tr>\n",
       "    <tr>\n",
       "      <th>3</th>\n",
       "      <td>20000001</td>\n",
       "      <td>2013-07-01 09:50:48</td>\n",
       "      <td>41.153490</td>\n",
       "      <td>-8.608869</td>\n",
       "      <td>2013-07-01 09:59:48</td>\n",
       "      <td>41.159322</td>\n",
       "      <td>-8.623566</td>\n",
       "      <td>1.181639</td>\n",
       "      <td>0.647352</td>\n",
       "      <td>0.649215</td>\n",
       "      <td>...</td>\n",
       "      <td>50</td>\n",
       "      <td>35395.0</td>\n",
       "      <td>9</td>\n",
       "      <td>0.011408</td>\n",
       "      <td>0.002478</td>\n",
       "      <td>-0.004357</td>\n",
       "      <td>0.001259</td>\n",
       "      <td>9</td>\n",
       "      <td>12</td>\n",
       "      <td>540</td>\n",
       "    </tr>\n",
       "    <tr>\n",
       "      <th>4</th>\n",
       "      <td>20000001</td>\n",
       "      <td>2013-07-01 10:55:57</td>\n",
       "      <td>41.150331</td>\n",
       "      <td>-8.607096</td>\n",
       "      <td>2013-07-01 11:08:42</td>\n",
       "      <td>41.174712</td>\n",
       "      <td>-8.565732</td>\n",
       "      <td>3.325666</td>\n",
       "      <td>2.706291</td>\n",
       "      <td>2.714081</td>\n",
       "      <td>...</td>\n",
       "      <td>55</td>\n",
       "      <td>39304.0</td>\n",
       "      <td>10</td>\n",
       "      <td>0.014037</td>\n",
       "      <td>0.004971</td>\n",
       "      <td>0.046329</td>\n",
       "      <td>-0.030563</td>\n",
       "      <td>9</td>\n",
       "      <td>43</td>\n",
       "      <td>765</td>\n",
       "    </tr>\n",
       "    <tr>\n",
       "      <th>...</th>\n",
       "      <td>...</td>\n",
       "      <td>...</td>\n",
       "      <td>...</td>\n",
       "      <td>...</td>\n",
       "      <td>...</td>\n",
       "      <td>...</td>\n",
       "      <td>...</td>\n",
       "      <td>...</td>\n",
       "      <td>...</td>\n",
       "      <td>...</td>\n",
       "      <td>...</td>\n",
       "      <td>...</td>\n",
       "      <td>...</td>\n",
       "      <td>...</td>\n",
       "      <td>...</td>\n",
       "      <td>...</td>\n",
       "      <td>...</td>\n",
       "      <td>...</td>\n",
       "      <td>...</td>\n",
       "      <td>...</td>\n",
       "      <td>...</td>\n",
       "    </tr>\n",
       "    <tr>\n",
       "      <th>96642</th>\n",
       "      <td>20000904</td>\n",
       "      <td>2013-07-21 13:48:50</td>\n",
       "      <td>41.145813</td>\n",
       "      <td>-8.610993</td>\n",
       "      <td>2013-07-21 13:51:05</td>\n",
       "      <td>41.147028</td>\n",
       "      <td>-8.617851</td>\n",
       "      <td>0.551383</td>\n",
       "      <td>0.134865</td>\n",
       "      <td>0.135253</td>\n",
       "      <td>...</td>\n",
       "      <td>48</td>\n",
       "      <td>1777677.0</td>\n",
       "      <td>157</td>\n",
       "      <td>0.011652</td>\n",
       "      <td>0.010440</td>\n",
       "      <td>0.004742</td>\n",
       "      <td>0.011310</td>\n",
       "      <td>2</td>\n",
       "      <td>23</td>\n",
       "      <td>135</td>\n",
       "    </tr>\n",
       "    <tr>\n",
       "      <th>96643</th>\n",
       "      <td>20000904</td>\n",
       "      <td>2013-07-21 14:03:19</td>\n",
       "      <td>41.145687</td>\n",
       "      <td>-8.610840</td>\n",
       "      <td>2013-07-21 14:08:34</td>\n",
       "      <td>41.157531</td>\n",
       "      <td>-8.627040</td>\n",
       "      <td>1.302480</td>\n",
       "      <td>1.314684</td>\n",
       "      <td>1.318468</td>\n",
       "      <td>...</td>\n",
       "      <td>3</td>\n",
       "      <td>1778546.0</td>\n",
       "      <td>158</td>\n",
       "      <td>0.011835</td>\n",
       "      <td>0.010515</td>\n",
       "      <td>-0.007145</td>\n",
       "      <td>0.003998</td>\n",
       "      <td>2</td>\n",
       "      <td>37</td>\n",
       "      <td>315</td>\n",
       "    </tr>\n",
       "    <tr>\n",
       "      <th>96644</th>\n",
       "      <td>20000904</td>\n",
       "      <td>2013-07-21 15:04:25</td>\n",
       "      <td>41.145633</td>\n",
       "      <td>-8.610750</td>\n",
       "      <td>2013-07-21 15:08:55</td>\n",
       "      <td>41.157189</td>\n",
       "      <td>-8.604513</td>\n",
       "      <td>0.501455</td>\n",
       "      <td>1.282716</td>\n",
       "      <td>1.286408</td>\n",
       "      <td>...</td>\n",
       "      <td>4</td>\n",
       "      <td>1782212.0</td>\n",
       "      <td>159</td>\n",
       "      <td>0.011937</td>\n",
       "      <td>0.010540</td>\n",
       "      <td>0.014474</td>\n",
       "      <td>-0.002345</td>\n",
       "      <td>2</td>\n",
       "      <td>4</td>\n",
       "      <td>270</td>\n",
       "    </tr>\n",
       "    <tr>\n",
       "      <th>96646</th>\n",
       "      <td>20000904</td>\n",
       "      <td>2013-07-21 17:37:45</td>\n",
       "      <td>41.145723</td>\n",
       "      <td>-8.610795</td>\n",
       "      <td>2013-07-21 17:46:45</td>\n",
       "      <td>41.165136</td>\n",
       "      <td>-8.630649</td>\n",
       "      <td>1.596262</td>\n",
       "      <td>2.154843</td>\n",
       "      <td>2.161045</td>\n",
       "      <td>...</td>\n",
       "      <td>37</td>\n",
       "      <td>1791412.0</td>\n",
       "      <td>161</td>\n",
       "      <td>0.011868</td>\n",
       "      <td>0.010467</td>\n",
       "      <td>-0.012843</td>\n",
       "      <td>-0.002198</td>\n",
       "      <td>2</td>\n",
       "      <td>13</td>\n",
       "      <td>540</td>\n",
       "    </tr>\n",
       "    <tr>\n",
       "      <th>96647</th>\n",
       "      <td>20000904</td>\n",
       "      <td>2013-07-21 17:55:01</td>\n",
       "      <td>41.147010</td>\n",
       "      <td>-8.617788</td>\n",
       "      <td>2013-07-21 18:14:31</td>\n",
       "      <td>41.236857</td>\n",
       "      <td>-8.670114</td>\n",
       "      <td>4.207010</td>\n",
       "      <td>9.973017</td>\n",
       "      <td>10.001722</td>\n",
       "      <td>...</td>\n",
       "      <td>55</td>\n",
       "      <td>1792448.0</td>\n",
       "      <td>161</td>\n",
       "      <td>0.004807</td>\n",
       "      <td>0.011308</td>\n",
       "      <td>-0.071772</td>\n",
       "      <td>-0.059020</td>\n",
       "      <td>23</td>\n",
       "      <td>31</td>\n",
       "      <td>1170</td>\n",
       "    </tr>\n",
       "  </tbody>\n",
       "</table>\n",
       "<p>95482 rows × 33 columns</p>\n",
       "</div>"
      ],
      "text/plain": [
       "        trip_id         pickup_time  pickup_latitude  pickup_longitude  \\\n",
       "0      20000001 2013-07-01 07:06:43        41.163174         -8.584353   \n",
       "1      20000001 2013-07-01 08:12:57        41.153436         -8.608824   \n",
       "2      20000001 2013-07-01 08:59:14        41.160249         -8.609562   \n",
       "3      20000001 2013-07-01 09:50:48        41.153490         -8.608869   \n",
       "4      20000001 2013-07-01 10:55:57        41.150331         -8.607096   \n",
       "...         ...                 ...              ...               ...   \n",
       "96642  20000904 2013-07-21 13:48:50        41.145813         -8.610993   \n",
       "96643  20000904 2013-07-21 14:03:19        41.145687         -8.610840   \n",
       "96644  20000904 2013-07-21 15:04:25        41.145633         -8.610750   \n",
       "96646  20000904 2013-07-21 17:37:45        41.145723         -8.610795   \n",
       "96647  20000904 2013-07-21 17:55:01        41.147010         -8.617788   \n",
       "\n",
       "             dropoff_time  dropoff_latitude  dropoff_longitude  \\\n",
       "0     2013-07-01 07:11:13         41.161995          -8.605206   \n",
       "1     2013-07-01 08:18:27         41.158314          -8.604540   \n",
       "2     2013-07-01 09:07:44         41.149188          -8.593713   \n",
       "3     2013-07-01 09:59:48         41.159322          -8.623566   \n",
       "4     2013-07-01 11:08:42         41.174712          -8.565732   \n",
       "...                   ...               ...                ...   \n",
       "96642 2013-07-21 13:51:05         41.147028          -8.617851   \n",
       "96643 2013-07-21 14:08:34         41.157531          -8.627040   \n",
       "96644 2013-07-21 15:08:55         41.157189          -8.604513   \n",
       "96646 2013-07-21 17:46:45         41.165136          -8.630649   \n",
       "96647 2013-07-21 18:14:31         41.236857          -8.670114   \n",
       "\n",
       "       abs_diff_longitude  abs_diff_latitude  hav_dist_lat  ...  \\\n",
       "0                1.676581           0.130869      0.131246  ...   \n",
       "1                0.344434           0.541458      0.543016  ...   \n",
       "2                1.274260           1.227771      1.231305  ...   \n",
       "3                1.181639           0.647352      0.649215  ...   \n",
       "4                3.325666           2.706291      2.714081  ...   \n",
       "...                   ...                ...           ...  ...   \n",
       "96642            0.551383           0.134865      0.135253  ...   \n",
       "96643            1.302480           1.314684      1.318468  ...   \n",
       "96644            0.501455           1.282716      1.286408  ...   \n",
       "96646            1.596262           2.154843      2.161045  ...   \n",
       "96647            4.207010           9.973017     10.001722  ...   \n",
       "\n",
       "       pickup_minute  pickup_dt  pickup_week_hour  pickup_pca0  pickup_pca1  \\\n",
       "0                  6    25550.0                 7     0.031958    -0.014030   \n",
       "1                 12    29524.0                 8     0.011467     0.002516   \n",
       "2                 59    32301.0                 8     0.008745    -0.003773   \n",
       "3                 50    35395.0                 9     0.011408     0.002478   \n",
       "4                 55    39304.0                10     0.014037     0.004971   \n",
       "...              ...        ...               ...          ...          ...   \n",
       "96642             48  1777677.0               157     0.011652     0.010440   \n",
       "96643              3  1778546.0               158     0.011835     0.010515   \n",
       "96644              4  1782212.0               159     0.011937     0.010540   \n",
       "96646             37  1791412.0               161     0.011868     0.010467   \n",
       "96647             55  1792448.0               161     0.004807     0.011308   \n",
       "\n",
       "       dropoff_pca0  dropoff_pca1  pickup_cluster  dropoff_cluster  duration  \n",
       "0          0.012389     -0.006730              44                4       270  \n",
       "1          0.014115     -0.003411               9                4       330  \n",
       "2          0.027158      0.002100               1               22       510  \n",
       "3         -0.004357      0.001259               9               12       540  \n",
       "4          0.046329     -0.030563               9               43       765  \n",
       "...             ...           ...             ...              ...       ...  \n",
       "96642      0.004742      0.011310               2               23       135  \n",
       "96643     -0.007145      0.003998               2               37       315  \n",
       "96644      0.014474     -0.002345               2                4       270  \n",
       "96646     -0.012843     -0.002198               2               13       540  \n",
       "96647     -0.071772     -0.059020              23               31      1170  \n",
       "\n",
       "[95482 rows x 33 columns]"
      ]
     },
     "execution_count": 86,
     "metadata": {},
     "output_type": "execute_result"
    }
   ],
   "source": [
    "taxi"
   ]
  },
  {
   "cell_type": "code",
   "execution_count": null,
   "metadata": {},
   "outputs": [],
   "source": [
    "taxi.sample(10000).plot(kind = 'scatter', x = 'pickup_longitude', y = 'pickup_latitude', figsize = (10,12))"
   ]
  },
  {
   "cell_type": "code",
   "execution_count": 19,
   "metadata": {},
   "outputs": [],
   "source": [
    "def haversine(lat1, lon1, lat2, lon2):\n",
    "    #ensure using numpy and not math, or pandas series cannot be passed\n",
    "    lat1, lon1, lat2, lon2 = map(radians, [lat1, lon1, lat2, lon2])\n",
    "    dlon = lon2 - lon1\n",
    "    dlat = lat2 - lat1\n",
    "    a = sin(dlat/2)**2 + cos(lat1) * cos(lat2) * sin(dlon/2)**2\n",
    "    c = 2 * arcsin(sqrt(a))\n",
    "    r = 6378.137 ##radius of earth km\n",
    "    return c * r\n",
    "\n",
    "def compute_dist(df):\n",
    "    next_df = df.shift(1)\n",
    "    dist = haversine(df.iloc[:,0], df.iloc[:,1],\n",
    "                    next_df.iloc[:,0], next_df.iloc[:,1])\n",
    "    return dist\n",
    "\n",
    "def add_travel_vector_features(df):\n",
    "    df['abs_diff_longitude'] = (df.dropoff_longitude - df.pickup_longitude).abs()\n",
    "    df['abs_diff_latitude'] = (df.dropoff_latitude - df.pickup_latitude).abs()\n",
    "    \n",
    "    #the Haversine version\n",
    "    foob = df[[\"pickup_latitude\", \"pickup_longitude\",\"dropoff_latitude\", \"dropoff_longitude\"]].astype(float)\n",
    "    df['hav_dist_lat'] = haversine(foob.iloc[:,0], foob.iloc[:,1],foob.iloc[:,2],foob.iloc[:,1])\n",
    "    df['hav_dist_lon'] = haversine(foob.iloc[:,2], foob.iloc[:,1],foob.iloc[:,2],foob.iloc[:,3])\n",
    "    \n",
    "    \n",
    "def convert_km(df):\n",
    "    df['abs_diff_longitude'] = df.abs_diff_longitude*80.4\n",
    "    df['abs_diff_latitude'] = df.abs_diff_latitude*111"
   ]
  },
  {
   "cell_type": "code",
   "execution_count": 24,
   "metadata": {
    "jupyter": {
     "source_hidden": true
    }
   },
   "outputs": [],
   "source": [
    "add_travel_vector_features(taxi)\n",
    "convert_km(taxi)\n",
    "\n",
    "taxi['Euclidean'] = (taxi.abs_diff_latitude**2 + taxi.abs_diff_longitude**2)**0.5 \n",
    "    \n",
    "taxi['manh_length_hav'] = taxi.hav_dist_lat + taxi.hav_dist_lon\n",
    "taxi['manh_length_euc'] = taxi.abs_diff_latitude + taxi.abs_diff_longitude\n",
    "\n",
    "taxi['minkowski_0.9'] = (taxi.hav_dist_lat**0.92 + taxi.hav_dist_lon**0.92)**(1/0.92)\n",
    "taxi['dist_to_dest'] = haversine(taxi['pickup_latitude'].values, taxi['pickup_longitude'].values, taxi['dropoff_latitude'].values, taxi['dropoff_longitude'].values)\n"
   ]
  },
  {
   "cell_type": "code",
   "execution_count": 25,
   "metadata": {},
   "outputs": [],
   "source": [
    "taxi['pickup_lat_cut'] = taxi.pickup_latitude.apply(coord_prec)\n",
    "taxi['pickup_lon_cut'] = taxi.pickup_longitude.apply(coord_prec)\n",
    "taxi['dropoff_lat_cut'] = taxi.dropoff_latitude.apply(coord_prec)\n",
    "taxi['dropoff_lon_cut'] = taxi.dropoff_longitude.apply(coord_prec)\n",
    "# taxi['bearing_to_dest'] = cal_bearing(taxi.iloc[:,1], taxi.iloc[:,2],taxi.iloc[:,8],taxi.iloc[:,9])"
   ]
  },
  {
   "cell_type": "code",
   "execution_count": 26,
   "metadata": {},
   "outputs": [],
   "source": [
    "taxi['pickup_weekday'] = taxi['pickup_time'].dt.weekday\n",
    "taxi['pickup_hour_weekofyear'] = taxi['pickup_time'].dt.weekofyear\n",
    "taxi['pickup_hour'] = taxi['pickup_time'].dt.hour\n",
    "taxi['pickup_minute'] = taxi['pickup_time'].dt.minute\n",
    "taxi['pickup_dt'] = (taxi['pickup_time'] - taxi['pickup_time'].min()).dt.total_seconds()\n",
    "taxi['pickup_week_hour'] = taxi['pickup_weekday'] * 24 + taxi['pickup_hour']"
   ]
  },
  {
   "cell_type": "code",
   "execution_count": 27,
   "metadata": {},
   "outputs": [],
   "source": [
    "coords = np.vstack((taxi[['pickup_latitude', 'pickup_longitude']].values,\n",
    "                    taxi[['dropoff_latitude', 'dropoff_longitude']].values))\n",
    "pca = PCA()\n",
    "pca = pca.fit(coords)\n",
    "taxi['pickup_pca0'] = pca.transform(taxi[['pickup_latitude', 'pickup_longitude']])[:, 0]\n",
    "taxi['pickup_pca1'] = pca.transform(taxi[['pickup_latitude', 'pickup_longitude']])[:, 1]\n",
    "taxi['dropoff_pca0'] = pca.transform(taxi[['dropoff_latitude', 'dropoff_longitude']])[:, 0]\n",
    "taxi['dropoff_pca1'] = pca.transform(taxi[['dropoff_latitude', 'dropoff_longitude']])[:, 1]\n"
   ]
  },
  {
   "cell_type": "code",
   "execution_count": 28,
   "metadata": {},
   "outputs": [],
   "source": [
    "km = KMeans(\n",
    "    n_clusters=50, init='random',\n",
    "    n_init=10, max_iter=300, \n",
    "    tol=1e-04, random_state=0\n",
    ")\n",
    "\n",
    "# km = load('kmeans_0310.joblib')\n",
    "coordinates = taxi[[\"pickup_longitude\", \"pickup_latitude\"]].head(100000).values\n",
    "km.fit_predict(coordinates)\n",
    "\n",
    "coordinates = taxi[[\"pickup_longitude\", \"pickup_latitude\"]].values\n",
    "pickup_km = km.predict(coordinates)\n",
    "\n",
    "coordinates = taxi[[\"dropoff_longitude\", \"dropoff_latitude\"]].values\n",
    "dropoff_km = km.predict(coordinates)\n",
    "\n",
    "\n",
    "taxi[\"pickup_cluster\"] = pickup_km\n",
    "taxi[\"dropoff_cluster\"] = dropoff_km"
   ]
  },
  {
   "cell_type": "code",
   "execution_count": 29,
   "metadata": {},
   "outputs": [],
   "source": [
    "taxi['duration'] = taxi['dropoff_time'] - taxi['pickup_time']\n",
    "taxi['duration'] = taxi['duration'].dt.total_seconds().astype(int)"
   ]
  },
  {
   "cell_type": "code",
   "execution_count": 107,
   "metadata": {},
   "outputs": [],
   "source": [
    "taxi = taxi[taxi['duration'] > 60]\n",
    "taxi = taxi[taxi['duration'] < 1500]"
   ]
  },
  {
   "cell_type": "code",
   "execution_count": 108,
   "metadata": {},
   "outputs": [
    {
     "data": {
      "text/plain": [
       "<matplotlib.axes._subplots.AxesSubplot at 0x7f4d44a23198>"
      ]
     },
     "execution_count": 108,
     "metadata": {},
     "output_type": "execute_result"
    },
    {
     "data": {
      "image/png": "[encoded data removed]",
      "text/plain": [
       "<Figure size 432x288 with 1 Axes>"
      ]
     },
     "metadata": {
      "needs_background": "light"
     },
     "output_type": "display_data"
    }
   ],
   "source": [
    "taxi['duration'].hist(bins = 100)"
   ]
  },
  {
   "cell_type": "code",
   "execution_count": 109,
   "metadata": {},
   "outputs": [
    {
     "data": {
      "text/plain": [
       "Index(['trip_id', 'pickup_time', 'pickup_latitude', 'pickup_longitude',\n",
       "       'dropoff_time', 'dropoff_latitude', 'dropoff_longitude',\n",
       "       'abs_diff_longitude', 'abs_diff_latitude', 'hav_dist_lat',\n",
       "       'hav_dist_lon', 'Euclidean', 'manh_length_hav', 'manh_length_euc',\n",
       "       'minkowski_0.9', 'dist_to_dest', 'pickup_lat_cut', 'pickup_lon_cut',\n",
       "       'dropoff_lat_cut', 'dropoff_lon_cut', 'pickup_weekday',\n",
       "       'pickup_hour_weekofyear', 'pickup_hour', 'pickup_minute', 'pickup_dt',\n",
       "       'pickup_week_hour', 'pickup_pca0', 'pickup_pca1', 'dropoff_pca0',\n",
       "       'dropoff_pca1', 'pickup_cluster', 'dropoff_cluster', 'duration'],\n",
       "      dtype='object')"
      ]
     },
     "execution_count": 109,
     "metadata": {},
     "output_type": "execute_result"
    }
   ],
   "source": [
    "taxi.columns"
   ]
  },
  {
   "cell_type": "code",
   "execution_count": 110,
   "metadata": {},
   "outputs": [
    {
     "data": {
      "text/html": [
       "<div>\n",
       "<style scoped>\n",
       "    .dataframe tbody tr th:only-of-type {\n",
       "        vertical-align: middle;\n",
       "    }\n",
       "\n",
       "    .dataframe tbody tr th {\n",
       "        vertical-align: top;\n",
       "    }\n",
       "\n",
       "    .dataframe thead th {\n",
       "        text-align: right;\n",
       "    }\n",
       "</style>\n",
       "<table border=\"1\" class=\"dataframe\">\n",
       "  <thead>\n",
       "    <tr style=\"text-align: right;\">\n",
       "      <th></th>\n",
       "      <th>trip_id</th>\n",
       "      <th>pickup_time</th>\n",
       "      <th>pickup_latitude</th>\n",
       "      <th>pickup_longitude</th>\n",
       "      <th>dropoff_time</th>\n",
       "      <th>dropoff_latitude</th>\n",
       "      <th>dropoff_longitude</th>\n",
       "      <th>abs_diff_longitude</th>\n",
       "      <th>abs_diff_latitude</th>\n",
       "      <th>hav_dist_lat</th>\n",
       "      <th>...</th>\n",
       "      <th>pickup_minute</th>\n",
       "      <th>pickup_dt</th>\n",
       "      <th>pickup_week_hour</th>\n",
       "      <th>pickup_pca0</th>\n",
       "      <th>pickup_pca1</th>\n",
       "      <th>dropoff_pca0</th>\n",
       "      <th>dropoff_pca1</th>\n",
       "      <th>pickup_cluster</th>\n",
       "      <th>dropoff_cluster</th>\n",
       "      <th>duration</th>\n",
       "    </tr>\n",
       "  </thead>\n",
       "  <tbody>\n",
       "    <tr>\n",
       "      <th>0</th>\n",
       "      <td>20000001</td>\n",
       "      <td>2013-07-01 07:06:43</td>\n",
       "      <td>41.163174</td>\n",
       "      <td>-8.584353</td>\n",
       "      <td>2013-07-01 07:11:13</td>\n",
       "      <td>41.161995</td>\n",
       "      <td>-8.605206</td>\n",
       "      <td>1.676581</td>\n",
       "      <td>0.130869</td>\n",
       "      <td>0.131246</td>\n",
       "      <td>...</td>\n",
       "      <td>6</td>\n",
       "      <td>25550.0</td>\n",
       "      <td>7</td>\n",
       "      <td>0.031958</td>\n",
       "      <td>-0.014030</td>\n",
       "      <td>0.012389</td>\n",
       "      <td>-0.006730</td>\n",
       "      <td>44</td>\n",
       "      <td>4</td>\n",
       "      <td>270</td>\n",
       "    </tr>\n",
       "    <tr>\n",
       "      <th>1</th>\n",
       "      <td>20000001</td>\n",
       "      <td>2013-07-01 08:12:57</td>\n",
       "      <td>41.153436</td>\n",
       "      <td>-8.608824</td>\n",
       "      <td>2013-07-01 08:18:27</td>\n",
       "      <td>41.158314</td>\n",
       "      <td>-8.604540</td>\n",
       "      <td>0.344434</td>\n",
       "      <td>0.541458</td>\n",
       "      <td>0.543016</td>\n",
       "      <td>...</td>\n",
       "      <td>12</td>\n",
       "      <td>29524.0</td>\n",
       "      <td>8</td>\n",
       "      <td>0.011467</td>\n",
       "      <td>0.002516</td>\n",
       "      <td>0.014115</td>\n",
       "      <td>-0.003411</td>\n",
       "      <td>9</td>\n",
       "      <td>4</td>\n",
       "      <td>330</td>\n",
       "    </tr>\n",
       "    <tr>\n",
       "      <th>2</th>\n",
       "      <td>20000001</td>\n",
       "      <td>2013-07-01 08:59:14</td>\n",
       "      <td>41.160249</td>\n",
       "      <td>-8.609562</td>\n",
       "      <td>2013-07-01 09:07:44</td>\n",
       "      <td>41.149188</td>\n",
       "      <td>-8.593713</td>\n",
       "      <td>1.274260</td>\n",
       "      <td>1.227771</td>\n",
       "      <td>1.231305</td>\n",
       "      <td>...</td>\n",
       "      <td>59</td>\n",
       "      <td>32301.0</td>\n",
       "      <td>8</td>\n",
       "      <td>0.008745</td>\n",
       "      <td>-0.003773</td>\n",
       "      <td>0.027158</td>\n",
       "      <td>0.002100</td>\n",
       "      <td>1</td>\n",
       "      <td>22</td>\n",
       "      <td>510</td>\n",
       "    </tr>\n",
       "    <tr>\n",
       "      <th>3</th>\n",
       "      <td>20000001</td>\n",
       "      <td>2013-07-01 09:50:48</td>\n",
       "      <td>41.153490</td>\n",
       "      <td>-8.608869</td>\n",
       "      <td>2013-07-01 09:59:48</td>\n",
       "      <td>41.159322</td>\n",
       "      <td>-8.623566</td>\n",
       "      <td>1.181639</td>\n",
       "      <td>0.647352</td>\n",
       "      <td>0.649215</td>\n",
       "      <td>...</td>\n",
       "      <td>50</td>\n",
       "      <td>35395.0</td>\n",
       "      <td>9</td>\n",
       "      <td>0.011408</td>\n",
       "      <td>0.002478</td>\n",
       "      <td>-0.004357</td>\n",
       "      <td>0.001259</td>\n",
       "      <td>9</td>\n",
       "      <td>12</td>\n",
       "      <td>540</td>\n",
       "    </tr>\n",
       "    <tr>\n",
       "      <th>4</th>\n",
       "      <td>20000001</td>\n",
       "      <td>2013-07-01 10:55:57</td>\n",
       "      <td>41.150331</td>\n",
       "      <td>-8.607096</td>\n",
       "      <td>2013-07-01 11:08:42</td>\n",
       "      <td>41.174712</td>\n",
       "      <td>-8.565732</td>\n",
       "      <td>3.325666</td>\n",
       "      <td>2.706291</td>\n",
       "      <td>2.714081</td>\n",
       "      <td>...</td>\n",
       "      <td>55</td>\n",
       "      <td>39304.0</td>\n",
       "      <td>10</td>\n",
       "      <td>0.014037</td>\n",
       "      <td>0.004971</td>\n",
       "      <td>0.046329</td>\n",
       "      <td>-0.030563</td>\n",
       "      <td>9</td>\n",
       "      <td>43</td>\n",
       "      <td>765</td>\n",
       "    </tr>\n",
       "    <tr>\n",
       "      <th>...</th>\n",
       "      <td>...</td>\n",
       "      <td>...</td>\n",
       "      <td>...</td>\n",
       "      <td>...</td>\n",
       "      <td>...</td>\n",
       "      <td>...</td>\n",
       "      <td>...</td>\n",
       "      <td>...</td>\n",
       "      <td>...</td>\n",
       "      <td>...</td>\n",
       "      <td>...</td>\n",
       "      <td>...</td>\n",
       "      <td>...</td>\n",
       "      <td>...</td>\n",
       "      <td>...</td>\n",
       "      <td>...</td>\n",
       "      <td>...</td>\n",
       "      <td>...</td>\n",
       "      <td>...</td>\n",
       "      <td>...</td>\n",
       "      <td>...</td>\n",
       "    </tr>\n",
       "    <tr>\n",
       "      <th>96642</th>\n",
       "      <td>20000904</td>\n",
       "      <td>2013-07-21 13:48:50</td>\n",
       "      <td>41.145813</td>\n",
       "      <td>-8.610993</td>\n",
       "      <td>2013-07-21 13:51:05</td>\n",
       "      <td>41.147028</td>\n",
       "      <td>-8.617851</td>\n",
       "      <td>0.551383</td>\n",
       "      <td>0.134865</td>\n",
       "      <td>0.135253</td>\n",
       "      <td>...</td>\n",
       "      <td>48</td>\n",
       "      <td>1777677.0</td>\n",
       "      <td>157</td>\n",
       "      <td>0.011652</td>\n",
       "      <td>0.010440</td>\n",
       "      <td>0.004742</td>\n",
       "      <td>0.011310</td>\n",
       "      <td>2</td>\n",
       "      <td>23</td>\n",
       "      <td>135</td>\n",
       "    </tr>\n",
       "    <tr>\n",
       "      <th>96643</th>\n",
       "      <td>20000904</td>\n",
       "      <td>2013-07-21 14:03:19</td>\n",
       "      <td>41.145687</td>\n",
       "      <td>-8.610840</td>\n",
       "      <td>2013-07-21 14:08:34</td>\n",
       "      <td>41.157531</td>\n",
       "      <td>-8.627040</td>\n",
       "      <td>1.302480</td>\n",
       "      <td>1.314684</td>\n",
       "      <td>1.318468</td>\n",
       "      <td>...</td>\n",
       "      <td>3</td>\n",
       "      <td>1778546.0</td>\n",
       "      <td>158</td>\n",
       "      <td>0.011835</td>\n",
       "      <td>0.010515</td>\n",
       "      <td>-0.007145</td>\n",
       "      <td>0.003998</td>\n",
       "      <td>2</td>\n",
       "      <td>37</td>\n",
       "      <td>315</td>\n",
       "    </tr>\n",
       "    <tr>\n",
       "      <th>96644</th>\n",
       "      <td>20000904</td>\n",
       "      <td>2013-07-21 15:04:25</td>\n",
       "      <td>41.145633</td>\n",
       "      <td>-8.610750</td>\n",
       "      <td>2013-07-21 15:08:55</td>\n",
       "      <td>41.157189</td>\n",
       "      <td>-8.604513</td>\n",
       "      <td>0.501455</td>\n",
       "      <td>1.282716</td>\n",
       "      <td>1.286408</td>\n",
       "      <td>...</td>\n",
       "      <td>4</td>\n",
       "      <td>1782212.0</td>\n",
       "      <td>159</td>\n",
       "      <td>0.011937</td>\n",
       "      <td>0.010540</td>\n",
       "      <td>0.014474</td>\n",
       "      <td>-0.002345</td>\n",
       "      <td>2</td>\n",
       "      <td>4</td>\n",
       "      <td>270</td>\n",
       "    </tr>\n",
       "    <tr>\n",
       "      <th>96646</th>\n",
       "      <td>20000904</td>\n",
       "      <td>2013-07-21 17:37:45</td>\n",
       "      <td>41.145723</td>\n",
       "      <td>-8.610795</td>\n",
       "      <td>2013-07-21 17:46:45</td>\n",
       "      <td>41.165136</td>\n",
       "      <td>-8.630649</td>\n",
       "      <td>1.596262</td>\n",
       "      <td>2.154843</td>\n",
       "      <td>2.161045</td>\n",
       "      <td>...</td>\n",
       "      <td>37</td>\n",
       "      <td>1791412.0</td>\n",
       "      <td>161</td>\n",
       "      <td>0.011868</td>\n",
       "      <td>0.010467</td>\n",
       "      <td>-0.012843</td>\n",
       "      <td>-0.002198</td>\n",
       "      <td>2</td>\n",
       "      <td>13</td>\n",
       "      <td>540</td>\n",
       "    </tr>\n",
       "    <tr>\n",
       "      <th>96647</th>\n",
       "      <td>20000904</td>\n",
       "      <td>2013-07-21 17:55:01</td>\n",
       "      <td>41.147010</td>\n",
       "      <td>-8.617788</td>\n",
       "      <td>2013-07-21 18:14:31</td>\n",
       "      <td>41.236857</td>\n",
       "      <td>-8.670114</td>\n",
       "      <td>4.207010</td>\n",
       "      <td>9.973017</td>\n",
       "      <td>10.001722</td>\n",
       "      <td>...</td>\n",
       "      <td>55</td>\n",
       "      <td>1792448.0</td>\n",
       "      <td>161</td>\n",
       "      <td>0.004807</td>\n",
       "      <td>0.011308</td>\n",
       "      <td>-0.071772</td>\n",
       "      <td>-0.059020</td>\n",
       "      <td>23</td>\n",
       "      <td>31</td>\n",
       "      <td>1170</td>\n",
       "    </tr>\n",
       "  </tbody>\n",
       "</table>\n",
       "<p>92138 rows × 33 columns</p>\n",
       "</div>"
      ],
      "text/plain": [
       "        trip_id         pickup_time  pickup_latitude  pickup_longitude  \\\n",
       "0      20000001 2013-07-01 07:06:43        41.163174         -8.584353   \n",
       "1      20000001 2013-07-01 08:12:57        41.153436         -8.608824   \n",
       "2      20000001 2013-07-01 08:59:14        41.160249         -8.609562   \n",
       "3      20000001 2013-07-01 09:50:48        41.153490         -8.608869   \n",
       "4      20000001 2013-07-01 10:55:57        41.150331         -8.607096   \n",
       "...         ...                 ...              ...               ...   \n",
       "96642  20000904 2013-07-21 13:48:50        41.145813         -8.610993   \n",
       "96643  20000904 2013-07-21 14:03:19        41.145687         -8.610840   \n",
       "96644  20000904 2013-07-21 15:04:25        41.145633         -8.610750   \n",
       "96646  20000904 2013-07-21 17:37:45        41.145723         -8.610795   \n",
       "96647  20000904 2013-07-21 17:55:01        41.147010         -8.617788   \n",
       "\n",
       "             dropoff_time  dropoff_latitude  dropoff_longitude  \\\n",
       "0     2013-07-01 07:11:13         41.161995          -8.605206   \n",
       "1     2013-07-01 08:18:27         41.158314          -8.604540   \n",
       "2     2013-07-01 09:07:44         41.149188          -8.593713   \n",
       "3     2013-07-01 09:59:48         41.159322          -8.623566   \n",
       "4     2013-07-01 11:08:42         41.174712          -8.565732   \n",
       "...                   ...               ...                ...   \n",
       "96642 2013-07-21 13:51:05         41.147028          -8.617851   \n",
       "96643 2013-07-21 14:08:34         41.157531          -8.627040   \n",
       "96644 2013-07-21 15:08:55         41.157189          -8.604513   \n",
       "96646 2013-07-21 17:46:45         41.165136          -8.630649   \n",
       "96647 2013-07-21 18:14:31         41.236857          -8.670114   \n",
       "\n",
       "       abs_diff_longitude  abs_diff_latitude  hav_dist_lat  ...  \\\n",
       "0                1.676581           0.130869      0.131246  ...   \n",
       "1                0.344434           0.541458      0.543016  ...   \n",
       "2                1.274260           1.227771      1.231305  ...   \n",
       "3                1.181639           0.647352      0.649215  ...   \n",
       "4                3.325666           2.706291      2.714081  ...   \n",
       "...                   ...                ...           ...  ...   \n",
       "96642            0.551383           0.134865      0.135253  ...   \n",
       "96643            1.302480           1.314684      1.318468  ...   \n",
       "96644            0.501455           1.282716      1.286408  ...   \n",
       "96646            1.596262           2.154843      2.161045  ...   \n",
       "96647            4.207010           9.973017     10.001722  ...   \n",
       "\n",
       "       pickup_minute  pickup_dt  pickup_week_hour  pickup_pca0  pickup_pca1  \\\n",
       "0                  6    25550.0                 7     0.031958    -0.014030   \n",
       "1                 12    29524.0                 8     0.011467     0.002516   \n",
       "2                 59    32301.0                 8     0.008745    -0.003773   \n",
       "3                 50    35395.0                 9     0.011408     0.002478   \n",
       "4                 55    39304.0                10     0.014037     0.004971   \n",
       "...              ...        ...               ...          ...          ...   \n",
       "96642             48  1777677.0               157     0.011652     0.010440   \n",
       "96643              3  1778546.0               158     0.011835     0.010515   \n",
       "96644              4  1782212.0               159     0.011937     0.010540   \n",
       "96646             37  1791412.0               161     0.011868     0.010467   \n",
       "96647             55  1792448.0               161     0.004807     0.011308   \n",
       "\n",
       "       dropoff_pca0  dropoff_pca1  pickup_cluster  dropoff_cluster  duration  \n",
       "0          0.012389     -0.006730              44                4       270  \n",
       "1          0.014115     -0.003411               9                4       330  \n",
       "2          0.027158      0.002100               1               22       510  \n",
       "3         -0.004357      0.001259               9               12       540  \n",
       "4          0.046329     -0.030563               9               43       765  \n",
       "...             ...           ...             ...              ...       ...  \n",
       "96642      0.004742      0.011310               2               23       135  \n",
       "96643     -0.007145      0.003998               2               37       315  \n",
       "96644      0.014474     -0.002345               2                4       270  \n",
       "96646     -0.012843     -0.002198               2               13       540  \n",
       "96647     -0.071772     -0.059020              23               31      1170  \n",
       "\n",
       "[92138 rows x 33 columns]"
      ]
     },
     "execution_count": 110,
     "metadata": {},
     "output_type": "execute_result"
    }
   ],
   "source": [
    "taxi"
   ]
  },
  {
   "cell_type": "markdown",
   "metadata": {},
   "source": [
    "## Control - No speed info - like NYC data"
   ]
  },
  {
   "cell_type": "code",
   "execution_count": 111,
   "metadata": {},
   "outputs": [],
   "source": [
    "x = taxi[['pickup_latitude', 'pickup_longitude', 'dropoff_latitude', 'dropoff_longitude',\n",
    "       'abs_diff_longitude', 'abs_diff_latitude', 'hav_dist_lat',\n",
    "       'hav_dist_lon', 'Euclidean', 'manh_length_hav', 'manh_length_euc',\n",
    "       'minkowski_0.9', 'dist_to_dest', 'pickup_lat_cut', 'pickup_lon_cut',\n",
    "       'dropoff_lat_cut', 'dropoff_lon_cut', 'pickup_weekday',\n",
    "       'pickup_hour_weekofyear', 'pickup_hour', 'pickup_minute', 'pickup_dt',\n",
    "       'pickup_week_hour', 'pickup_pca0', 'pickup_pca1', 'dropoff_pca0',\n",
    "       'dropoff_pca1', 'pickup_cluster', 'dropoff_cluster']]\n",
    "y = taxi['duration']"
   ]
  },
  {
   "cell_type": "code",
   "execution_count": 112,
   "metadata": {},
   "outputs": [],
   "source": [
    "X_train, X_validation, Y_train, Y_validation =  train_test_split(x,y, test_size = 0.7, random_state = 42)"
   ]
  },
  {
   "cell_type": "code",
   "execution_count": 68,
   "metadata": {},
   "outputs": [],
   "source": [
    "# x_train_prescale = X_train.values\n",
    "# x_validation_prescale = X_validation.values"
   ]
  },
  {
   "cell_type": "code",
   "execution_count": 114,
   "metadata": {},
   "outputs": [],
   "source": [
    "control_scaler_nodist = sklearn.preprocessing.StandardScaler()\n",
    "x_train = control_scaler_nodist.fit_transform(X_train.values)\n",
    "x_test = control_scaler_nodist.transform(X_validation.values)"
   ]
  },
  {
   "cell_type": "code",
   "execution_count": 93,
   "metadata": {},
   "outputs": [
    {
     "name": "stdout",
     "output_type": "stream",
     "text": [
      "Fitting 3 folds for each of 10 candidates, totalling 30 fits\n"
     ]
    },
    {
     "name": "stderr",
     "output_type": "stream",
     "text": [
      "[Parallel(n_jobs=-1)]: Using backend LokyBackend with 6 concurrent workers.\n",
      "[Parallel(n_jobs=-1)]: Done  30 out of  30 | elapsed:  2.8min finished\n",
      "/home/ericlow/anaconda3/lib/python3.7/site-packages/xgboost/core.py:587: FutureWarning: Series.base is deprecated and will be removed in a future version\n",
      "  if getattr(data, 'base', None) is not None and \\\n"
     ]
    },
    {
     "name": "stdout",
     "output_type": "stream",
     "text": [
      "[03:40:50] WARNING: /workspace/src/objective/regression_obj.cu:152: reg:linear is now deprecated in favor of reg:squarederror.\n"
     ]
    },
    {
     "data": {
      "text/plain": [
       "RandomizedSearchCV(cv=3, error_score='raise-deprecating',\n",
       "                   estimator=XGBRegressor(base_score=0.5, booster='gbtree',\n",
       "                                          colsample_bylevel=1,\n",
       "                                          colsample_bynode=1,\n",
       "                                          colsample_bytree=1, gamma=0,\n",
       "                                          importance_type='gain',\n",
       "                                          learning_rate=0.1, max_delta_step=0,\n",
       "                                          max_depth=3, min_child_weight=1,\n",
       "                                          missing=None, n_estimators=370,\n",
       "                                          n_jobs=1, nthread=None,\n",
       "                                          objective='reg:linear',\n",
       "                                          random_st...\n",
       "                                          seed=None, silent=None, subsample=1,\n",
       "                                          verbosity=1),\n",
       "                   iid='warn', n_iter=10, n_jobs=-1,\n",
       "                   param_distributions={'colsample_bytree': [0.3, 0.4, 0.5,\n",
       "                                                             0.7],\n",
       "                                        'gamma': [0.0, 0.1, 0.2, 0.3, 0.4],\n",
       "                                        'learning_rate': [0.05, 0.1, 0.15, 0.2,\n",
       "                                                          0.25, 0.3],\n",
       "                                        'max_depth': [3, 4, 5, 6, 8, 10, 12,\n",
       "                                                      15],\n",
       "                                        'min_child_weight': [1, 3, 5, 7]},\n",
       "                   pre_dispatch='2*n_jobs', random_state=42, refit=True,\n",
       "                   return_train_score=False, scoring=None, verbose=2)"
      ]
     },
     "execution_count": 93,
     "metadata": {},
     "output_type": "execute_result"
    }
   ],
   "source": [
    "random_grid = {\"learning_rate\"    : [0.05, 0.10, 0.15, 0.20, 0.25, 0.30 ] ,\n",
    "                \"max_depth\"        : [ 3, 4, 5, 6, 8, 10, 12, 15],\n",
    "                \"min_child_weight\" : [ 1, 3, 5, 7 ],\n",
    "                \"gamma\"            : [ 0.0, 0.1, 0.2 , 0.3, 0.4 ],\n",
    "                \"colsample_bytree\" : [ 0.3, 0.4, 0.5 , 0.7 ] }\n",
    "\n",
    "xg = XGBRegressor(n_estimators = 370)\n",
    "xg_random = RandomizedSearchCV(estimator = xg, param_distributions = random_grid, n_iter = 10, cv = 3, verbose=2, random_state=42, n_jobs = -1)\n",
    "xg_random.fit(x_train, Y_train)"
   ]
  },
  {
   "cell_type": "code",
   "execution_count": 94,
   "metadata": {},
   "outputs": [
    {
     "data": {
      "text/plain": [
       "{'min_child_weight': 1,\n",
       " 'max_depth': 10,\n",
       " 'learning_rate': 0.05,\n",
       " 'gamma': 0.1,\n",
       " 'colsample_bytree': 0.7}"
      ]
     },
     "execution_count": 94,
     "metadata": {},
     "output_type": "execute_result"
    }
   ],
   "source": [
    "xg_random.best_params_"
   ]
  },
  {
   "cell_type": "code",
   "execution_count": 115,
   "metadata": {},
   "outputs": [],
   "source": [
    "xg_reg_nodist = XGBRegressor(objective ='reg:squarederror', n_jobs = -1, min_child_weight = 5, max_depth = 4, learning_rate = 0.2,\n",
    "                      gamma = 0.1, colsample_bytree = 0.7, alpha = 10, n_estimators = 370)"
   ]
  },
  {
   "cell_type": "code",
   "execution_count": 116,
   "metadata": {},
   "outputs": [
    {
     "name": "stderr",
     "output_type": "stream",
     "text": [
      "/home/ericlow/anaconda3/lib/python3.7/site-packages/xgboost/core.py:587: FutureWarning: Series.base is deprecated and will be removed in a future version\n",
      "  if getattr(data, 'base', None) is not None and \\\n"
     ]
    },
    {
     "data": {
      "text/plain": [
       "XGBRegressor(alpha=10, base_score=0.5, booster='gbtree', colsample_bylevel=1,\n",
       "             colsample_bynode=1, colsample_bytree=0.7, gamma=0.1,\n",
       "             importance_type='gain', learning_rate=0.2, max_delta_step=0,\n",
       "             max_depth=4, min_child_weight=5, missing=None, n_estimators=370,\n",
       "             n_jobs=-1, nthread=None, objective='reg:squarederror',\n",
       "             random_state=0, reg_alpha=0, reg_lambda=1, scale_pos_weight=1,\n",
       "             seed=None, silent=None, subsample=1, verbosity=1)"
      ]
     },
     "execution_count": 116,
     "metadata": {},
     "output_type": "execute_result"
    }
   ],
   "source": [
    "xg_reg_nodist.fit(x_train,Y_train)\n"
   ]
  },
  {
   "cell_type": "code",
   "execution_count": 117,
   "metadata": {},
   "outputs": [
    {
     "name": "stdout",
     "output_type": "stream",
     "text": [
      "MAE:  140.9541671350209 \n",
      "RMSLE:  0.3381808122856036\n"
     ]
    },
    {
     "name": "stderr",
     "output_type": "stream",
     "text": [
      "/home/ericlow/anaconda3/lib/python3.7/site-packages/ipykernel_launcher.py:7: RuntimeWarning: invalid value encountered in log1p\n",
      "  import sys\n"
     ]
    }
   ],
   "source": [
    "y_pred = xg_reg_nodist.predict(x_test)\n",
    "print(\"MAE: \", metrics.mean_absolute_error(Y_validation, y_pred), \"\\nRMSLE: \", rmsle(Y_validation, y_pred))"
   ]
  },
  {
   "cell_type": "code",
   "execution_count": 118,
   "metadata": {},
   "outputs": [
    {
     "data": {
      "text/plain": [
       "5451"
      ]
     },
     "execution_count": 118,
     "metadata": {},
     "output_type": "execute_result"
    }
   ],
   "source": [
    "import gc\n",
    "gc.collect()"
   ]
  },
  {
   "cell_type": "code",
   "execution_count": 37,
   "metadata": {},
   "outputs": [
    {
     "data": {
      "text/plain": [
       "['xgboost2203_control.pkl']"
      ]
     },
     "execution_count": 37,
     "metadata": {},
     "output_type": "execute_result"
    }
   ],
   "source": [
    "dump(xg_reg_nodist, 'xgboost2203_control.pkl')"
   ]
  },
  {
   "cell_type": "code",
   "execution_count": 44,
   "metadata": {},
   "outputs": [],
   "source": [
    "xg_reg_nodist = load('xgboost2203_control.pkl')"
   ]
  },
  {
   "cell_type": "code",
   "execution_count": 103,
   "metadata": {},
   "outputs": [
    {
     "data": {
      "text/html": [
       "<div>\n",
       "<style scoped>\n",
       "    .dataframe tbody tr th:only-of-type {\n",
       "        vertical-align: middle;\n",
       "    }\n",
       "\n",
       "    .dataframe tbody tr th {\n",
       "        vertical-align: top;\n",
       "    }\n",
       "\n",
       "    .dataframe thead th {\n",
       "        text-align: right;\n",
       "    }\n",
       "</style>\n",
       "<table border=\"1\" class=\"dataframe\">\n",
       "  <thead>\n",
       "    <tr style=\"text-align: right;\">\n",
       "      <th></th>\n",
       "      <th>count</th>\n",
       "    </tr>\n",
       "    <tr>\n",
       "      <th>duration</th>\n",
       "      <th></th>\n",
       "    </tr>\n",
       "  </thead>\n",
       "  <tbody>\n",
       "    <tr>\n",
       "      <th>(72.585, 195.75]</th>\n",
       "      <td>2865</td>\n",
       "    </tr>\n",
       "    <tr>\n",
       "      <th>(195.75, 316.5]</th>\n",
       "      <td>10317</td>\n",
       "    </tr>\n",
       "    <tr>\n",
       "      <th>(316.5, 437.25]</th>\n",
       "      <td>15372</td>\n",
       "    </tr>\n",
       "    <tr>\n",
       "      <th>(437.25, 558.0]</th>\n",
       "      <td>16273</td>\n",
       "    </tr>\n",
       "    <tr>\n",
       "      <th>(558.0, 678.75]</th>\n",
       "      <td>14125</td>\n",
       "    </tr>\n",
       "    <tr>\n",
       "      <th>...</th>\n",
       "      <td>...</td>\n",
       "    </tr>\n",
       "    <tr>\n",
       "      <th>(1886.25, 2007.0]</th>\n",
       "      <td>374</td>\n",
       "    </tr>\n",
       "    <tr>\n",
       "      <th>(2007.0, 2127.75]</th>\n",
       "      <td>277</td>\n",
       "    </tr>\n",
       "    <tr>\n",
       "      <th>(2127.75, 2248.5]</th>\n",
       "      <td>258</td>\n",
       "    </tr>\n",
       "    <tr>\n",
       "      <th>(2248.5, 2369.25]</th>\n",
       "      <td>174</td>\n",
       "    </tr>\n",
       "    <tr>\n",
       "      <th>(2369.25, 2490.0]</th>\n",
       "      <td>164</td>\n",
       "    </tr>\n",
       "  </tbody>\n",
       "</table>\n",
       "<p>20 rows × 1 columns</p>\n",
       "</div>"
      ],
      "text/plain": [
       "                   count\n",
       "duration                \n",
       "(72.585, 195.75]    2865\n",
       "(195.75, 316.5]    10317\n",
       "(316.5, 437.25]    15372\n",
       "(437.25, 558.0]    16273\n",
       "(558.0, 678.75]    14125\n",
       "...                  ...\n",
       "(1886.25, 2007.0]    374\n",
       "(2007.0, 2127.75]    277\n",
       "(2127.75, 2248.5]    258\n",
       "(2248.5, 2369.25]    174\n",
       "(2369.25, 2490.0]    164\n",
       "\n",
       "[20 rows x 1 columns]"
      ]
     },
     "execution_count": 103,
     "metadata": {},
     "output_type": "execute_result"
    }
   ],
   "source": [
    "bins = pd.cut(taxi['duration'], 20)\n",
    "taxi.groupby(bins)['duration'].agg(['count'])"
   ]
  },
  {
   "cell_type": "code",
   "execution_count": 55,
   "metadata": {},
   "outputs": [
    {
     "data": {
      "text/plain": [
       "<pandas.core.groupby.generic.DataFrameGroupBy object at 0x7f4d0042d588>"
      ]
     },
     "execution_count": 55,
     "metadata": {},
     "output_type": "execute_result"
    }
   ],
   "source": [
    "X_validation.merge(Y_validation, left_index=True, right_index=True).groupby(pd.cut(Y_validation, 20))"
   ]
  },
  {
   "cell_type": "code",
   "execution_count": 119,
   "metadata": {},
   "outputs": [
    {
     "name": "stderr",
     "output_type": "stream",
     "text": [
      "/home/ericlow/anaconda3/lib/python3.7/site-packages/pandas/core/frame.py:3940: SettingWithCopyWarning: \n",
      "A value is trying to be set on a copy of a slice from a DataFrame\n",
      "\n",
      "See the caveats in the documentation: http://pandas.pydata.org/pandas-docs/stable/indexing.html#indexing-view-versus-copy\n",
      "  errors=errors)\n",
      "/home/ericlow/anaconda3/lib/python3.7/site-packages/pandas/core/frame.py:3940: SettingWithCopyWarning: \n",
      "A value is trying to be set on a copy of a slice from a DataFrame\n",
      "\n",
      "See the caveats in the documentation: http://pandas.pydata.org/pandas-docs/stable/indexing.html#indexing-view-versus-copy\n",
      "  errors=errors)\n",
      "/home/ericlow/anaconda3/lib/python3.7/site-packages/pandas/core/frame.py:3940: SettingWithCopyWarning: \n",
      "A value is trying to be set on a copy of a slice from a DataFrame\n",
      "\n",
      "See the caveats in the documentation: http://pandas.pydata.org/pandas-docs/stable/indexing.html#indexing-view-versus-copy\n",
      "  errors=errors)\n",
      "/home/ericlow/anaconda3/lib/python3.7/site-packages/ipykernel_launcher.py:7: RuntimeWarning: invalid value encountered in log1p\n",
      "  import sys\n",
      "/home/ericlow/anaconda3/lib/python3.7/site-packages/pandas/core/frame.py:3940: SettingWithCopyWarning: \n",
      "A value is trying to be set on a copy of a slice from a DataFrame\n",
      "\n",
      "See the caveats in the documentation: http://pandas.pydata.org/pandas-docs/stable/indexing.html#indexing-view-versus-copy\n",
      "  errors=errors)\n",
      "/home/ericlow/anaconda3/lib/python3.7/site-packages/pandas/core/frame.py:3940: SettingWithCopyWarning: \n",
      "A value is trying to be set on a copy of a slice from a DataFrame\n",
      "\n",
      "See the caveats in the documentation: http://pandas.pydata.org/pandas-docs/stable/indexing.html#indexing-view-versus-copy\n",
      "  errors=errors)\n",
      "/home/ericlow/anaconda3/lib/python3.7/site-packages/pandas/core/frame.py:3940: SettingWithCopyWarning: \n",
      "A value is trying to be set on a copy of a slice from a DataFrame\n",
      "\n",
      "See the caveats in the documentation: http://pandas.pydata.org/pandas-docs/stable/indexing.html#indexing-view-versus-copy\n",
      "  errors=errors)\n",
      "/home/ericlow/anaconda3/lib/python3.7/site-packages/pandas/core/frame.py:3940: SettingWithCopyWarning: \n",
      "A value is trying to be set on a copy of a slice from a DataFrame\n",
      "\n",
      "See the caveats in the documentation: http://pandas.pydata.org/pandas-docs/stable/indexing.html#indexing-view-versus-copy\n",
      "  errors=errors)\n",
      "/home/ericlow/anaconda3/lib/python3.7/site-packages/pandas/core/frame.py:3940: SettingWithCopyWarning: \n",
      "A value is trying to be set on a copy of a slice from a DataFrame\n",
      "\n",
      "See the caveats in the documentation: http://pandas.pydata.org/pandas-docs/stable/indexing.html#indexing-view-versus-copy\n",
      "  errors=errors)\n",
      "/home/ericlow/anaconda3/lib/python3.7/site-packages/pandas/core/frame.py:3940: SettingWithCopyWarning: \n",
      "A value is trying to be set on a copy of a slice from a DataFrame\n",
      "\n",
      "See the caveats in the documentation: http://pandas.pydata.org/pandas-docs/stable/indexing.html#indexing-view-versus-copy\n",
      "  errors=errors)\n",
      "/home/ericlow/anaconda3/lib/python3.7/site-packages/pandas/core/frame.py:3940: SettingWithCopyWarning: \n",
      "A value is trying to be set on a copy of a slice from a DataFrame\n",
      "\n",
      "See the caveats in the documentation: http://pandas.pydata.org/pandas-docs/stable/indexing.html#indexing-view-versus-copy\n",
      "  errors=errors)\n"
     ]
    }
   ],
   "source": [
    "errors_nodist = pd.DataFrame()\n",
    "tt = []\n",
    "for bin_name, group in X_validation.merge(Y_validation, left_index=True, right_index=True).groupby(pd.cut(Y_validation, 10)):\n",
    "#     print(bin_name)\n",
    "#     print(group)\n",
    "    group.drop('duration', axis = 1, inplace = True)\n",
    "    y_grp = Y_validation.loc[group.index]\n",
    "    y_pred= xg_reg_nodist.predict(control_scaler_nodist.transform(group.values))\n",
    "    \n",
    "    aa = metrics.mean_absolute_error(y_grp, y_pred)\n",
    "    bb = rmsle(y_grp, y_pred)\n",
    "    \n",
    "    fooh = pd.DataFrame([aa, bb], columns = [bin_name])\n",
    "    errors_nodist = pd.concat([errors_nodist, fooh], axis = 1)\n",
    "    \n",
    "    predict_results = xg_reg_nodist.predict(control_scaler_nodist.transform(group))\n",
    "    predict_res = pd.DataFrame(predict_results.flatten() - y_grp)\n",
    "# #     print(predict_res.describe())\n",
    "# #     predict_res.hist(bins = 100)\n",
    "    tt.append(predict_res.values)\n",
    "    \n",
    "# display.display(errors_dist)"
   ]
  },
  {
   "cell_type": "code",
   "execution_count": 120,
   "metadata": {},
   "outputs": [],
   "source": [
    "errors_nodist = errors_nodist.rename(index = {0: 'loss_nostats', 1:'rmsle_nostats'})"
   ]
  },
  {
   "cell_type": "code",
   "execution_count": 121,
   "metadata": {},
   "outputs": [
    {
     "data": {
      "image/png": "[encoded data removed]",
      "text/plain": [
       "<Figure size 720x432 with 1 Axes>"
      ]
     },
     "metadata": {
      "needs_background": "light"
     },
     "output_type": "display_data"
    },
    {
     "data": {
      "image/png": "[encoded data removed]",
      "text/plain": [
       "<Figure size 720x432 with 1 Axes>"
      ]
     },
     "metadata": {
      "needs_background": "light"
     },
     "output_type": "display_data"
    }
   ],
   "source": [
    "errors_nodist.loc['rmsle_nostats'].T.plot(figsize = (10 ,6 ), style ='.-')\n",
    "plt.xlabel('dist_bin')\n",
    "plt.ylabel('rmsle')\n",
    "plt.grid(True)\n",
    "\n",
    "plt.show()\n",
    "errors_nodist.loc['loss_nostats'].T.plot(figsize = (10 ,6 ), style ='.-')\n",
    "plt.xlabel('duration_bin')\n",
    "plt.ylabel('mae')\n",
    "plt.grid(True)"
   ]
  },
  {
   "cell_type": "code",
   "execution_count": 31,
   "metadata": {},
   "outputs": [
    {
     "data": {
      "text/html": [
       "<div>\n",
       "<style scoped>\n",
       "    .dataframe tbody tr th:only-of-type {\n",
       "        vertical-align: middle;\n",
       "    }\n",
       "\n",
       "    .dataframe tbody tr th {\n",
       "        vertical-align: top;\n",
       "    }\n",
       "\n",
       "    .dataframe thead th {\n",
       "        text-align: right;\n",
       "    }\n",
       "</style>\n",
       "<table border=\"1\" class=\"dataframe\">\n",
       "  <thead>\n",
       "    <tr style=\"text-align: right;\">\n",
       "      <th></th>\n",
       "      <th>(71.085, 270.75]</th>\n",
       "      <th>(270.75, 466.5]</th>\n",
       "      <th>(466.5, 662.25]</th>\n",
       "      <th>(662.25, 858.0]</th>\n",
       "      <th>(858.0, 1053.75]</th>\n",
       "      <th>(1053.75, 1249.5]</th>\n",
       "      <th>(1249.5, 1445.25]</th>\n",
       "      <th>(1445.25, 1641.0]</th>\n",
       "      <th>(1641.0, 1836.75]</th>\n",
       "      <th>(1836.75, 2032.5]</th>\n",
       "      <th>(2032.5, 2228.25]</th>\n",
       "      <th>(2228.25, 2424.0]</th>\n",
       "      <th>(2424.0, 2619.75]</th>\n",
       "      <th>(2619.75, 2815.5]</th>\n",
       "      <th>(2815.5, 3011.25]</th>\n",
       "      <th>(3011.25, 3207.0]</th>\n",
       "      <th>(3207.0, 3402.75]</th>\n",
       "      <th>(3402.75, 3598.5]</th>\n",
       "      <th>(3598.5, 3794.25]</th>\n",
       "      <th>(3794.25, 3990.0]</th>\n",
       "    </tr>\n",
       "  </thead>\n",
       "  <tbody>\n",
       "    <tr>\n",
       "      <th>loss_nodist</th>\n",
       "      <td>39.801486</td>\n",
       "      <td>37.863503</td>\n",
       "      <td>41.235665</td>\n",
       "      <td>45.946056</td>\n",
       "      <td>51.520425</td>\n",
       "      <td>59.374076</td>\n",
       "      <td>61.565620</td>\n",
       "      <td>67.989232</td>\n",
       "      <td>65.064237</td>\n",
       "      <td>69.912337</td>\n",
       "      <td>75.344192</td>\n",
       "      <td>79.034469</td>\n",
       "      <td>79.982596</td>\n",
       "      <td>78.635504</td>\n",
       "      <td>88.516008</td>\n",
       "      <td>86.015118</td>\n",
       "      <td>81.999599</td>\n",
       "      <td>99.824052</td>\n",
       "      <td>94.597231</td>\n",
       "      <td>131.998259</td>\n",
       "    </tr>\n",
       "    <tr>\n",
       "      <th>rmsle_nodist</th>\n",
       "      <td>0.338633</td>\n",
       "      <td>0.149771</td>\n",
       "      <td>0.113540</td>\n",
       "      <td>0.099462</td>\n",
       "      <td>0.092632</td>\n",
       "      <td>0.094820</td>\n",
       "      <td>0.090241</td>\n",
       "      <td>0.085282</td>\n",
       "      <td>0.071863</td>\n",
       "      <td>0.078666</td>\n",
       "      <td>0.075996</td>\n",
       "      <td>0.077897</td>\n",
       "      <td>0.070630</td>\n",
       "      <td>0.067876</td>\n",
       "      <td>0.086697</td>\n",
       "      <td>0.075588</td>\n",
       "      <td>0.071262</td>\n",
       "      <td>0.100291</td>\n",
       "      <td>0.086098</td>\n",
       "      <td>0.093588</td>\n",
       "    </tr>\n",
       "  </tbody>\n",
       "</table>\n",
       "</div>"
      ],
      "text/plain": [
       "              (71.085, 270.75]  (270.75, 466.5]  (466.5, 662.25]  \\\n",
       "loss_nodist          39.801486        37.863503        41.235665   \n",
       "rmsle_nodist          0.338633         0.149771         0.113540   \n",
       "\n",
       "              (662.25, 858.0]  (858.0, 1053.75]  (1053.75, 1249.5]  \\\n",
       "loss_nodist         45.946056         51.520425          59.374076   \n",
       "rmsle_nodist         0.099462          0.092632           0.094820   \n",
       "\n",
       "              (1249.5, 1445.25]  (1445.25, 1641.0]  (1641.0, 1836.75]  \\\n",
       "loss_nodist           61.565620          67.989232          65.064237   \n",
       "rmsle_nodist           0.090241           0.085282           0.071863   \n",
       "\n",
       "              (1836.75, 2032.5]  (2032.5, 2228.25]  (2228.25, 2424.0]  \\\n",
       "loss_nodist           69.912337          75.344192          79.034469   \n",
       "rmsle_nodist           0.078666           0.075996           0.077897   \n",
       "\n",
       "              (2424.0, 2619.75]  (2619.75, 2815.5]  (2815.5, 3011.25]  \\\n",
       "loss_nodist           79.982596          78.635504          88.516008   \n",
       "rmsle_nodist           0.070630           0.067876           0.086697   \n",
       "\n",
       "              (3011.25, 3207.0]  (3207.0, 3402.75]  (3402.75, 3598.5]  \\\n",
       "loss_nodist           86.015118          81.999599          99.824052   \n",
       "rmsle_nodist           0.075588           0.071262           0.100291   \n",
       "\n",
       "              (3598.5, 3794.25]  (3794.25, 3990.0]  \n",
       "loss_nodist           94.597231         131.998259  \n",
       "rmsle_nodist           0.086098           0.093588  "
      ]
     },
     "execution_count": 31,
     "metadata": {},
     "output_type": "execute_result"
    }
   ],
   "source": [
    "errors_nodist"
   ]
  },
  {
   "cell_type": "markdown",
   "metadata": {},
   "source": [
    "## With Stats"
   ]
  },
  {
   "cell_type": "code",
   "execution_count": 60,
   "metadata": {},
   "outputs": [
    {
     "data": {
      "text/plain": [
       "Index(['pickup_time', 'pickup_longitude', 'pickup_latitude', 'ID',\n",
       "       'distance_travelled', 'time_elapsed_seconds', 'speed m/s', 'speed kmh',\n",
       "       'bearing', 'bearing_diff', 'rate_of_turn', 'acceleration',\n",
       "       'distance_travelled_sum2', 'longitude_mean2', 'latitude_mean2',\n",
       "       'distance_travelled_mean2', 'speed m/s_mean2', 'speed kmh_mean2',\n",
       "       'bearing_mean2', 'bearing_diff_mean2', 'rate_of_turn_mean2',\n",
       "       'acceleration_mean2', 'longitude_stddev2', 'latitude_stddev2',\n",
       "       'distance_travelled_stddev2', 'speed m/s_stddev2', 'speed kmh_stddev2',\n",
       "       'bearing_stddev2', 'bearing_diff_stddev2', 'rate_of_turn_stddev2',\n",
       "       'acceleration_stddev2', 'distance_travelled_kurt2', 'speed m/s_kurt2',\n",
       "       'speed kmh_kurt2', 'bearing_kurt2', 'bearing_diff_kurt2',\n",
       "       'rate_of_turn_kurt2', 'acceleration_kurt2', 'distance_travelled_skew2',\n",
       "       'speed m/s_skew2', 'speed kmh_skew2', 'bearing_skew2',\n",
       "       'bearing_diff_skew2', 'rate_of_turn_skew2', 'acceleration_skew2',\n",
       "       'dropoff_time', 'dropoff_longitude', 'dropoff_latitude',\n",
       "       'abs_diff_longitude', 'abs_diff_latitude', 'hav_dist_lat',\n",
       "       'hav_dist_lon', 'Euclidean', 'manh_length_hav', 'manh_length_euc',\n",
       "       'minkowski_0.9', 'dist_to_dest', 'pickup_lat_cut', 'pickup_lon_cut',\n",
       "       'dropoff_lat_cut', 'dropoff_lon_cut', 'bearing_to_dest',\n",
       "       'pickup_weekday', 'pickup_hour_weekofyear', 'pickup_hour',\n",
       "       'pickup_minute', 'pickup_dt', 'pickup_week_hour', 'pickup_pca0',\n",
       "       'pickup_pca1', 'dropoff_pca0', 'dropoff_pca1', 'pickup_cluster',\n",
       "       'dropoff_cluster', 'duration'],\n",
       "      dtype='object')"
      ]
     },
     "execution_count": 60,
     "metadata": {},
     "output_type": "execute_result"
    }
   ],
   "source": [
    "taxi.columns"
   ]
  },
  {
   "cell_type": "code",
   "execution_count": 61,
   "metadata": {},
   "outputs": [],
   "source": [
    "x = taxi.drop(['pickup_time', 'ID', 'dropoff_time', 'duration'], axis = 1)\n",
    "y = taxi['duration']"
   ]
  },
  {
   "cell_type": "code",
   "execution_count": 62,
   "metadata": {},
   "outputs": [],
   "source": [
    "X_train, X_validation, Y_train, Y_validation =  train_test_split(x,y, test_size = 0.1, random_state = 42)"
   ]
  },
  {
   "cell_type": "code",
   "execution_count": 19,
   "metadata": {},
   "outputs": [],
   "source": [
    "# x_train_prescale = X_train.values\n",
    "# x_validation_prescale = X_validation.values"
   ]
  },
  {
   "cell_type": "code",
   "execution_count": null,
   "metadata": {},
   "outputs": [],
   "source": [
    "control_scaler_nodist_speed = sklearn.preprocessing.StandardScaler()\n",
    "x_train = control_scaler_nodist_speed.fit_transform(X_train.values)\n",
    "x_test = control_scaler_nodist_speed.transform(X_validation.values)"
   ]
  },
  {
   "cell_type": "code",
   "execution_count": 58,
   "metadata": {},
   "outputs": [
    {
     "data": {
      "text/plain": [
       "26466"
      ]
     },
     "execution_count": 58,
     "metadata": {},
     "output_type": "execute_result"
    }
   ],
   "source": [
    "del x\n",
    "del y\n",
    "del X_train\n",
    "# del X_train\n",
    "# del X_validation\n",
    "gc.collect()"
   ]
  },
  {
   "cell_type": "code",
   "execution_count": 25,
   "metadata": {},
   "outputs": [],
   "source": [
    "xg_reg_nodist_speed = XGBRegressor(objective ='reg:squarederror', n_jobs = -1, min_child_weight = 3, max_depth = 12, learning_rate = 0.1,\n",
    "                      gamma = 0.1, colsample_bytree = 0.5, alpha = 10, n_estimators = 370)"
   ]
  },
  {
   "cell_type": "code",
   "execution_count": 26,
   "metadata": {},
   "outputs": [
    {
     "name": "stderr",
     "output_type": "stream",
     "text": [
      "/home/ericlow/anaconda3/lib/python3.7/site-packages/xgboost/core.py:587: FutureWarning: Series.base is deprecated and will be removed in a future version\n",
      "  if getattr(data, 'base', None) is not None and \\\n"
     ]
    },
    {
     "data": {
      "text/plain": [
       "XGBRegressor(alpha=10, base_score=0.5, booster='gbtree', colsample_bylevel=1,\n",
       "             colsample_bynode=1, colsample_bytree=0.5, gamma=0.1,\n",
       "             importance_type='gain', learning_rate=0.1, max_delta_step=0,\n",
       "             max_depth=12, min_child_weight=3, missing=None, n_estimators=370,\n",
       "             n_jobs=-1, nthread=None, objective='reg:squarederror',\n",
       "             random_state=0, reg_alpha=0, reg_lambda=1, scale_pos_weight=1,\n",
       "             seed=None, silent=None, subsample=1, verbosity=1)"
      ]
     },
     "execution_count": 26,
     "metadata": {},
     "output_type": "execute_result"
    }
   ],
   "source": [
    "xg_reg_nodist_speed.fit(x_train,Y_train)\n"
   ]
  },
  {
   "cell_type": "code",
   "execution_count": 27,
   "metadata": {},
   "outputs": [
    {
     "name": "stdout",
     "output_type": "stream",
     "text": [
      "MAE:  55.08904493096334 \n",
      "RMSLE:  0.24139658310346473\n"
     ]
    },
    {
     "name": "stderr",
     "output_type": "stream",
     "text": [
      "/home/ericlow/anaconda3/lib/python3.7/site-packages/ipykernel_launcher.py:7: RuntimeWarning: invalid value encountered in log1p\n",
      "  import sys\n"
     ]
    }
   ],
   "source": [
    "y_pred = xg_reg_nodist_speed.predict(x_test)\n",
    "print(\"MAE: \", metrics.mean_absolute_error(Y_validation, y_pred), \"\\nRMSLE: \", rmsle(Y_validation, y_pred))"
   ]
  },
  {
   "cell_type": "code",
   "execution_count": 28,
   "metadata": {},
   "outputs": [
    {
     "data": {
      "text/plain": [
       "132"
      ]
     },
     "execution_count": 28,
     "metadata": {},
     "output_type": "execute_result"
    }
   ],
   "source": [
    "import gc\n",
    "gc.collect()"
   ]
  },
  {
   "cell_type": "code",
   "execution_count": 29,
   "metadata": {},
   "outputs": [
    {
     "data": {
      "text/plain": [
       "['xgbooststats2303.pkl']"
      ]
     },
     "execution_count": 29,
     "metadata": {},
     "output_type": "execute_result"
    }
   ],
   "source": [
    "dump(xg_reg_nodist_speed, 'xgbooststats2303.pkl')"
   ]
  },
  {
   "cell_type": "code",
   "execution_count": 32,
   "metadata": {},
   "outputs": [],
   "source": [
    "xg_reg_nodist = load('xgboost1612.pkl')"
   ]
  },
  {
   "cell_type": "code",
   "execution_count": null,
   "metadata": {},
   "outputs": [],
   "source": [
    "bins = pd.cut(taxi['duration'], 20)\n",
    "taxi.groupby(bins)['duration'].agg(['count'])"
   ]
  },
  {
   "cell_type": "code",
   "execution_count": 20,
   "metadata": {},
   "outputs": [],
   "source": [
    "xg_reg_nodist_speed = load('xgboostspeed0301.pkl')"
   ]
  },
  {
   "cell_type": "code",
   "execution_count": 63,
   "metadata": {},
   "outputs": [
    {
     "data": {
      "text/plain": [
       "<pandas.core.groupby.generic.DataFrameGroupBy object at 0x7f6444d92a90>"
      ]
     },
     "execution_count": 63,
     "metadata": {},
     "output_type": "execute_result"
    }
   ],
   "source": [
    "X_validation.merge(Y_validation, left_index=True, right_index=True).groupby(pd.cut(Y_validation, 20))"
   ]
  },
  {
   "cell_type": "code",
   "execution_count": null,
   "metadata": {},
   "outputs": [],
   "source": [
    "errors_nodist_speed = pd.DataFrame()\n",
    "tt = []\n",
    "for bin_name, group in X_validation.merge(Y_validation, left_index=True, right_index=True).groupby(pd.cut(Y_validation, 20)):\n",
    "    print(bin_name)\n",
    "    group.drop('duration', axis = 1, inplace = True)\n",
    "    y_grp = Y_validation.loc[group.index]\n",
    "    y_pred= xg_reg_nodist_speed.predict(control_scaler_nodist_speed.transform(group.values))\n",
    "    \n",
    "    aa = metrics.mean_absolute_error(y_grp, y_pred)\n",
    "    bb = rmsle(y_grp, y_pred)\n",
    "    \n",
    "    fooh = pd.DataFrame([aa, bb], columns = [bin_name])\n",
    "    errors_nodist_speed = pd.concat([errors_nodist_speed, fooh], axis = 1)\n",
    "    \n",
    "    predict_results = xg_reg_nodist_speed.predict(control_scaler_nodist_speed.transform(group))\n",
    "    predict_res = pd.DataFrame(predict_results.flatten() - y_grp)\n",
    "# #     print(predict_res.describe())\n",
    "# #     predict_res.hist(bins = 100)\n",
    "    tt.append(predict_res.values)\n",
    "    \n",
    "# display.display(errors_dist)"
   ]
  },
  {
   "cell_type": "code",
   "execution_count": 48,
   "metadata": {},
   "outputs": [],
   "source": [
    "errors_nodist_speed = errors_nodist_speed.rename(index = {0: 'loss_stats', 1:'rmsle_stats'})"
   ]
  },
  {
   "cell_type": "code",
   "execution_count": 51,
   "metadata": {},
   "outputs": [],
   "source": [
    "errors_nodist_speed = errors_nodist_speed.rename(index = {'loss_nodist': 'loss_stats', 'rmsle_nodist':'rmsle_stats'})"
   ]
  },
  {
   "cell_type": "code",
   "execution_count": 52,
   "metadata": {},
   "outputs": [
    {
     "data": {
      "image/png": "[encoded data removed]",
      "text/plain": [
       "<Figure size 720x432 with 1 Axes>"
      ]
     },
     "metadata": {
      "needs_background": "light"
     },
     "output_type": "display_data"
    },
    {
     "data": {
      "image/png": "[encoded data removed]",
      "text/plain": [
       "<Figure size 720x432 with 1 Axes>"
      ]
     },
     "metadata": {
      "needs_background": "light"
     },
     "output_type": "display_data"
    }
   ],
   "source": [
    "errors_nodist_speed.loc['loss_stats'].T.plot(figsize = (10 ,6 ), style ='.-')\n",
    "plt.xlabel('dist_bin')\n",
    "plt.ylabel('MAE')\n",
    "plt.grid(True)\n",
    "plt.show()\n",
    "\n",
    "errors_nodist_speed.loc['rmsle_stats'].T.plot(figsize = (10 ,6 ), style ='.-')\n",
    "plt.xlabel('dist_bin')\n",
    "plt.ylabel('rmsle')\n",
    "plt.grid(True)\n"
   ]
  },
  {
   "cell_type": "code",
   "execution_count": 33,
   "metadata": {},
   "outputs": [
    {
     "data": {
      "text/html": [
       "<div>\n",
       "<style scoped>\n",
       "    .dataframe tbody tr th:only-of-type {\n",
       "        vertical-align: middle;\n",
       "    }\n",
       "\n",
       "    .dataframe tbody tr th {\n",
       "        vertical-align: top;\n",
       "    }\n",
       "\n",
       "    .dataframe thead th {\n",
       "        text-align: right;\n",
       "    }\n",
       "</style>\n",
       "<table border=\"1\" class=\"dataframe\">\n",
       "  <thead>\n",
       "    <tr style=\"text-align: right;\">\n",
       "      <th></th>\n",
       "      <th>(71.085, 270.75]</th>\n",
       "      <th>(270.75, 466.5]</th>\n",
       "      <th>(466.5, 662.25]</th>\n",
       "      <th>(662.25, 858.0]</th>\n",
       "      <th>(858.0, 1053.75]</th>\n",
       "      <th>(1053.75, 1249.5]</th>\n",
       "      <th>(1249.5, 1445.25]</th>\n",
       "      <th>(1445.25, 1641.0]</th>\n",
       "      <th>(1641.0, 1836.75]</th>\n",
       "      <th>(1836.75, 2032.5]</th>\n",
       "      <th>(2032.5, 2228.25]</th>\n",
       "      <th>(2228.25, 2424.0]</th>\n",
       "      <th>(2424.0, 2619.75]</th>\n",
       "      <th>(2619.75, 2815.5]</th>\n",
       "      <th>(2815.5, 3011.25]</th>\n",
       "      <th>(3011.25, 3207.0]</th>\n",
       "      <th>(3207.0, 3402.75]</th>\n",
       "      <th>(3402.75, 3598.5]</th>\n",
       "      <th>(3598.5, 3794.25]</th>\n",
       "      <th>(3794.25, 3990.0]</th>\n",
       "    </tr>\n",
       "  </thead>\n",
       "  <tbody>\n",
       "    <tr>\n",
       "      <th>loss_nodist</th>\n",
       "      <td>43.527040</td>\n",
       "      <td>45.129080</td>\n",
       "      <td>49.456179</td>\n",
       "      <td>56.774314</td>\n",
       "      <td>64.859484</td>\n",
       "      <td>74.433932</td>\n",
       "      <td>80.251887</td>\n",
       "      <td>88.670689</td>\n",
       "      <td>82.735997</td>\n",
       "      <td>91.006493</td>\n",
       "      <td>93.682746</td>\n",
       "      <td>98.562682</td>\n",
       "      <td>100.308449</td>\n",
       "      <td>99.364997</td>\n",
       "      <td>107.027599</td>\n",
       "      <td>107.680746</td>\n",
       "      <td>98.097407</td>\n",
       "      <td>122.169050</td>\n",
       "      <td>124.097368</td>\n",
       "      <td>167.599597</td>\n",
       "    </tr>\n",
       "    <tr>\n",
       "      <th>rmsle_nodist</th>\n",
       "      <td>0.354173</td>\n",
       "      <td>0.173994</td>\n",
       "      <td>0.133717</td>\n",
       "      <td>0.119990</td>\n",
       "      <td>0.114670</td>\n",
       "      <td>0.117525</td>\n",
       "      <td>0.113943</td>\n",
       "      <td>0.114632</td>\n",
       "      <td>0.091463</td>\n",
       "      <td>0.102731</td>\n",
       "      <td>0.100329</td>\n",
       "      <td>0.100966</td>\n",
       "      <td>0.091595</td>\n",
       "      <td>0.088594</td>\n",
       "      <td>0.100332</td>\n",
       "      <td>0.094384</td>\n",
       "      <td>0.082366</td>\n",
       "      <td>0.115563</td>\n",
       "      <td>0.104592</td>\n",
       "      <td>0.122561</td>\n",
       "    </tr>\n",
       "  </tbody>\n",
       "</table>\n",
       "</div>"
      ],
      "text/plain": [
       "              (71.085, 270.75]  (270.75, 466.5]  (466.5, 662.25]  \\\n",
       "loss_nodist          43.527040        45.129080        49.456179   \n",
       "rmsle_nodist          0.354173         0.173994         0.133717   \n",
       "\n",
       "              (662.25, 858.0]  (858.0, 1053.75]  (1053.75, 1249.5]  \\\n",
       "loss_nodist         56.774314         64.859484          74.433932   \n",
       "rmsle_nodist         0.119990          0.114670           0.117525   \n",
       "\n",
       "              (1249.5, 1445.25]  (1445.25, 1641.0]  (1641.0, 1836.75]  \\\n",
       "loss_nodist           80.251887          88.670689          82.735997   \n",
       "rmsle_nodist           0.113943           0.114632           0.091463   \n",
       "\n",
       "              (1836.75, 2032.5]  (2032.5, 2228.25]  (2228.25, 2424.0]  \\\n",
       "loss_nodist           91.006493          93.682746          98.562682   \n",
       "rmsle_nodist           0.102731           0.100329           0.100966   \n",
       "\n",
       "              (2424.0, 2619.75]  (2619.75, 2815.5]  (2815.5, 3011.25]  \\\n",
       "loss_nodist          100.308449          99.364997         107.027599   \n",
       "rmsle_nodist           0.091595           0.088594           0.100332   \n",
       "\n",
       "              (3011.25, 3207.0]  (3207.0, 3402.75]  (3402.75, 3598.5]  \\\n",
       "loss_nodist          107.680746          98.097407         122.169050   \n",
       "rmsle_nodist           0.094384           0.082366           0.115563   \n",
       "\n",
       "              (3598.5, 3794.25]  (3794.25, 3990.0]  \n",
       "loss_nodist          124.097368         167.599597  \n",
       "rmsle_nodist           0.104592           0.122561  "
      ]
     },
     "execution_count": 33,
     "metadata": {},
     "output_type": "execute_result"
    }
   ],
   "source": [
    "errors_nodist_speed"
   ]
  },
  {
   "cell_type": "code",
   "execution_count": 53,
   "metadata": {},
   "outputs": [],
   "source": [
    "err = pd.concat([errors_nodist_speed, errors_nodist])"
   ]
  },
  {
   "cell_type": "code",
   "execution_count": 57,
   "metadata": {},
   "outputs": [
    {
     "data": {
      "image/png": "[encoded data removed]",
      "text/plain": [
       "<Figure size 720x432 with 1 Axes>"
      ]
     },
     "metadata": {
      "needs_background": "light"
     },
     "output_type": "display_data"
    },
    {
     "data": {
      "image/png": "[encoded data removed]",
      "text/plain": [
       "<Figure size 720x432 with 1 Axes>"
      ]
     },
     "metadata": {
      "needs_background": "light"
     },
     "output_type": "display_data"
    }
   ],
   "source": [
    "err.loc['loss_stats'].T.plot(figsize = (10 ,6 ), style ='.-')\n",
    "err.loc['loss_nostats'].T.plot(figsize = (10 ,6 ), style ='.-')\n",
    "plt.xlabel('dist_bin')\n",
    "plt.ylabel('MAE')\n",
    "plt.legend()\n",
    "plt.grid(True)\n",
    "plt.show()\n",
    "\n",
    "err.loc['rmsle_stats'].T.plot(figsize = (10 ,6 ), style ='.-')\n",
    "err.loc['rmsle_nostats'].T.plot(figsize = (10 ,6 ), style ='.-')\n",
    "plt.xlabel('dist_bin')\n",
    "plt.ylabel('rmsle')\n",
    "plt.legend()\n",
    "plt.grid(True)"
   ]
  },
  {
   "cell_type": "code",
   "execution_count": 59,
   "metadata": {},
   "outputs": [
    {
     "data": {
      "text/plain": [
       "22"
      ]
     },
     "execution_count": 59,
     "metadata": {},
     "output_type": "execute_result"
    }
   ],
   "source": [
    "del x_train\n",
    "gc.collect()"
   ]
  },
  {
   "cell_type": "code",
   "execution_count": null,
   "metadata": {},
   "outputs": [],
   "source": []
  }
 ],
 "metadata": {
  "kernelspec": {
   "display_name": "Python 3",
   "language": "python",
   "name": "python3"
  },
  "language_info": {
   "codemirror_mode": {
    "name": "ipython",
    "version": 3
   },
   "file_extension": ".py",
   "mimetype": "text/x-python",
   "name": "python",
   "nbconvert_exporter": "python",
   "pygments_lexer": "ipython3",
   "version": "3.7.3"
  }
 },
 "nbformat": 4,
 "nbformat_minor": 4
}
