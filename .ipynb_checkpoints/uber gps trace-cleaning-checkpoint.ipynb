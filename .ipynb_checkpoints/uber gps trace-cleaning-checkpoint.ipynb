{
 "cells": [
  {
   "cell_type": "code",
   "execution_count": 1,
   "metadata": {},
   "outputs": [],
   "source": [
    "from __future__ import print_function\n",
    "\n",
    "from IPython import display\n",
    "\n",
    "import math\n",
    "import matplotlib\n",
    "import sklearn\n",
    "import pandas as pd\n",
    "import numpy as np\n",
    "from matplotlib import pyplot as plt\n",
    "from numpy import radians, cos, sin, arcsin, arccos, sqrt, pi, arctan2, degrees, arctan\n",
    "import itertools\n",
    "\n",
    "from tqdm import tqdm, tqdm_notebook\n",
    "tqdm.pandas()\n",
    "tqdm.pandas(tqdm_notebook)\n",
    "\n",
    "import osrm\n",
    "from joblib import dump, load\n",
    "\n",
    "from sklearn.decomposition import PCA\n",
    "from sklearn.cluster import DBSCAN\n",
    "from sklearn.cluster import KMeans\n",
    "\n",
    "from natsort import natsorted\n",
    "from sklearn.model_selection import train_test_split\n",
    "from sklearn.model_selection import RandomizedSearchCV, GridSearchCV, train_test_split\n",
    "from sklearn import metrics\n",
    "\n",
    "from xgboost import XGBRegressor\n",
    "\n",
    "pd.options.display.max_rows = 10"
   ]
  },
  {
   "cell_type": "code",
   "execution_count": 2,
   "metadata": {},
   "outputs": [],
   "source": [
    "df = pd.read_csv('all.tsv', delim_whitespace=True, header =None, parse_dates=[1])\n",
    "df.columns = ['trip id','iso timestamp','latitude','longitude']\n",
    "grouper = df.groupby('trip id')"
   ]
  },
  {
   "cell_type": "code",
   "execution_count": null,
   "metadata": {},
   "outputs": [],
   "source": [
    "# pd.to_datetime(df['iso timestamp'])"
   ]
  },
  {
   "cell_type": "code",
   "execution_count": 5,
   "metadata": {},
   "outputs": [],
   "source": [
    "tripid = df[\"trip id\"].unique()\n",
    "tracks_dict = {elem: pd.DataFrame for elem in tripid}"
   ]
  },
  {
   "cell_type": "code",
   "execution_count": null,
   "metadata": {},
   "outputs": [],
   "source": [
    "for key in tqdm(tracks_dict.keys()):\n",
    "        tracks_dict[key] = df[:][df[\"trip id\"] == key] # [:] equal to .loc[:, tracks[\"name\"]]"
   ]
  },
  {
   "cell_type": "code",
   "execution_count": null,
   "metadata": {},
   "outputs": [],
   "source": [
    "tracks_dict[100].plot(x = 'latitude', y = 'longitude')"
   ]
  },
  {
   "cell_type": "code",
   "execution_count": null,
   "metadata": {},
   "outputs": [],
   "source": [
    "i = 0\n",
    "fig, ax = plt.subplots()\n",
    "for name, val in tqdm(grouper):\n",
    "    val.plot('longitude', 'latitude', ax= ax, legend = False, figsize = (10,12))\n",
    "    i+= 1\n",
    "    if i >800:\n",
    "        break"
   ]
  },
  {
   "cell_type": "code",
   "execution_count": 3,
   "metadata": {},
   "outputs": [],
   "source": [
    "def haversine(lat1, lon1, lat2, lon2):\n",
    "    #ensure using numpy and not math, or pandas series cannot be passed\n",
    "    lat1, lon1, lat2, lon2 = map(radians, [lat1, lon1, lat2, lon2])\n",
    "    dlon = lon2 - lon1\n",
    "    dlat = lat2 - lat1\n",
    "    a = sin(dlat/2)**2 + cos(lat1) * cos(lat2) * sin(dlon/2)**2\n",
    "    c = 2 * arcsin(sqrt(a))\n",
    "    r = 6378.137 ##radius of earth km\n",
    "    return c * r\n",
    "\n",
    "def compute_dist(df):\n",
    "    next_df = df.shift(1)\n",
    "    dist = haversine(df.iloc[:,0], df.iloc[:,1],\n",
    "                    next_df.iloc[:,0], next_df.iloc[:,1])\n",
    "    return dist\n",
    "\n",
    "def compute_time(df):\n",
    "    next_df = df.shift(1)\n",
    "#     df[\"time\"] = pd.to_datetime(df[\"time_utc\"], format=\"%Y-%m-%d %H:%M:%S.%f\", errors='raise')\n",
    "    timedelt = df[\"iso timestamp\"] - next_df[\"iso timestamp\"]\n",
    "    return timedelt\n",
    "\n",
    "def compute_speed(df):\n",
    "    kinematics = df.copy()\n",
    "    kinematics[\"distance_travelled\"] = compute_dist(kinematics[[\"latitude\", \"longitude\"]].astype(float)).values\n",
    "    kinematics[\"time_elapsed\"] = compute_time(kinematics).values\n",
    "    kinematics[\"time_elapsed_seconds\"] = kinematics[\"time_elapsed\"]/np.timedelta64(1,'s')\n",
    "    kinematics[\"speed m/s\"] = (kinematics[\"distance_travelled\"]*1000)/kinematics[\"time_elapsed_seconds\"]\n",
    "    kinematics[\"speed kmh\"] = kinematics[\"speed m/s\"]*3.6\n",
    "    kinematics.drop(columns = ['time_elapsed'], inplace = True)\n",
    "    kinematics.fillna(0, inplace = True)\n",
    "#     df[\"distance_travelled\"] = kinematics[\"distance_travelled\"].values\n",
    "#     df[\"speed kmh\"] = kinematics[\"speed kmh\"].values\n",
    "    return kinematics"
   ]
  },
  {
   "cell_type": "code",
   "execution_count": null,
   "metadata": {},
   "outputs": [],
   "source": [
    "df2 = tracks_dict[123].copy()\n",
    "import time\n"
   ]
  },
  {
   "cell_type": "code",
   "execution_count": null,
   "metadata": {},
   "outputs": [],
   "source": [
    "start = time.time()\n",
    "\n",
    "df3 = compute_speed(df2)\n",
    "\n",
    "end = time.time()\n",
    "print(end - start)"
   ]
  },
  {
   "cell_type": "code",
   "execution_count": 50,
   "metadata": {},
   "outputs": [
    {
     "data": {
      "text/html": [
       "<div>\n",
       "<style scoped>\n",
       "    .dataframe tbody tr th:only-of-type {\n",
       "        vertical-align: middle;\n",
       "    }\n",
       "\n",
       "    .dataframe tbody tr th {\n",
       "        vertical-align: top;\n",
       "    }\n",
       "\n",
       "    .dataframe thead th {\n",
       "        text-align: right;\n",
       "    }\n",
       "</style>\n",
       "<table border=\"1\" class=\"dataframe\">\n",
       "  <thead>\n",
       "    <tr style=\"text-align: right;\">\n",
       "      <th></th>\n",
       "      <th>trip id</th>\n",
       "      <th>iso timestamp</th>\n",
       "      <th>latitude</th>\n",
       "      <th>longitude</th>\n",
       "      <th>distance_travelled</th>\n",
       "      <th>time_elapsed_seconds</th>\n",
       "      <th>speed m/s</th>\n",
       "      <th>speed kmh</th>\n",
       "    </tr>\n",
       "  </thead>\n",
       "  <tbody>\n",
       "    <tr>\n",
       "      <th>5106</th>\n",
       "      <td>123</td>\n",
       "      <td>2007-01-01 08:10:52+00:00</td>\n",
       "      <td>37.788836</td>\n",
       "      <td>-122.419344</td>\n",
       "      <td>0.000000</td>\n",
       "      <td>0.0</td>\n",
       "      <td>0.000000</td>\n",
       "      <td>0.000000</td>\n",
       "    </tr>\n",
       "    <tr>\n",
       "      <th>5107</th>\n",
       "      <td>123</td>\n",
       "      <td>2007-01-01 08:10:56+00:00</td>\n",
       "      <td>37.788919</td>\n",
       "      <td>-122.418721</td>\n",
       "      <td>0.055580</td>\n",
       "      <td>4.0</td>\n",
       "      <td>13.895117</td>\n",
       "      <td>50.022422</td>\n",
       "    </tr>\n",
       "    <tr>\n",
       "      <th>5108</th>\n",
       "      <td>123</td>\n",
       "      <td>2007-01-01 08:11:00+00:00</td>\n",
       "      <td>37.788987</td>\n",
       "      <td>-122.418147</td>\n",
       "      <td>0.051061</td>\n",
       "      <td>4.0</td>\n",
       "      <td>12.765153</td>\n",
       "      <td>45.954552</td>\n",
       "    </tr>\n",
       "    <tr>\n",
       "      <th>5109</th>\n",
       "      <td>123</td>\n",
       "      <td>2007-01-01 08:11:04+00:00</td>\n",
       "      <td>37.789051</td>\n",
       "      <td>-122.417605</td>\n",
       "      <td>0.048211</td>\n",
       "      <td>4.0</td>\n",
       "      <td>12.052636</td>\n",
       "      <td>43.389488</td>\n",
       "    </tr>\n",
       "    <tr>\n",
       "      <th>5110</th>\n",
       "      <td>123</td>\n",
       "      <td>2007-01-01 08:11:08+00:00</td>\n",
       "      <td>37.789094</td>\n",
       "      <td>-122.417297</td>\n",
       "      <td>0.027515</td>\n",
       "      <td>4.0</td>\n",
       "      <td>6.878787</td>\n",
       "      <td>24.763633</td>\n",
       "    </tr>\n",
       "    <tr>\n",
       "      <th>...</th>\n",
       "      <td>...</td>\n",
       "      <td>...</td>\n",
       "      <td>...</td>\n",
       "      <td>...</td>\n",
       "      <td>...</td>\n",
       "      <td>...</td>\n",
       "      <td>...</td>\n",
       "      <td>...</td>\n",
       "    </tr>\n",
       "    <tr>\n",
       "      <th>5141</th>\n",
       "      <td>123</td>\n",
       "      <td>2007-01-01 08:13:28+00:00</td>\n",
       "      <td>37.779994</td>\n",
       "      <td>-122.415214</td>\n",
       "      <td>0.021620</td>\n",
       "      <td>4.0</td>\n",
       "      <td>5.404959</td>\n",
       "      <td>19.457852</td>\n",
       "    </tr>\n",
       "    <tr>\n",
       "      <th>5142</th>\n",
       "      <td>123</td>\n",
       "      <td>2007-01-01 08:13:44+00:00</td>\n",
       "      <td>37.779392</td>\n",
       "      <td>-122.415000</td>\n",
       "      <td>0.069609</td>\n",
       "      <td>16.0</td>\n",
       "      <td>4.350572</td>\n",
       "      <td>15.662060</td>\n",
       "    </tr>\n",
       "    <tr>\n",
       "      <th>5143</th>\n",
       "      <td>123</td>\n",
       "      <td>2007-01-01 08:13:48+00:00</td>\n",
       "      <td>37.778906</td>\n",
       "      <td>-122.414729</td>\n",
       "      <td>0.059123</td>\n",
       "      <td>4.0</td>\n",
       "      <td>14.780634</td>\n",
       "      <td>53.210282</td>\n",
       "    </tr>\n",
       "    <tr>\n",
       "      <th>5144</th>\n",
       "      <td>123</td>\n",
       "      <td>2007-01-01 08:13:52+00:00</td>\n",
       "      <td>37.778776</td>\n",
       "      <td>-122.414709</td>\n",
       "      <td>0.014578</td>\n",
       "      <td>4.0</td>\n",
       "      <td>3.644532</td>\n",
       "      <td>13.120315</td>\n",
       "    </tr>\n",
       "    <tr>\n",
       "      <th>5145</th>\n",
       "      <td>123</td>\n",
       "      <td>2007-01-01 08:13:56+00:00</td>\n",
       "      <td>37.778776</td>\n",
       "      <td>-122.414774</td>\n",
       "      <td>0.005719</td>\n",
       "      <td>4.0</td>\n",
       "      <td>1.429755</td>\n",
       "      <td>5.147118</td>\n",
       "    </tr>\n",
       "  </tbody>\n",
       "</table>\n",
       "<p>40 rows × 8 columns</p>\n",
       "</div>"
      ],
      "text/plain": [
       "      trip id             iso timestamp   latitude   longitude  \\\n",
       "5106      123 2007-01-01 08:10:52+00:00  37.788836 -122.419344   \n",
       "5107      123 2007-01-01 08:10:56+00:00  37.788919 -122.418721   \n",
       "5108      123 2007-01-01 08:11:00+00:00  37.788987 -122.418147   \n",
       "5109      123 2007-01-01 08:11:04+00:00  37.789051 -122.417605   \n",
       "5110      123 2007-01-01 08:11:08+00:00  37.789094 -122.417297   \n",
       "...       ...                       ...        ...         ...   \n",
       "5141      123 2007-01-01 08:13:28+00:00  37.779994 -122.415214   \n",
       "5142      123 2007-01-01 08:13:44+00:00  37.779392 -122.415000   \n",
       "5143      123 2007-01-01 08:13:48+00:00  37.778906 -122.414729   \n",
       "5144      123 2007-01-01 08:13:52+00:00  37.778776 -122.414709   \n",
       "5145      123 2007-01-01 08:13:56+00:00  37.778776 -122.414774   \n",
       "\n",
       "      distance_travelled  time_elapsed_seconds  speed m/s  speed kmh  \n",
       "5106            0.000000                   0.0   0.000000   0.000000  \n",
       "5107            0.055580                   4.0  13.895117  50.022422  \n",
       "5108            0.051061                   4.0  12.765153  45.954552  \n",
       "5109            0.048211                   4.0  12.052636  43.389488  \n",
       "5110            0.027515                   4.0   6.878787  24.763633  \n",
       "...                  ...                   ...        ...        ...  \n",
       "5141            0.021620                   4.0   5.404959  19.457852  \n",
       "5142            0.069609                  16.0   4.350572  15.662060  \n",
       "5143            0.059123                   4.0  14.780634  53.210282  \n",
       "5144            0.014578                   4.0   3.644532  13.120315  \n",
       "5145            0.005719                   4.0   1.429755   5.147118  \n",
       "\n",
       "[40 rows x 8 columns]"
      ]
     },
     "execution_count": 50,
     "metadata": {},
     "output_type": "execute_result"
    }
   ],
   "source": [
    "df3"
   ]
  },
  {
   "cell_type": "code",
   "execution_count": 4,
   "metadata": {},
   "outputs": [
    {
     "name": "stderr",
     "output_type": "stream",
     "text": [
      "100%|██████████| 24999/24999 [00:14<00:00, 1688.97it/s]\n"
     ]
    }
   ],
   "source": [
    "#Trip Creation\n",
    "\n",
    "taxi1 = []\n",
    "col_names = ['trip_id', 'pickup_datetime','pickup_latitude', 'pickup_longitude'\n",
    "             ,'dropoff_datetime','dropoff_latitude', 'dropoff_longitude']\n",
    "for name, val in tqdm(grouper):\n",
    "    trip = []\n",
    "    trip.append(name)\n",
    "    trip.append(val['iso timestamp'].iloc[0])\n",
    "    trip.append(val['latitude'].iloc[0])\n",
    "    trip.append(val['longitude'].iloc[0])\n",
    "    trip.append(val['iso timestamp'].iloc[-1])\n",
    "    trip.append(val['latitude'].iloc[-1])\n",
    "    trip.append(val['longitude'].iloc[-1])\n",
    "\n",
    "    taxi1.append(trip)"
   ]
  },
  {
   "cell_type": "code",
   "execution_count": 5,
   "metadata": {},
   "outputs": [],
   "source": [
    "taxi = pd.DataFrame(taxi1, columns = col_names)"
   ]
  },
  {
   "cell_type": "code",
   "execution_count": 6,
   "metadata": {},
   "outputs": [],
   "source": [
    "def coord_prec(coord):\n",
    "    precision =  math.pow(10, 3)\n",
    "    new_coord = float((int(precision * coord)))/precision\n",
    "    return new_coord\n"
   ]
  },
  {
   "cell_type": "code",
   "execution_count": 7,
   "metadata": {},
   "outputs": [],
   "source": [
    "def rmsle(ypred, ytest) :\n",
    "    assert len(ytest) == len(ypred)\n",
    "    return np.sqrt(np.mean((np.log1p(ypred) - np.log1p(ytest))**2))"
   ]
  },
  {
   "cell_type": "code",
   "execution_count": 8,
   "metadata": {},
   "outputs": [],
   "source": [
    "taxi['pickup_lat_cut'] = taxi.pickup_latitude.apply(coord_prec)\n",
    "taxi['pickup_lon_cut'] = taxi.pickup_longitude.apply(coord_prec)\n",
    "taxi['dropoff_lat_cut'] = taxi.dropoff_latitude.apply(coord_prec)\n",
    "taxi['dropoff_lon_cut'] = taxi.dropoff_longitude.apply(coord_prec)"
   ]
  },
  {
   "cell_type": "code",
   "execution_count": 9,
   "metadata": {},
   "outputs": [],
   "source": [
    "taxi['pickup_weekday'] = taxi['pickup_datetime'].dt.weekday\n",
    "taxi['pickup_hour_weekofyear'] = taxi['pickup_datetime'].dt.weekofyear\n",
    "taxi['pickup_hour'] = taxi['pickup_datetime'].dt.hour\n",
    "taxi['pickup_minute'] = taxi['pickup_datetime'].dt.minute\n",
    "taxi['pickup_dt'] = (taxi['pickup_datetime'] - taxi['pickup_datetime'].min()).dt.total_seconds()\n",
    "taxi['pickup_week_hour'] = taxi['pickup_weekday'] * 24 + taxi['pickup_hour']"
   ]
  },
  {
   "cell_type": "code",
   "execution_count": 10,
   "metadata": {},
   "outputs": [],
   "source": [
    "coords = np.vstack((taxi[['pickup_latitude', 'pickup_longitude']].values,\n",
    "                    taxi[['dropoff_latitude', 'dropoff_longitude']].values))\n",
    "pca = PCA()\n",
    "pca = pca.fit(coords)\n",
    "taxi['pickup_pca0'] = pca.transform(taxi[['pickup_latitude', 'pickup_longitude']])[:, 0]\n",
    "taxi['pickup_pca1'] = pca.transform(taxi[['pickup_latitude', 'pickup_longitude']])[:, 1]\n",
    "taxi['dropoff_pca0'] = pca.transform(taxi[['dropoff_latitude', 'dropoff_longitude']])[:, 0]\n",
    "taxi['dropoff_pca1'] = pca.transform(taxi[['dropoff_latitude', 'dropoff_longitude']])[:, 1]\n"
   ]
  },
  {
   "cell_type": "code",
   "execution_count": 11,
   "metadata": {},
   "outputs": [],
   "source": [
    "km = KMeans(\n",
    "    n_clusters=50, init='random',\n",
    "    n_init=10, max_iter=300, \n",
    "    tol=1e-04, random_state=0\n",
    ")\n",
    "\n",
    "# km = load('kmeans_0310.joblib')\n",
    "coordinates = taxi[[\"pickup_longitude\", \"pickup_latitude\"]].values\n",
    "pickup_km = km.fit_predict(coordinates)\n",
    "\n",
    "\n",
    "coordinates = taxi[[\"dropoff_longitude\", \"dropoff_latitude\"]].values\n",
    "dropoff_km = km.predict(coordinates)\n",
    "\n",
    "\n",
    "taxi[\"pickup_cluster\"] = pickup_km\n",
    "taxi[\"dropoff_cluster\"] = dropoff_km"
   ]
  },
  {
   "cell_type": "code",
   "execution_count": 12,
   "metadata": {},
   "outputs": [],
   "source": [
    "taxi['duration'] = taxi['dropoff_datetime'] - taxi['pickup_datetime']\n",
    "taxi['duration'] = taxi['duration'].dt.total_seconds().astype(int)"
   ]
  },
  {
   "cell_type": "code",
   "execution_count": 13,
   "metadata": {},
   "outputs": [],
   "source": [
    "taxi = taxi[taxi['duration'] > 0]"
   ]
  },
  {
   "cell_type": "code",
   "execution_count": 14,
   "metadata": {},
   "outputs": [
    {
     "data": {
      "text/plain": [
       "<matplotlib.axes._subplots.AxesSubplot at 0x7fd116fe7198>"
      ]
     },
     "execution_count": 14,
     "metadata": {},
     "output_type": "execute_result"
    },
    {
     "data": {
      "image/png": "[encoded data removed]",
      "text/plain": [
       "<Figure size 432x288 with 1 Axes>"
      ]
     },
     "metadata": {
      "needs_background": "light"
     },
     "output_type": "display_data"
    }
   ],
   "source": [
    "taxi['duration'].hist(bins = 100)"
   ]
  },
  {
   "cell_type": "code",
   "execution_count": 15,
   "metadata": {},
   "outputs": [
    {
     "data": {
      "text/plain": [
       "Index(['trip_id', 'pickup_datetime', 'pickup_latitude', 'pickup_longitude',\n",
       "       'dropoff_datetime', 'dropoff_latitude', 'dropoff_longitude',\n",
       "       'pickup_lat_cut', 'pickup_lon_cut', 'dropoff_lat_cut',\n",
       "       'dropoff_lon_cut', 'pickup_weekday', 'pickup_hour_weekofyear',\n",
       "       'pickup_hour', 'pickup_minute', 'pickup_dt', 'pickup_week_hour',\n",
       "       'pickup_pca0', 'pickup_pca1', 'dropoff_pca0', 'dropoff_pca1',\n",
       "       'pickup_cluster', 'dropoff_cluster', 'duration'],\n",
       "      dtype='object')"
      ]
     },
     "execution_count": 15,
     "metadata": {},
     "output_type": "execute_result"
    }
   ],
   "source": [
    "taxi.columns"
   ]
  },
  {
   "cell_type": "code",
   "execution_count": 16,
   "metadata": {},
   "outputs": [],
   "source": [
    "def osrm_dist(foo):\n",
    "    try:\n",
    "        result = osrm.simple_route([foo['pickup_longitude'],foo['pickup_latitude']], [foo['dropoff_longitude'], foo['dropoff_latitude']],\n",
    "                               output='route', overview=\"full\", geometry='wkt')\n",
    "        result = pd.DataFrame(result)\n",
    "        return result['distance']/1000\n",
    "    except:\n",
    "        pass\n"
   ]
  },
  {
   "cell_type": "code",
   "execution_count": 53,
   "metadata": {},
   "outputs": [
    {
     "data": {
      "text/html": [
       "<div>\n",
       "<style scoped>\n",
       "    .dataframe tbody tr th:only-of-type {\n",
       "        vertical-align: middle;\n",
       "    }\n",
       "\n",
       "    .dataframe tbody tr th {\n",
       "        vertical-align: top;\n",
       "    }\n",
       "\n",
       "    .dataframe thead th {\n",
       "        text-align: right;\n",
       "    }\n",
       "</style>\n",
       "<table border=\"1\" class=\"dataframe\">\n",
       "  <thead>\n",
       "    <tr style=\"text-align: right;\">\n",
       "      <th></th>\n",
       "      <th>distance</th>\n",
       "      <th>duration</th>\n",
       "      <th>geometry</th>\n",
       "      <th>legs</th>\n",
       "      <th>weight</th>\n",
       "      <th>weight_name</th>\n",
       "    </tr>\n",
       "  </thead>\n",
       "  <tbody>\n",
       "    <tr>\n",
       "      <th>0</th>\n",
       "      <td>88.7</td>\n",
       "      <td>9.6</td>\n",
       "      <td>LINESTRING (-122.42318 37.77001,-122.42316 37....</td>\n",
       "      <td>[{'annotation': {'metadata': {'datasource_name...</td>\n",
       "      <td>9.6</td>\n",
       "      <td>routability</td>\n",
       "    </tr>\n",
       "  </tbody>\n",
       "</table>\n",
       "</div>"
      ],
      "text/plain": [
       "   distance  duration                                           geometry  \\\n",
       "0      88.7       9.6  LINESTRING (-122.42318 37.77001,-122.42316 37....   \n",
       "\n",
       "                                                legs  weight  weight_name  \n",
       "0  [{'annotation': {'metadata': {'datasource_name...     9.6  routability  "
      ]
     },
     "execution_count": 53,
     "metadata": {},
     "output_type": "execute_result"
    }
   ],
   "source": [
    "##Testing server response\n",
    "foo = taxi.iloc[111]\n",
    "result = osrm.simple_route([foo['pickup_longitude'],foo['pickup_latitude']], [foo['dropoff_longitude'], foo['dropoff_latitude']],\n",
    "                           output='route', overview=\"full\", geometry='wkt')\n",
    "result = pd.DataFrame(result)\n",
    "result"
   ]
  },
  {
   "cell_type": "code",
   "execution_count": 46,
   "metadata": {},
   "outputs": [
    {
     "data": {
      "text/html": [
       "<div>\n",
       "<style scoped>\n",
       "    .dataframe tbody tr th:only-of-type {\n",
       "        vertical-align: middle;\n",
       "    }\n",
       "\n",
       "    .dataframe tbody tr th {\n",
       "        vertical-align: top;\n",
       "    }\n",
       "\n",
       "    .dataframe thead th {\n",
       "        text-align: right;\n",
       "    }\n",
       "</style>\n",
       "<table border=\"1\" class=\"dataframe\">\n",
       "  <thead>\n",
       "    <tr style=\"text-align: right;\">\n",
       "      <th></th>\n",
       "      <th>trip_id</th>\n",
       "      <th>pickup_datetime</th>\n",
       "      <th>pickup_latitude</th>\n",
       "      <th>pickup_longitude</th>\n",
       "      <th>dropoff_datetime</th>\n",
       "      <th>dropoff_latitude</th>\n",
       "      <th>dropoff_longitude</th>\n",
       "      <th>pickup_lat_cut</th>\n",
       "      <th>pickup_lon_cut</th>\n",
       "      <th>dropoff_lat_cut</th>\n",
       "      <th>...</th>\n",
       "      <th>pickup_week_hour</th>\n",
       "      <th>pickup_pca0</th>\n",
       "      <th>pickup_pca1</th>\n",
       "      <th>dropoff_pca0</th>\n",
       "      <th>dropoff_pca1</th>\n",
       "      <th>pickup_cluster</th>\n",
       "      <th>dropoff_cluster</th>\n",
       "      <th>duration</th>\n",
       "      <th>osrm_dist</th>\n",
       "      <th>dist_bin</th>\n",
       "    </tr>\n",
       "  </thead>\n",
       "  <tbody>\n",
       "    <tr>\n",
       "      <th>18957</th>\n",
       "      <td>18959</td>\n",
       "      <td>2007-01-02 04:13:44+00:00</td>\n",
       "      <td>37.785940</td>\n",
       "      <td>-122.404173</td>\n",
       "      <td>2007-01-02 04:14:56+00:00</td>\n",
       "      <td>37.785909</td>\n",
       "      <td>-122.403869</td>\n",
       "      <td>37.785</td>\n",
       "      <td>-122.404</td>\n",
       "      <td>37.785</td>\n",
       "      <td>...</td>\n",
       "      <td>28</td>\n",
       "      <td>-0.007422</td>\n",
       "      <td>0.013604</td>\n",
       "      <td>-0.007361</td>\n",
       "      <td>0.013904</td>\n",
       "      <td>48</td>\n",
       "      <td>48</td>\n",
       "      <td>72</td>\n",
       "      <td>0.0</td>\n",
       "      <td>nan</td>\n",
       "    </tr>\n",
       "    <tr>\n",
       "      <th>3582</th>\n",
       "      <td>3583</td>\n",
       "      <td>2007-01-05 17:22:22+00:00</td>\n",
       "      <td>37.786862</td>\n",
       "      <td>-122.424228</td>\n",
       "      <td>2007-01-05 17:26:30+00:00</td>\n",
       "      <td>37.786911</td>\n",
       "      <td>-122.424058</td>\n",
       "      <td>37.786</td>\n",
       "      <td>-122.424</td>\n",
       "      <td>37.786</td>\n",
       "      <td>...</td>\n",
       "      <td>113</td>\n",
       "      <td>-0.010335</td>\n",
       "      <td>-0.006260</td>\n",
       "      <td>-0.010366</td>\n",
       "      <td>-0.006086</td>\n",
       "      <td>32</td>\n",
       "      <td>32</td>\n",
       "      <td>248</td>\n",
       "      <td>0.0</td>\n",
       "      <td>nan</td>\n",
       "    </tr>\n",
       "    <tr>\n",
       "      <th>16823</th>\n",
       "      <td>16825</td>\n",
       "      <td>2007-01-07 00:20:34+00:00</td>\n",
       "      <td>37.867123</td>\n",
       "      <td>-122.203583</td>\n",
       "      <td>2007-01-07 00:37:58+00:00</td>\n",
       "      <td>37.883806</td>\n",
       "      <td>-122.274354</td>\n",
       "      <td>37.867</td>\n",
       "      <td>-122.203</td>\n",
       "      <td>37.883</td>\n",
       "      <td>...</td>\n",
       "      <td>144</td>\n",
       "      <td>-0.068250</td>\n",
       "      <td>0.221275</td>\n",
       "      <td>-0.091890</td>\n",
       "      <td>0.152514</td>\n",
       "      <td>49</td>\n",
       "      <td>49</td>\n",
       "      <td>1044</td>\n",
       "      <td>0.0</td>\n",
       "      <td>nan</td>\n",
       "    </tr>\n",
       "    <tr>\n",
       "      <th>24167</th>\n",
       "      <td>24169</td>\n",
       "      <td>2007-01-06 08:13:47+00:00</td>\n",
       "      <td>37.785745</td>\n",
       "      <td>-122.404250</td>\n",
       "      <td>2007-01-06 08:14:47+00:00</td>\n",
       "      <td>37.785732</td>\n",
       "      <td>-122.404173</td>\n",
       "      <td>37.785</td>\n",
       "      <td>-122.404</td>\n",
       "      <td>37.785</td>\n",
       "      <td>...</td>\n",
       "      <td>128</td>\n",
       "      <td>-0.007236</td>\n",
       "      <td>0.013508</td>\n",
       "      <td>-0.007215</td>\n",
       "      <td>0.013584</td>\n",
       "      <td>48</td>\n",
       "      <td>48</td>\n",
       "      <td>60</td>\n",
       "      <td>0.0</td>\n",
       "      <td>nan</td>\n",
       "    </tr>\n",
       "    <tr>\n",
       "      <th>22972</th>\n",
       "      <td>22974</td>\n",
       "      <td>2007-01-03 15:15:41+00:00</td>\n",
       "      <td>37.725650</td>\n",
       "      <td>-122.434550</td>\n",
       "      <td>2007-01-03 15:15:45+00:00</td>\n",
       "      <td>37.725648</td>\n",
       "      <td>-122.434554</td>\n",
       "      <td>37.725</td>\n",
       "      <td>-122.434</td>\n",
       "      <td>37.725</td>\n",
       "      <td>...</td>\n",
       "      <td>63</td>\n",
       "      <td>0.049547</td>\n",
       "      <td>-0.022619</td>\n",
       "      <td>0.049549</td>\n",
       "      <td>-0.022623</td>\n",
       "      <td>15</td>\n",
       "      <td>15</td>\n",
       "      <td>4</td>\n",
       "      <td>0.0</td>\n",
       "      <td>nan</td>\n",
       "    </tr>\n",
       "    <tr>\n",
       "      <th>...</th>\n",
       "      <td>...</td>\n",
       "      <td>...</td>\n",
       "      <td>...</td>\n",
       "      <td>...</td>\n",
       "      <td>...</td>\n",
       "      <td>...</td>\n",
       "      <td>...</td>\n",
       "      <td>...</td>\n",
       "      <td>...</td>\n",
       "      <td>...</td>\n",
       "      <td>...</td>\n",
       "      <td>...</td>\n",
       "      <td>...</td>\n",
       "      <td>...</td>\n",
       "      <td>...</td>\n",
       "      <td>...</td>\n",
       "      <td>...</td>\n",
       "      <td>...</td>\n",
       "      <td>...</td>\n",
       "      <td>...</td>\n",
       "      <td>...</td>\n",
       "    </tr>\n",
       "    <tr>\n",
       "      <th>12488</th>\n",
       "      <td>12489</td>\n",
       "      <td>2007-01-07 02:58:54+00:00</td>\n",
       "      <td>37.772194</td>\n",
       "      <td>-122.423105</td>\n",
       "      <td>2007-01-07 03:02:06+00:00</td>\n",
       "      <td>37.762408</td>\n",
       "      <td>-122.436799</td>\n",
       "      <td>37.772</td>\n",
       "      <td>-122.423</td>\n",
       "      <td>37.762</td>\n",
       "      <td>...</td>\n",
       "      <td>146</td>\n",
       "      <td>0.004372</td>\n",
       "      <td>-0.006601</td>\n",
       "      <td>0.012748</td>\n",
       "      <td>-0.021201</td>\n",
       "      <td>31</td>\n",
       "      <td>27</td>\n",
       "      <td>192</td>\n",
       "      <td>NaN</td>\n",
       "      <td>nan</td>\n",
       "    </tr>\n",
       "    <tr>\n",
       "      <th>14551</th>\n",
       "      <td>14552</td>\n",
       "      <td>2007-01-07 04:56:42+00:00</td>\n",
       "      <td>37.794425</td>\n",
       "      <td>-122.398350</td>\n",
       "      <td>2007-01-07 05:17:42+00:00</td>\n",
       "      <td>37.933036</td>\n",
       "      <td>-122.326152</td>\n",
       "      <td>37.794</td>\n",
       "      <td>-122.398</td>\n",
       "      <td>37.933</td>\n",
       "      <td>...</td>\n",
       "      <td>148</td>\n",
       "      <td>-0.015286</td>\n",
       "      <td>0.020242</td>\n",
       "      <td>-0.146028</td>\n",
       "      <td>0.105870</td>\n",
       "      <td>9</td>\n",
       "      <td>5</td>\n",
       "      <td>1260</td>\n",
       "      <td>NaN</td>\n",
       "      <td>nan</td>\n",
       "    </tr>\n",
       "    <tr>\n",
       "      <th>16394</th>\n",
       "      <td>16396</td>\n",
       "      <td>2007-01-05 05:39:22+00:00</td>\n",
       "      <td>37.789232</td>\n",
       "      <td>-122.392158</td>\n",
       "      <td>2007-01-05 05:52:34+00:00</td>\n",
       "      <td>37.866640</td>\n",
       "      <td>-122.303195</td>\n",
       "      <td>37.789</td>\n",
       "      <td>-122.392</td>\n",
       "      <td>37.866</td>\n",
       "      <td>...</td>\n",
       "      <td>101</td>\n",
       "      <td>-0.009503</td>\n",
       "      <td>0.025887</td>\n",
       "      <td>-0.077678</td>\n",
       "      <td>0.122109</td>\n",
       "      <td>24</td>\n",
       "      <td>49</td>\n",
       "      <td>792</td>\n",
       "      <td>NaN</td>\n",
       "      <td>nan</td>\n",
       "    </tr>\n",
       "    <tr>\n",
       "      <th>16865</th>\n",
       "      <td>16867</td>\n",
       "      <td>2007-01-04 02:18:09+00:00</td>\n",
       "      <td>37.788319</td>\n",
       "      <td>-122.390082</td>\n",
       "      <td>2007-01-04 02:34:25+00:00</td>\n",
       "      <td>37.848749</td>\n",
       "      <td>-122.252810</td>\n",
       "      <td>37.788</td>\n",
       "      <td>-122.390</td>\n",
       "      <td>37.848</td>\n",
       "      <td>...</td>\n",
       "      <td>74</td>\n",
       "      <td>-0.008388</td>\n",
       "      <td>0.027862</td>\n",
       "      <td>-0.054864</td>\n",
       "      <td>0.170464</td>\n",
       "      <td>24</td>\n",
       "      <td>49</td>\n",
       "      <td>976</td>\n",
       "      <td>NaN</td>\n",
       "      <td>nan</td>\n",
       "    </tr>\n",
       "    <tr>\n",
       "      <th>16879</th>\n",
       "      <td>16881</td>\n",
       "      <td>2007-01-07 03:43:09+00:00</td>\n",
       "      <td>37.783127</td>\n",
       "      <td>-122.393645</td>\n",
       "      <td>2007-01-07 03:57:25+00:00</td>\n",
       "      <td>37.834861</td>\n",
       "      <td>-122.218606</td>\n",
       "      <td>37.783</td>\n",
       "      <td>-122.393</td>\n",
       "      <td>37.834</td>\n",
       "      <td>...</td>\n",
       "      <td>147</td>\n",
       "      <td>-0.003576</td>\n",
       "      <td>0.023800</td>\n",
       "      <td>-0.037643</td>\n",
       "      <td>0.203117</td>\n",
       "      <td>38</td>\n",
       "      <td>49</td>\n",
       "      <td>856</td>\n",
       "      <td>NaN</td>\n",
       "      <td>nan</td>\n",
       "    </tr>\n",
       "  </tbody>\n",
       "</table>\n",
       "<p>24632 rows × 26 columns</p>\n",
       "</div>"
      ],
      "text/plain": [
       "       trip_id           pickup_datetime  pickup_latitude  pickup_longitude  \\\n",
       "18957    18959 2007-01-02 04:13:44+00:00        37.785940       -122.404173   \n",
       "3582      3583 2007-01-05 17:22:22+00:00        37.786862       -122.424228   \n",
       "16823    16825 2007-01-07 00:20:34+00:00        37.867123       -122.203583   \n",
       "24167    24169 2007-01-06 08:13:47+00:00        37.785745       -122.404250   \n",
       "22972    22974 2007-01-03 15:15:41+00:00        37.725650       -122.434550   \n",
       "...        ...                       ...              ...               ...   \n",
       "12488    12489 2007-01-07 02:58:54+00:00        37.772194       -122.423105   \n",
       "14551    14552 2007-01-07 04:56:42+00:00        37.794425       -122.398350   \n",
       "16394    16396 2007-01-05 05:39:22+00:00        37.789232       -122.392158   \n",
       "16865    16867 2007-01-04 02:18:09+00:00        37.788319       -122.390082   \n",
       "16879    16881 2007-01-07 03:43:09+00:00        37.783127       -122.393645   \n",
       "\n",
       "               dropoff_datetime  dropoff_latitude  dropoff_longitude  \\\n",
       "18957 2007-01-02 04:14:56+00:00         37.785909        -122.403869   \n",
       "3582  2007-01-05 17:26:30+00:00         37.786911        -122.424058   \n",
       "16823 2007-01-07 00:37:58+00:00         37.883806        -122.274354   \n",
       "24167 2007-01-06 08:14:47+00:00         37.785732        -122.404173   \n",
       "22972 2007-01-03 15:15:45+00:00         37.725648        -122.434554   \n",
       "...                         ...               ...                ...   \n",
       "12488 2007-01-07 03:02:06+00:00         37.762408        -122.436799   \n",
       "14551 2007-01-07 05:17:42+00:00         37.933036        -122.326152   \n",
       "16394 2007-01-05 05:52:34+00:00         37.866640        -122.303195   \n",
       "16865 2007-01-04 02:34:25+00:00         37.848749        -122.252810   \n",
       "16879 2007-01-07 03:57:25+00:00         37.834861        -122.218606   \n",
       "\n",
       "       pickup_lat_cut  pickup_lon_cut  dropoff_lat_cut  ...  pickup_week_hour  \\\n",
       "18957          37.785        -122.404           37.785  ...                28   \n",
       "3582           37.786        -122.424           37.786  ...               113   \n",
       "16823          37.867        -122.203           37.883  ...               144   \n",
       "24167          37.785        -122.404           37.785  ...               128   \n",
       "22972          37.725        -122.434           37.725  ...                63   \n",
       "...               ...             ...              ...  ...               ...   \n",
       "12488          37.772        -122.423           37.762  ...               146   \n",
       "14551          37.794        -122.398           37.933  ...               148   \n",
       "16394          37.789        -122.392           37.866  ...               101   \n",
       "16865          37.788        -122.390           37.848  ...                74   \n",
       "16879          37.783        -122.393           37.834  ...               147   \n",
       "\n",
       "       pickup_pca0  pickup_pca1  dropoff_pca0  dropoff_pca1  pickup_cluster  \\\n",
       "18957    -0.007422     0.013604     -0.007361      0.013904              48   \n",
       "3582     -0.010335    -0.006260     -0.010366     -0.006086              32   \n",
       "16823    -0.068250     0.221275     -0.091890      0.152514              49   \n",
       "24167    -0.007236     0.013508     -0.007215      0.013584              48   \n",
       "22972     0.049547    -0.022619      0.049549     -0.022623              15   \n",
       "...            ...          ...           ...           ...             ...   \n",
       "12488     0.004372    -0.006601      0.012748     -0.021201              31   \n",
       "14551    -0.015286     0.020242     -0.146028      0.105870               9   \n",
       "16394    -0.009503     0.025887     -0.077678      0.122109              24   \n",
       "16865    -0.008388     0.027862     -0.054864      0.170464              24   \n",
       "16879    -0.003576     0.023800     -0.037643      0.203117              38   \n",
       "\n",
       "       dropoff_cluster  duration  osrm_dist  dist_bin  \n",
       "18957               48        72        0.0       nan  \n",
       "3582                32       248        0.0       nan  \n",
       "16823               49      1044        0.0       nan  \n",
       "24167               48        60        0.0       nan  \n",
       "22972               15         4        0.0       nan  \n",
       "...                ...       ...        ...       ...  \n",
       "12488               27       192        NaN       nan  \n",
       "14551                5      1260        NaN       nan  \n",
       "16394               49       792        NaN       nan  \n",
       "16865               49       976        NaN       nan  \n",
       "16879               49       856        NaN       nan  \n",
       "\n",
       "[24632 rows x 26 columns]"
      ]
     },
     "execution_count": 46,
     "metadata": {},
     "output_type": "execute_result"
    }
   ],
   "source": [
    "taxi"
   ]
  },
  {
   "cell_type": "code",
   "execution_count": 19,
   "metadata": {},
   "outputs": [],
   "source": [
    "# df2['osrm_dist'] = df2.apply(osrm_dist, axis = 1)"
   ]
  },
  {
   "cell_type": "code",
   "execution_count": 20,
   "metadata": {},
   "outputs": [
    {
     "name": "stderr",
     "output_type": "stream",
     "text": [
      "100%|██████████| 24632/24632 [02:17<00:00, 179.01it/s]"
     ]
    },
    {
     "name": "stdout",
     "output_type": "stream",
     "text": [
      "137.67336916923523\n"
     ]
    },
    {
     "name": "stderr",
     "output_type": "stream",
     "text": [
      "\n"
     ]
    }
   ],
   "source": [
    "import time\n",
    "start = time.time()\n",
    "\n",
    "taxi['osrm_dist'] = taxi.progress_apply(osrm_dist, axis = 1)\n",
    "\n",
    "end = time.time()\n",
    "print(end - start)"
   ]
  },
  {
   "cell_type": "code",
   "execution_count": 528,
   "metadata": {},
   "outputs": [],
   "source": [
    "def osrm_time(df3):\n",
    "    df3['osrm_dist'] = df3.progress_apply(osrm_dist, axis = 1)\n",
    "    return df3"
   ]
  },
  {
   "cell_type": "code",
   "execution_count": null,
   "metadata": {
    "scrolled": true
   },
   "outputs": [],
   "source": [
    "import time\n",
    "from multiprocessing import Process, Manager, Pool\n",
    "\n",
    "start = time.time()\n",
    "\n",
    "df_split = np.array_split(taxi, 4) \n",
    "pool = Pool(4, maxtasksperchild=1000)        \n",
    "df = pd.concat(pool.map(osrm_time,df_split))\n",
    "pool.close()\n",
    "pool.join()\n",
    "\n",
    "end = time.time()\n",
    "print(end - start)\n",
    "\n",
    "del df_split\n",
    "del df2\n",
    "df2 = df\n",
    "del df"
   ]
  },
  {
   "cell_type": "code",
   "execution_count": 23,
   "metadata": {},
   "outputs": [],
   "source": [
    "df2.sort_values(by=['osrm_dist'], inplace=True)\n",
    "df2['dist_bin'] = pd.cut(df2['osrm_dist'], [0, 1, 2, 3, 4, 5, 6, 7, 8, 9 ,10, 20]).astype(str).str.strip('()[]')"
   ]
  },
  {
   "cell_type": "code",
   "execution_count": 540,
   "metadata": {},
   "outputs": [],
   "source": [
    "x = df2[['pickup_latitude', 'pickup_longitude', 'dropoff_latitude', 'dropoff_longitude',\n",
    "       'pickup_lat_cut', 'pickup_lon_cut', 'dropoff_lat_cut',\n",
    "       'dropoff_lon_cut', 'pickup_weekday', 'pickup_hour_weekofyear',\n",
    "       'pickup_hour', 'pickup_minute', 'pickup_dt', 'pickup_week_hour',\n",
    "       'pickup_pca0', 'pickup_pca1', 'dropoff_pca0', 'dropoff_pca1',\n",
    "       'pickup_cluster', 'dropoff_cluster']]\n",
    "y = df2['duration']"
   ]
  },
  {
   "cell_type": "code",
   "execution_count": 545,
   "metadata": {},
   "outputs": [],
   "source": [
    "X_train, X_validation, Y_train, Y_validation =  train_test_split(x,y, test_size = 0.1, random_state = 42)"
   ]
  },
  {
   "cell_type": "code",
   "execution_count": 546,
   "metadata": {},
   "outputs": [],
   "source": [
    "x_train_prescale = X_train.values\n",
    "x_validation_prescale = X_validation.values"
   ]
  },
  {
   "cell_type": "code",
   "execution_count": 547,
   "metadata": {},
   "outputs": [],
   "source": [
    "control_scaler_nodist = sklearn.preprocessing.StandardScaler()\n",
    "x_train = control_scaler_nodist.fit_transform(x_train_prescale)\n",
    "x_test = control_scaler_nodist.transform(x_validation_prescale)"
   ]
  },
  {
   "cell_type": "code",
   "execution_count": 548,
   "metadata": {},
   "outputs": [],
   "source": [
    "xg_reg_nodist = XGBRegressor(objective ='reg:squarederror', n_jobs = -1, min_child_weight = 3, max_depth = 12, learning_rate = 0.1,\n",
    "                      gamma = 0.1, colsample_bytree = 0.5, alpha = 10, n_estimators = 370)"
   ]
  },
  {
   "cell_type": "code",
   "execution_count": 549,
   "metadata": {},
   "outputs": [
    {
     "name": "stderr",
     "output_type": "stream",
     "text": [
      "/home/ericlow/anaconda3/lib/python3.7/site-packages/xgboost/core.py:587: FutureWarning: Series.base is deprecated and will be removed in a future version\n",
      "  if getattr(data, 'base', None) is not None and \\\n"
     ]
    },
    {
     "data": {
      "text/plain": [
       "XGBRegressor(alpha=10, base_score=0.5, booster='gbtree', colsample_bylevel=1,\n",
       "             colsample_bynode=1, colsample_bytree=0.5, gamma=0.1,\n",
       "             importance_type='gain', learning_rate=0.1, max_delta_step=0,\n",
       "             max_depth=12, min_child_weight=3, missing=None, n_estimators=370,\n",
       "             n_jobs=-1, nthread=None, objective='reg:squarederror',\n",
       "             random_state=0, reg_alpha=0, reg_lambda=1, scale_pos_weight=1,\n",
       "             seed=None, silent=None, subsample=1, verbosity=1)"
      ]
     },
     "execution_count": 549,
     "metadata": {},
     "output_type": "execute_result"
    }
   ],
   "source": [
    "xg_reg_nodist.fit(x_train,Y_train)\n"
   ]
  },
  {
   "cell_type": "code",
   "execution_count": 550,
   "metadata": {},
   "outputs": [
    {
     "name": "stdout",
     "output_type": "stream",
     "text": [
      "MAE:  85.91745603858651 \n",
      "RMSLE:  0.38807326966847294\n"
     ]
    }
   ],
   "source": [
    "y_pred = xg_reg_nodist.predict(x_test)\n",
    "print(\"MAE: \", metrics.mean_absolute_error(Y_validation, y_pred), \"\\nRMSLE: \", rmsle(Y_validation, y_pred))"
   ]
  },
  {
   "cell_type": "code",
   "execution_count": 551,
   "metadata": {},
   "outputs": [
    {
     "name": "stdout",
     "output_type": "stream",
     "text": [
      "0.0, 1.0\n",
      "1.0, 2.0\n",
      "2.0, 3.0\n",
      "3.0, 4.0\n",
      "4.0, 5.0\n",
      "5.0, 6.0\n",
      "6.0, 7.0\n",
      "7.0, 8.0\n",
      "8.0, 9.0\n",
      "9.0, 10.0\n",
      "10.0, 20.0\n",
      "nan\n"
     ]
    },
    {
     "data": {
      "text/html": [
       "<div>\n",
       "<style scoped>\n",
       "    .dataframe tbody tr th:only-of-type {\n",
       "        vertical-align: middle;\n",
       "    }\n",
       "\n",
       "    .dataframe tbody tr th {\n",
       "        vertical-align: top;\n",
       "    }\n",
       "\n",
       "    .dataframe thead th {\n",
       "        text-align: right;\n",
       "    }\n",
       "</style>\n",
       "<table border=\"1\" class=\"dataframe\">\n",
       "  <thead>\n",
       "    <tr style=\"text-align: right;\">\n",
       "      <th></th>\n",
       "      <th>0.0, 1.0</th>\n",
       "      <th>1.0, 2.0</th>\n",
       "      <th>2.0, 3.0</th>\n",
       "      <th>3.0, 4.0</th>\n",
       "      <th>4.0, 5.0</th>\n",
       "      <th>5.0, 6.0</th>\n",
       "      <th>6.0, 7.0</th>\n",
       "      <th>7.0, 8.0</th>\n",
       "      <th>8.0, 9.0</th>\n",
       "      <th>9.0, 10.0</th>\n",
       "      <th>10.0, 20.0</th>\n",
       "      <th>nan</th>\n",
       "    </tr>\n",
       "  </thead>\n",
       "  <tbody>\n",
       "    <tr>\n",
       "      <th>0</th>\n",
       "      <td>72.184271</td>\n",
       "      <td>67.713099</td>\n",
       "      <td>81.970729</td>\n",
       "      <td>114.155999</td>\n",
       "      <td>136.286037</td>\n",
       "      <td>118.284722</td>\n",
       "      <td>148.791517</td>\n",
       "      <td>129.447390</td>\n",
       "      <td>819.954144</td>\n",
       "      <td>197.249359</td>\n",
       "      <td>236.059974</td>\n",
       "      <td>707.357513</td>\n",
       "    </tr>\n",
       "    <tr>\n",
       "      <th>1</th>\n",
       "      <td>0.529706</td>\n",
       "      <td>0.346017</td>\n",
       "      <td>0.286289</td>\n",
       "      <td>0.313136</td>\n",
       "      <td>0.306956</td>\n",
       "      <td>0.277258</td>\n",
       "      <td>0.342116</td>\n",
       "      <td>0.294727</td>\n",
       "      <td>0.774435</td>\n",
       "      <td>0.304496</td>\n",
       "      <td>0.451597</td>\n",
       "      <td>0.748342</td>\n",
       "    </tr>\n",
       "  </tbody>\n",
       "</table>\n",
       "</div>"
      ],
      "text/plain": [
       "    0.0, 1.0   1.0, 2.0   2.0, 3.0    3.0, 4.0    4.0, 5.0    5.0, 6.0  \\\n",
       "0  72.184271  67.713099  81.970729  114.155999  136.286037  118.284722   \n",
       "1   0.529706   0.346017   0.286289    0.313136    0.306956    0.277258   \n",
       "\n",
       "     6.0, 7.0    7.0, 8.0    8.0, 9.0   9.0, 10.0  10.0, 20.0         nan  \n",
       "0  148.791517  129.447390  819.954144  197.249359  236.059974  707.357513  \n",
       "1    0.342116    0.294727    0.774435    0.304496    0.451597    0.748342  "
      ]
     },
     "metadata": {},
     "output_type": "display_data"
    }
   ],
   "source": [
    "#extremely verbose way of matching the validation set with the dist_bin found using OSRM for consistency\n",
    "# scaler.fit_transform(X_validation)\n",
    "errors_nodist = pd.DataFrame()\n",
    "tt = []\n",
    "for bin_name, group in natsorted(X_validation.merge(df2['dist_bin'],left_index=True, right_index=True).groupby('dist_bin')):\n",
    "    print(bin_name)\n",
    "    group.drop('dist_bin', axis = 1, inplace = True)\n",
    "    y_grp = Y_validation.loc[group.index]\n",
    "    y_pred = xg_reg_nodist.predict(control_scaler_nodist.transform(group.values))\n",
    "    \n",
    "    aa = metrics.mean_absolute_error(y_grp, y_pred)\n",
    "    bb = rmsle(y_grp, y_pred)\n",
    "    \n",
    "    fooh = pd.DataFrame([aa, bb], columns = [bin_name])\n",
    "    errors_nodist = pd.concat([errors_nodist, fooh], axis = 1)\n",
    "    \n",
    "    predict_results = xg_reg_nodist.predict(control_scaler_nodist.transform(group))\n",
    "    predict_res = pd.DataFrame(predict_results.flatten() - y_grp)\n",
    "#     print(predict_res.describe())\n",
    "#     predict_res.hist(bins = 100)\n",
    "    tt.append(predict_res)\n",
    "    \n",
    "display.display(errors_nodist)"
   ]
  },
  {
   "cell_type": "code",
   "execution_count": null,
   "metadata": {},
   "outputs": [],
   "source": [
    "\n",
    "prod = []\n",
    "for pair in itertools.combinations([1,2,3,4,5,6]\n",
    "#     tracks_dict[1].iloc[:,1:].values\n",
    "    ,3):\n",
    "    prod.append(pair)\n",
    "    print(pair)\n",
    "    \n",
    "# prod = []\n",
    "# for index in list(itertools.combinations(tracks_dict[1].index,2)):\n",
    "#     print(index)\n",
    "# #     print(tracks_dict[1].loc[index,:])"
   ]
  },
  {
   "cell_type": "code",
   "execution_count": null,
   "metadata": {},
   "outputs": [],
   "source": [
    "foo = pd.DataFrame.from_records(prod)"
   ]
  },
  {
   "cell_type": "code",
   "execution_count": null,
   "metadata": {},
   "outputs": [],
   "source": [
    "col_names = ['pickup_datetime','pickup_latitude', 'pickup_longitude'\n",
    "             ,'dropoff_datetime','dropoff_latitude', 'dropoff_longitude']\n",
    "foo = pd.concat([foo[0].apply(pd.Series), foo[1].apply(pd.Series)], axis = 1)\n",
    "foo.columns = col_names"
   ]
  },
  {
   "cell_type": "code",
   "execution_count": 4,
   "metadata": {},
   "outputs": [
    {
     "name": "stderr",
     "output_type": "stream",
     "text": [
      "100%|██████████| 24999/24999 [06:32<00:00, 63.74it/s]\n"
     ]
    }
   ],
   "source": [
    "taxi2 = []\n",
    "for name, val in tqdm(grouper):\n",
    "    taxi2.append(compute_speed(val))"
   ]
  },
  {
   "cell_type": "code",
   "execution_count": 5,
   "metadata": {},
   "outputs": [],
   "source": [
    "foo = pd.concat(taxi2)"
   ]
  },
  {
   "cell_type": "code",
   "execution_count": 6,
   "metadata": {},
   "outputs": [],
   "source": [
    "grouper = foo.groupby('trip id')"
   ]
  },
  {
   "cell_type": "code",
   "execution_count": 9,
   "metadata": {},
   "outputs": [],
   "source": [
    "foo.to_csv('./all_withspeed.tsv')"
   ]
  },
  {
   "cell_type": "code",
   "execution_count": 2,
   "metadata": {},
   "outputs": [],
   "source": [
    "df = pd.read_csv('all_withspeed.tsv',parse_dates=[2])\n",
    "df.drop(df.columns[0], axis=1, inplace = True)"
   ]
  },
  {
   "cell_type": "code",
   "execution_count": 3,
   "metadata": {},
   "outputs": [],
   "source": [
    "grouper = df.groupby('trip id')"
   ]
  },
  {
   "cell_type": "code",
   "execution_count": 4,
   "metadata": {},
   "outputs": [
    {
     "name": "stderr",
     "output_type": "stream",
     "text": [
      "100%|██████████| 24999/24999 [05:30<00:00, 75.53it/s] \n"
     ]
    }
   ],
   "source": [
    "taxi2 = []\n",
    "for name, val in tqdm(grouper):\n",
    "    prod = []\n",
    "    for pair in itertools.combinations(val.iloc[:,1:].values,2):\n",
    "        prod.append(pair)\n",
    "    try:\n",
    "        foo = pd.DataFrame.from_records(prod)\n",
    "        foo = pd.concat([pd.DataFrame(foo[0].values.tolist()), pd.DataFrame(foo[1].values.tolist())], axis = 1)\n",
    "        taxi2.append(foo)\n",
    "    except KeyError:\n",
    "        pass"
   ]
  },
  {
   "cell_type": "code",
   "execution_count": 5,
   "metadata": {},
   "outputs": [
    {
     "data": {
      "text/plain": [
       "['/mnt/hgfs/FYP/allpairs_speed']"
      ]
     },
     "execution_count": 5,
     "metadata": {},
     "output_type": "execute_result"
    }
   ],
   "source": [
    "dump(taxi2, '/mnt/hgfs/FYP/allpairs_speed')"
   ]
  },
  {
   "cell_type": "code",
   "execution_count": 2,
   "metadata": {},
   "outputs": [],
   "source": [
    "taxi2 = load('/mnt/hgfs/FYP/allpairs_speed')"
   ]
  },
  {
   "cell_type": "code",
   "execution_count": 3,
   "metadata": {},
   "outputs": [
    {
     "data": {
      "text/html": [
       "<div>\n",
       "<style scoped>\n",
       "    .dataframe tbody tr th:only-of-type {\n",
       "        vertical-align: middle;\n",
       "    }\n",
       "\n",
       "    .dataframe tbody tr th {\n",
       "        vertical-align: top;\n",
       "    }\n",
       "\n",
       "    .dataframe thead th {\n",
       "        text-align: right;\n",
       "    }\n",
       "</style>\n",
       "<table border=\"1\" class=\"dataframe\">\n",
       "  <thead>\n",
       "    <tr style=\"text-align: right;\">\n",
       "      <th></th>\n",
       "      <th>0</th>\n",
       "      <th>1</th>\n",
       "      <th>2</th>\n",
       "      <th>3</th>\n",
       "      <th>4</th>\n",
       "      <th>5</th>\n",
       "      <th>6</th>\n",
       "      <th>0</th>\n",
       "      <th>1</th>\n",
       "      <th>2</th>\n",
       "      <th>3</th>\n",
       "      <th>4</th>\n",
       "      <th>5</th>\n",
       "      <th>6</th>\n",
       "    </tr>\n",
       "  </thead>\n",
       "  <tbody>\n",
       "    <tr>\n",
       "      <th>0</th>\n",
       "      <td>2007-01-06 06:22:35+00:00</td>\n",
       "      <td>37.800224</td>\n",
       "      <td>-122.433520</td>\n",
       "      <td>0.000000</td>\n",
       "      <td>0.0</td>\n",
       "      <td>0.000000</td>\n",
       "      <td>0.000000</td>\n",
       "      <td>2007-01-06 06:22:39+00:00</td>\n",
       "      <td>37.800155</td>\n",
       "      <td>-122.434101</td>\n",
       "      <td>0.051678</td>\n",
       "      <td>4.0</td>\n",
       "      <td>12.919610</td>\n",
       "      <td>46.510594</td>\n",
       "    </tr>\n",
       "    <tr>\n",
       "      <th>1</th>\n",
       "      <td>2007-01-06 06:22:35+00:00</td>\n",
       "      <td>37.800224</td>\n",
       "      <td>-122.433520</td>\n",
       "      <td>0.000000</td>\n",
       "      <td>0.0</td>\n",
       "      <td>0.000000</td>\n",
       "      <td>0.000000</td>\n",
       "      <td>2007-01-06 06:22:43+00:00</td>\n",
       "      <td>37.800160</td>\n",
       "      <td>-122.434430</td>\n",
       "      <td>0.028944</td>\n",
       "      <td>4.0</td>\n",
       "      <td>7.236004</td>\n",
       "      <td>26.049615</td>\n",
       "    </tr>\n",
       "    <tr>\n",
       "      <th>2</th>\n",
       "      <td>2007-01-06 06:22:35+00:00</td>\n",
       "      <td>37.800224</td>\n",
       "      <td>-122.433520</td>\n",
       "      <td>0.000000</td>\n",
       "      <td>0.0</td>\n",
       "      <td>0.000000</td>\n",
       "      <td>0.000000</td>\n",
       "      <td>2007-01-06 06:22:47+00:00</td>\n",
       "      <td>37.800378</td>\n",
       "      <td>-122.434527</td>\n",
       "      <td>0.025724</td>\n",
       "      <td>4.0</td>\n",
       "      <td>6.430954</td>\n",
       "      <td>23.151435</td>\n",
       "    </tr>\n",
       "    <tr>\n",
       "      <th>3</th>\n",
       "      <td>2007-01-06 06:22:35+00:00</td>\n",
       "      <td>37.800224</td>\n",
       "      <td>-122.433520</td>\n",
       "      <td>0.000000</td>\n",
       "      <td>0.0</td>\n",
       "      <td>0.000000</td>\n",
       "      <td>0.000000</td>\n",
       "      <td>2007-01-06 06:22:51+00:00</td>\n",
       "      <td>37.800738</td>\n",
       "      <td>-122.434598</td>\n",
       "      <td>0.040559</td>\n",
       "      <td>4.0</td>\n",
       "      <td>10.139675</td>\n",
       "      <td>36.502829</td>\n",
       "    </tr>\n",
       "    <tr>\n",
       "      <th>4</th>\n",
       "      <td>2007-01-06 06:22:35+00:00</td>\n",
       "      <td>37.800224</td>\n",
       "      <td>-122.433520</td>\n",
       "      <td>0.000000</td>\n",
       "      <td>0.0</td>\n",
       "      <td>0.000000</td>\n",
       "      <td>0.000000</td>\n",
       "      <td>2007-01-06 06:22:55+00:00</td>\n",
       "      <td>37.800938</td>\n",
       "      <td>-122.434650</td>\n",
       "      <td>0.022729</td>\n",
       "      <td>4.0</td>\n",
       "      <td>5.682216</td>\n",
       "      <td>20.455978</td>\n",
       "    </tr>\n",
       "    <tr>\n",
       "      <th>...</th>\n",
       "      <td>...</td>\n",
       "      <td>...</td>\n",
       "      <td>...</td>\n",
       "      <td>...</td>\n",
       "      <td>...</td>\n",
       "      <td>...</td>\n",
       "      <td>...</td>\n",
       "      <td>...</td>\n",
       "      <td>...</td>\n",
       "      <td>...</td>\n",
       "      <td>...</td>\n",
       "      <td>...</td>\n",
       "      <td>...</td>\n",
       "      <td>...</td>\n",
       "    </tr>\n",
       "    <tr>\n",
       "      <th>148</th>\n",
       "      <td>2007-01-06 06:23:55+00:00</td>\n",
       "      <td>37.800395</td>\n",
       "      <td>-122.436172</td>\n",
       "      <td>0.030915</td>\n",
       "      <td>4.0</td>\n",
       "      <td>7.728735</td>\n",
       "      <td>27.823444</td>\n",
       "      <td>2007-01-06 06:24:07+00:00</td>\n",
       "      <td>37.800169</td>\n",
       "      <td>-122.436130</td>\n",
       "      <td>0.006682</td>\n",
       "      <td>8.0</td>\n",
       "      <td>0.835287</td>\n",
       "      <td>3.007033</td>\n",
       "    </tr>\n",
       "    <tr>\n",
       "      <th>149</th>\n",
       "      <td>2007-01-06 06:23:55+00:00</td>\n",
       "      <td>37.800395</td>\n",
       "      <td>-122.436172</td>\n",
       "      <td>0.030915</td>\n",
       "      <td>4.0</td>\n",
       "      <td>7.728735</td>\n",
       "      <td>27.823444</td>\n",
       "      <td>2007-01-06 06:25:03+00:00</td>\n",
       "      <td>37.800066</td>\n",
       "      <td>-122.436167</td>\n",
       "      <td>0.011919</td>\n",
       "      <td>56.0</td>\n",
       "      <td>0.212836</td>\n",
       "      <td>0.766211</td>\n",
       "    </tr>\n",
       "    <tr>\n",
       "      <th>150</th>\n",
       "      <td>2007-01-06 06:23:59+00:00</td>\n",
       "      <td>37.800228</td>\n",
       "      <td>-122.436116</td>\n",
       "      <td>0.019232</td>\n",
       "      <td>4.0</td>\n",
       "      <td>4.807962</td>\n",
       "      <td>17.308664</td>\n",
       "      <td>2007-01-06 06:24:07+00:00</td>\n",
       "      <td>37.800169</td>\n",
       "      <td>-122.436130</td>\n",
       "      <td>0.006682</td>\n",
       "      <td>8.0</td>\n",
       "      <td>0.835287</td>\n",
       "      <td>3.007033</td>\n",
       "    </tr>\n",
       "    <tr>\n",
       "      <th>151</th>\n",
       "      <td>2007-01-06 06:23:59+00:00</td>\n",
       "      <td>37.800228</td>\n",
       "      <td>-122.436116</td>\n",
       "      <td>0.019232</td>\n",
       "      <td>4.0</td>\n",
       "      <td>4.807962</td>\n",
       "      <td>17.308664</td>\n",
       "      <td>2007-01-06 06:25:03+00:00</td>\n",
       "      <td>37.800066</td>\n",
       "      <td>-122.436167</td>\n",
       "      <td>0.011919</td>\n",
       "      <td>56.0</td>\n",
       "      <td>0.212836</td>\n",
       "      <td>0.766211</td>\n",
       "    </tr>\n",
       "    <tr>\n",
       "      <th>152</th>\n",
       "      <td>2007-01-06 06:24:07+00:00</td>\n",
       "      <td>37.800169</td>\n",
       "      <td>-122.436130</td>\n",
       "      <td>0.006682</td>\n",
       "      <td>8.0</td>\n",
       "      <td>0.835287</td>\n",
       "      <td>3.007033</td>\n",
       "      <td>2007-01-06 06:25:03+00:00</td>\n",
       "      <td>37.800066</td>\n",
       "      <td>-122.436167</td>\n",
       "      <td>0.011919</td>\n",
       "      <td>56.0</td>\n",
       "      <td>0.212836</td>\n",
       "      <td>0.766211</td>\n",
       "    </tr>\n",
       "  </tbody>\n",
       "</table>\n",
       "<p>153 rows × 14 columns</p>\n",
       "</div>"
      ],
      "text/plain": [
       "                            0          1           2         3    4         5  \\\n",
       "0   2007-01-06 06:22:35+00:00  37.800224 -122.433520  0.000000  0.0  0.000000   \n",
       "1   2007-01-06 06:22:35+00:00  37.800224 -122.433520  0.000000  0.0  0.000000   \n",
       "2   2007-01-06 06:22:35+00:00  37.800224 -122.433520  0.000000  0.0  0.000000   \n",
       "3   2007-01-06 06:22:35+00:00  37.800224 -122.433520  0.000000  0.0  0.000000   \n",
       "4   2007-01-06 06:22:35+00:00  37.800224 -122.433520  0.000000  0.0  0.000000   \n",
       "..                        ...        ...         ...       ...  ...       ...   \n",
       "148 2007-01-06 06:23:55+00:00  37.800395 -122.436172  0.030915  4.0  7.728735   \n",
       "149 2007-01-06 06:23:55+00:00  37.800395 -122.436172  0.030915  4.0  7.728735   \n",
       "150 2007-01-06 06:23:59+00:00  37.800228 -122.436116  0.019232  4.0  4.807962   \n",
       "151 2007-01-06 06:23:59+00:00  37.800228 -122.436116  0.019232  4.0  4.807962   \n",
       "152 2007-01-06 06:24:07+00:00  37.800169 -122.436130  0.006682  8.0  0.835287   \n",
       "\n",
       "             6                         0          1           2         3  \\\n",
       "0     0.000000 2007-01-06 06:22:39+00:00  37.800155 -122.434101  0.051678   \n",
       "1     0.000000 2007-01-06 06:22:43+00:00  37.800160 -122.434430  0.028944   \n",
       "2     0.000000 2007-01-06 06:22:47+00:00  37.800378 -122.434527  0.025724   \n",
       "3     0.000000 2007-01-06 06:22:51+00:00  37.800738 -122.434598  0.040559   \n",
       "4     0.000000 2007-01-06 06:22:55+00:00  37.800938 -122.434650  0.022729   \n",
       "..         ...                       ...        ...         ...       ...   \n",
       "148  27.823444 2007-01-06 06:24:07+00:00  37.800169 -122.436130  0.006682   \n",
       "149  27.823444 2007-01-06 06:25:03+00:00  37.800066 -122.436167  0.011919   \n",
       "150  17.308664 2007-01-06 06:24:07+00:00  37.800169 -122.436130  0.006682   \n",
       "151  17.308664 2007-01-06 06:25:03+00:00  37.800066 -122.436167  0.011919   \n",
       "152   3.007033 2007-01-06 06:25:03+00:00  37.800066 -122.436167  0.011919   \n",
       "\n",
       "        4          5          6  \n",
       "0     4.0  12.919610  46.510594  \n",
       "1     4.0   7.236004  26.049615  \n",
       "2     4.0   6.430954  23.151435  \n",
       "3     4.0  10.139675  36.502829  \n",
       "4     4.0   5.682216  20.455978  \n",
       "..    ...        ...        ...  \n",
       "148   8.0   0.835287   3.007033  \n",
       "149  56.0   0.212836   0.766211  \n",
       "150   8.0   0.835287   3.007033  \n",
       "151  56.0   0.212836   0.766211  \n",
       "152  56.0   0.212836   0.766211  \n",
       "\n",
       "[153 rows x 14 columns]"
      ]
     },
     "execution_count": 3,
     "metadata": {},
     "output_type": "execute_result"
    }
   ],
   "source": [
    "taxi2[1]"
   ]
  },
  {
   "cell_type": "code",
   "execution_count": 5,
   "metadata": {},
   "outputs": [
    {
     "name": "stderr",
     "output_type": "stream",
     "text": [
      "100%|██████████| 24999/24999 [00:36<00:00, 687.10it/s]\n"
     ]
    }
   ],
   "source": [
    "# fofoo = []\n",
    "# for name, val in tqdm(grouper):\n",
    "#     prod = []\n",
    "#     for pair in itertools.combinations(val.iloc[:,1:].values,2):\n",
    "#         prod.append(pair)\n",
    "#     fofoo.append(prod)\n",
    "# flat_list = [item for sublist in fofoo for item in sublist]\n",
    "# foo = pd.DataFrame(flat_list)\n",
    "# foo = pd.concat([pd.DataFrame(foo[0].values.tolist()), pd.DataFrame(foo[1].values.tolist())], axis = 1)    "
   ]
  },
  {
   "cell_type": "code",
   "execution_count": null,
   "metadata": {},
   "outputs": [],
   "source": [
    "foo = pd.concat(taxi2)"
   ]
  },
  {
   "cell_type": "code",
   "execution_count": null,
   "metadata": {},
   "outputs": [],
   "source": [
    "col_names = ['pickup_datetime','pickup_latitude', 'pickup_longitude'\n",
    "         ,'dropoff_datetime','dropoff_latitude', 'dropoff_longitude']\n",
    "# foo = pd.concat([foo[0].progress_apply(pd.Series), foo[1].apply(pd.Series)], axis = 1)\n",
    "# foo = pd.concat([pd.DataFrame(foo[0].values.tolist()), pd.DataFrame(foo[1].values.tolist())], axis = 1)\n",
    "foo.columns = col_names"
   ]
  },
  {
   "cell_type": "code",
   "execution_count": null,
   "metadata": {},
   "outputs": [],
   "source": [
    "foo.to_csv('./allpairs.csv')"
   ]
  },
  {
   "cell_type": "code",
   "execution_count": null,
   "metadata": {},
   "outputs": [],
   "source": [
    "foo.sample(10000).plot(x = 'pickup_latitude', y = 'pickup_longitude')"
   ]
  },
  {
   "cell_type": "code",
   "execution_count": null,
   "metadata": {},
   "outputs": [],
   "source": [
    "chunk = 0\n",
    "taxi = []\n",
    "for df in pd.read_csv('allpairs.csv', chunksize = 1000000):\n",
    "    taxi.append(df)\n",
    "    chunk += 1\n",
    "    if chunk == 5:\n",
    "        break\n",
    "    "
   ]
  },
  {
   "cell_type": "code",
   "execution_count": null,
   "metadata": {},
   "outputs": [],
   "source": [
    "df = pd.read_csv('allpairs.csv')"
   ]
  },
  {
   "cell_type": "code",
   "execution_count": null,
   "metadata": {},
   "outputs": [],
   "source": [
    "df2 = df.sample(frac = 1)"
   ]
  },
  {
   "cell_type": "code",
   "execution_count": null,
   "metadata": {},
   "outputs": [],
   "source": [
    "df2.to_csv('/mnt/hgfs/FYP/allpairs_shuffled.csv')"
   ]
  },
  {
   "cell_type": "code",
   "execution_count": null,
   "metadata": {},
   "outputs": [],
   "source": []
  }
 ],
 "metadata": {
  "kernelspec": {
   "display_name": "Python 3",
   "language": "python",
   "name": "python3"
  },
  "language_info": {
   "codemirror_mode": {
    "name": "ipython",
    "version": 3
   },
   "file_extension": ".py",
   "mimetype": "text/x-python",
   "name": "python",
   "nbconvert_exporter": "python",
   "pygments_lexer": "ipython3",
   "version": "3.7.3"
  }
 },
 "nbformat": 4,
 "nbformat_minor": 4
}
