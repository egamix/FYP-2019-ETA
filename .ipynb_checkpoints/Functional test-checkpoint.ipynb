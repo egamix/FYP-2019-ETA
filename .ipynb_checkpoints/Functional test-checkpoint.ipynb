{
 "cells": [
  {
   "cell_type": "code",
   "execution_count": 1,
   "metadata": {},
   "outputs": [],
   "source": [
    "from __future__ import print_function\n",
    "\n",
    "from IPython import display\n",
    "\n",
    "import math\n",
    "import matplotlib\n",
    "import sklearn\n",
    "import pandas as pd\n",
    "import numpy as np\n",
    "from matplotlib import pyplot as plt\n",
    "from numpy import radians, cos, sin, arcsin, arccos, sqrt, pi, arctan2, degrees, arctan\n",
    "\n",
    "from tqdm import tqdm, tqdm_notebook\n",
    "tqdm.pandas()\n",
    "tqdm.pandas(tqdm_notebook)\n",
    "\n",
    "from joblib import dump, load\n",
    "\n",
    "from natsort import natsorted\n",
    "from sklearn.model_selection import train_test_split\n",
    "from sklearn.model_selection import RandomizedSearchCV, GridSearchCV, train_test_split\n",
    "from sklearn import metrics\n",
    "\n",
    "pd.options.display.max_rows = 10"
   ]
  },
  {
   "cell_type": "code",
   "execution_count": 2,
   "metadata": {},
   "outputs": [],
   "source": [
    "\n",
    "def haversine(lat1, lon1, lat2, lon2):\n",
    "    #ensure using numpy and not math, or pandas series cannot be passed\n",
    "    lat1, lon1, lat2, lon2 = map(radians, [lat1, lon1, lat2, lon2])\n",
    "    dlon = lon2 - lon1\n",
    "    dlat = lat2 - lat1\n",
    "    a = sin(dlat/2)**2 + cos(lat1) * cos(lat2) * sin(dlon/2)**2\n",
    "    c = 2 * arcsin(sqrt(a))\n",
    "    r = 6378.137 ##radius of earth km\n",
    "    return c * r\n",
    "\n",
    "def compute_dist(df):\n",
    "    next_df = df.shift(1)\n",
    "    dist = haversine(df.iloc[:,0], df.iloc[:,1],\n",
    "                    next_df.iloc[:,0], next_df.iloc[:,1])\n",
    "    return dist\n",
    "\n",
    "def compute_time(df):\n",
    "    next_df = df.shift(1)\n",
    "#     df[\"time\"] = pd.to_datetime(df[\"time_utc\"], format=\"%Y-%m-%d %H:%M:%S.%f\", errors='raise')\n",
    "    timedelt = df[\"time\"] - next_df[\"time\"]\n",
    "    return timedelt\n",
    "\n",
    "def compute_speed(df):\n",
    "    kinematics = df.copy()\n",
    "    kinematics[\"distance_travelled\"] = compute_dist(kinematics[[\"latitude\", \"longitude\"]].astype(float)).values\n",
    "    kinematics[\"time_elapsed\"] = compute_time(kinematics).values\n",
    "    kinematics[\"time_elapsed_seconds\"] = kinematics[\"time_elapsed\"]/np.timedelta64(1,'s')\n",
    "    kinematics[\"speed m/s\"] = (kinematics[\"distance_travelled\"]*1000)/kinematics[\"time_elapsed_seconds\"]\n",
    "    kinematics[\"speed kmh\"] = kinematics[\"speed m/s\"]*3.6\n",
    "    kinematics[\"bearing\"] = compute_bearing(kinematics[[\"latitude\", \"longitude\"]].astype(float))\n",
    "    kinematics['bearing_diff'] = compute_bearing_diff(kinematics)\n",
    "    kinematics[\"rate_of_turn\"] = kinematics[\"bearing_diff\"]/kinematics[\"time_elapsed_seconds\"]\n",
    "    kinematics[\"acceleration\"] = (speed_diff(kinematics[\"speed m/s\"])) /kinematics[\"time_elapsed_seconds\"]\n",
    "    kinematics.drop(columns = ['time_elapsed'], inplace = True)\n",
    "    kinematics.fillna(0, inplace = True)\n",
    "#     df[\"distance_travelled\"] = kinematics[\"distance_travelled\"].values\n",
    "#     df[\"speed kmh\"] = kinematics[\"speed kmh\"].values\n",
    "    return kinematics\n",
    "\n",
    "def compute_bearing(df):\n",
    "    next_df = df.shift(1)\n",
    "    bear = cal_bearing(df.iloc[:,0], df.iloc[:,1],\n",
    "                    next_df.iloc[:,0], next_df.iloc[:,1])\n",
    "    return bear\n",
    "\n",
    "def bearing_diff(bearing, prev_bearing):\n",
    "    \n",
    "    \"\"\"\n",
    "    Calculates the absolute difference between two angles\n",
    "    Parameters\n",
    "      bearing: bearing in degrees of the first angle\n",
    "      prev_bearing: bearing in degrees of the second angle\n",
    "    Returns the difference in degrees as a float\n",
    "    \"\"\"\n",
    "\n",
    "    # if bearing - prev_bearing <=180 then taking the absolute difference is correct\n",
    "    if bearing - prev_bearing <= 180:\n",
    "        bearing_diff = abs(bearing - prev_bearing)\n",
    "    # otherwise if bearing is larger than previous_bearing the total difference is the prev_bearing plus the difference\n",
    "    # between 360 and the bearing\n",
    "    elif bearing > prev_bearing:\n",
    "        bearing_diff = prev_bearing + (360 - bearing)\n",
    "    # otherwise if prev_bearing is larger than bearing the total difference is the bearing plus the difference \n",
    "    # between 360 and the prev_bearing\n",
    "    elif prev_bearing > bearing:\n",
    "        bearing_diff = bearing + (360 - prev_bearing)\n",
    "    # in all other cases take the absolute difference\n",
    "    else:\n",
    "        bearing_diff = abs(bearing - prev_bearing)\n",
    "\n",
    "    return bearing_diff\n",
    "\n",
    "def cal_bearing(lat1, lon1, lat2, lon2):\n",
    "    \"\"\"\n",
    "    Calculates the bearing between two points using the formula\n",
    "        θ = atan2(sin(Δlong).cos(lat2),\n",
    "                  cos(lat1).sin(lat2) − sin(lat1).cos(lat2).cos(Δlong))\n",
    "    \"\"\"\n",
    "    \n",
    "    lat1, lon1, lat2, lon2 = map(radians, [lat1, lon1, lat2, lon2])\n",
    "\n",
    "    dlon = lon2 - lon1\n",
    "\n",
    "    x = sin(dlon) * cos(lat2)\n",
    "    y1 = cos(lat1) * sin(lat2)\n",
    "    y2 = sin(lat1) * cos(lat2) * cos(dlon)\n",
    "    y = y1 - y2\n",
    "\n",
    "    initial_bearing = arctan2(x, y)\n",
    "\n",
    "    initial_bearing = degrees(initial_bearing)\n",
    "    compass_bearing = (initial_bearing + 360) % 360\n",
    "\n",
    "    return compass_bearing\n",
    "\n",
    "def compute_bearing_diff(df):\n",
    "    df1 = df.copy()\n",
    "    df1[\"prev_bearing\"] = df1[\"bearing\"].shift(1)\n",
    "    df1[\"bearing diff\"] = df1.apply(lambda row: bearing_diff(row['bearing'],row['prev_bearing']),axis=1)\n",
    "    return df1[\"bearing diff\"]\n",
    "\n",
    "def speed_diff(df):\n",
    "    next_df = df.shift(1)\n",
    "    diff = df - next_df\n",
    "    return diff\n",
    "\n",
    "def compute_speed(df):\n",
    "    kinematics = df.copy()\n",
    "    kinematics[\"distance_travelled\"] = compute_dist(kinematics[[\"latitude\", \"longitude\"]].astype(float)).values\n",
    "    kinematics[\"time_elapsed\"] = compute_time(kinematics).values\n",
    "    kinematics[\"time_elapsed_seconds\"] = kinematics[\"time_elapsed\"]/np.timedelta64(1,'s')\n",
    "    kinematics[\"speed m/s\"] = (kinematics[\"distance_travelled\"]*1000)/kinematics[\"time_elapsed_seconds\"]\n",
    "    kinematics[\"speed kmh\"] = kinematics[\"speed m/s\"]*3.6\n",
    "    kinematics[\"bearing\"] = compute_bearing(kinematics[[\"latitude\", \"longitude\"]].astype(float))\n",
    "    kinematics['bearing_diff'] = compute_bearing_diff(kinematics)\n",
    "    kinematics[\"rate_of_turn\"] = kinematics[\"bearing_diff\"]/kinematics[\"time_elapsed_seconds\"]\n",
    "    kinematics[\"acceleration\"] = (speed_diff(kinematics[\"speed m/s\"])) /kinematics[\"time_elapsed_seconds\"]\n",
    "    kinematics.drop(columns = ['time_elapsed'], inplace = True)\n",
    "    kinematics.fillna(0, inplace = True)\n",
    "#     df[\"distance_travelled\"] = kinematics[\"distance_travelled\"].values\n",
    "#     df[\"speed kmh\"] = kinematics[\"speed kmh\"].values\n",
    "    return kinematics"
   ]
  },
  {
   "cell_type": "code",
   "execution_count": 3,
   "metadata": {},
   "outputs": [],
   "source": [
    "df =  pd.read_csv('/mnt/hgfs/FYP/porto_cleaned_100000.csv', parse_dates = ['time'])"
   ]
  },
  {
   "cell_type": "code",
   "execution_count": 4,
   "metadata": {},
   "outputs": [],
   "source": [
    "grouper = df.groupby('ID')"
   ]
  },
  {
   "cell_type": "code",
   "execution_count": 5,
   "metadata": {},
   "outputs": [
    {
     "name": "stderr",
     "output_type": "stream",
     "text": [
      "100%|██████████| 427/427 [00:24<00:00, 17.30it/s]\n"
     ]
    }
   ],
   "source": [
    "a = []\n",
    "b = []\n",
    "c = []\n",
    "for name, val in tqdm(grouper):\n",
    "    idx_grper = val.groupby(val['Unnamed: 0'].diff().ne(1).cumsum())\n",
    "    for name2, taxi in idx_grper:\n",
    "        a.append(len(taxi))\n",
    "        b.append(name)\n",
    "        c.append(taxi)"
   ]
  },
  {
   "cell_type": "code",
   "execution_count": 6,
   "metadata": {},
   "outputs": [],
   "source": [
    "val = df[df['ID'] == 20000496]"
   ]
  },
  {
   "cell_type": "code",
   "execution_count": 7,
   "metadata": {},
   "outputs": [],
   "source": [
    "a = []\n",
    "b = []\n",
    "idx_grper = val.groupby(val['Unnamed: 0'].diff().ne(1).cumsum())\n",
    "for name, taxi in idx_grper:\n",
    "    a.append(taxi)\n",
    "    b.append(len(taxi))"
   ]
  },
  {
   "cell_type": "code",
   "execution_count": null,
   "metadata": {},
   "outputs": [],
   "source": [
    "c[13].plot('longitude', 'latitude', kind = 'scatter', figsize = (16,9))"
   ]
  },
  {
   "cell_type": "code",
   "execution_count": 260,
   "metadata": {},
   "outputs": [],
   "source": [
    "df2 = c[13]"
   ]
  },
  {
   "cell_type": "code",
   "execution_count": 261,
   "metadata": {},
   "outputs": [
    {
     "data": {
      "text/html": [
       "<div>\n",
       "<style scoped>\n",
       "    .dataframe tbody tr th:only-of-type {\n",
       "        vertical-align: middle;\n",
       "    }\n",
       "\n",
       "    .dataframe tbody tr th {\n",
       "        vertical-align: top;\n",
       "    }\n",
       "\n",
       "    .dataframe thead th {\n",
       "        text-align: right;\n",
       "    }\n",
       "</style>\n",
       "<table border=\"1\" class=\"dataframe\">\n",
       "  <thead>\n",
       "    <tr style=\"text-align: right;\">\n",
       "      <th></th>\n",
       "      <th>Unnamed: 0</th>\n",
       "      <th>time</th>\n",
       "      <th>longitude</th>\n",
       "      <th>latitude</th>\n",
       "      <th>ID</th>\n",
       "    </tr>\n",
       "  </thead>\n",
       "  <tbody>\n",
       "    <tr>\n",
       "      <th>528363</th>\n",
       "      <td>0</td>\n",
       "      <td>2013-07-03 16:37:33</td>\n",
       "      <td>-8.617725</td>\n",
       "      <td>41.146101</td>\n",
       "      <td>20000001</td>\n",
       "    </tr>\n",
       "    <tr>\n",
       "      <th>528364</th>\n",
       "      <td>1</td>\n",
       "      <td>2013-07-03 16:37:48</td>\n",
       "      <td>-8.617698</td>\n",
       "      <td>41.146101</td>\n",
       "      <td>20000001</td>\n",
       "    </tr>\n",
       "    <tr>\n",
       "      <th>528365</th>\n",
       "      <td>2</td>\n",
       "      <td>2013-07-03 16:38:03</td>\n",
       "      <td>-8.617599</td>\n",
       "      <td>41.145786</td>\n",
       "      <td>20000001</td>\n",
       "    </tr>\n",
       "    <tr>\n",
       "      <th>528366</th>\n",
       "      <td>3</td>\n",
       "      <td>2013-07-03 16:38:18</td>\n",
       "      <td>-8.617383</td>\n",
       "      <td>41.144913</td>\n",
       "      <td>20000001</td>\n",
       "    </tr>\n",
       "    <tr>\n",
       "      <th>528367</th>\n",
       "      <td>4</td>\n",
       "      <td>2013-07-03 16:38:33</td>\n",
       "      <td>-8.616141</td>\n",
       "      <td>41.145228</td>\n",
       "      <td>20000001</td>\n",
       "    </tr>\n",
       "    <tr>\n",
       "      <th>...</th>\n",
       "      <td>...</td>\n",
       "      <td>...</td>\n",
       "      <td>...</td>\n",
       "      <td>...</td>\n",
       "      <td>...</td>\n",
       "    </tr>\n",
       "    <tr>\n",
       "      <th>528399</th>\n",
       "      <td>36</td>\n",
       "      <td>2013-07-03 16:47:33</td>\n",
       "      <td>-8.605179</td>\n",
       "      <td>41.149764</td>\n",
       "      <td>20000001</td>\n",
       "    </tr>\n",
       "    <tr>\n",
       "      <th>528400</th>\n",
       "      <td>37</td>\n",
       "      <td>2013-07-03 16:47:48</td>\n",
       "      <td>-8.605404</td>\n",
       "      <td>41.149764</td>\n",
       "      <td>20000001</td>\n",
       "    </tr>\n",
       "    <tr>\n",
       "      <th>528401</th>\n",
       "      <td>38</td>\n",
       "      <td>2013-07-03 16:48:03</td>\n",
       "      <td>-8.606727</td>\n",
       "      <td>41.150043</td>\n",
       "      <td>20000001</td>\n",
       "    </tr>\n",
       "    <tr>\n",
       "      <th>528402</th>\n",
       "      <td>39</td>\n",
       "      <td>2013-07-03 16:48:18</td>\n",
       "      <td>-8.606934</td>\n",
       "      <td>41.150079</td>\n",
       "      <td>20000001</td>\n",
       "    </tr>\n",
       "    <tr>\n",
       "      <th>528403</th>\n",
       "      <td>40</td>\n",
       "      <td>2013-07-03 16:48:33</td>\n",
       "      <td>-8.607411</td>\n",
       "      <td>41.150268</td>\n",
       "      <td>20000001</td>\n",
       "    </tr>\n",
       "  </tbody>\n",
       "</table>\n",
       "<p>41 rows × 5 columns</p>\n",
       "</div>"
      ],
      "text/plain": [
       "        Unnamed: 0                time  longitude   latitude        ID\n",
       "528363           0 2013-07-03 16:37:33  -8.617725  41.146101  20000001\n",
       "528364           1 2013-07-03 16:37:48  -8.617698  41.146101  20000001\n",
       "528365           2 2013-07-03 16:38:03  -8.617599  41.145786  20000001\n",
       "528366           3 2013-07-03 16:38:18  -8.617383  41.144913  20000001\n",
       "528367           4 2013-07-03 16:38:33  -8.616141  41.145228  20000001\n",
       "...            ...                 ...        ...        ...       ...\n",
       "528399          36 2013-07-03 16:47:33  -8.605179  41.149764  20000001\n",
       "528400          37 2013-07-03 16:47:48  -8.605404  41.149764  20000001\n",
       "528401          38 2013-07-03 16:48:03  -8.606727  41.150043  20000001\n",
       "528402          39 2013-07-03 16:48:18  -8.606934  41.150079  20000001\n",
       "528403          40 2013-07-03 16:48:33  -8.607411  41.150268  20000001\n",
       "\n",
       "[41 rows x 5 columns]"
      ]
     },
     "execution_count": 261,
     "metadata": {},
     "output_type": "execute_result"
    }
   ],
   "source": [
    "df2"
   ]
  },
  {
   "cell_type": "code",
   "execution_count": 100,
   "metadata": {},
   "outputs": [],
   "source": [
    "df2 = compute_speed(c[1854])"
   ]
  },
  {
   "cell_type": "code",
   "execution_count": 101,
   "metadata": {},
   "outputs": [
    {
     "data": {
      "text/plain": [
       "<matplotlib.axes._subplots.AxesSubplot at 0x7f20e9345ef0>"
      ]
     },
     "execution_count": 101,
     "metadata": {},
     "output_type": "execute_result"
    },
    {
     "data": {
      "image/png": "[encoded data removed]",
      "text/plain": [
       "<Figure size 432x288 with 1 Axes>"
      ]
     },
     "metadata": {
      "needs_background": "light"
     },
     "output_type": "display_data"
    }
   ],
   "source": [
    "df2.plot('time', 'speed kmh')"
   ]
  },
  {
   "cell_type": "code",
   "execution_count": 6,
   "metadata": {},
   "outputs": [],
   "source": [
    "def time_to_dest(df):\n",
    "    end_time = df['time'].iloc[-1]\n",
    "    df['time_to_dest'] = (end_time - df['time']).dt.total_seconds().astype(int)\n",
    "def set_dropoff(df):\n",
    "    df['dropoff_latitude'] = df['latitude'].iloc[-1]\n",
    "    df['dropoff_longitude'] = df['longitude'].iloc[-1]\n"
   ]
  },
  {
   "cell_type": "code",
   "execution_count": 105,
   "metadata": {},
   "outputs": [
    {
     "data": {
      "text/plain": [
       "57230   00:16:30\n",
       "57231   00:16:15\n",
       "57232   00:16:00\n",
       "57233   00:15:30\n",
       "57234   00:15:15\n",
       "          ...   \n",
       "57288   00:01:15\n",
       "57289   00:01:00\n",
       "57290   00:00:30\n",
       "57291   00:00:15\n",
       "57292   00:00:00\n",
       "Name: time, Length: 63, dtype: timedelta64[ns]"
      ]
     },
     "execution_count": 105,
     "metadata": {},
     "output_type": "execute_result"
    }
   ],
   "source": [
    "df2['time'].iloc[-1] - df2['time']"
   ]
  },
  {
   "cell_type": "code",
   "execution_count": 265,
   "metadata": {},
   "outputs": [],
   "source": [
    "time_to_dest(df2)\n",
    "set_dropoff(df2)\n",
    "\n",
    "df2['dist_to_dest'] = haversine(df2['latitude'].values, df2['longitude'].values, df2['dropoff_latitude'].values, df2['dropoff_longitude'].values)"
   ]
  },
  {
   "cell_type": "code",
   "execution_count": 266,
   "metadata": {},
   "outputs": [],
   "source": [
    "df2['pickup_weekday'] = df2['time'].dt.weekday\n",
    "df2['pickup_hour_weekofyear'] = df2['time'].dt.weekofyear\n",
    "df2['pickup_hour'] = df2['time'].dt.hour\n",
    "df2['pickup_minute'] = df2['time'].dt.minute\n",
    "df2['pickup_dt'] = (df2['time'] - df2['time'].min()).dt.total_seconds()\n",
    "df2['pickup_week_hour'] = df2['pickup_weekday'] * 24 + df2['pickup_hour']"
   ]
  },
  {
   "cell_type": "code",
   "execution_count": 267,
   "metadata": {},
   "outputs": [
    {
     "data": {
      "text/plain": [
       "Index(['Unnamed: 0', 'time', 'longitude', 'latitude', 'ID',\n",
       "       'distance_travelled', 'time_elapsed_seconds', 'speed m/s', 'speed kmh',\n",
       "       'bearing', 'bearing_diff', 'rate_of_turn', 'acceleration',\n",
       "       'time_to_dest', 'dropoff_latitude', 'dropoff_longitude', 'dist_to_dest',\n",
       "       'pickup_weekday', 'pickup_hour_weekofyear', 'pickup_hour',\n",
       "       'pickup_minute', 'pickup_dt', 'pickup_week_hour'],\n",
       "      dtype='object')"
      ]
     },
     "execution_count": 267,
     "metadata": {},
     "output_type": "execute_result"
    }
   ],
   "source": [
    "df2.columns"
   ]
  },
  {
   "cell_type": "code",
   "execution_count": 331,
   "metadata": {},
   "outputs": [],
   "source": [
    "import tensorflow as tf\n",
    "from tensorflow.python.keras.backend import tanh, conv1d, expand_dims, squeeze, clip\n",
    "from tensorflow.python.keras.models import Sequential, Model\n",
    "from tensorflow.python.keras.layers import Input, Dense, GRU, Embedding, Flatten, Conv1D, Conv2D, Lambda, concatenate, Reshape, TimeDistributed, MaxPooling1D, Permute, BatchNormalization, ELU\n",
    "from tensorflow.python.keras.layers.recurrent import LSTM,RNN\n",
    "from tensorflow.python.keras.layers.core import Dense, Activation, Dropout\n",
    "from tensorflow.python.keras.callbacks import EarlyStopping, ModelCheckpoint, TensorBoard, ReduceLROnPlateau\n",
    "from tensorflow.python.keras import losses\n",
    "# from tensorflow.python.keras.activations import elu\n",
    "\n",
    "\n",
    "import tensorflow.python.keras.backend as K\n",
    "\n",
    "\n",
    "from sklearn.preprocessing import MinMaxScaler\n",
    "from sklearn.metrics import mean_squared_error\n",
    "from sklearn.utils import shuffle\n",
    "from sklearn.model_selection import train_test_split"
   ]
  },
  {
   "cell_type": "code",
   "execution_count": 8,
   "metadata": {},
   "outputs": [],
   "source": [
    "from tensorflow.python.keras import backend as K\n",
    "# import tensorflow as tf\n",
    "def rmsle_K(y, y0):\n",
    "    return K.sqrt(K.mean(K.square(tf.log1p(y) - tf.log1p(y0))))\n",
    "def rmsletf(y_pred, y_true): \n",
    "    y_pred= tf.cast(y_pred, tf.float64) \n",
    "    y_true= tf.cast(y_true, tf.float64) \n",
    "    y_pred=tf.nn.relu(y_pred) \n",
    "    return np.abs(tf.sqrt(tf.reduce_mean(tf.squared_difference(tf.log1p(y_pred), tf.log1p(y_true)))))"
   ]
  },
  {
   "cell_type": "code",
   "execution_count": 268,
   "metadata": {},
   "outputs": [],
   "source": [
    "x = df2[['longitude', 'latitude']].values\n",
    "x = x.reshape(len(x), 2,1)\n",
    "y = df2[['time_to_dest']].values\n",
    "y = y.reshape(len(y),1,1)"
   ]
  },
  {
   "cell_type": "code",
   "execution_count": 269,
   "metadata": {},
   "outputs": [
    {
     "data": {
      "text/plain": [
       "(63, 1, 1)"
      ]
     },
     "execution_count": 269,
     "metadata": {},
     "output_type": "execute_result"
    }
   ],
   "source": [
    "y.shape"
   ]
  },
  {
   "cell_type": "code",
   "execution_count": 270,
   "metadata": {},
   "outputs": [
    {
     "data": {
      "text/plain": [
       "(63, 2, 1)"
      ]
     },
     "execution_count": 270,
     "metadata": {},
     "output_type": "execute_result"
    }
   ],
   "source": [
    "x.shape"
   ]
  },
  {
   "cell_type": "code",
   "execution_count": 156,
   "metadata": {},
   "outputs": [],
   "source": [
    "# define two sets of inputs\n",
    "inputA = Input(shape=(2,1))\n",
    "# the first branch operates on the first input\n",
    "cnn = Dense(16, activation=\"tanh\")(inputA)\n",
    "# x = tanh(x)\n",
    "# cnn = Reshape((16,2))(cnn)\n",
    "cnn = Permute(dims = (2,1))(cnn)\n",
    "cnn = Conv1D(32, activation = 'elu', kernel_size = 3)(cnn)\n",
    "cnn = MaxPooling1D(3)(cnn)\n",
    "cnn_out = Flatten()(cnn)\n",
    "# cnn = Reshape((None,16))(cnn)\n",
    "# cnn = Dense(16, activation = 'relu')(cnn)\n",
    "# cnn_output = Dense(16, activation='sigmoid')(cnn)\n",
    "# cnn = Model(inputs=inputA, outputs=cnn_out)"
   ]
  },
  {
   "cell_type": "code",
   "execution_count": 26,
   "metadata": {},
   "outputs": [],
   "source": [
    "\n",
    "mfcc_input = Input(shape=(None, 18, 1), dtype='float', name='mfcc_input')\n",
    "CNN_out = TimeDistributed(Conv1D(32, 3, activation='relu'))(mfcc_input)\n",
    "CNN_out = BatchNormalization(axis=-1, momentum=0.99, epsilon=0.001, center=True, scale=True)(CNN_out)\n",
    "CNN_out = TimeDistributed(MaxPooling1D(pool_size=(3), strides=None, padding='valid'))(CNN_out)\n",
    "CNN_out = Permute(dims = (3,2,1))(CNN_out)\n",
    "\n",
    "cnn = Model(inputs=mfcc_input, outputs=CNN_out)"
   ]
  },
  {
   "cell_type": "code",
   "execution_count": 27,
   "metadata": {},
   "outputs": [
    {
     "name": "stdout",
     "output_type": "stream",
     "text": [
      "Model: \"model_1\"\n",
      "_________________________________________________________________\n",
      "Layer (type)                 Output Shape              Param #   \n",
      "=================================================================\n",
      "mfcc_input (InputLayer)      [(None, None, 18, 1)]     0         \n",
      "_________________________________________________________________\n",
      "time_distributed (TimeDistri (None, None, 16, 32)      128       \n",
      "_________________________________________________________________\n",
      "batch_normalization (BatchNo (None, None, 16, 32)      128       \n",
      "_________________________________________________________________\n",
      "time_distributed_1 (TimeDist (None, None, 5, 32)       0         \n",
      "_________________________________________________________________\n",
      "permute_2 (Permute)          (None, 32, 5, None)       0         \n",
      "=================================================================\n",
      "Total params: 256\n",
      "Trainable params: 192\n",
      "Non-trainable params: 64\n",
      "_________________________________________________________________\n"
     ]
    }
   ],
   "source": [
    "cnn.summary()"
   ]
  },
  {
   "cell_type": "code",
   "execution_count": 28,
   "metadata": {},
   "outputs": [],
   "source": [
    "cnn = Sequential()\n",
    "cnn.add(Dense(16, activation='tanh'))\n",
    "cnn.add(Conv1D(1, kernel_size = 4, activation = \"elu\"))"
   ]
  },
  {
   "cell_type": "code",
   "execution_count": 29,
   "metadata": {},
   "outputs": [],
   "source": [
    "auxiliary_output = Dense(1, activation='sigmoid', name='aux_output')(cnn_out)"
   ]
  },
  {
   "cell_type": "code",
   "execution_count": null,
   "metadata": {},
   "outputs": [],
   "source": [
    "auxiliary_input = Input(shape=(18,1), name='aux_input')\n",
    "x = concatenate([cnn_out, auxiliary_input], axis = 1)"
   ]
  },
  {
   "cell_type": "code",
   "execution_count": 531,
   "metadata": {},
   "outputs": [],
   "source": [
    "# x = Dense(64, activation='relu')(x)"
   ]
  },
  {
   "cell_type": "code",
   "execution_count": 532,
   "metadata": {},
   "outputs": [],
   "source": [
    "x = LSTM(100, return_sequences = True)(x)\n",
    "x = Dropout(0.2)(x)\n",
    "x = LSTM(100,return_sequences = True)(x)\n",
    "x = Dropout(0.2)(x)\n",
    "x = LSTM(50)(x)\n",
    "x = Dropout(0.2)(x)\n",
    "main_output = Dense(1, activation='sigmoid', name='main_output')(x)\n",
    "model = Model(inputs=[inputA, auxiliary_input], outputs=[main_output])\n"
   ]
  },
  {
   "cell_type": "code",
   "execution_count": 533,
   "metadata": {},
   "outputs": [],
   "source": [
    "model.compile(optimizer='adam', loss='mae', metrics=[rmsletf])"
   ]
  },
  {
   "cell_type": "code",
   "execution_count": null,
   "metadata": {},
   "outputs": [],
   "source": [
    "model.summary()"
   ]
  },
  {
   "cell_type": "code",
   "execution_count": 228,
   "metadata": {},
   "outputs": [
    {
     "name": "stdout",
     "output_type": "stream",
     "text": [
      "Model: \"sequential_19\"\n",
      "_________________________________________________________________\n",
      "Layer (type)                 Output Shape              Param #   \n",
      "=================================================================\n",
      "lstm_19 (LSTM)               (None, 512)               1052672   \n",
      "_________________________________________________________________\n",
      "dropout_19 (Dropout)         (None, 512)               0         \n",
      "_________________________________________________________________\n",
      "dense_20 (Dense)             (None, 1)                 513       \n",
      "=================================================================\n",
      "Total params: 1,053,185\n",
      "Trainable params: 1,053,185\n",
      "Non-trainable params: 0\n",
      "_________________________________________________________________\n"
     ]
    }
   ],
   "source": [
    "model = Sequential()\n",
    "\n",
    "# first layer\n",
    "model.add(LSTM(units=512, batch_input_shape=(None,18,1),return_sequences=False, activation = 'tanh'))\n",
    "model.add(Dropout(0.2))\n",
    "\n",
    "# second layer\n",
    "# model.add(Dense(128, 1))\n",
    "# model.add(LSTM(units=100,return_sequences=False))\n",
    "# model.add(Dropout(0.2))\n",
    "\n",
    "# third layer\n",
    "# model.add(LSTM(units=50,return_sequences=False))\n",
    "# model.add(Dropout(0.2))\n",
    "\n",
    "# fourth dense layer\n",
    "model.add(Dense(units=1))\n",
    "\n",
    "\n",
    "model.compile(loss='mean_absolute_error',optimizer='adam',metrics=[rmsle_K])\n",
    "model.summary()\n",
    "          "
   ]
  },
  {
   "cell_type": "code",
   "execution_count": 271,
   "metadata": {},
   "outputs": [],
   "source": [
    "train_x = df2.drop(['Unnamed: 0', 'time', 'ID', 'time_elapsed_seconds', 'time_to_dest'] ,axis =1)\n",
    "train_y = df2[['time_to_dest']]"
   ]
  },
  {
   "cell_type": "code",
   "execution_count": 99,
   "metadata": {},
   "outputs": [
    {
     "data": {
      "text/html": [
       "<div>\n",
       "<style scoped>\n",
       "    .dataframe tbody tr th:only-of-type {\n",
       "        vertical-align: middle;\n",
       "    }\n",
       "\n",
       "    .dataframe tbody tr th {\n",
       "        vertical-align: top;\n",
       "    }\n",
       "\n",
       "    .dataframe thead th {\n",
       "        text-align: right;\n",
       "    }\n",
       "</style>\n",
       "<table border=\"1\" class=\"dataframe\">\n",
       "  <thead>\n",
       "    <tr style=\"text-align: right;\">\n",
       "      <th></th>\n",
       "      <th>Unnamed: 0</th>\n",
       "      <th>time</th>\n",
       "      <th>longitude</th>\n",
       "      <th>latitude</th>\n",
       "      <th>ID</th>\n",
       "      <th>distance_travelled</th>\n",
       "      <th>time_elapsed_seconds</th>\n",
       "      <th>speed m/s</th>\n",
       "      <th>speed kmh</th>\n",
       "      <th>bearing</th>\n",
       "      <th>...</th>\n",
       "      <th>dropoff_longitude</th>\n",
       "      <th>dist_to_dest</th>\n",
       "      <th>pickup_weekday</th>\n",
       "      <th>pickup_hour_weekofyear</th>\n",
       "      <th>pickup_hour</th>\n",
       "      <th>pickup_minute</th>\n",
       "      <th>pickup_dt</th>\n",
       "      <th>pickup_week_hour</th>\n",
       "      <th>next_lat</th>\n",
       "      <th>next_lon</th>\n",
       "    </tr>\n",
       "  </thead>\n",
       "  <tbody>\n",
       "    <tr>\n",
       "      <th>2382005</th>\n",
       "      <td>NaN</td>\n",
       "      <td>NaT</td>\n",
       "      <td>NaN</td>\n",
       "      <td>NaN</td>\n",
       "      <td>NaN</td>\n",
       "      <td>NaN</td>\n",
       "      <td>NaN</td>\n",
       "      <td>NaN</td>\n",
       "      <td>NaN</td>\n",
       "      <td>NaN</td>\n",
       "      <td>...</td>\n",
       "      <td>NaN</td>\n",
       "      <td>NaN</td>\n",
       "      <td>NaN</td>\n",
       "      <td>NaN</td>\n",
       "      <td>NaN</td>\n",
       "      <td>NaN</td>\n",
       "      <td>NaN</td>\n",
       "      <td>NaN</td>\n",
       "      <td>NaN</td>\n",
       "      <td>NaN</td>\n",
       "    </tr>\n",
       "    <tr>\n",
       "      <th>2382006</th>\n",
       "      <td>NaN</td>\n",
       "      <td>NaT</td>\n",
       "      <td>NaN</td>\n",
       "      <td>NaN</td>\n",
       "      <td>NaN</td>\n",
       "      <td>NaN</td>\n",
       "      <td>NaN</td>\n",
       "      <td>NaN</td>\n",
       "      <td>NaN</td>\n",
       "      <td>NaN</td>\n",
       "      <td>...</td>\n",
       "      <td>NaN</td>\n",
       "      <td>NaN</td>\n",
       "      <td>NaN</td>\n",
       "      <td>NaN</td>\n",
       "      <td>NaN</td>\n",
       "      <td>NaN</td>\n",
       "      <td>NaN</td>\n",
       "      <td>NaN</td>\n",
       "      <td>NaN</td>\n",
       "      <td>NaN</td>\n",
       "    </tr>\n",
       "    <tr>\n",
       "      <th>2382007</th>\n",
       "      <td>NaN</td>\n",
       "      <td>NaT</td>\n",
       "      <td>NaN</td>\n",
       "      <td>NaN</td>\n",
       "      <td>NaN</td>\n",
       "      <td>NaN</td>\n",
       "      <td>NaN</td>\n",
       "      <td>NaN</td>\n",
       "      <td>NaN</td>\n",
       "      <td>NaN</td>\n",
       "      <td>...</td>\n",
       "      <td>NaN</td>\n",
       "      <td>NaN</td>\n",
       "      <td>NaN</td>\n",
       "      <td>NaN</td>\n",
       "      <td>NaN</td>\n",
       "      <td>NaN</td>\n",
       "      <td>NaN</td>\n",
       "      <td>NaN</td>\n",
       "      <td>NaN</td>\n",
       "      <td>NaN</td>\n",
       "    </tr>\n",
       "    <tr>\n",
       "      <th>2382008</th>\n",
       "      <td>NaN</td>\n",
       "      <td>NaT</td>\n",
       "      <td>NaN</td>\n",
       "      <td>NaN</td>\n",
       "      <td>NaN</td>\n",
       "      <td>NaN</td>\n",
       "      <td>NaN</td>\n",
       "      <td>NaN</td>\n",
       "      <td>NaN</td>\n",
       "      <td>NaN</td>\n",
       "      <td>...</td>\n",
       "      <td>NaN</td>\n",
       "      <td>NaN</td>\n",
       "      <td>NaN</td>\n",
       "      <td>NaN</td>\n",
       "      <td>NaN</td>\n",
       "      <td>NaN</td>\n",
       "      <td>NaN</td>\n",
       "      <td>NaN</td>\n",
       "      <td>NaN</td>\n",
       "      <td>NaN</td>\n",
       "    </tr>\n",
       "    <tr>\n",
       "      <th>2382009</th>\n",
       "      <td>NaN</td>\n",
       "      <td>NaT</td>\n",
       "      <td>NaN</td>\n",
       "      <td>NaN</td>\n",
       "      <td>NaN</td>\n",
       "      <td>NaN</td>\n",
       "      <td>NaN</td>\n",
       "      <td>NaN</td>\n",
       "      <td>NaN</td>\n",
       "      <td>NaN</td>\n",
       "      <td>...</td>\n",
       "      <td>NaN</td>\n",
       "      <td>NaN</td>\n",
       "      <td>NaN</td>\n",
       "      <td>NaN</td>\n",
       "      <td>NaN</td>\n",
       "      <td>NaN</td>\n",
       "      <td>NaN</td>\n",
       "      <td>NaN</td>\n",
       "      <td>NaN</td>\n",
       "      <td>NaN</td>\n",
       "    </tr>\n",
       "    <tr>\n",
       "      <th>...</th>\n",
       "      <td>...</td>\n",
       "      <td>...</td>\n",
       "      <td>...</td>\n",
       "      <td>...</td>\n",
       "      <td>...</td>\n",
       "      <td>...</td>\n",
       "      <td>...</td>\n",
       "      <td>...</td>\n",
       "      <td>...</td>\n",
       "      <td>...</td>\n",
       "      <td>...</td>\n",
       "      <td>...</td>\n",
       "      <td>...</td>\n",
       "      <td>...</td>\n",
       "      <td>...</td>\n",
       "      <td>...</td>\n",
       "      <td>...</td>\n",
       "      <td>...</td>\n",
       "      <td>...</td>\n",
       "      <td>...</td>\n",
       "      <td>...</td>\n",
       "    </tr>\n",
       "    <tr>\n",
       "      <th>2382046</th>\n",
       "      <td>NaN</td>\n",
       "      <td>NaT</td>\n",
       "      <td>NaN</td>\n",
       "      <td>NaN</td>\n",
       "      <td>NaN</td>\n",
       "      <td>NaN</td>\n",
       "      <td>NaN</td>\n",
       "      <td>NaN</td>\n",
       "      <td>NaN</td>\n",
       "      <td>NaN</td>\n",
       "      <td>...</td>\n",
       "      <td>NaN</td>\n",
       "      <td>NaN</td>\n",
       "      <td>NaN</td>\n",
       "      <td>NaN</td>\n",
       "      <td>NaN</td>\n",
       "      <td>NaN</td>\n",
       "      <td>NaN</td>\n",
       "      <td>NaN</td>\n",
       "      <td>NaN</td>\n",
       "      <td>NaN</td>\n",
       "    </tr>\n",
       "    <tr>\n",
       "      <th>2382047</th>\n",
       "      <td>NaN</td>\n",
       "      <td>NaT</td>\n",
       "      <td>NaN</td>\n",
       "      <td>NaN</td>\n",
       "      <td>NaN</td>\n",
       "      <td>NaN</td>\n",
       "      <td>NaN</td>\n",
       "      <td>NaN</td>\n",
       "      <td>NaN</td>\n",
       "      <td>NaN</td>\n",
       "      <td>...</td>\n",
       "      <td>NaN</td>\n",
       "      <td>NaN</td>\n",
       "      <td>NaN</td>\n",
       "      <td>NaN</td>\n",
       "      <td>NaN</td>\n",
       "      <td>NaN</td>\n",
       "      <td>NaN</td>\n",
       "      <td>NaN</td>\n",
       "      <td>NaN</td>\n",
       "      <td>NaN</td>\n",
       "    </tr>\n",
       "    <tr>\n",
       "      <th>2382048</th>\n",
       "      <td>NaN</td>\n",
       "      <td>NaT</td>\n",
       "      <td>NaN</td>\n",
       "      <td>NaN</td>\n",
       "      <td>NaN</td>\n",
       "      <td>NaN</td>\n",
       "      <td>NaN</td>\n",
       "      <td>NaN</td>\n",
       "      <td>NaN</td>\n",
       "      <td>NaN</td>\n",
       "      <td>...</td>\n",
       "      <td>NaN</td>\n",
       "      <td>NaN</td>\n",
       "      <td>NaN</td>\n",
       "      <td>NaN</td>\n",
       "      <td>NaN</td>\n",
       "      <td>NaN</td>\n",
       "      <td>NaN</td>\n",
       "      <td>NaN</td>\n",
       "      <td>NaN</td>\n",
       "      <td>NaN</td>\n",
       "    </tr>\n",
       "    <tr>\n",
       "      <th>2382049</th>\n",
       "      <td>NaN</td>\n",
       "      <td>NaT</td>\n",
       "      <td>NaN</td>\n",
       "      <td>NaN</td>\n",
       "      <td>NaN</td>\n",
       "      <td>NaN</td>\n",
       "      <td>NaN</td>\n",
       "      <td>NaN</td>\n",
       "      <td>NaN</td>\n",
       "      <td>NaN</td>\n",
       "      <td>...</td>\n",
       "      <td>NaN</td>\n",
       "      <td>NaN</td>\n",
       "      <td>NaN</td>\n",
       "      <td>NaN</td>\n",
       "      <td>NaN</td>\n",
       "      <td>NaN</td>\n",
       "      <td>NaN</td>\n",
       "      <td>NaN</td>\n",
       "      <td>NaN</td>\n",
       "      <td>NaN</td>\n",
       "    </tr>\n",
       "    <tr>\n",
       "      <th>2382050</th>\n",
       "      <td>NaN</td>\n",
       "      <td>NaT</td>\n",
       "      <td>NaN</td>\n",
       "      <td>NaN</td>\n",
       "      <td>NaN</td>\n",
       "      <td>NaN</td>\n",
       "      <td>NaN</td>\n",
       "      <td>NaN</td>\n",
       "      <td>NaN</td>\n",
       "      <td>NaN</td>\n",
       "      <td>...</td>\n",
       "      <td>NaN</td>\n",
       "      <td>NaN</td>\n",
       "      <td>NaN</td>\n",
       "      <td>NaN</td>\n",
       "      <td>NaN</td>\n",
       "      <td>NaN</td>\n",
       "      <td>NaN</td>\n",
       "      <td>NaN</td>\n",
       "      <td>NaN</td>\n",
       "      <td>NaN</td>\n",
       "    </tr>\n",
       "  </tbody>\n",
       "</table>\n",
       "<p>46 rows × 25 columns</p>\n",
       "</div>"
      ],
      "text/plain": [
       "         Unnamed: 0 time  longitude  latitude  ID  distance_travelled  \\\n",
       "2382005         NaN  NaT        NaN       NaN NaN                 NaN   \n",
       "2382006         NaN  NaT        NaN       NaN NaN                 NaN   \n",
       "2382007         NaN  NaT        NaN       NaN NaN                 NaN   \n",
       "2382008         NaN  NaT        NaN       NaN NaN                 NaN   \n",
       "2382009         NaN  NaT        NaN       NaN NaN                 NaN   \n",
       "...             ...  ...        ...       ...  ..                 ...   \n",
       "2382046         NaN  NaT        NaN       NaN NaN                 NaN   \n",
       "2382047         NaN  NaT        NaN       NaN NaN                 NaN   \n",
       "2382048         NaN  NaT        NaN       NaN NaN                 NaN   \n",
       "2382049         NaN  NaT        NaN       NaN NaN                 NaN   \n",
       "2382050         NaN  NaT        NaN       NaN NaN                 NaN   \n",
       "\n",
       "         time_elapsed_seconds  speed m/s  speed kmh  bearing  ...  \\\n",
       "2382005                   NaN        NaN        NaN      NaN  ...   \n",
       "2382006                   NaN        NaN        NaN      NaN  ...   \n",
       "2382007                   NaN        NaN        NaN      NaN  ...   \n",
       "2382008                   NaN        NaN        NaN      NaN  ...   \n",
       "2382009                   NaN        NaN        NaN      NaN  ...   \n",
       "...                       ...        ...        ...      ...  ...   \n",
       "2382046                   NaN        NaN        NaN      NaN  ...   \n",
       "2382047                   NaN        NaN        NaN      NaN  ...   \n",
       "2382048                   NaN        NaN        NaN      NaN  ...   \n",
       "2382049                   NaN        NaN        NaN      NaN  ...   \n",
       "2382050                   NaN        NaN        NaN      NaN  ...   \n",
       "\n",
       "         dropoff_longitude  dist_to_dest  pickup_weekday  \\\n",
       "2382005                NaN           NaN             NaN   \n",
       "2382006                NaN           NaN             NaN   \n",
       "2382007                NaN           NaN             NaN   \n",
       "2382008                NaN           NaN             NaN   \n",
       "2382009                NaN           NaN             NaN   \n",
       "...                    ...           ...             ...   \n",
       "2382046                NaN           NaN             NaN   \n",
       "2382047                NaN           NaN             NaN   \n",
       "2382048                NaN           NaN             NaN   \n",
       "2382049                NaN           NaN             NaN   \n",
       "2382050                NaN           NaN             NaN   \n",
       "\n",
       "         pickup_hour_weekofyear  pickup_hour  pickup_minute  pickup_dt  \\\n",
       "2382005                     NaN          NaN            NaN        NaN   \n",
       "2382006                     NaN          NaN            NaN        NaN   \n",
       "2382007                     NaN          NaN            NaN        NaN   \n",
       "2382008                     NaN          NaN            NaN        NaN   \n",
       "2382009                     NaN          NaN            NaN        NaN   \n",
       "...                         ...          ...            ...        ...   \n",
       "2382046                     NaN          NaN            NaN        NaN   \n",
       "2382047                     NaN          NaN            NaN        NaN   \n",
       "2382048                     NaN          NaN            NaN        NaN   \n",
       "2382049                     NaN          NaN            NaN        NaN   \n",
       "2382050                     NaN          NaN            NaN        NaN   \n",
       "\n",
       "         pickup_week_hour  next_lat  next_lon  \n",
       "2382005               NaN       NaN       NaN  \n",
       "2382006               NaN       NaN       NaN  \n",
       "2382007               NaN       NaN       NaN  \n",
       "2382008               NaN       NaN       NaN  \n",
       "2382009               NaN       NaN       NaN  \n",
       "...                   ...       ...       ...  \n",
       "2382046               NaN       NaN       NaN  \n",
       "2382047               NaN       NaN       NaN  \n",
       "2382048               NaN       NaN       NaN  \n",
       "2382049               NaN       NaN       NaN  \n",
       "2382050               NaN       NaN       NaN  \n",
       "\n",
       "[46 rows x 25 columns]"
      ]
     },
     "execution_count": 99,
     "metadata": {},
     "output_type": "execute_result"
    }
   ],
   "source": [
    "df2[df2[['time_to_dest']] < 75]"
   ]
  },
  {
   "cell_type": "code",
   "execution_count": 158,
   "metadata": {},
   "outputs": [],
   "source": [
    "mu, sigma = 0, 5\n",
    "noise = np.random.normal(mu, sigma, [67,1]) \n",
    "train_y = train_y + noise"
   ]
  },
  {
   "cell_type": "code",
   "execution_count": 272,
   "metadata": {},
   "outputs": [
    {
     "data": {
      "text/plain": [
       "(63, 18)"
      ]
     },
     "execution_count": 272,
     "metadata": {},
     "output_type": "execute_result"
    }
   ],
   "source": [
    "x_data = train_x.values\n",
    "x_data = np.array(x_data)\n",
    "# x_data = x_data.reshape(19828,5,1)\n",
    "x_data.shape"
   ]
  },
  {
   "cell_type": "code",
   "execution_count": 273,
   "metadata": {},
   "outputs": [
    {
     "data": {
      "text/plain": [
       "(63, 1)"
      ]
     },
     "execution_count": 273,
     "metadata": {},
     "output_type": "execute_result"
    }
   ],
   "source": [
    "y_data = train_y.values\n",
    "y_data.shape"
   ]
  },
  {
   "cell_type": "code",
   "execution_count": 274,
   "metadata": {},
   "outputs": [],
   "source": [
    "# x_test = x_data\n",
    "# y_test = y_data"
   ]
  },
  {
   "cell_type": "code",
   "execution_count": 164,
   "metadata": {},
   "outputs": [],
   "source": [
    "x_train = x_data[0:50]\n",
    "y_train = y_data[0:50]\n",
    "x_test = x_data[50:]\n",
    "y_test = y_data[50:]"
   ]
  },
  {
   "cell_type": "code",
   "execution_count": 275,
   "metadata": {},
   "outputs": [],
   "source": [
    "# sc = MinMaxScaler(feature_range=(-1,1))\n",
    "scy = MinMaxScaler(feature_range=(-1,1))\n",
    "sc = sklearn.preprocessing.StandardScaler()\n",
    "# new_df= x_data[].reshape(x_data.shape[0],5)\n",
    "\n",
    "x_train = sc.fit_transform(x_train)\n",
    "x_train = x_train.reshape(50,18,1)\n",
    "x_test = sc.transform(x_test).reshape(17,18,1)\n",
    "\n",
    "\n",
    "y_train = scy.fit_transform(y_train)\n",
    "y_test = scy.transform(y_test)\n",
    "\n",
    "# new_y_data = y_data\n",
    "# new_y_data = scy.fit_transform(y_)"
   ]
  },
  {
   "cell_type": "code",
   "execution_count": 229,
   "metadata": {},
   "outputs": [],
   "source": [
    "callback_early_stopping = EarlyStopping(monitor='val_loss',\n",
    "                                        patience=10, verbose=1)"
   ]
  },
  {
   "cell_type": "code",
   "execution_count": 230,
   "metadata": {},
   "outputs": [
    {
     "name": "stdout",
     "output_type": "stream",
     "text": [
      "Train on 50 samples, validate on 17 samples\n",
      "Epoch 1/50\n",
      "50/50 [==============================] - 3s 51ms/sample - loss: 0.4901 - rmsle_K: inf - val_loss: 1.2490 - val_rmsle_K: nan\n",
      "Epoch 2/50\n",
      "50/50 [==============================] - 0s 8ms/sample - loss: 0.4465 - rmsle_K: inf - val_loss: 1.1612 - val_rmsle_K: nan\n",
      "Epoch 3/50\n",
      "50/50 [==============================] - 0s 8ms/sample - loss: 0.3881 - rmsle_K: inf - val_loss: 1.0412 - val_rmsle_K: nan\n",
      "Epoch 4/50\n",
      "50/50 [==============================] - 0s 7ms/sample - loss: 0.3091 - rmsle_K: inf - val_loss: 0.9005 - val_rmsle_K: nan\n",
      "Epoch 5/50\n",
      "50/50 [==============================] - 0s 7ms/sample - loss: 0.2413 - rmsle_K: inf - val_loss: 0.6867 - val_rmsle_K: nan\n",
      "Epoch 6/50\n",
      "50/50 [==============================] - 0s 8ms/sample - loss: 0.2137 - rmsle_K: inf - val_loss: 0.5128 - val_rmsle_K: nan\n",
      "Epoch 7/50\n",
      "50/50 [==============================] - 0s 8ms/sample - loss: 0.1768 - rmsle_K: inf - val_loss: 0.3998 - val_rmsle_K: nan\n",
      "Epoch 8/50\n",
      "50/50 [==============================] - 0s 7ms/sample - loss: 0.1110 - rmsle_K: inf - val_loss: 0.2282 - val_rmsle_K: nan\n",
      "Epoch 9/50\n",
      "50/50 [==============================] - 0s 8ms/sample - loss: 0.0573 - rmsle_K: inf - val_loss: 0.0443 - val_rmsle_K: nan\n",
      "Epoch 10/50\n",
      "50/50 [==============================] - 0s 7ms/sample - loss: 0.0595 - rmsle_K: nan - val_loss: 0.1416 - val_rmsle_K: nan\n",
      "Epoch 11/50\n",
      "50/50 [==============================] - 0s 10ms/sample - loss: 0.0801 - rmsle_K: nan - val_loss: 0.0930 - val_rmsle_K: nan\n",
      "Epoch 12/50\n",
      "50/50 [==============================] - 0s 8ms/sample - loss: 0.0496 - rmsle_K: nan - val_loss: 0.0404 - val_rmsle_K: nan\n",
      "Epoch 13/50\n",
      "50/50 [==============================] - 0s 7ms/sample - loss: 0.0355 - rmsle_K: nan - val_loss: 0.1141 - val_rmsle_K: nan\n",
      "Epoch 14/50\n",
      "50/50 [==============================] - 0s 7ms/sample - loss: 0.0394 - rmsle_K: inf - val_loss: 0.1184 - val_rmsle_K: nan\n",
      "Epoch 15/50\n",
      "50/50 [==============================] - 0s 8ms/sample - loss: 0.0374 - rmsle_K: inf - val_loss: 0.0639 - val_rmsle_K: nan\n",
      "Epoch 16/50\n",
      "50/50 [==============================] - 0s 10ms/sample - loss: 0.0256 - rmsle_K: inf - val_loss: 0.0393 - val_rmsle_K: nan\n",
      "Epoch 17/50\n",
      "50/50 [==============================] - 0s 8ms/sample - loss: 0.0341 - rmsle_K: nan - val_loss: 0.0304 - val_rmsle_K: nan\n",
      "Epoch 18/50\n",
      "50/50 [==============================] - 0s 8ms/sample - loss: 0.0267 - rmsle_K: nan - val_loss: 0.0338 - val_rmsle_K: nan\n",
      "Epoch 19/50\n",
      "50/50 [==============================] - 0s 9ms/sample - loss: 0.0190 - rmsle_K: nan - val_loss: 0.0863 - val_rmsle_K: nan\n",
      "Epoch 20/50\n",
      "50/50 [==============================] - 0s 8ms/sample - loss: 0.0247 - rmsle_K: inf - val_loss: 0.0954 - val_rmsle_K: nan\n",
      "Epoch 21/50\n",
      "50/50 [==============================] - 0s 8ms/sample - loss: 0.0285 - rmsle_K: inf - val_loss: 0.0536 - val_rmsle_K: nan\n",
      "Epoch 22/50\n",
      "50/50 [==============================] - 0s 8ms/sample - loss: 0.0199 - rmsle_K: inf - val_loss: 0.0251 - val_rmsle_K: nan\n",
      "Epoch 23/50\n",
      "50/50 [==============================] - 0s 8ms/sample - loss: 0.0180 - rmsle_K: inf - val_loss: 0.0225 - val_rmsle_K: nan\n",
      "Epoch 24/50\n",
      "50/50 [==============================] - 0s 9ms/sample - loss: 0.0274 - rmsle_K: nan - val_loss: 0.0236 - val_rmsle_K: nan\n",
      "Epoch 25/50\n",
      "50/50 [==============================] - 0s 8ms/sample - loss: 0.0221 - rmsle_K: inf - val_loss: 0.0780 - val_rmsle_K: nan\n",
      "Epoch 26/50\n",
      "50/50 [==============================] - 0s 10ms/sample - loss: 0.0241 - rmsle_K: inf - val_loss: 0.0887 - val_rmsle_K: nan\n",
      "Epoch 27/50\n",
      "50/50 [==============================] - 0s 8ms/sample - loss: 0.0238 - rmsle_K: inf - val_loss: 0.0406 - val_rmsle_K: nan\n",
      "Epoch 28/50\n",
      "50/50 [==============================] - 0s 8ms/sample - loss: 0.0258 - rmsle_K: inf - val_loss: 0.0207 - val_rmsle_K: nan\n",
      "Epoch 29/50\n",
      "50/50 [==============================] - 0s 10ms/sample - loss: 0.0215 - rmsle_K: nan - val_loss: 0.0387 - val_rmsle_K: nan\n",
      "Epoch 30/50\n",
      "50/50 [==============================] - 0s 8ms/sample - loss: 0.0249 - rmsle_K: inf - val_loss: 0.0505 - val_rmsle_K: nan\n",
      "Epoch 31/50\n",
      "50/50 [==============================] - 0s 8ms/sample - loss: 0.0206 - rmsle_K: inf - val_loss: 0.0401 - val_rmsle_K: nan\n",
      "Epoch 32/50\n",
      "50/50 [==============================] - 0s 8ms/sample - loss: 0.0221 - rmsle_K: inf - val_loss: 0.0323 - val_rmsle_K: nan\n",
      "Epoch 33/50\n",
      "50/50 [==============================] - 0s 8ms/sample - loss: 0.0228 - rmsle_K: nan - val_loss: 0.0490 - val_rmsle_K: nan\n",
      "Epoch 34/50\n",
      "50/50 [==============================] - 0s 9ms/sample - loss: 0.0175 - rmsle_K: inf - val_loss: 0.0406 - val_rmsle_K: nan\n",
      "Epoch 35/50\n",
      "50/50 [==============================] - 0s 9ms/sample - loss: 0.0239 - rmsle_K: nan - val_loss: 0.0187 - val_rmsle_K: nan\n",
      "Epoch 36/50\n",
      "50/50 [==============================] - 0s 8ms/sample - loss: 0.0226 - rmsle_K: nan - val_loss: 0.0192 - val_rmsle_K: nan\n",
      "Epoch 37/50\n",
      "50/50 [==============================] - 1s 11ms/sample - loss: 0.0169 - rmsle_K: nan - val_loss: 0.0562 - val_rmsle_K: nan\n",
      "Epoch 38/50\n",
      "50/50 [==============================] - 0s 8ms/sample - loss: 0.0185 - rmsle_K: inf - val_loss: 0.0927 - val_rmsle_K: nan\n",
      "Epoch 39/50\n",
      "50/50 [==============================] - 0s 8ms/sample - loss: 0.0215 - rmsle_K: inf - val_loss: 0.0743 - val_rmsle_K: nan\n",
      "Epoch 40/50\n",
      "50/50 [==============================] - 0s 8ms/sample - loss: 0.0211 - rmsle_K: inf - val_loss: 0.0188 - val_rmsle_K: nan\n",
      "Epoch 41/50\n",
      "50/50 [==============================] - 0s 8ms/sample - loss: 0.0202 - rmsle_K: inf - val_loss: 0.0172 - val_rmsle_K: nan\n",
      "Epoch 42/50\n",
      "50/50 [==============================] - 0s 9ms/sample - loss: 0.0186 - rmsle_K: nan - val_loss: 0.0375 - val_rmsle_K: nan\n",
      "Epoch 43/50\n",
      "50/50 [==============================] - 0s 10ms/sample - loss: 0.0209 - rmsle_K: inf - val_loss: 0.0441 - val_rmsle_K: nan\n",
      "Epoch 44/50\n",
      "50/50 [==============================] - 0s 8ms/sample - loss: 0.0199 - rmsle_K: inf - val_loss: 0.0348 - val_rmsle_K: nan\n",
      "Epoch 45/50\n",
      "50/50 [==============================] - 0s 8ms/sample - loss: 0.0187 - rmsle_K: inf - val_loss: 0.0374 - val_rmsle_K: nan\n",
      "Epoch 46/50\n",
      "50/50 [==============================] - 0s 7ms/sample - loss: 0.0178 - rmsle_K: inf - val_loss: 0.0272 - val_rmsle_K: nan\n",
      "Epoch 47/50\n",
      "50/50 [==============================] - 0s 7ms/sample - loss: 0.0167 - rmsle_K: inf - val_loss: 0.0240 - val_rmsle_K: nan\n",
      "Epoch 48/50\n",
      "50/50 [==============================] - 0s 8ms/sample - loss: 0.0175 - rmsle_K: inf - val_loss: 0.0316 - val_rmsle_K: nan\n",
      "Epoch 49/50\n",
      "50/50 [==============================] - 0s 8ms/sample - loss: 0.0204 - rmsle_K: inf - val_loss: 0.0260 - val_rmsle_K: nan\n",
      "Epoch 50/50\n",
      "50/50 [==============================] - 1s 10ms/sample - loss: 0.0183 - rmsle_K: nan - val_loss: 0.0331 - val_rmsle_K: nan\n"
     ]
    },
    {
     "data": {
      "text/plain": [
       "<tensorflow.python.keras.callbacks.History at 0x7f5458829470>"
      ]
     },
     "execution_count": 230,
     "metadata": {},
     "output_type": "execute_result"
    }
   ],
   "source": [
    "model.fit(x_train,y_train,epochs=50,validation_data=(x_test,y_test), callbacks = [callback_early_stopping], verbose = 1)"
   ]
  },
  {
   "cell_type": "code",
   "execution_count": null,
   "metadata": {},
   "outputs": [],
   "source": [
    "\n",
    "c2 = list(zip(x_test, y_test))\n",
    "\n",
    "random.shuffle(c)\n",
    "\n",
    "x_test, y_test = zip(*c2)\n"
   ]
  },
  {
   "cell_type": "code",
   "execution_count": null,
   "metadata": {},
   "outputs": [],
   "source": [
    "result = model.predict(np.array(x_test))\n",
    "result"
   ]
  },
  {
   "cell_type": "code",
   "execution_count": 277,
   "metadata": {},
   "outputs": [],
   "source": [
    "res_df = scy.inverse_transform(result)"
   ]
  },
  {
   "cell_type": "code",
   "execution_count": 278,
   "metadata": {},
   "outputs": [],
   "source": [
    "y_test_actual=scy.inverse_transform(y_test)"
   ]
  },
  {
   "cell_type": "code",
   "execution_count": 279,
   "metadata": {},
   "outputs": [
    {
     "data": {
      "text/plain": [
       "15577.308237227182"
      ]
     },
     "execution_count": 279,
     "metadata": {},
     "output_type": "execute_result"
    }
   ],
   "source": [
    "mean_absolute_error(res_df , y_test_actual )"
   ]
  },
  {
   "cell_type": "code",
   "execution_count": 280,
   "metadata": {},
   "outputs": [
    {
     "data": {
      "text/plain": [
       "<matplotlib.legend.Legend at 0x7f543256b668>"
      ]
     },
     "execution_count": 280,
     "metadata": {},
     "output_type": "execute_result"
    },
    {
     "data": {
      "image/png": "[encoded data removed]",
      "text/plain": [
       "<Figure size 864x360 with 1 Axes>"
      ]
     },
     "metadata": {
      "needs_background": "light"
     },
     "output_type": "display_data"
    }
   ],
   "source": [
    "plt.figure(figsize=(12,5))\n",
    "plt.plot(res_df, label = 'pred')\n",
    "plt.plot(y_test_actual, label = 'true')\n",
    "plt.ylabel('time to dest')\n",
    "plt.legend()"
   ]
  },
  {
   "cell_type": "code",
   "execution_count": 432,
   "metadata": {},
   "outputs": [
    {
     "data": {
      "text/plain": [
       "<matplotlib.legend.Legend at 0x7fd10a541a90>"
      ]
     },
     "execution_count": 432,
     "metadata": {},
     "output_type": "execute_result"
    },
    {
     "data": {
      "image/png": "[encoded data removed]",
      "text/plain": [
       "<Figure size 864x360 with 1 Axes>"
      ]
     },
     "metadata": {
      "needs_background": "light"
     },
     "output_type": "display_data"
    }
   ],
   "source": [
    "plt.figure(figsize=(12,5))\n",
    "plt.plot(res_df, label = 'pred')\n",
    "plt.plot(y_test_actual, label = 'true')\n",
    "plt.ylabel('time to dest')\n",
    "plt.legend()"
   ]
  },
  {
   "cell_type": "code",
   "execution_count": 486,
   "metadata": {},
   "outputs": [
    {
     "data": {
      "image/svg+xml": [
       "<svg height=\"921pt\" viewBox=\"0.00 0.00 371.50 921.00\" width=\"372pt\" xmlns=\"http://www.w3.org/2000/svg\" xmlns:xlink=\"http://www.w3.org/1999/xlink\">\n",
       "<g class=\"graph\" id=\"graph0\" transform=\"scale(1 1) rotate(0) translate(4 917)\">\n",
       "<title>G</title>\n",
       "<polygon fill=\"#ffffff\" points=\"-4,4 -4,-917 367.5,-917 367.5,4 -4,4\" stroke=\"transparent\"/>\n",
       "<!-- 140535714927392 -->\n",
       "<g class=\"node\" id=\"node1\">\n",
       "<title>140535714927392</title>\n",
       "<polygon fill=\"none\" points=\"34,-876.5 34,-912.5 173,-912.5 173,-876.5 34,-876.5\" stroke=\"#000000\"/>\n",
       "<text fill=\"#000000\" font-family=\"Times,serif\" font-size=\"14.00\" text-anchor=\"middle\" x=\"103.5\" y=\"-890.8\">input_113: InputLayer</text>\n",
       "</g>\n",
       "<!-- 140535714927336 -->\n",
       "<g class=\"node\" id=\"node2\">\n",
       "<title>140535714927336</title>\n",
       "<polygon fill=\"none\" points=\"45.5,-803.5 45.5,-839.5 161.5,-839.5 161.5,-803.5 45.5,-803.5\" stroke=\"#000000\"/>\n",
       "<text fill=\"#000000\" font-family=\"Times,serif\" font-size=\"14.00\" text-anchor=\"middle\" x=\"103.5\" y=\"-817.8\">dense_130: Dense</text>\n",
       "</g>\n",
       "<!-- 140535714927392&#45;&gt;140535714927336 -->\n",
       "<g class=\"edge\" id=\"edge1\">\n",
       "<title>140535714927392-&gt;140535714927336</title>\n",
       "<path d=\"M103.5,-876.4551C103.5,-868.3828 103.5,-858.6764 103.5,-849.6817\" fill=\"none\" stroke=\"#000000\"/>\n",
       "<polygon fill=\"#000000\" points=\"107.0001,-849.5903 103.5,-839.5904 100.0001,-849.5904 107.0001,-849.5903\" stroke=\"#000000\"/>\n",
       "</g>\n",
       "<!-- 140535714927504 -->\n",
       "<g class=\"node\" id=\"node3\">\n",
       "<title>140535714927504</title>\n",
       "<polygon fill=\"none\" points=\"38,-730.5 38,-766.5 169,-766.5 169,-730.5 38,-730.5\" stroke=\"#000000\"/>\n",
       "<text fill=\"#000000\" font-family=\"Times,serif\" font-size=\"14.00\" text-anchor=\"middle\" x=\"103.5\" y=\"-744.8\">reshape_59: Reshape</text>\n",
       "</g>\n",
       "<!-- 140535714927336&#45;&gt;140535714927504 -->\n",
       "<g class=\"edge\" id=\"edge2\">\n",
       "<title>140535714927336-&gt;140535714927504</title>\n",
       "<path d=\"M103.5,-803.4551C103.5,-795.3828 103.5,-785.6764 103.5,-776.6817\" fill=\"none\" stroke=\"#000000\"/>\n",
       "<polygon fill=\"#000000\" points=\"107.0001,-776.5903 103.5,-766.5904 100.0001,-776.5904 107.0001,-776.5903\" stroke=\"#000000\"/>\n",
       "</g>\n",
       "<!-- 140535705655000 -->\n",
       "<g class=\"node\" id=\"node4\">\n",
       "<title>140535705655000</title>\n",
       "<polygon fill=\"none\" points=\"38.5,-657.5 38.5,-693.5 168.5,-693.5 168.5,-657.5 38.5,-657.5\" stroke=\"#000000\"/>\n",
       "<text fill=\"#000000\" font-family=\"Times,serif\" font-size=\"14.00\" text-anchor=\"middle\" x=\"103.5\" y=\"-671.8\">conv1d_89: Conv1D</text>\n",
       "</g>\n",
       "<!-- 140535714927504&#45;&gt;140535705655000 -->\n",
       "<g class=\"edge\" id=\"edge3\">\n",
       "<title>140535714927504-&gt;140535705655000</title>\n",
       "<path d=\"M103.5,-730.4551C103.5,-722.3828 103.5,-712.6764 103.5,-703.6817\" fill=\"none\" stroke=\"#000000\"/>\n",
       "<polygon fill=\"#000000\" points=\"107.0001,-703.5903 103.5,-693.5904 100.0001,-703.5904 107.0001,-703.5903\" stroke=\"#000000\"/>\n",
       "</g>\n",
       "<!-- 140535705653656 -->\n",
       "<g class=\"node\" id=\"node5\">\n",
       "<title>140535705653656</title>\n",
       "<polygon fill=\"none\" points=\"0,-584.5 0,-620.5 207,-620.5 207,-584.5 0,-584.5\" stroke=\"#000000\"/>\n",
       "<text fill=\"#000000\" font-family=\"Times,serif\" font-size=\"14.00\" text-anchor=\"middle\" x=\"103.5\" y=\"-598.8\">max_pooling1d_6: MaxPooling1D</text>\n",
       "</g>\n",
       "<!-- 140535705655000&#45;&gt;140535705653656 -->\n",
       "<g class=\"edge\" id=\"edge4\">\n",
       "<title>140535705655000-&gt;140535705653656</title>\n",
       "<path d=\"M103.5,-657.4551C103.5,-649.3828 103.5,-639.6764 103.5,-630.6817\" fill=\"none\" stroke=\"#000000\"/>\n",
       "<polygon fill=\"#000000\" points=\"107.0001,-630.5903 103.5,-620.5904 100.0001,-630.5904 107.0001,-630.5903\" stroke=\"#000000\"/>\n",
       "</g>\n",
       "<!-- 140535703908248 -->\n",
       "<g class=\"node\" id=\"node7\">\n",
       "<title>140535703908248</title>\n",
       "<polygon fill=\"none\" points=\"111,-511.5 111,-547.5 286,-547.5 286,-511.5 111,-511.5\" stroke=\"#000000\"/>\n",
       "<text fill=\"#000000\" font-family=\"Times,serif\" font-size=\"14.00\" text-anchor=\"middle\" x=\"198.5\" y=\"-525.8\">concatenate_29: Concatenate</text>\n",
       "</g>\n",
       "<!-- 140535705653656&#45;&gt;140535703908248 -->\n",
       "<g class=\"edge\" id=\"edge5\">\n",
       "<title>140535705653656-&gt;140535703908248</title>\n",
       "<path d=\"M126.9832,-584.4551C138.9725,-575.2422 153.7321,-563.9006 166.7231,-553.918\" fill=\"none\" stroke=\"#000000\"/>\n",
       "<polygon fill=\"#000000\" points=\"169.161,-556.4587 174.9578,-547.5904 164.8958,-550.9082 169.161,-556.4587\" stroke=\"#000000\"/>\n",
       "</g>\n",
       "<!-- 140535703908304 -->\n",
       "<g class=\"node\" id=\"node6\">\n",
       "<title>140535703908304</title>\n",
       "<polygon fill=\"none\" points=\"225.5,-584.5 225.5,-620.5 363.5,-620.5 363.5,-584.5 225.5,-584.5\" stroke=\"#000000\"/>\n",
       "<text fill=\"#000000\" font-family=\"Times,serif\" font-size=\"14.00\" text-anchor=\"middle\" x=\"294.5\" y=\"-598.8\">aux_input: InputLayer</text>\n",
       "</g>\n",
       "<!-- 140535703908304&#45;&gt;140535703908248 -->\n",
       "<g class=\"edge\" id=\"edge6\">\n",
       "<title>140535703908304-&gt;140535703908248</title>\n",
       "<path d=\"M270.7697,-584.4551C258.6541,-575.2422 243.7392,-563.9006 230.6114,-553.918\" fill=\"none\" stroke=\"#000000\"/>\n",
       "<polygon fill=\"#000000\" points=\"232.3686,-550.8573 222.2901,-547.5904 228.1316,-556.4293 232.3686,-550.8573\" stroke=\"#000000\"/>\n",
       "</g>\n",
       "<!-- 140535703587696 -->\n",
       "<g class=\"node\" id=\"node8\">\n",
       "<title>140535703587696</title>\n",
       "<polygon fill=\"none\" points=\"146,-438.5 146,-474.5 251,-474.5 251,-438.5 146,-438.5\" stroke=\"#000000\"/>\n",
       "<text fill=\"#000000\" font-family=\"Times,serif\" font-size=\"14.00\" text-anchor=\"middle\" x=\"198.5\" y=\"-452.8\">lstm_65: LSTM</text>\n",
       "</g>\n",
       "<!-- 140535703908248&#45;&gt;140535703587696 -->\n",
       "<g class=\"edge\" id=\"edge7\">\n",
       "<title>140535703908248-&gt;140535703587696</title>\n",
       "<path d=\"M198.5,-511.4551C198.5,-503.3828 198.5,-493.6764 198.5,-484.6817\" fill=\"none\" stroke=\"#000000\"/>\n",
       "<polygon fill=\"#000000\" points=\"202.0001,-484.5903 198.5,-474.5904 195.0001,-484.5904 202.0001,-484.5903\" stroke=\"#000000\"/>\n",
       "</g>\n",
       "<!-- 140535703587640 -->\n",
       "<g class=\"node\" id=\"node9\">\n",
       "<title>140535703587640</title>\n",
       "<polygon fill=\"none\" points=\"133,-365.5 133,-401.5 264,-401.5 264,-365.5 133,-365.5\" stroke=\"#000000\"/>\n",
       "<text fill=\"#000000\" font-family=\"Times,serif\" font-size=\"14.00\" text-anchor=\"middle\" x=\"198.5\" y=\"-379.8\">dropout_46: Dropout</text>\n",
       "</g>\n",
       "<!-- 140535703587696&#45;&gt;140535703587640 -->\n",
       "<g class=\"edge\" id=\"edge8\">\n",
       "<title>140535703587696-&gt;140535703587640</title>\n",
       "<path d=\"M198.5,-438.4551C198.5,-430.3828 198.5,-420.6764 198.5,-411.6817\" fill=\"none\" stroke=\"#000000\"/>\n",
       "<polygon fill=\"#000000\" points=\"202.0001,-411.5903 198.5,-401.5904 195.0001,-411.5904 202.0001,-411.5903\" stroke=\"#000000\"/>\n",
       "</g>\n",
       "<!-- 140535703621816 -->\n",
       "<g class=\"node\" id=\"node10\">\n",
       "<title>140535703621816</title>\n",
       "<polygon fill=\"none\" points=\"146,-292.5 146,-328.5 251,-328.5 251,-292.5 146,-292.5\" stroke=\"#000000\"/>\n",
       "<text fill=\"#000000\" font-family=\"Times,serif\" font-size=\"14.00\" text-anchor=\"middle\" x=\"198.5\" y=\"-306.8\">lstm_66: LSTM</text>\n",
       "</g>\n",
       "<!-- 140535703587640&#45;&gt;140535703621816 -->\n",
       "<g class=\"edge\" id=\"edge9\">\n",
       "<title>140535703587640-&gt;140535703621816</title>\n",
       "<path d=\"M198.5,-365.4551C198.5,-357.3828 198.5,-347.6764 198.5,-338.6817\" fill=\"none\" stroke=\"#000000\"/>\n",
       "<polygon fill=\"#000000\" points=\"202.0001,-338.5903 198.5,-328.5904 195.0001,-338.5904 202.0001,-338.5903\" stroke=\"#000000\"/>\n",
       "</g>\n",
       "<!-- 140535703622320 -->\n",
       "<g class=\"node\" id=\"node11\">\n",
       "<title>140535703622320</title>\n",
       "<polygon fill=\"none\" points=\"133,-219.5 133,-255.5 264,-255.5 264,-219.5 133,-219.5\" stroke=\"#000000\"/>\n",
       "<text fill=\"#000000\" font-family=\"Times,serif\" font-size=\"14.00\" text-anchor=\"middle\" x=\"198.5\" y=\"-233.8\">dropout_47: Dropout</text>\n",
       "</g>\n",
       "<!-- 140535703621816&#45;&gt;140535703622320 -->\n",
       "<g class=\"edge\" id=\"edge10\">\n",
       "<title>140535703621816-&gt;140535703622320</title>\n",
       "<path d=\"M198.5,-292.4551C198.5,-284.3828 198.5,-274.6764 198.5,-265.6817\" fill=\"none\" stroke=\"#000000\"/>\n",
       "<polygon fill=\"#000000\" points=\"202.0001,-265.5903 198.5,-255.5904 195.0001,-265.5904 202.0001,-265.5903\" stroke=\"#000000\"/>\n",
       "</g>\n",
       "<!-- 140535700763592 -->\n",
       "<g class=\"node\" id=\"node12\">\n",
       "<title>140535700763592</title>\n",
       "<polygon fill=\"none\" points=\"146,-146.5 146,-182.5 251,-182.5 251,-146.5 146,-146.5\" stroke=\"#000000\"/>\n",
       "<text fill=\"#000000\" font-family=\"Times,serif\" font-size=\"14.00\" text-anchor=\"middle\" x=\"198.5\" y=\"-160.8\">lstm_67: LSTM</text>\n",
       "</g>\n",
       "<!-- 140535703622320&#45;&gt;140535700763592 -->\n",
       "<g class=\"edge\" id=\"edge11\">\n",
       "<title>140535703622320-&gt;140535700763592</title>\n",
       "<path d=\"M198.5,-219.4551C198.5,-211.3828 198.5,-201.6764 198.5,-192.6817\" fill=\"none\" stroke=\"#000000\"/>\n",
       "<polygon fill=\"#000000\" points=\"202.0001,-192.5903 198.5,-182.5904 195.0001,-192.5904 202.0001,-192.5903\" stroke=\"#000000\"/>\n",
       "</g>\n",
       "<!-- 140535697522984 -->\n",
       "<g class=\"node\" id=\"node13\">\n",
       "<title>140535697522984</title>\n",
       "<polygon fill=\"none\" points=\"133,-73.5 133,-109.5 264,-109.5 264,-73.5 133,-73.5\" stroke=\"#000000\"/>\n",
       "<text fill=\"#000000\" font-family=\"Times,serif\" font-size=\"14.00\" text-anchor=\"middle\" x=\"198.5\" y=\"-87.8\">dropout_48: Dropout</text>\n",
       "</g>\n",
       "<!-- 140535700763592&#45;&gt;140535697522984 -->\n",
       "<g class=\"edge\" id=\"edge12\">\n",
       "<title>140535700763592-&gt;140535697522984</title>\n",
       "<path d=\"M198.5,-146.4551C198.5,-138.3828 198.5,-128.6764 198.5,-119.6817\" fill=\"none\" stroke=\"#000000\"/>\n",
       "<polygon fill=\"#000000\" points=\"202.0001,-119.5903 198.5,-109.5904 195.0001,-119.5904 202.0001,-119.5903\" stroke=\"#000000\"/>\n",
       "</g>\n",
       "<!-- 140535697523096 -->\n",
       "<g class=\"node\" id=\"node14\">\n",
       "<title>140535697523096</title>\n",
       "<polygon fill=\"none\" points=\"135,-.5 135,-36.5 262,-36.5 262,-.5 135,-.5\" stroke=\"#000000\"/>\n",
       "<text fill=\"#000000\" font-family=\"Times,serif\" font-size=\"14.00\" text-anchor=\"middle\" x=\"198.5\" y=\"-14.8\">main_output: Dense</text>\n",
       "</g>\n",
       "<!-- 140535697522984&#45;&gt;140535697523096 -->\n",
       "<g class=\"edge\" id=\"edge13\">\n",
       "<title>140535697522984-&gt;140535697523096</title>\n",
       "<path d=\"M198.5,-73.4551C198.5,-65.3828 198.5,-55.6764 198.5,-46.6817\" fill=\"none\" stroke=\"#000000\"/>\n",
       "<polygon fill=\"#000000\" points=\"202.0001,-46.5903 198.5,-36.5904 195.0001,-46.5904 202.0001,-46.5903\" stroke=\"#000000\"/>\n",
       "</g>\n",
       "</g>\n",
       "</svg>"
      ],
      "text/plain": [
       "<IPython.core.display.SVG object>"
      ]
     },
     "execution_count": 486,
     "metadata": {},
     "output_type": "execute_result"
    }
   ],
   "source": [
    "from IPython.display import SVG\n",
    "from tensorflow.python.keras.utils import model_to_dot\n",
    "\n",
    "SVG(model_to_dot(model).create(prog='dot', format='svg'))"
   ]
  },
  {
   "cell_type": "code",
   "execution_count": 487,
   "metadata": {},
   "outputs": [],
   "source": [
    "aux_x = df2.drop(['Unnamed: 0', 'time', 'ID', 'time_elapsed_seconds', 'time_to_dest'] ,axis =1)\n",
    "cnn_x = df2[['latitude', 'longitude']]\n",
    "# aux_x = train_x.drop(['latitude', 'longitude'], axis = 1)\n",
    "train_y = df2[['time_to_dest']]"
   ]
  },
  {
   "cell_type": "code",
   "execution_count": 488,
   "metadata": {},
   "outputs": [
    {
     "data": {
      "text/plain": [
       "(60, 18)"
      ]
     },
     "execution_count": 488,
     "metadata": {},
     "output_type": "execute_result"
    }
   ],
   "source": [
    "aux_x.shape"
   ]
  },
  {
   "cell_type": "code",
   "execution_count": 489,
   "metadata": {},
   "outputs": [
    {
     "data": {
      "text/plain": [
       "(60, 2)"
      ]
     },
     "execution_count": 489,
     "metadata": {},
     "output_type": "execute_result"
    }
   ],
   "source": [
    "cnn_x = cnn_x.values\n",
    "aux_x = aux_x.values\n",
    "y_data = train_y.values\n",
    "# x_data = x_data.reshape(19828,5,1)\n",
    "cnn_x.shape"
   ]
  },
  {
   "cell_type": "code",
   "execution_count": 490,
   "metadata": {},
   "outputs": [],
   "source": [
    "cnn_x_train = cnn_x[0:50]\n",
    "aux_x_train = aux_x[0:50]\n",
    "y_train = y_data[0:50]\n",
    "cnn_x_test = cnn_x[50:]\n",
    "aux_x_test = aux_x[50:]\n",
    "y_test = y_data[50:]"
   ]
  },
  {
   "cell_type": "code",
   "execution_count": 491,
   "metadata": {},
   "outputs": [],
   "source": [
    "# sc = MinMaxScaler(feature_range=(-1,1))\n",
    "scy = MinMaxScaler(feature_range=(-1,1))\n",
    "sca = sklearn.preprocessing.StandardScaler()\n",
    "scl = sklearn.preprocessing.StandardScaler()\n",
    "# new_df= x_data[].reshape(x_data.shape[0],5)\n",
    "\n",
    "cnn_x_train = scl.fit_transform(cnn_x_train)\n",
    "cnn_x_train = cnn_x_train.reshape(len(cnn_x_train), 2, 1)\n",
    "aux_x_train = sca.fit_transform(aux_x_train)\n",
    "aux_x_train = aux_x_train.reshape(len(aux_x_train), 18, 1)\n",
    "\n",
    "cnn_x_test = scl.transform(cnn_x_test).reshape(len(cnn_x_test), 2, 1)\n",
    "aux_x_test = sca.transform(aux_x_test).reshape(len(aux_x_test), 18, 1)\n",
    "\n",
    "y_train = scy.fit_transform(y_train)\n",
    "y_test = scy.transform(y_test)\n",
    "\n",
    "# new_y_data = y_data\n",
    "# new_y_data = scy.fit_transform(y_)"
   ]
  },
  {
   "cell_type": "code",
   "execution_count": null,
   "metadata": {},
   "outputs": [],
   "source": [
    "model.fit([cnn_x_train, aux_x_train], [y_train], validation_data = ([cnn_x_test, aux_x_test], y_test),\n",
    "          epochs=50)"
   ]
  },
  {
   "cell_type": "code",
   "execution_count": 456,
   "metadata": {},
   "outputs": [
    {
     "data": {
      "text/plain": [
       "array([[0.00039375],\n",
       "       [0.00039527],\n",
       "       [0.00039431],\n",
       "       [0.00039303],\n",
       "       [0.00039306],\n",
       "       [0.00039351],\n",
       "       [0.00039288],\n",
       "       [0.0003922 ],\n",
       "       [0.00039209],\n",
       "       [0.00039205]], dtype=float32)"
      ]
     },
     "execution_count": 456,
     "metadata": {},
     "output_type": "execute_result"
    }
   ],
   "source": [
    "result = model.predict([cnn_x_test, aux_x_test])\n",
    "result"
   ]
  },
  {
   "cell_type": "code",
   "execution_count": 457,
   "metadata": {},
   "outputs": [],
   "source": [
    "res_df = scy.inverse_transform(result)"
   ]
  },
  {
   "cell_type": "code",
   "execution_count": 458,
   "metadata": {},
   "outputs": [],
   "source": [
    "y_test_actual=scy.inverse_transform(y_test)"
   ]
  },
  {
   "cell_type": "code",
   "execution_count": 459,
   "metadata": {},
   "outputs": [
    {
     "data": {
      "text/plain": [
       "<matplotlib.legend.Legend at 0x7fd106bd94a8>"
      ]
     },
     "execution_count": 459,
     "metadata": {},
     "output_type": "execute_result"
    },
    {
     "data": {
      "image/png": "[encoded data removed]",
      "text/plain": [
       "<Figure size 864x360 with 1 Axes>"
      ]
     },
     "metadata": {
      "needs_background": "light"
     },
     "output_type": "display_data"
    }
   ],
   "source": [
    "plt.figure(figsize=(12,5))\n",
    "plt.plot(res_df, label = 'pred')\n",
    "plt.plot(y_test_actual, label = 'true')\n",
    "plt.ylabel('time to dest')\n",
    "plt.legend()"
   ]
  },
  {
   "cell_type": "code",
   "execution_count": null,
   "metadata": {},
   "outputs": [],
   "source": [
    "res_df"
   ]
  },
  {
   "cell_type": "code",
   "execution_count": null,
   "metadata": {},
   "outputs": [],
   "source": [
    "y_test_actual"
   ]
  },
  {
   "cell_type": "code",
   "execution_count": null,
   "metadata": {},
   "outputs": [],
   "source": [
    "metrics.mean_absolute_error(res_df, y_test_actual)"
   ]
  },
  {
   "cell_type": "code",
   "execution_count": 11,
   "metadata": {},
   "outputs": [],
   "source": [
    "for i, d in enumerate(c):\n",
    "    if len(d) < 40:\n",
    "        c.pop(i)"
   ]
  },
  {
   "cell_type": "code",
   "execution_count": null,
   "metadata": {},
   "outputs": [],
   "source": [
    "counter = 0\n",
    "for i in c:\n",
    "    i.plot('longitude', 'latitude', kind = 'scatter', figsize = (16,9))\n",
    "    counter += 1\n",
    "    if counter > 5:\n",
    "        break"
   ]
  },
  {
   "cell_type": "code",
   "execution_count": 13,
   "metadata": {},
   "outputs": [
    {
     "name": "stderr",
     "output_type": "stream",
     "text": [
      "2999it [01:54, 25.57it/s]"
     ]
    }
   ],
   "source": [
    "d = []\n",
    "for i, df in tqdm(enumerate(c)):\n",
    "    df2 = compute_speed(c[i])\n",
    "    time_to_dest(df2)\n",
    "    set_dropoff(df2)\n",
    "    df2['dist_to_dest'] = haversine(df2['latitude'].values, df2['longitude'].values, df2['dropoff_latitude'].values, df2['dropoff_longitude'].values)\n",
    "    df2['pickup_weekday'] = df2['time'].dt.weekday\n",
    "    df2['pickup_hour_weekofyear'] = df2['time'].dt.weekofyear\n",
    "    df2['pickup_hour'] = df2['time'].dt.hour\n",
    "    df2['pickup_minute'] = df2['time'].dt.minute\n",
    "    df2['pickup_dt'] = (df2['time'] - df2['time'].min()).dt.total_seconds()\n",
    "    df2['pickup_week_hour'] = df2['pickup_weekday'] * 24 + df2['pickup_hour']\n",
    "    df2[['next_lat', 'next_lon']] = df2[['latitude', 'longitude']].shift(-5)\n",
    "    d.append(df2)\n",
    "    if i > 3000:\n",
    "        break"
   ]
  },
  {
   "cell_type": "code",
   "execution_count": 111,
   "metadata": {},
   "outputs": [],
   "source": [
    "for i in d:\n",
    "    i.dropna(inplace = True)"
   ]
  },
  {
   "cell_type": "code",
   "execution_count": null,
   "metadata": {},
   "outputs": [],
   "source": [
    "d"
   ]
  },
  {
   "cell_type": "code",
   "execution_count": 14,
   "metadata": {},
   "outputs": [],
   "source": [
    "import random\n",
    "random.shuffle(d)\n",
    "mu, sigma = 0, 5"
   ]
  },
  {
   "cell_type": "code",
   "execution_count": 431,
   "metadata": {},
   "outputs": [],
   "source": [
    "x_data = []\n",
    "for i in d:\n",
    "    x_data.append(i.drop(['Unnamed: 0', 'time', 'ID', 'time_elapsed_seconds', 'time_to_dest', 'next_lat', 'next_lon'] ,axis =1))\n",
    "y_data = []\n",
    "for i in d:\n",
    "    noise = np.random.normal(mu, sigma, [len(i),1]) \n",
    "    y_data.append(i[['time_to_dest']] + abs(noise))\n",
    "#     y_data.append(i[['next_lat', 'next_lon']])"
   ]
  },
  {
   "cell_type": "code",
   "execution_count": 433,
   "metadata": {},
   "outputs": [
    {
     "data": {
      "text/html": [
       "<div>\n",
       "<style scoped>\n",
       "    .dataframe tbody tr th:only-of-type {\n",
       "        vertical-align: middle;\n",
       "    }\n",
       "\n",
       "    .dataframe tbody tr th {\n",
       "        vertical-align: top;\n",
       "    }\n",
       "\n",
       "    .dataframe thead th {\n",
       "        text-align: right;\n",
       "    }\n",
       "</style>\n",
       "<table border=\"1\" class=\"dataframe\">\n",
       "  <thead>\n",
       "    <tr style=\"text-align: right;\">\n",
       "      <th></th>\n",
       "      <th>time_to_dest</th>\n",
       "    </tr>\n",
       "  </thead>\n",
       "  <tbody>\n",
       "    <tr>\n",
       "      <th>1313510</th>\n",
       "      <td>1725.615877</td>\n",
       "    </tr>\n",
       "    <tr>\n",
       "      <th>1313511</th>\n",
       "      <td>1717.851615</td>\n",
       "    </tr>\n",
       "    <tr>\n",
       "      <th>1313512</th>\n",
       "      <td>1682.822018</td>\n",
       "    </tr>\n",
       "    <tr>\n",
       "      <th>1313513</th>\n",
       "      <td>1670.903516</td>\n",
       "    </tr>\n",
       "    <tr>\n",
       "      <th>1313514</th>\n",
       "      <td>1655.260131</td>\n",
       "    </tr>\n",
       "    <tr>\n",
       "      <th>...</th>\n",
       "      <td>...</td>\n",
       "    </tr>\n",
       "    <tr>\n",
       "      <th>1313605</th>\n",
       "      <td>80.914506</td>\n",
       "    </tr>\n",
       "    <tr>\n",
       "      <th>1313606</th>\n",
       "      <td>61.906494</td>\n",
       "    </tr>\n",
       "    <tr>\n",
       "      <th>1313607</th>\n",
       "      <td>48.023739</td>\n",
       "    </tr>\n",
       "    <tr>\n",
       "      <th>1313608</th>\n",
       "      <td>31.246342</td>\n",
       "    </tr>\n",
       "    <tr>\n",
       "      <th>1313609</th>\n",
       "      <td>4.413322</td>\n",
       "    </tr>\n",
       "  </tbody>\n",
       "</table>\n",
       "<p>100 rows × 1 columns</p>\n",
       "</div>"
      ],
      "text/plain": [
       "         time_to_dest\n",
       "1313510   1725.615877\n",
       "1313511   1717.851615\n",
       "1313512   1682.822018\n",
       "1313513   1670.903516\n",
       "1313514   1655.260131\n",
       "...               ...\n",
       "1313605     80.914506\n",
       "1313606     61.906494\n",
       "1313607     48.023739\n",
       "1313608     31.246342\n",
       "1313609      4.413322\n",
       "\n",
       "[100 rows x 1 columns]"
      ]
     },
     "execution_count": 433,
     "metadata": {},
     "output_type": "execute_result"
    }
   ],
   "source": [
    "y_data[1]"
   ]
  },
  {
   "cell_type": "code",
   "execution_count": 410,
   "metadata": {},
   "outputs": [
    {
     "data": {
      "text/html": [
       "<div>\n",
       "<style scoped>\n",
       "    .dataframe tbody tr th:only-of-type {\n",
       "        vertical-align: middle;\n",
       "    }\n",
       "\n",
       "    .dataframe tbody tr th {\n",
       "        vertical-align: top;\n",
       "    }\n",
       "\n",
       "    .dataframe thead th {\n",
       "        text-align: right;\n",
       "    }\n",
       "</style>\n",
       "<table border=\"1\" class=\"dataframe\">\n",
       "  <thead>\n",
       "    <tr style=\"text-align: right;\">\n",
       "      <th></th>\n",
       "      <th>longitude</th>\n",
       "      <th>latitude</th>\n",
       "      <th>distance_travelled</th>\n",
       "      <th>speed m/s</th>\n",
       "      <th>speed kmh</th>\n",
       "      <th>bearing</th>\n",
       "      <th>bearing_diff</th>\n",
       "      <th>rate_of_turn</th>\n",
       "      <th>acceleration</th>\n",
       "      <th>dropoff_latitude</th>\n",
       "      <th>dropoff_longitude</th>\n",
       "      <th>dist_to_dest</th>\n",
       "      <th>pickup_weekday</th>\n",
       "      <th>pickup_hour_weekofyear</th>\n",
       "      <th>pickup_hour</th>\n",
       "      <th>pickup_minute</th>\n",
       "      <th>pickup_dt</th>\n",
       "      <th>pickup_week_hour</th>\n",
       "    </tr>\n",
       "  </thead>\n",
       "  <tbody>\n",
       "    <tr>\n",
       "      <th>1313510</th>\n",
       "      <td>-8.714655</td>\n",
       "      <td>41.207373</td>\n",
       "      <td>0.000000</td>\n",
       "      <td>0.000000</td>\n",
       "      <td>0.000000</td>\n",
       "      <td>0.000000</td>\n",
       "      <td>0.000000</td>\n",
       "      <td>0.000000</td>\n",
       "      <td>0.000000</td>\n",
       "      <td>41.20155</td>\n",
       "      <td>-8.505477</td>\n",
       "      <td>17.531213</td>\n",
       "      <td>6</td>\n",
       "      <td>27</td>\n",
       "      <td>4</td>\n",
       "      <td>28</td>\n",
       "      <td>0.0</td>\n",
       "      <td>148</td>\n",
       "    </tr>\n",
       "    <tr>\n",
       "      <th>1313511</th>\n",
       "      <td>-8.714646</td>\n",
       "      <td>41.207400</td>\n",
       "      <td>0.003099</td>\n",
       "      <td>0.206580</td>\n",
       "      <td>0.743687</td>\n",
       "      <td>194.078121</td>\n",
       "      <td>0.000000</td>\n",
       "      <td>0.000000</td>\n",
       "      <td>0.000000</td>\n",
       "      <td>41.20155</td>\n",
       "      <td>-8.505477</td>\n",
       "      <td>17.530568</td>\n",
       "      <td>6</td>\n",
       "      <td>27</td>\n",
       "      <td>4</td>\n",
       "      <td>28</td>\n",
       "      <td>15.0</td>\n",
       "      <td>148</td>\n",
       "    </tr>\n",
       "    <tr>\n",
       "      <th>1313512</th>\n",
       "      <td>-8.714592</td>\n",
       "      <td>41.207589</td>\n",
       "      <td>0.021520</td>\n",
       "      <td>0.717332</td>\n",
       "      <td>2.582394</td>\n",
       "      <td>192.131218</td>\n",
       "      <td>1.946902</td>\n",
       "      <td>0.064897</td>\n",
       "      <td>0.017025</td>\n",
       "      <td>41.20155</td>\n",
       "      <td>-8.505477</td>\n",
       "      <td>17.526817</td>\n",
       "      <td>6</td>\n",
       "      <td>27</td>\n",
       "      <td>4</td>\n",
       "      <td>29</td>\n",
       "      <td>45.0</td>\n",
       "      <td>148</td>\n",
       "    </tr>\n",
       "    <tr>\n",
       "      <th>1313513</th>\n",
       "      <td>-8.714556</td>\n",
       "      <td>41.207661</td>\n",
       "      <td>0.008563</td>\n",
       "      <td>0.570887</td>\n",
       "      <td>2.055194</td>\n",
       "      <td>200.614486</td>\n",
       "      <td>8.483267</td>\n",
       "      <td>0.565551</td>\n",
       "      <td>-0.009763</td>\n",
       "      <td>41.20155</td>\n",
       "      <td>-8.505477</td>\n",
       "      <td>17.524104</td>\n",
       "      <td>6</td>\n",
       "      <td>27</td>\n",
       "      <td>4</td>\n",
       "      <td>29</td>\n",
       "      <td>60.0</td>\n",
       "      <td>148</td>\n",
       "    </tr>\n",
       "    <tr>\n",
       "      <th>1313514</th>\n",
       "      <td>-8.714556</td>\n",
       "      <td>41.207679</td>\n",
       "      <td>0.002004</td>\n",
       "      <td>0.133583</td>\n",
       "      <td>0.480900</td>\n",
       "      <td>180.000000</td>\n",
       "      <td>20.614486</td>\n",
       "      <td>1.374299</td>\n",
       "      <td>-0.029154</td>\n",
       "      <td>41.20155</td>\n",
       "      <td>-8.505477</td>\n",
       "      <td>17.524180</td>\n",
       "      <td>6</td>\n",
       "      <td>27</td>\n",
       "      <td>4</td>\n",
       "      <td>29</td>\n",
       "      <td>75.0</td>\n",
       "      <td>148</td>\n",
       "    </tr>\n",
       "    <tr>\n",
       "      <th>...</th>\n",
       "      <td>...</td>\n",
       "      <td>...</td>\n",
       "      <td>...</td>\n",
       "      <td>...</td>\n",
       "      <td>...</td>\n",
       "      <td>...</td>\n",
       "      <td>...</td>\n",
       "      <td>...</td>\n",
       "      <td>...</td>\n",
       "      <td>...</td>\n",
       "      <td>...</td>\n",
       "      <td>...</td>\n",
       "      <td>...</td>\n",
       "      <td>...</td>\n",
       "      <td>...</td>\n",
       "      <td>...</td>\n",
       "      <td>...</td>\n",
       "      <td>...</td>\n",
       "    </tr>\n",
       "    <tr>\n",
       "      <th>1313605</th>\n",
       "      <td>-8.505468</td>\n",
       "      <td>41.201478</td>\n",
       "      <td>0.016813</td>\n",
       "      <td>1.120848</td>\n",
       "      <td>4.035053</td>\n",
       "      <td>153.361667</td>\n",
       "      <td>64.584267</td>\n",
       "      <td>4.305618</td>\n",
       "      <td>-0.235833</td>\n",
       "      <td>41.20155</td>\n",
       "      <td>-8.505477</td>\n",
       "      <td>0.008050</td>\n",
       "      <td>6</td>\n",
       "      <td>27</td>\n",
       "      <td>4</td>\n",
       "      <td>56</td>\n",
       "      <td>1650.0</td>\n",
       "      <td>148</td>\n",
       "    </tr>\n",
       "    <tr>\n",
       "      <th>1313606</th>\n",
       "      <td>-8.505486</td>\n",
       "      <td>41.201532</td>\n",
       "      <td>0.006197</td>\n",
       "      <td>0.413162</td>\n",
       "      <td>1.487382</td>\n",
       "      <td>165.920661</td>\n",
       "      <td>12.558994</td>\n",
       "      <td>0.837266</td>\n",
       "      <td>-0.047179</td>\n",
       "      <td>41.20155</td>\n",
       "      <td>-8.505477</td>\n",
       "      <td>0.002141</td>\n",
       "      <td>6</td>\n",
       "      <td>27</td>\n",
       "      <td>4</td>\n",
       "      <td>56</td>\n",
       "      <td>1665.0</td>\n",
       "      <td>148</td>\n",
       "    </tr>\n",
       "    <tr>\n",
       "      <th>1313607</th>\n",
       "      <td>-8.505477</td>\n",
       "      <td>41.201532</td>\n",
       "      <td>0.000754</td>\n",
       "      <td>0.050254</td>\n",
       "      <td>0.180914</td>\n",
       "      <td>270.000003</td>\n",
       "      <td>104.079342</td>\n",
       "      <td>6.938623</td>\n",
       "      <td>-0.024194</td>\n",
       "      <td>41.20155</td>\n",
       "      <td>-8.505477</td>\n",
       "      <td>0.002004</td>\n",
       "      <td>6</td>\n",
       "      <td>27</td>\n",
       "      <td>4</td>\n",
       "      <td>56</td>\n",
       "      <td>1680.0</td>\n",
       "      <td>148</td>\n",
       "    </tr>\n",
       "    <tr>\n",
       "      <th>1313608</th>\n",
       "      <td>-8.505477</td>\n",
       "      <td>41.201541</td>\n",
       "      <td>0.001002</td>\n",
       "      <td>0.066792</td>\n",
       "      <td>0.240450</td>\n",
       "      <td>180.000000</td>\n",
       "      <td>90.000003</td>\n",
       "      <td>6.000000</td>\n",
       "      <td>0.001103</td>\n",
       "      <td>41.20155</td>\n",
       "      <td>-8.505477</td>\n",
       "      <td>0.001002</td>\n",
       "      <td>6</td>\n",
       "      <td>27</td>\n",
       "      <td>4</td>\n",
       "      <td>56</td>\n",
       "      <td>1695.0</td>\n",
       "      <td>148</td>\n",
       "    </tr>\n",
       "    <tr>\n",
       "      <th>1313609</th>\n",
       "      <td>-8.505477</td>\n",
       "      <td>41.201550</td>\n",
       "      <td>0.001002</td>\n",
       "      <td>0.033396</td>\n",
       "      <td>0.120225</td>\n",
       "      <td>180.000000</td>\n",
       "      <td>0.000000</td>\n",
       "      <td>0.000000</td>\n",
       "      <td>-0.001113</td>\n",
       "      <td>41.20155</td>\n",
       "      <td>-8.505477</td>\n",
       "      <td>0.000000</td>\n",
       "      <td>6</td>\n",
       "      <td>27</td>\n",
       "      <td>4</td>\n",
       "      <td>57</td>\n",
       "      <td>1725.0</td>\n",
       "      <td>148</td>\n",
       "    </tr>\n",
       "  </tbody>\n",
       "</table>\n",
       "<p>100 rows × 18 columns</p>\n",
       "</div>"
      ],
      "text/plain": [
       "         longitude   latitude  distance_travelled  speed m/s  speed kmh  \\\n",
       "1313510  -8.714655  41.207373            0.000000   0.000000   0.000000   \n",
       "1313511  -8.714646  41.207400            0.003099   0.206580   0.743687   \n",
       "1313512  -8.714592  41.207589            0.021520   0.717332   2.582394   \n",
       "1313513  -8.714556  41.207661            0.008563   0.570887   2.055194   \n",
       "1313514  -8.714556  41.207679            0.002004   0.133583   0.480900   \n",
       "...            ...        ...                 ...        ...        ...   \n",
       "1313605  -8.505468  41.201478            0.016813   1.120848   4.035053   \n",
       "1313606  -8.505486  41.201532            0.006197   0.413162   1.487382   \n",
       "1313607  -8.505477  41.201532            0.000754   0.050254   0.180914   \n",
       "1313608  -8.505477  41.201541            0.001002   0.066792   0.240450   \n",
       "1313609  -8.505477  41.201550            0.001002   0.033396   0.120225   \n",
       "\n",
       "            bearing  bearing_diff  rate_of_turn  acceleration  \\\n",
       "1313510    0.000000      0.000000      0.000000      0.000000   \n",
       "1313511  194.078121      0.000000      0.000000      0.000000   \n",
       "1313512  192.131218      1.946902      0.064897      0.017025   \n",
       "1313513  200.614486      8.483267      0.565551     -0.009763   \n",
       "1313514  180.000000     20.614486      1.374299     -0.029154   \n",
       "...             ...           ...           ...           ...   \n",
       "1313605  153.361667     64.584267      4.305618     -0.235833   \n",
       "1313606  165.920661     12.558994      0.837266     -0.047179   \n",
       "1313607  270.000003    104.079342      6.938623     -0.024194   \n",
       "1313608  180.000000     90.000003      6.000000      0.001103   \n",
       "1313609  180.000000      0.000000      0.000000     -0.001113   \n",
       "\n",
       "         dropoff_latitude  dropoff_longitude  dist_to_dest  pickup_weekday  \\\n",
       "1313510          41.20155          -8.505477     17.531213               6   \n",
       "1313511          41.20155          -8.505477     17.530568               6   \n",
       "1313512          41.20155          -8.505477     17.526817               6   \n",
       "1313513          41.20155          -8.505477     17.524104               6   \n",
       "1313514          41.20155          -8.505477     17.524180               6   \n",
       "...                   ...                ...           ...             ...   \n",
       "1313605          41.20155          -8.505477      0.008050               6   \n",
       "1313606          41.20155          -8.505477      0.002141               6   \n",
       "1313607          41.20155          -8.505477      0.002004               6   \n",
       "1313608          41.20155          -8.505477      0.001002               6   \n",
       "1313609          41.20155          -8.505477      0.000000               6   \n",
       "\n",
       "         pickup_hour_weekofyear  pickup_hour  pickup_minute  pickup_dt  \\\n",
       "1313510                      27            4             28        0.0   \n",
       "1313511                      27            4             28       15.0   \n",
       "1313512                      27            4             29       45.0   \n",
       "1313513                      27            4             29       60.0   \n",
       "1313514                      27            4             29       75.0   \n",
       "...                         ...          ...            ...        ...   \n",
       "1313605                      27            4             56     1650.0   \n",
       "1313606                      27            4             56     1665.0   \n",
       "1313607                      27            4             56     1680.0   \n",
       "1313608                      27            4             56     1695.0   \n",
       "1313609                      27            4             57     1725.0   \n",
       "\n",
       "         pickup_week_hour  \n",
       "1313510               148  \n",
       "1313511               148  \n",
       "1313512               148  \n",
       "1313513               148  \n",
       "1313514               148  \n",
       "...                   ...  \n",
       "1313605               148  \n",
       "1313606               148  \n",
       "1313607               148  \n",
       "1313608               148  \n",
       "1313609               148  \n",
       "\n",
       "[100 rows x 18 columns]"
      ]
     },
     "execution_count": 410,
     "metadata": {},
     "output_type": "execute_result"
    }
   ],
   "source": [
    "x_data[1]"
   ]
  },
  {
   "cell_type": "code",
   "execution_count": 434,
   "metadata": {},
   "outputs": [],
   "source": [
    "x_train = x_data[0:2900]\n",
    "x_test = x_data[2900:]\n",
    "y_train = y_data[0:2900]\n",
    "y_test = y_data[2900:]"
   ]
  },
  {
   "cell_type": "code",
   "execution_count": 435,
   "metadata": {},
   "outputs": [
    {
     "data": {
      "text/plain": [
       "MinMaxScaler(copy=True, feature_range=(-1, 1))"
      ]
     },
     "execution_count": 435,
     "metadata": {},
     "output_type": "execute_result"
    }
   ],
   "source": [
    "# sc = MinMaxScaler(feature_range=(-1,1))\n",
    "scy = MinMaxScaler(feature_range=(-1,1))\n",
    "# scy = sklearn.preprocessing.MaxAbsScaler()\n",
    "sc = sklearn.preprocessing.StandardScaler()\n",
    "# new_df= x_data[].reshape(x_data.shape[0],5)\n",
    "\n",
    "sc.fit(pd.concat(x_train).values)\n",
    "scy.fit(pd.concat(y_train).values)\n"
   ]
  },
  {
   "cell_type": "code",
   "execution_count": 436,
   "metadata": {},
   "outputs": [],
   "source": [
    "for i, data in enumerate(x_train):\n",
    "    x_train[i] = sc.transform(data)\n",
    "    \n",
    "for i, data in enumerate(y_train):\n",
    "    y_train[i] = scy.transform(data)"
   ]
  },
  {
   "cell_type": "code",
   "execution_count": 437,
   "metadata": {},
   "outputs": [],
   "source": [
    "x_test = sc.transform(pd.concat(x_test).values)\n",
    "y_test = scy.transform(pd.concat(y_test).values)"
   ]
  },
  {
   "cell_type": "code",
   "execution_count": 270,
   "metadata": {},
   "outputs": [
    {
     "data": {
      "text/plain": [
       "array([[ 0.76001743,  0.02233083],\n",
       "       [ 0.74479789, -0.01694615],\n",
       "       [ 0.77543209, -0.05368523]])"
      ]
     },
     "execution_count": 270,
     "metadata": {},
     "output_type": "execute_result"
    }
   ],
   "source": [
    "x_train[1][12:15,0:2]"
   ]
  },
  {
   "cell_type": "code",
   "execution_count": 21,
   "metadata": {},
   "outputs": [],
   "source": [
    "def batch_generator(batch_size, sequence_length):\n",
    "    \"\"\"\n",
    "    Generator function for creating random batches of training-data.\n",
    "    \"\"\"\n",
    "    # Infinite loop.\n",
    "    while True:\n",
    "        # Allocate a new array for the batch of input-signals.\n",
    "        x_shape = (batch_size, sequence_length, 18)\n",
    "        x_batch = np.zeros(shape=x_shape, dtype=np.float16)\n",
    "\n",
    "        # Allocate a new array for the batch of output-signals.\n",
    "        y_shape = (batch_size, sequence_length, 1)\n",
    "        y_batch = np.zeros(shape=y_shape, dtype=np.float16)\n",
    "\n",
    "        # Fill the batch with random sequences of data.\n",
    "        for i in range(batch_size):\n",
    "            j = np.random.randint(len(x_train))\n",
    "            # Get a random start-index.\n",
    "            # This points somewhere into the training-data.\n",
    "            try:\n",
    "                idx = np.random.randint(len(x_train[j]) - sequence_length)\n",
    "            except:\n",
    "                continue\n",
    "            \n",
    "            # Copy the sequences of data starting at this index.\n",
    "            x_batch[i] = x_train[j][idx:idx+sequence_length]\n",
    "            y_batch[i] = y_train[j][idx:idx+sequence_length]\n",
    "#             x_batch[i] = x_train[j][0:sequence_length]\n",
    "#             y_batch[i] = y_train[j][0:sequence_length]\n",
    "        \n",
    "        \n",
    "        yield (x_batch, y_batch)"
   ]
  },
  {
   "cell_type": "code",
   "execution_count": 22,
   "metadata": {},
   "outputs": [],
   "source": [
    "def batch_generator_multi_td(batch_size, sequence_length):\n",
    "    \"\"\"\n",
    "    Generator function for creating random batches of training-data.\n",
    "    \"\"\"\n",
    "    # Infinite loop.\n",
    "    while True:\n",
    "        # Allocate a new array for the batch of input-signals.\n",
    "        cnn_x_shape = (batch_size, sequence_length, 2)\n",
    "        cnn_x_batch = np.zeros(shape=cnn_x_shape, dtype=np.float16)\n",
    "        cnn_x_batch = cnn_x_batch.reshape(-1,2,sequence_length,1)\n",
    "        aux_x_shape = (batch_size, sequence_length, 18)\n",
    "        aux_x_batch = np.zeros(shape=aux_x_shape, dtype=np.float16)\n",
    "\n",
    "        # Allocate a new array for the batch of output-signals.\n",
    "        y_shape = (batch_size, sequence_length, 1)\n",
    "        y_batch = np.zeros(shape=y_shape, dtype=np.float16)\n",
    "\n",
    "        # Fill the batch with random sequences of data.\n",
    "        for i in range(batch_size):\n",
    "            j = np.random.randint(len(x_train))\n",
    "            # Get a random start-index.\n",
    "            # This points somewhere into the training-data.\n",
    "            idx = np.random.randint(len(x_train[j]) - sequence_length)\n",
    "            \n",
    "            # Copy the sequences of data starting at this index.\n",
    "            batchfiles = x_train[j][idx:idx+sequence_length, 0:2]\n",
    "            cnn_x_batch[i] = batchfiles.reshape((2,sequence_length, -1))\n",
    "            aux_x_batch[i] = x_train[j][idx:idx+sequence_length]\n",
    "            y_batch[i] = y_train[j][idx:idx+sequence_length]\n",
    "#             x_batch[i] = x_train[j][0:sequence_length]\n",
    "#             y_batch[i] = y_train[j][0:sequence_length]\n",
    "        \n",
    "        \n",
    "        yield [cnn_x_batch, aux_x_batch], y_batch"
   ]
  },
  {
   "cell_type": "code",
   "execution_count": 23,
   "metadata": {},
   "outputs": [],
   "source": [
    "def batch_generator_multi(batch_size, sequence_length):\n",
    "    \"\"\"\n",
    "    Generator function for creating random batches of training-data.\n",
    "    \"\"\"\n",
    "    # Infinite loop.\n",
    "    while True:\n",
    "        # Allocate a new array for the batch of input-signals.\n",
    "        cnn_x_shape = (batch_size, sequence_length, 2)\n",
    "        cnn_x_batch = np.zeros(shape=cnn_x_shape, dtype=np.float16)\n",
    "        aux_x_shape = (batch_size, sequence_length, 18)\n",
    "        aux_x_batch = np.zeros(shape=aux_x_shape, dtype=np.float16)\n",
    "\n",
    "        # Allocate a new array for the batch of output-signals.\n",
    "        y_shape = (batch_size, sequence_length, 1)\n",
    "        y_batch = np.zeros(shape=y_shape, dtype=np.float16)\n",
    "\n",
    "        # Fill the batch with random sequences of data.\n",
    "        for i in range(batch_size):\n",
    "            j = np.random.randint(len(x_train))\n",
    "            # Get a random start-index.\n",
    "            # This points somewhere into the training-data.\n",
    "            idx = np.random.randint(len(x_train[j]) - sequence_length)\n",
    "            \n",
    "            # Copy the sequences of data starting at this index.\n",
    "\n",
    "            cnn_x_batch[i] = x_train[j][idx:idx+sequence_length, 0:2]\n",
    "            aux_x_batch[i] = x_train[j][idx:idx+sequence_length]\n",
    "            y_batch[i] = y_train[j][idx:idx+sequence_length]\n",
    "#             x_batch[i] = x_train[j][0:sequence_length]\n",
    "#             y_batch[i] = y_train[j][0:sequence_length]\n",
    "        \n",
    "        \n",
    "        yield [cnn_x_batch, aux_x_batch], y_batch"
   ]
  },
  {
   "cell_type": "code",
   "execution_count": 438,
   "metadata": {},
   "outputs": [],
   "source": [
    "for i, data in enumerate(x_train):\n",
    "    if len(x_train[i]) < 40:\n",
    "        x_train.pop(i)\n",
    "        y_train.pop(i)"
   ]
  },
  {
   "cell_type": "code",
   "execution_count": 25,
   "metadata": {},
   "outputs": [],
   "source": [
    "x_len = []\n",
    "for i, data in enumerate(x_train):\n",
    "    x_len.append(len(x_train[i]))\n",
    "    "
   ]
  },
  {
   "cell_type": "code",
   "execution_count": 439,
   "metadata": {},
   "outputs": [
    {
     "data": {
      "text/plain": [
       "(array([161., 136.,   0., 117.,   0., 132., 103.,   0., 105.,   0., 111.,\n",
       "         87.,   0., 102.,   0.,  94.,  97.,   0.,  90.,   0.,  76.,   0.,\n",
       "         80.,  89.,   0.,  61.,   0.,  69.,  55.,   0.,  64.,   0.,  61.,\n",
       "         55.,   0.,  51.,   0.,  49.,  42.,   0.,  42.,   0.,  30.,   0.,\n",
       "         38.,  33.,   0.,  31.,   0.,  36.,  30.,   0.,  26.,   0.,  21.,\n",
       "         28.,   0.,  19.,   0.,  13.,   0.,  26.,  20.,   0.,  22.,   0.,\n",
       "         13.,  10.,   0.,  15.,   0.,  15.,  17.,   0.,  14.,   0.,  19.,\n",
       "          9.,   0.,  11.,   0.,   7.,   0.,  10.,  11.,   0.,   6.,   0.,\n",
       "         10.,  10.,   0.,   8.,   0.,   5.,   3.,   0.,   6.,   0.,   8.,\n",
       "          4.]),\n",
       " array([40.  , 40.59, 41.18, 41.77, 42.36, 42.95, 43.54, 44.13, 44.72,\n",
       "        45.31, 45.9 , 46.49, 47.08, 47.67, 48.26, 48.85, 49.44, 50.03,\n",
       "        50.62, 51.21, 51.8 , 52.39, 52.98, 53.57, 54.16, 54.75, 55.34,\n",
       "        55.93, 56.52, 57.11, 57.7 , 58.29, 58.88, 59.47, 60.06, 60.65,\n",
       "        61.24, 61.83, 62.42, 63.01, 63.6 , 64.19, 64.78, 65.37, 65.96,\n",
       "        66.55, 67.14, 67.73, 68.32, 68.91, 69.5 , 70.09, 70.68, 71.27,\n",
       "        71.86, 72.45, 73.04, 73.63, 74.22, 74.81, 75.4 , 75.99, 76.58,\n",
       "        77.17, 77.76, 78.35, 78.94, 79.53, 80.12, 80.71, 81.3 , 81.89,\n",
       "        82.48, 83.07, 83.66, 84.25, 84.84, 85.43, 86.02, 86.61, 87.2 ,\n",
       "        87.79, 88.38, 88.97, 89.56, 90.15, 90.74, 91.33, 91.92, 92.51,\n",
       "        93.1 , 93.69, 94.28, 94.87, 95.46, 96.05, 96.64, 97.23, 97.82,\n",
       "        98.41, 99.  ]),\n",
       " <a list of 100 Patch objects>)"
      ]
     },
     "execution_count": 439,
     "metadata": {},
     "output_type": "execute_result"
    },
    {
     "data": {
      "image/png": "[encoded data removed]",
      "text/plain": [
       "<Figure size 432x288 with 1 Axes>"
      ]
     },
     "metadata": {
      "needs_background": "light"
     },
     "output_type": "display_data"
    }
   ],
   "source": [
    "plt.hist(np.array(x_len)[np.array(x_len) < 100], bins = 100)"
   ]
  },
  {
   "cell_type": "code",
   "execution_count": null,
   "metadata": {},
   "outputs": [],
   "source": [
    "y_data[2900:]"
   ]
  },
  {
   "cell_type": "code",
   "execution_count": 193,
   "metadata": {},
   "outputs": [],
   "source": [
    "batch_size = 256\n",
    "sequence_length = 35"
   ]
  },
  {
   "cell_type": "code",
   "execution_count": 194,
   "metadata": {},
   "outputs": [],
   "source": [
    "generator = batch_generator(batch_size=batch_size, sequence_length=sequence_length)\n",
    "cnnx_batch, y_batch = next(generator)"
   ]
  },
  {
   "cell_type": "code",
   "execution_count": 272,
   "metadata": {},
   "outputs": [
    {
     "data": {
      "text/plain": [
       "(30, 18)"
      ]
     },
     "execution_count": 272,
     "metadata": {},
     "output_type": "execute_result"
    }
   ],
   "source": [
    "cnnx_batch[0].shape"
   ]
  },
  {
   "cell_type": "code",
   "execution_count": 1139,
   "metadata": {},
   "outputs": [
    {
     "ename": "NameError",
     "evalue": "name 'x_batch' is not defined",
     "output_type": "error",
     "traceback": [
      "\u001b[0;31m---------------------------------------------------------------------------\u001b[0m",
      "\u001b[0;31mNameError\u001b[0m                                 Traceback (most recent call last)",
      "\u001b[0;32m<ipython-input-1139-92b00d6289f7>\u001b[0m in \u001b[0;36m<module>\u001b[0;34m\u001b[0m\n\u001b[0;32m----> 1\u001b[0;31m \u001b[0mprint\u001b[0m\u001b[0;34m(\u001b[0m\u001b[0mx_batch\u001b[0m\u001b[0;34m.\u001b[0m\u001b[0mshape\u001b[0m\u001b[0;34m)\u001b[0m\u001b[0;34m\u001b[0m\u001b[0;34m\u001b[0m\u001b[0m\n\u001b[0m\u001b[1;32m      2\u001b[0m \u001b[0mprint\u001b[0m\u001b[0;34m(\u001b[0m\u001b[0my_batch\u001b[0m\u001b[0;34m.\u001b[0m\u001b[0mshape\u001b[0m\u001b[0;34m)\u001b[0m\u001b[0;34m\u001b[0m\u001b[0;34m\u001b[0m\u001b[0m\n",
      "\u001b[0;31mNameError\u001b[0m: name 'x_batch' is not defined"
     ]
    }
   ],
   "source": [
    "print(x_batch.shape)\n",
    "print(y_batch.shape)"
   ]
  },
  {
   "cell_type": "code",
   "execution_count": null,
   "metadata": {},
   "outputs": [],
   "source": [
    "y_batch"
   ]
  },
  {
   "cell_type": "code",
   "execution_count": 440,
   "metadata": {},
   "outputs": [],
   "source": [
    "validation_data = (np.expand_dims(x_test, axis =0),\n",
    "                   np.expand_dims(y_test, axis=0))"
   ]
  },
  {
   "cell_type": "code",
   "execution_count": 77,
   "metadata": {},
   "outputs": [],
   "source": [
    "validation_data = ([np.expand_dims(x_test[:,0:2], axis=0).reshape(1,2,-1,1), np.expand_dims(x_test, axis =0)],\n",
    "                   np.expand_dims(y_test, axis=0))"
   ]
  },
  {
   "cell_type": "code",
   "execution_count": 134,
   "metadata": {},
   "outputs": [],
   "source": [
    "validation_data = ([np.expand_dims(x_test[:,0:2], axis=0), np.expand_dims(x_test, axis =0)],\n",
    "                   np.expand_dims(y_test, axis=0))"
   ]
  },
  {
   "cell_type": "code",
   "execution_count": 78,
   "metadata": {},
   "outputs": [
    {
     "data": {
      "text/plain": [
       "(1, 2, 5583, 1)"
      ]
     },
     "execution_count": 78,
     "metadata": {},
     "output_type": "execute_result"
    }
   ],
   "source": [
    "validation_data[0][0].shape"
   ]
  },
  {
   "cell_type": "code",
   "execution_count": 359,
   "metadata": {},
   "outputs": [
    {
     "data": {
      "text/plain": [
       "array([[[-0.92847125],\n",
       "        [-0.92987377],\n",
       "        [-0.9312763 ],\n",
       "        ...,\n",
       "        [-0.99579243],\n",
       "        [-0.99719495],\n",
       "        [-0.99859748]]])"
      ]
     },
     "execution_count": 359,
     "metadata": {},
     "output_type": "execute_result"
    }
   ],
   "source": [
    "validation_data[1]"
   ]
  },
  {
   "cell_type": "code",
   "execution_count": 207,
   "metadata": {},
   "outputs": [],
   "source": [
    "num_steps = 50\n",
    "lats = 128\n",
    "lons = 128\n",
    "features = 4\n",
    "out_feats = 3\n",
    "\n",
    "model = Sequential()\n",
    "model.add(TimeDistributed(Conv1D(16, (3), activation='relu', padding='same'), \n",
    "                          input_shape=(num_steps, lats, features)))\n",
    "model.add(TimeDistributed(MaxPooling1D(pool_size=(2))))\n",
    "model.add(TimeDistributed(Conv1D(32, (3), activation='relu', padding='same')))\n",
    "model.add(TimeDistributed(MaxPooling1D(pool_size=(2))))\n",
    "model.add(TimeDistributed(Conv1D(32, (3), activation='relu', padding='same')))\n",
    "model.add(TimeDistributed(MaxPooling1D(pool_size=(2))))\n",
    "model.add(TimeDistributed(Flatten()))\n",
    "model.add(LSTM(units=64, return_sequences=True))\n"
   ]
  },
  {
   "cell_type": "code",
   "execution_count": 205,
   "metadata": {},
   "outputs": [
    {
     "name": "stdout",
     "output_type": "stream",
     "text": [
      "Model: \"sequential_4\"\n",
      "_________________________________________________________________\n",
      "Layer (type)                 Output Shape              Param #   \n",
      "=================================================================\n",
      "time_distributed_82 (TimeDis (None, 50, 128, 16)       208       \n",
      "_________________________________________________________________\n",
      "time_distributed_83 (TimeDis (None, 50, 64, 16)        0         \n",
      "_________________________________________________________________\n",
      "time_distributed_84 (TimeDis (None, 50, 64, 32)        1568      \n",
      "_________________________________________________________________\n",
      "time_distributed_85 (TimeDis (None, 50, 32, 32)        0         \n",
      "_________________________________________________________________\n",
      "time_distributed_86 (TimeDis (None, 50, 32, 32)        3104      \n",
      "_________________________________________________________________\n",
      "time_distributed_87 (TimeDis (None, 50, 16, 32)        0         \n",
      "_________________________________________________________________\n",
      "time_distributed_88 (TimeDis (None, 50, 512)           0         \n",
      "_________________________________________________________________\n",
      "lstm_22 (LSTM)               (None, 50, 64)            147712    \n",
      "=================================================================\n",
      "Total params: 152,592\n",
      "Trainable params: 152,592\n",
      "Non-trainable params: 0\n",
      "_________________________________________________________________\n"
     ]
    }
   ],
   "source": [
    "model.summary()"
   ]
  },
  {
   "cell_type": "code",
   "execution_count": 83,
   "metadata": {},
   "outputs": [],
   "source": [
    "cnn_input = Input(shape=(2, 30,1), dtype='float', name='cnn_input')\n",
    "CNN_out = (TimeDistributed(Conv1D(16, (3), activation='relu', padding='same')))(cnn_input)\n",
    "\n",
    "CNN_out = (TimeDistributed(MaxPooling1D(pool_size=(2), strides=None, padding='valid')))(CNN_out)\n",
    "# CNN_out = Permute(dims = (2,3,1))(CNN_out)\n",
    "CNN_out = (TimeDistributed(Flatten()))(CNN_out)\n",
    "# CNN_out = Permute(dims = (2,1))(CNN_out)\n",
    "cnn = Model(inputs=cnn_input, outputs=CNN_out)"
   ]
  },
  {
   "cell_type": "code",
   "execution_count": 180,
   "metadata": {},
   "outputs": [],
   "source": [
    "cnn_input = Input(shape=(None,2), dtype='float', name='cnn_input')\n",
    "CNN_out = Lambda(lambda x: expand_dims(x, -1))(cnn_input)\n",
    "# CNN_out = (Dense(8, activation = 'tanh'))(CNN_out)\n",
    "CNN_out = (TimeDistributed(Conv1D(20, (10), activation='tanh', padding='same')))(CNN_out)\n",
    "CNN_out = (TimeDistributed(MaxPooling1D(pool_size=(2), strides=None, padding='valid')))(CNN_out)\n",
    "CNN_out = (TimeDistributed(Conv1D(2, (16), activation='tanh', padding='same')))(CNN_out)\n",
    "CNN_out = (TimeDistributed(MaxPooling1D(pool_size=(1), strides=None, padding='valid')))(CNN_out)\n",
    "# CNN_out = Permute(dims = (2,3,1))(CNN_out)\n",
    "CNN_out = (TimeDistributed(Flatten()))(CNN_out)\n",
    "# CNN_out = Permute(dims = (2,1))(CNN_out)\n",
    "# CNN_out = (Lambda(lambda x: squeeze(x, -1)))(CNN_out)\n",
    "cnn = Model(inputs=cnn_input, outputs=CNN_out)"
   ]
  },
  {
   "cell_type": "code",
   "execution_count": 123,
   "metadata": {},
   "outputs": [],
   "source": [
    "cnn_input = Input(shape=(None,2), dtype='float', name='cnn_input')\n",
    "CNN_out = Dense(16)(cnn_input)\n",
    "CNN_out = (Conv1D(2, (6), activation='relu', padding='same'))(cnn_input)\n",
    "# CNN_out = (Conv1D(16, (15), activation='relu', padding='same'))(CNN_out)\n",
    "# CNN_out = (MaxPooling1D(pool_size=(3), strides=None, padding='valid'))(CNN_out)\n",
    "# CNN_out = (Flatten())(CNN_out)\n",
    "cnn = Model(inputs=cnn_input, outputs=CNN_out)"
   ]
  },
  {
   "cell_type": "code",
   "execution_count": 163,
   "metadata": {},
   "outputs": [
    {
     "name": "stdout",
     "output_type": "stream",
     "text": [
      "Model: \"model_29\"\n",
      "_________________________________________________________________\n",
      "Layer (type)                 Output Shape              Param #   \n",
      "=================================================================\n",
      "cnn_input (InputLayer)       [(None, None, 2)]         0         \n",
      "_________________________________________________________________\n",
      "lambda_8 (Lambda)            (None, None, 2, 1)        0         \n",
      "_________________________________________________________________\n",
      "dense_13 (Dense)             (None, None, 2, 8)        16        \n",
      "_________________________________________________________________\n",
      "time_distributed_37 (TimeDis (None, None, 2, 2)        258       \n",
      "_________________________________________________________________\n",
      "time_distributed_38 (TimeDis (None, None, 2, 2)        0         \n",
      "_________________________________________________________________\n",
      "time_distributed_39 (TimeDis (None, None, 4)           0         \n",
      "=================================================================\n",
      "Total params: 274\n",
      "Trainable params: 274\n",
      "Non-trainable params: 0\n",
      "_________________________________________________________________\n"
     ]
    }
   ],
   "source": [
    "cnn.summary()"
   ]
  },
  {
   "cell_type": "code",
   "execution_count": 491,
   "metadata": {},
   "outputs": [],
   "source": [
    "def layer_clip(input, maxx, minn):\n",
    "    return K.clip(input, minn, maxx)"
   ]
  },
  {
   "cell_type": "code",
   "execution_count": 521,
   "metadata": {},
   "outputs": [],
   "source": [
    "aux_input = Input(shape=(None,18), name='aux_input')\n",
    "x = GRU(20, return_sequences = True, activation = 'tanh')(aux_input)\n",
    "x = Dropout(0.05)(x)\n",
    "x = GRU(10,return_sequences = True, activation = 'tanh')(x)\n",
    "\n",
    "# x = Dropout(0.1)(x)\n",
    "# x = GRU(15,return_sequences = True, activation = 'tanh')(x)\n",
    "# x = Dropout(0.2)(x)\n",
    "# x = concatenate([CNN_out, x], axis = 2)\n",
    "# x = Dense(30, activation = 'elu')(x)\n",
    "main_output = Dense(1, name='main_output')(x)\n",
    "# x = Dense(1, name='main_output')(x)\n",
    "# main_output = ELU(alpha = 1.5)(x)\n",
    "# main_output = Lambda(lambda x: K.clip(x, -1.0,1.0))(x)\n",
    "# model = Model(inputs= [cnn_input,aux_input], outputs=[main_output])\n",
    "model = Model(inputs= aux_input, outputs=[main_output])"
   ]
  },
  {
   "cell_type": "code",
   "execution_count": null,
   "metadata": {},
   "outputs": [],
   "source": [
    "auxiliary_output = Dense(1, activation='sigmoid', name='aux_output')(CNN_out)"
   ]
  },
  {
   "cell_type": "code",
   "execution_count": 137,
   "metadata": {},
   "outputs": [],
   "source": [
    "auxiliary_input = Input(shape=(None,18), name='aux_input')\n",
    "x = concatenate([CNN_out, auxiliary_input], axis = 2)"
   ]
  },
  {
   "cell_type": "code",
   "execution_count": null,
   "metadata": {},
   "outputs": [],
   "source": [
    "x = GRU(20, return_sequences = True, activation = 'tanh')(x)\n",
    "x = Dropout(0.5)(x)\n",
    "x = GRU(20,return_sequences = True, activation = 'elu')(x)\n",
    "# x = Dropout(0.2)(x)\n",
    "# x = Dropout(0.2)(x)\n",
    "main_output = Dense(1, name='main_output')(x)\n",
    "model = Model(inputs=[cnn_input, auxiliary_input], outputs=[main_output])\n"
   ]
  },
  {
   "cell_type": "code",
   "execution_count": 523,
   "metadata": {},
   "outputs": [],
   "source": [
    "model.compile(optimizer='adam', loss='mean_absolute_error', metrics=['mae'])"
   ]
  },
  {
   "cell_type": "code",
   "execution_count": 524,
   "metadata": {},
   "outputs": [
    {
     "name": "stdout",
     "output_type": "stream",
     "text": [
      "Model: \"model_114\"\n",
      "_________________________________________________________________\n",
      "Layer (type)                 Output Shape              Param #   \n",
      "=================================================================\n",
      "aux_input (InputLayer)       [(None, None, 18)]        0         \n",
      "_________________________________________________________________\n",
      "gru_244 (GRU)                (None, None, 20)          2340      \n",
      "_________________________________________________________________\n",
      "dropout_82 (Dropout)         (None, None, 20)          0         \n",
      "_________________________________________________________________\n",
      "gru_245 (GRU)                (None, None, 10)          930       \n",
      "_________________________________________________________________\n",
      "main_output (Dense)          (None, None, 1)           11        \n",
      "=================================================================\n",
      "Total params: 3,281\n",
      "Trainable params: 3,281\n",
      "Non-trainable params: 0\n",
      "_________________________________________________________________\n"
     ]
    }
   ],
   "source": [
    "model.summary()"
   ]
  },
  {
   "cell_type": "code",
   "execution_count": 35,
   "metadata": {},
   "outputs": [],
   "source": [
    "from IPython.display import SVG\n",
    "from tensorflow.python.keras.utils import model_to_dot"
   ]
  },
  {
   "cell_type": "code",
   "execution_count": 475,
   "metadata": {},
   "outputs": [
    {
     "name": "stdout",
     "output_type": "stream",
     "text": [
      "Failed to import pydot. You must install pydot and graphviz for `pydotprint` to work.\n"
     ]
    }
   ],
   "source": [
    "model_to_dot(model)"
   ]
  },
  {
   "cell_type": "code",
   "execution_count": null,
   "metadata": {},
   "outputs": [],
   "source": [
    "SVG(model_to_dot(model).create(prog='dot', format='svg'))"
   ]
  },
  {
   "cell_type": "code",
   "execution_count": 36,
   "metadata": {},
   "outputs": [],
   "source": [
    "%load_ext tensorboard\n",
    "!rm -rf ./logs/ "
   ]
  },
  {
   "cell_type": "code",
   "execution_count": 36,
   "metadata": {},
   "outputs": [],
   "source": [
    "# import datetime\n",
    "# log_dir=\"logs/fit/\" + datetime.datetime.now().strftime(\"%Y%m%d-%H%M%S\")\n",
    "# tensorboard_callback = tf.keras.callbacks.TensorBoard(log_dir=log_dir, histogram_freq=1)"
   ]
  },
  {
   "cell_type": "code",
   "execution_count": 525,
   "metadata": {},
   "outputs": [],
   "source": [
    "path_checkpoint = '23_checkpoint.keras'\n",
    "callback_checkpoint = ModelCheckpoint(filepath=path_checkpoint,\n",
    "                                      monitor='val_loss',\n",
    "                                      verbose=1,\n",
    "                                      save_weights_only=True,\n",
    "                                      save_best_only=True)\n",
    "callback_early_stopping = EarlyStopping(monitor='val_loss',\n",
    "                                        patience=5, verbose=1)\n",
    "callback_tensorboard = TensorBoard(log_dir='./23_logs/',\n",
    "                                   histogram_freq=0,\n",
    "                                   write_graph=False)\n",
    "callback_reduce_lr = ReduceLROnPlateau(monitor='val_loss',\n",
    "                                       factor=0.1,\n",
    "                                       min_lr=1e-4,\n",
    "                                       patience=0,\n",
    "                                       verbose=1)\n",
    "callbacks = [callback_early_stopping,\n",
    "             callback_checkpoint,\n",
    "             callback_tensorboard,\n",
    "             callback_reduce_lr]"
   ]
  },
  {
   "cell_type": "code",
   "execution_count": 531,
   "metadata": {},
   "outputs": [
    {
     "name": "stdout",
     "output_type": "stream",
     "text": [
      "0.05\n",
      "0.1\n",
      "Epoch 00016: early stopping\n",
      "0.2\n",
      "Epoch 00042: early stopping\n",
      "0.3\n",
      "Epoch 00019: early stopping\n"
     ]
    },
    {
     "data": {
      "image/png": "[encoded data removed]",
      "text/plain": [
       "<Figure size 864x576 with 1 Axes>"
      ]
     },
     "metadata": {
      "needs_background": "light"
     },
     "output_type": "display_data"
    }
   ],
   "source": [
    "# batch_size = [40,80,120]\n",
    "num_units = [18,19,20,21,22]\n",
    "drop_rate = [0.05,0.1,0.2,0.3]\n",
    "plt.figure(figsize=(12, 8))\n",
    "plt.plot(y_test_rescaled[3000:3400], label = 'true')\n",
    "for i, j in enumerate(drop_rate):\n",
    "    print(j)\n",
    "    generator = batch_generator(batch_size=batch_size, sequence_length=sequence_length)\n",
    "    \n",
    "    path_checkpoint = '23_checkpoint.keras'\n",
    "    callback_checkpoint = ModelCheckpoint(filepath=path_checkpoint,\n",
    "                                          monitor='val_loss',\n",
    "                                          verbose=0,\n",
    "                                          save_weights_only=True,\n",
    "                                          save_best_only=True)\n",
    "    callback_early_stopping = EarlyStopping(monitor='val_loss',\n",
    "                                            patience=5, verbose=1)\n",
    "    callback_tensorboard = TensorBoard(log_dir='./23_logs/',\n",
    "                                       histogram_freq=0,\n",
    "                                       write_graph=False)\n",
    "    callback_reduce_lr = ReduceLROnPlateau(monitor='val_loss',\n",
    "                                           factor=0.1,\n",
    "                                           min_lr=1e-4,\n",
    "                                           patience=0,\n",
    "                                           verbose=0)\n",
    "\n",
    "    callbacks = [callback_early_stopping,\n",
    "                 callback_checkpoint,\n",
    "                 callback_tensorboard,\n",
    "                 callback_reduce_lr]\n",
    "    \n",
    "    aux_input = Input(shape=(None,18), name='aux_input')\n",
    "    x = GRU(20, return_sequences = True, activation = 'tanh')(aux_input)\n",
    "    x = Dropout(j)(x)\n",
    "    x = GRU(10,return_sequences = True, activation = 'tanh')(x)\n",
    "    main_output = Dense(1, name='main_output')(x)\n",
    "\n",
    "    model = Model(inputs= aux_input, outputs=[main_output])\n",
    "    model.compile(optimizer='adam', loss='mean_absolute_error', metrics=['mae'])\n",
    "    model.fit_generator(generator=generator,\n",
    "                        epochs=50,\n",
    "                        steps_per_epoch=50,\n",
    "                        validation_data=validation_data,\n",
    "                        callbacks=callbacks,\n",
    "                       verbose = 0)\n",
    "    try:\n",
    "        model.load_weights(path_checkpoint)\n",
    "    except Exception as error:\n",
    "        print(\"Error trying to load checkpoint.\")\n",
    "        print(error)\n",
    "    y_pred = model.predict(np.expand_dims(x_test, axis =0))\n",
    "    # y_pred = model.predict([np.expand_dims(x_test[:,0:2], axis=0), np.expand_dims(x_test[:,2:], axis =0)])\n",
    "\n",
    "    y_pred_rescaled = scy.inverse_transform(y_pred[0])\n",
    "    y_test_rescaled = scy.inverse_transform(y_test)\n",
    "\n",
    "#     plt.figure(figsize=(12, 8))\n",
    "    plt.ylabel('time to dest')\n",
    "    # plt.plot(y_pred_rescaled, label = 'pred')\n",
    "    # plt.plot(y_test_rescaled, label = 'true')\n",
    "    plt.plot(y_pred_rescaled[3000:3400], label = 'dropout =' + str(j))\n",
    "\n",
    "#     plt.plot(y_test_rescaled[1400:2000], label = 'true')\n",
    "#     plt.legend()\n",
    "plt.grid(axis = 'y')\n",
    "plt.axhline(0, color='black',alpha = 0.5)\n",
    "plt.legend() \n",
    "plt.show()"
   ]
  },
  {
   "cell_type": "code",
   "execution_count": 526,
   "metadata": {},
   "outputs": [
    {
     "name": "stdout",
     "output_type": "stream",
     "text": [
      "Epoch 1/50\n",
      "49/50 [============================>.] - ETA: 0s - loss: 0.5154 - mean_absolute_error: 0.5154\n",
      "Epoch 00001: val_loss improved from inf to 0.19416, saving model to 23_checkpoint.keras\n",
      "50/50 [==============================] - 70s 1s/step - loss: 0.5090 - mean_absolute_error: 0.5090 - val_loss: 0.1942 - val_mean_absolute_error: 0.1942\n",
      "Epoch 2/50\n",
      "49/50 [============================>.] - ETA: 0s - loss: 0.1489 - mean_absolute_error: 0.1489\n",
      "Epoch 00002: val_loss improved from 0.19416 to 0.09853, saving model to 23_checkpoint.keras\n",
      "50/50 [==============================] - 7s 138ms/step - loss: 0.1484 - mean_absolute_error: 0.1484 - val_loss: 0.0985 - val_mean_absolute_error: 0.0985\n",
      "Epoch 3/50\n",
      "49/50 [============================>.] - ETA: 0s - loss: 0.1022 - mean_absolute_error: 0.1022\n",
      "Epoch 00003: val_loss improved from 0.09853 to 0.06529, saving model to 23_checkpoint.keras\n",
      "50/50 [==============================] - 7s 135ms/step - loss: 0.1019 - mean_absolute_error: 0.1019 - val_loss: 0.0653 - val_mean_absolute_error: 0.0653\n",
      "Epoch 4/50\n",
      "49/50 [============================>.] - ETA: 0s - loss: 0.0795 - mean_absolute_error: 0.0795\n",
      "Epoch 00004: val_loss improved from 0.06529 to 0.04955, saving model to 23_checkpoint.keras\n",
      "50/50 [==============================] - 7s 136ms/step - loss: 0.0793 - mean_absolute_error: 0.0793 - val_loss: 0.0495 - val_mean_absolute_error: 0.0495\n",
      "Epoch 5/50\n",
      "49/50 [============================>.] - ETA: 0s - loss: 0.0646 - mean_absolute_error: 0.0646\n",
      "Epoch 00005: val_loss improved from 0.04955 to 0.04179, saving model to 23_checkpoint.keras\n",
      "50/50 [==============================] - 7s 136ms/step - loss: 0.0644 - mean_absolute_error: 0.0644 - val_loss: 0.0418 - val_mean_absolute_error: 0.0418\n",
      "Epoch 6/50\n",
      "49/50 [============================>.] - ETA: 0s - loss: 0.0532 - mean_absolute_error: 0.0532\n",
      "Epoch 00006: val_loss improved from 0.04179 to 0.03622, saving model to 23_checkpoint.keras\n",
      "50/50 [==============================] - 8s 164ms/step - loss: 0.0531 - mean_absolute_error: 0.0531 - val_loss: 0.0362 - val_mean_absolute_error: 0.0362\n",
      "Epoch 7/50\n",
      "49/50 [============================>.] - ETA: 0s - loss: 0.0450 - mean_absolute_error: 0.0450\n",
      "Epoch 00007: val_loss improved from 0.03622 to 0.03168, saving model to 23_checkpoint.keras\n",
      "50/50 [==============================] - 7s 142ms/step - loss: 0.0449 - mean_absolute_error: 0.0449 - val_loss: 0.0317 - val_mean_absolute_error: 0.0317\n",
      "Epoch 8/50\n",
      "49/50 [============================>.] - ETA: 0s - loss: 0.0377 - mean_absolute_error: 0.0377\n",
      "Epoch 00008: val_loss improved from 0.03168 to 0.02910, saving model to 23_checkpoint.keras\n",
      "50/50 [==============================] - 8s 165ms/step - loss: 0.0376 - mean_absolute_error: 0.0376 - val_loss: 0.0291 - val_mean_absolute_error: 0.0291\n",
      "Epoch 9/50\n",
      "49/50 [============================>.] - ETA: 0s - loss: 0.0333 - mean_absolute_error: 0.0333\n",
      "Epoch 00009: val_loss improved from 0.02910 to 0.02666, saving model to 23_checkpoint.keras\n",
      "50/50 [==============================] - 8s 167ms/step - loss: 0.0332 - mean_absolute_error: 0.0332 - val_loss: 0.0267 - val_mean_absolute_error: 0.0267\n",
      "Epoch 10/50\n",
      "49/50 [============================>.] - ETA: 0s - loss: 0.0289 - mean_absolute_error: 0.0289\n",
      "Epoch 00010: val_loss improved from 0.02666 to 0.02552, saving model to 23_checkpoint.keras\n",
      "50/50 [==============================] - 5s 98ms/step - loss: 0.0289 - mean_absolute_error: 0.0289 - val_loss: 0.0255 - val_mean_absolute_error: 0.0255\n",
      "Epoch 11/50\n",
      "49/50 [============================>.] - ETA: 0s - loss: 0.0255 - mean_absolute_error: 0.0255\n",
      "Epoch 00011: val_loss improved from 0.02552 to 0.02538, saving model to 23_checkpoint.keras\n",
      "50/50 [==============================] - 5s 92ms/step - loss: 0.0255 - mean_absolute_error: 0.0255 - val_loss: 0.0254 - val_mean_absolute_error: 0.0254\n",
      "Epoch 12/50\n",
      "49/50 [============================>.] - ETA: 0s - loss: 0.0240 - mean_absolute_error: 0.0240\n",
      "Epoch 00012: val_loss improved from 0.02538 to 0.02424, saving model to 23_checkpoint.keras\n",
      "50/50 [==============================] - 5s 95ms/step - loss: 0.0240 - mean_absolute_error: 0.0240 - val_loss: 0.0242 - val_mean_absolute_error: 0.0242\n",
      "Epoch 13/50\n",
      "49/50 [============================>.] - ETA: 0s - loss: 0.0227 - mean_absolute_error: 0.0227\n",
      "Epoch 00013: val_loss improved from 0.02424 to 0.02353, saving model to 23_checkpoint.keras\n",
      "50/50 [==============================] - 6s 121ms/step - loss: 0.0227 - mean_absolute_error: 0.0227 - val_loss: 0.0235 - val_mean_absolute_error: 0.0235\n",
      "Epoch 14/50\n",
      "49/50 [============================>.] - ETA: 0s - loss: 0.0215 - mean_absolute_error: 0.0215\n",
      "Epoch 00014: val_loss did not improve from 0.02353\n",
      "\n",
      "Epoch 00014: ReduceLROnPlateau reducing learning rate to 0.00010000000474974513.\n",
      "50/50 [==============================] - 20s 395ms/step - loss: 0.0214 - mean_absolute_error: 0.0214 - val_loss: 0.0237 - val_mean_absolute_error: 0.0237\n",
      "Epoch 15/50\n",
      "49/50 [============================>.] - ETA: 0s - loss: 0.0203 - mean_absolute_error: 0.0203\n",
      "Epoch 00015: val_loss improved from 0.02353 to 0.02341, saving model to 23_checkpoint.keras\n",
      "50/50 [==============================] - 7s 145ms/step - loss: 0.0203 - mean_absolute_error: 0.0203 - val_loss: 0.0234 - val_mean_absolute_error: 0.0234\n",
      "Epoch 16/50\n",
      "49/50 [============================>.] - ETA: 0s - loss: 0.0205 - mean_absolute_error: 0.0205\n",
      "Epoch 00016: val_loss did not improve from 0.02341\n",
      "\n",
      "Epoch 00016: ReduceLROnPlateau reducing learning rate to 0.0001.\n",
      "50/50 [==============================] - 7s 140ms/step - loss: 0.0205 - mean_absolute_error: 0.0205 - val_loss: 0.0236 - val_mean_absolute_error: 0.0236\n",
      "Epoch 17/50\n",
      "49/50 [============================>.] - ETA: 0s - loss: 0.0205 - mean_absolute_error: 0.0205\n",
      "Epoch 00017: val_loss improved from 0.02341 to 0.02338, saving model to 23_checkpoint.keras\n",
      "50/50 [==============================] - 7s 136ms/step - loss: 0.0205 - mean_absolute_error: 0.0205 - val_loss: 0.0234 - val_mean_absolute_error: 0.0234\n",
      "Epoch 18/50\n",
      "49/50 [============================>.] - ETA: 0s - loss: 0.0202 - mean_absolute_error: 0.0202\n",
      "Epoch 00018: val_loss did not improve from 0.02338\n",
      "50/50 [==============================] - 7s 134ms/step - loss: 0.0202 - mean_absolute_error: 0.0202 - val_loss: 0.0234 - val_mean_absolute_error: 0.0234\n",
      "Epoch 19/50\n",
      "49/50 [============================>.] - ETA: 0s - loss: 0.0197 - mean_absolute_error: 0.0197\n",
      "Epoch 00019: val_loss did not improve from 0.02338\n",
      "50/50 [==============================] - 7s 134ms/step - loss: 0.0198 - mean_absolute_error: 0.0198 - val_loss: 0.0234 - val_mean_absolute_error: 0.0234\n",
      "Epoch 20/50\n",
      "49/50 [============================>.] - ETA: 0s - loss: 0.0200 - mean_absolute_error: 0.0200\n",
      "Epoch 00020: val_loss improved from 0.02338 to 0.02337, saving model to 23_checkpoint.keras\n",
      "50/50 [==============================] - 7s 140ms/step - loss: 0.0200 - mean_absolute_error: 0.0200 - val_loss: 0.0234 - val_mean_absolute_error: 0.0234\n",
      "Epoch 21/50\n",
      "49/50 [============================>.] - ETA: 0s - loss: 0.0195 - mean_absolute_error: 0.0195\n",
      "Epoch 00021: val_loss improved from 0.02337 to 0.02328, saving model to 23_checkpoint.keras\n",
      "50/50 [==============================] - 7s 139ms/step - loss: 0.0196 - mean_absolute_error: 0.0196 - val_loss: 0.0233 - val_mean_absolute_error: 0.0233\n",
      "Epoch 22/50\n",
      "49/50 [============================>.] - ETA: 0s - loss: 0.0196 - mean_absolute_error: 0.0196\n",
      "Epoch 00022: val_loss improved from 0.02328 to 0.02323, saving model to 23_checkpoint.keras\n",
      "50/50 [==============================] - 6s 114ms/step - loss: 0.0196 - mean_absolute_error: 0.0196 - val_loss: 0.0232 - val_mean_absolute_error: 0.0232\n",
      "Epoch 23/50\n",
      "49/50 [============================>.] - ETA: 0s - loss: 0.0197 - mean_absolute_error: 0.0197\n",
      "Epoch 00023: val_loss did not improve from 0.02323\n",
      "50/50 [==============================] - 6s 115ms/step - loss: 0.0197 - mean_absolute_error: 0.0197 - val_loss: 0.0233 - val_mean_absolute_error: 0.0233\n",
      "Epoch 24/50\n",
      "49/50 [============================>.] - ETA: 0s - loss: 0.0190 - mean_absolute_error: 0.0190\n",
      "Epoch 00024: val_loss improved from 0.02323 to 0.02320, saving model to 23_checkpoint.keras\n",
      "50/50 [==============================] - 6s 113ms/step - loss: 0.0189 - mean_absolute_error: 0.0189 - val_loss: 0.0232 - val_mean_absolute_error: 0.0232\n",
      "Epoch 25/50\n",
      "49/50 [============================>.] - ETA: 0s - loss: 0.0196 - mean_absolute_error: 0.0196\n",
      "Epoch 00025: val_loss improved from 0.02320 to 0.02318, saving model to 23_checkpoint.keras\n",
      "50/50 [==============================] - 6s 113ms/step - loss: 0.0195 - mean_absolute_error: 0.0195 - val_loss: 0.0232 - val_mean_absolute_error: 0.0232\n",
      "Epoch 26/50\n",
      "49/50 [============================>.] - ETA: 0s - loss: 0.0194 - mean_absolute_error: 0.0194\n",
      "Epoch 00026: val_loss improved from 0.02318 to 0.02306, saving model to 23_checkpoint.keras\n",
      "50/50 [==============================] - 6s 120ms/step - loss: 0.0194 - mean_absolute_error: 0.0194 - val_loss: 0.0231 - val_mean_absolute_error: 0.0231\n",
      "Epoch 27/50\n",
      "49/50 [============================>.] - ETA: 0s - loss: 0.0188 - mean_absolute_error: 0.0188\n",
      "Epoch 00027: val_loss improved from 0.02306 to 0.02299, saving model to 23_checkpoint.keras\n",
      "50/50 [==============================] - 6s 128ms/step - loss: 0.0188 - mean_absolute_error: 0.0188 - val_loss: 0.0230 - val_mean_absolute_error: 0.0230\n",
      "Epoch 28/50\n",
      "49/50 [============================>.] - ETA: 0s - loss: 0.0192 - mean_absolute_error: 0.0192\n",
      "Epoch 00028: val_loss did not improve from 0.02299\n",
      "50/50 [==============================] - 7s 132ms/step - loss: 0.0192 - mean_absolute_error: 0.0192 - val_loss: 0.0231 - val_mean_absolute_error: 0.0231\n",
      "Epoch 29/50\n",
      "49/50 [============================>.] - ETA: 0s - loss: 0.0194 - mean_absolute_error: 0.0194\n",
      "Epoch 00029: val_loss did not improve from 0.02299\n",
      "50/50 [==============================] - 6s 124ms/step - loss: 0.0194 - mean_absolute_error: 0.0194 - val_loss: 0.0231 - val_mean_absolute_error: 0.0231\n",
      "Epoch 30/50\n",
      "49/50 [============================>.] - ETA: 0s - loss: 0.0189 - mean_absolute_error: 0.0189\n",
      "Epoch 00030: val_loss improved from 0.02299 to 0.02298, saving model to 23_checkpoint.keras\n",
      "50/50 [==============================] - 7s 145ms/step - loss: 0.0188 - mean_absolute_error: 0.0188 - val_loss: 0.0230 - val_mean_absolute_error: 0.0230\n",
      "Epoch 31/50\n",
      "49/50 [============================>.] - ETA: 0s - loss: 0.0187 - mean_absolute_error: 0.0187\n",
      "Epoch 00031: val_loss improved from 0.02298 to 0.02296, saving model to 23_checkpoint.keras\n",
      "50/50 [==============================] - 8s 163ms/step - loss: 0.0187 - mean_absolute_error: 0.0187 - val_loss: 0.0230 - val_mean_absolute_error: 0.0230\n",
      "Epoch 32/50\n",
      "49/50 [============================>.] - ETA: 0s - loss: 0.0185 - mean_absolute_error: 0.0185\n",
      "Epoch 00032: val_loss did not improve from 0.02296\n",
      "50/50 [==============================] - 6s 113ms/step - loss: 0.0185 - mean_absolute_error: 0.0185 - val_loss: 0.0230 - val_mean_absolute_error: 0.0230\n",
      "Epoch 33/50\n",
      "49/50 [============================>.] - ETA: 0s - loss: 0.0187 - mean_absolute_error: 0.0187\n",
      "Epoch 00033: val_loss did not improve from 0.02296\n",
      "50/50 [==============================] - 5s 102ms/step - loss: 0.0186 - mean_absolute_error: 0.0186 - val_loss: 0.0230 - val_mean_absolute_error: 0.0230\n",
      "Epoch 34/50\n",
      "49/50 [============================>.] - ETA: 0s - loss: 0.0189 - mean_absolute_error: 0.0189\n",
      "Epoch 00034: val_loss did not improve from 0.02296\n",
      "50/50 [==============================] - 6s 119ms/step - loss: 0.0189 - mean_absolute_error: 0.0189 - val_loss: 0.0230 - val_mean_absolute_error: 0.0230\n",
      "Epoch 35/50\n",
      "49/50 [============================>.] - ETA: 0s - loss: 0.0181 - mean_absolute_error: 0.0181\n",
      "Epoch 00035: val_loss improved from 0.02296 to 0.02280, saving model to 23_checkpoint.keras\n",
      "50/50 [==============================] - 6s 122ms/step - loss: 0.0181 - mean_absolute_error: 0.0181 - val_loss: 0.0228 - val_mean_absolute_error: 0.0228\n",
      "Epoch 36/50\n",
      "49/50 [============================>.] - ETA: 0s - loss: 0.0182 - mean_absolute_error: 0.0182\n",
      "Epoch 00036: val_loss did not improve from 0.02280\n",
      "50/50 [==============================] - 5s 105ms/step - loss: 0.0182 - mean_absolute_error: 0.0182 - val_loss: 0.0228 - val_mean_absolute_error: 0.0228\n",
      "Epoch 37/50\n",
      "49/50 [============================>.] - ETA: 0s - loss: 0.0180 - mean_absolute_error: 0.0180\n",
      "Epoch 00037: val_loss did not improve from 0.02280\n",
      "50/50 [==============================] - 5s 102ms/step - loss: 0.0180 - mean_absolute_error: 0.0180 - val_loss: 0.0229 - val_mean_absolute_error: 0.0229\n",
      "Epoch 38/50\n",
      "49/50 [============================>.] - ETA: 0s - loss: 0.0179 - mean_absolute_error: 0.0179\n",
      "Epoch 00038: val_loss improved from 0.02280 to 0.02270, saving model to 23_checkpoint.keras\n",
      "50/50 [==============================] - 6s 111ms/step - loss: 0.0178 - mean_absolute_error: 0.0178 - val_loss: 0.0227 - val_mean_absolute_error: 0.0227\n",
      "Epoch 39/50\n",
      "49/50 [============================>.] - ETA: 0s - loss: 0.0177 - mean_absolute_error: 0.0177\n",
      "Epoch 00039: val_loss did not improve from 0.02270\n",
      "50/50 [==============================] - 5s 107ms/step - loss: 0.0177 - mean_absolute_error: 0.0177 - val_loss: 0.0228 - val_mean_absolute_error: 0.0228\n",
      "Epoch 40/50\n",
      "49/50 [============================>.] - ETA: 0s - loss: 0.0179 - mean_absolute_error: 0.0179\n",
      "Epoch 00040: val_loss improved from 0.02270 to 0.02266, saving model to 23_checkpoint.keras\n",
      "50/50 [==============================] - 6s 122ms/step - loss: 0.0179 - mean_absolute_error: 0.0179 - val_loss: 0.0227 - val_mean_absolute_error: 0.0227\n",
      "Epoch 41/50\n",
      "49/50 [============================>.] - ETA: 0s - loss: 0.0179 - mean_absolute_error: 0.0179\n",
      "Epoch 00041: val_loss did not improve from 0.02266\n",
      "50/50 [==============================] - 5s 106ms/step - loss: 0.0179 - mean_absolute_error: 0.0179 - val_loss: 0.0227 - val_mean_absolute_error: 0.0227\n",
      "Epoch 42/50\n",
      "49/50 [============================>.] - ETA: 0s - loss: 0.0178 - mean_absolute_error: 0.0178\n",
      "Epoch 00042: val_loss did not improve from 0.02266\n",
      "50/50 [==============================] - 6s 116ms/step - loss: 0.0178 - mean_absolute_error: 0.0178 - val_loss: 0.0227 - val_mean_absolute_error: 0.0227\n",
      "Epoch 43/50\n",
      "49/50 [============================>.] - ETA: 0s - loss: 0.0174 - mean_absolute_error: 0.0174\n",
      "Epoch 00043: val_loss did not improve from 0.02266\n",
      "50/50 [==============================] - 5s 102ms/step - loss: 0.0174 - mean_absolute_error: 0.0174 - val_loss: 0.0227 - val_mean_absolute_error: 0.0227\n",
      "Epoch 44/50\n",
      "49/50 [============================>.] - ETA: 0s - loss: 0.0174 - mean_absolute_error: 0.0174\n",
      "Epoch 00044: val_loss did not improve from 0.02266\n",
      "50/50 [==============================] - 5s 104ms/step - loss: 0.0175 - mean_absolute_error: 0.0175 - val_loss: 0.0227 - val_mean_absolute_error: 0.0227\n",
      "Epoch 45/50\n",
      "49/50 [============================>.] - ETA: 0s - loss: 0.0175 - mean_absolute_error: 0.0175\n",
      "Epoch 00045: val_loss did not improve from 0.02266\n",
      "50/50 [==============================] - 5s 102ms/step - loss: 0.0176 - mean_absolute_error: 0.0176 - val_loss: 0.0228 - val_mean_absolute_error: 0.0228\n",
      "Epoch 00045: early stopping\n"
     ]
    },
    {
     "data": {
      "text/plain": [
       "<matplotlib.legend.Legend at 0x7f4377f90828>"
      ]
     },
     "execution_count": 526,
     "metadata": {},
     "output_type": "execute_result"
    },
    {
     "data": {
      "image/png": "[encoded data removed]",
      "text/plain": [
       "<Figure size 864x576 with 1 Axes>"
      ]
     },
     "metadata": {
      "needs_background": "light"
     },
     "output_type": "display_data"
    }
   ],
   "source": [
    "model.fit_generator(generator=generator,\n",
    "                    epochs=50,\n",
    "                    steps_per_epoch=50,\n",
    "                    validation_data=validation_data,\n",
    "                    callbacks=callbacks)\n",
    "try:\n",
    "    model.load_weights(path_checkpoint)\n",
    "except Exception as error:\n",
    "    print(\"Error trying to load checkpoint.\")\n",
    "    print(error)\n",
    "y_pred = model.predict(np.expand_dims(x_test, axis =0))\n",
    "# y_pred = model.predict([np.expand_dims(x_test[:,0:2], axis=0), np.expand_dims(x_test[:,2:], axis =0)])\n",
    "\n",
    "y_pred_rescaled = scy.inverse_transform(y_pred[0])\n",
    "y_test_rescaled = scy.inverse_transform(y_test)\n",
    "\n",
    "plt.figure(figsize=(12, 8))\n",
    "plt.ylabel('time to dest')\n",
    "# plt.plot(y_pred_rescaled, label = 'pred')\n",
    "# plt.plot(y_test_rescaled, label = 'true')\n",
    "plt.plot(y_pred_rescaled[3000:3400], label = 'pred')\n",
    "plt.plot(y_test_rescaled[3000:3400], label = 'true')\n",
    "plt.legend()"
   ]
  },
  {
   "cell_type": "code",
   "execution_count": 1153,
   "metadata": {},
   "outputs": [],
   "source": [
    "try:\n",
    "    model.load_weights(path_checkpoint)\n",
    "except Exception as error:\n",
    "    print(\"Error trying to load checkpoint.\")\n",
    "    print(error)"
   ]
  },
  {
   "cell_type": "code",
   "execution_count": 864,
   "metadata": {},
   "outputs": [
    {
     "name": "stdout",
     "output_type": "stream",
     "text": [
      "1/1 [==============================] - 1s 1s/sample - loss: 0.0316 - mean_absolute_error: 0.0316\n"
     ]
    }
   ],
   "source": [
    "result = model.evaluate(x=[np.expand_dims(x_test[:,0:2], axis=0).reshape(1,-1,2,1), np.expand_dims(x_test, axis =0)],\n",
    "                        y=np.expand_dims(y_test, axis=0))"
   ]
  },
  {
   "cell_type": "code",
   "execution_count": 295,
   "metadata": {},
   "outputs": [],
   "source": [
    "y_pred = model.predict(np.expand_dims(x_test, axis =0))"
   ]
  },
  {
   "cell_type": "code",
   "execution_count": 498,
   "metadata": {},
   "outputs": [],
   "source": [
    "y_pred = np.clip(y_pred,-1.0,1.0)"
   ]
  },
  {
   "cell_type": "code",
   "execution_count": 894,
   "metadata": {},
   "outputs": [],
   "source": [
    "y_pred = model.predict([np.expand_dims(x_test[:,0:2], axis=0).reshape(1,2,-1,1), np.expand_dims(x_test, axis =0)])"
   ]
  },
  {
   "cell_type": "code",
   "execution_count": 186,
   "metadata": {},
   "outputs": [],
   "source": [
    "y_pred = model.predict([np.expand_dims(x_test[:,0:2], axis=0), np.expand_dims(x_test, axis =0)])"
   ]
  },
  {
   "cell_type": "code",
   "execution_count": 499,
   "metadata": {},
   "outputs": [],
   "source": [
    "y_pred_rescaled = scy.inverse_transform(y_pred[0])\n",
    "y_test_rescaled = scy.inverse_transform(y_test)"
   ]
  },
  {
   "cell_type": "code",
   "execution_count": 500,
   "metadata": {},
   "outputs": [
    {
     "data": {
      "text/plain": [
       "array([], dtype=float32)"
      ]
     },
     "execution_count": 500,
     "metadata": {},
     "output_type": "execute_result"
    }
   ],
   "source": [
    "y_pred[0][y_pred[0] < -1]"
   ]
  },
  {
   "cell_type": "code",
   "execution_count": 173,
   "metadata": {},
   "outputs": [
    {
     "data": {
      "text/plain": [
       "array([[69.706436, 65.12302 , 64.97512 , 70.11187 ]], dtype=float32)"
      ]
     },
     "execution_count": 173,
     "metadata": {},
     "output_type": "execute_result"
    }
   ],
   "source": [
    "scy.inverse_transform(y_pred[0][y_pred[0] < -1].reshape(1,-1))"
   ]
  },
  {
   "cell_type": "code",
   "execution_count": 174,
   "metadata": {},
   "outputs": [
    {
     "data": {
      "text/plain": [
       "array([[933.8388 ],\n",
       "       [632.55444],\n",
       "       [624.53375],\n",
       "       ...,\n",
       "       [203.33325],\n",
       "       [212.18773],\n",
       "       [218.09326]], dtype=float32)"
      ]
     },
     "execution_count": 174,
     "metadata": {},
     "output_type": "execute_result"
    }
   ],
   "source": [
    "y_pred_rescaled "
   ]
  },
  {
   "cell_type": "code",
   "execution_count": 175,
   "metadata": {},
   "outputs": [
    {
     "data": {
      "text/plain": [
       "array([[615.],\n",
       "       [600.],\n",
       "       [585.],\n",
       "       ...,\n",
       "       [105.],\n",
       "       [ 90.],\n",
       "       [ 75.]])"
      ]
     },
     "execution_count": 175,
     "metadata": {},
     "output_type": "execute_result"
    }
   ],
   "source": [
    "y_test_rescaled "
   ]
  },
  {
   "cell_type": "code",
   "execution_count": 176,
   "metadata": {},
   "outputs": [
    {
     "data": {
      "text/plain": [
       "<matplotlib.collections.PathCollection at 0x7f875c69dac8>"
      ]
     },
     "execution_count": 176,
     "metadata": {},
     "output_type": "execute_result"
    },
    {
     "data": {
      "image/png": "[encoded data removed]",
      "text/plain": [
       "<Figure size 864x576 with 1 Axes>"
      ]
     },
     "metadata": {
      "needs_background": "light"
     },
     "output_type": "display_data"
    }
   ],
   "source": [
    "plt.figure(figsize=(12, 8))\n",
    "plt.scatter(y_test_rescaled[120:160] , y_pred_rescaled[120:160])\n"
   ]
  },
  {
   "cell_type": "code",
   "execution_count": 532,
   "metadata": {},
   "outputs": [
    {
     "data": {
      "text/plain": [
       "<matplotlib.legend.Legend at 0x7f436b748080>"
      ]
     },
     "execution_count": 532,
     "metadata": {},
     "output_type": "execute_result"
    },
    {
     "data": {
      "image/png": "[encoded data removed]",
      "text/plain": [
       "<Figure size 864x576 with 1 Axes>"
      ]
     },
     "metadata": {
      "needs_background": "light"
     },
     "output_type": "display_data"
    }
   ],
   "source": [
    "plt.figure(figsize=(12, 8))\n",
    "plt.ylabel('time to dest')\n",
    "# plt.plot(y_pred_rescaled, label = 'pred')\n",
    "# plt.plot(y_test_rescaled, label = 'true')\n",
    "plt.plot(y_pred_rescaled[2800:3500], label = 'pred')\n",
    "plt.plot(y_test_rescaled[2800:3500], label = 'true')\n",
    "plt.legend()"
   ]
  },
  {
   "cell_type": "code",
   "execution_count": 529,
   "metadata": {},
   "outputs": [
    {
     "data": {
      "text/plain": [
       "<matplotlib.legend.Legend at 0x7f437731f048>"
      ]
     },
     "execution_count": 529,
     "metadata": {},
     "output_type": "execute_result"
    },
    {
     "data": {
      "image/png": "[encoded data removed]",
      "text/plain": [
       "<Figure size 864x576 with 1 Axes>"
      ]
     },
     "metadata": {
      "needs_background": "light"
     },
     "output_type": "display_data"
    }
   ],
   "source": [
    "plt.figure(figsize=(12, 8))\n",
    "plt.ylabel('time to dest')\n",
    "plt.xlabel('idx')\n",
    "\n",
    "plt.plot(y_pred_rescaled[3000:3400], label = 'pred')\n",
    "plt.plot(y_test_rescaled[3000:3400], label = 'true')\n",
    "plt.grid(axis = 'y')\n",
    "plt.axhline(0, color='black',alpha = 0.5)\n",
    "plt.legend()"
   ]
  },
  {
   "cell_type": "code",
   "execution_count": 1093,
   "metadata": {},
   "outputs": [
    {
     "data": {
      "text/plain": [
       "array([   0,    1,    2, ..., 7997, 7998, 7999])"
      ]
     },
     "execution_count": 1093,
     "metadata": {},
     "output_type": "execute_result"
    }
   ],
   "source": [
    "x"
   ]
  },
  {
   "cell_type": "code",
   "execution_count": 226,
   "metadata": {},
   "outputs": [],
   "source": [
    "from sklearn.metrics import mean_absolute_error"
   ]
  },
  {
   "cell_type": "code",
   "execution_count": 507,
   "metadata": {},
   "outputs": [
    {
     "data": {
      "text/plain": [
       "279.3304414042378"
      ]
     },
     "execution_count": 507,
     "metadata": {},
     "output_type": "execute_result"
    }
   ],
   "source": [
    "mean_absolute_error(y_test_rescaled , y_pred_rescaled )"
   ]
  },
  {
   "cell_type": "code",
   "execution_count": 1090,
   "metadata": {},
   "outputs": [],
   "source": [
    "def tanh(z):\n",
    "    return (np.exp(z) - np.exp(-z)) / (np.exp(z) + np.exp(-z))"
   ]
  },
  {
   "cell_type": "code",
   "execution_count": 337,
   "metadata": {},
   "outputs": [],
   "source": [
    "def elu(z,alpha):\n",
    "    return z if z >= 0 else alpha*(np.exp(z) -1)"
   ]
  },
  {
   "cell_type": "code",
   "execution_count": 372,
   "metadata": {},
   "outputs": [
    {
     "data": {
      "image/png": "[encoded data removed]",
      "text/plain": [
       "<Figure size 432x288 with 1 Axes>"
      ]
     },
     "metadata": {
      "needs_background": "light"
     },
     "output_type": "display_data"
    }
   ],
   "source": [
    "x = np.arange(-2,2,0.1)\n",
    "y =[]\n",
    "for i in x:\n",
    "    y.append(elu(i,1.5))\n",
    "plt.axvline(0, color='black')\n",
    "plt.axhline(0, color='black')\n",
    "plt.axhline(-1, color='red')\n",
    "plt.axvline(-1, color='red')\n",
    "plt.plot(x, y)\n",
    "plt.xlabel('x')\n",
    "plt.ylabel('y')\n",
    "plt.grid()\n",
    "plt.title('ELU')\n",
    "plt.show()"
   ]
  },
  {
   "cell_type": "code",
   "execution_count": null,
   "metadata": {},
   "outputs": [],
   "source": []
  }
 ],
 "metadata": {
  "kernelspec": {
   "display_name": "Python 3",
   "language": "python",
   "name": "python3"
  },
  "language_info": {
   "codemirror_mode": {
    "name": "ipython",
    "version": 3
   },
   "file_extension": ".py",
   "mimetype": "text/x-python",
   "name": "python",
   "nbconvert_exporter": "python",
   "pygments_lexer": "ipython3",
   "version": "3.7.3"
  }
 },
 "nbformat": 4,
 "nbformat_minor": 4
}
