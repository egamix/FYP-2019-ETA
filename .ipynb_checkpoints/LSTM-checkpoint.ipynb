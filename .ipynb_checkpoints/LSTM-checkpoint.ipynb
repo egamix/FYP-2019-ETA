{
 "cells": [
  {
   "cell_type": "code",
   "execution_count": 1,
   "metadata": {},
   "outputs": [],
   "source": [
    "from __future__ import print_function\n",
    "\n",
    "from IPython import display\n",
    "\n",
    "import math\n",
    "import matplotlib\n",
    "import sklearn\n",
    "import pandas as pd\n",
    "import numpy as np\n",
    "from matplotlib import pyplot as plt\n",
    "from numpy import radians, cos, sin, arcsin, arccos, sqrt, pi, arctan2, degrees, arctan\n",
    "\n",
    "from tqdm import tqdm, tqdm_notebook\n",
    "tqdm.pandas()\n",
    "tqdm.pandas(tqdm_notebook)\n",
    "\n",
    "from joblib import dump, load\n",
    "\n",
    "from natsort import natsorted\n",
    "from sklearn.model_selection import train_test_split\n",
    "from sklearn.model_selection import RandomizedSearchCV, GridSearchCV, train_test_split\n",
    "from sklearn import metrics\n",
    "\n",
    "pd.options.display.max_rows = 10"
   ]
  },
  {
   "cell_type": "code",
   "execution_count": 2,
   "metadata": {},
   "outputs": [],
   "source": [
    "\n",
    "def haversine(lat1, lon1, lat2, lon2):\n",
    "    #ensure using numpy and not math, or pandas series cannot be passed\n",
    "    lat1, lon1, lat2, lon2 = map(radians, [lat1, lon1, lat2, lon2])\n",
    "    dlon = lon2 - lon1\n",
    "    dlat = lat2 - lat1\n",
    "    a = sin(dlat/2)**2 + cos(lat1) * cos(lat2) * sin(dlon/2)**2\n",
    "    c = 2 * arcsin(sqrt(a))\n",
    "    r = 6378.137 ##radius of earth km\n",
    "    return c * r\n",
    "\n",
    "def compute_dist(df):\n",
    "    next_df = df.shift(1)\n",
    "    dist = haversine(df.iloc[:,0], df.iloc[:,1],\n",
    "                    next_df.iloc[:,0], next_df.iloc[:,1])\n",
    "    return dist\n",
    "\n",
    "def compute_time(df):\n",
    "    next_df = df.shift(1)\n",
    "#     df[\"time\"] = pd.to_datetime(df[\"time_utc\"], format=\"%Y-%m-%d %H:%M:%S.%f\", errors='raise')\n",
    "    timedelt = df[\"time\"] - next_df[\"time\"]\n",
    "    return timedelt\n",
    "\n",
    "def compute_speed(df):\n",
    "    kinematics = df.copy()\n",
    "    kinematics[\"distance_travelled\"] = compute_dist(kinematics[[\"latitude\", \"longitude\"]].astype(float)).values\n",
    "    kinematics[\"time_elapsed\"] = compute_time(kinematics).values\n",
    "    kinematics[\"time_elapsed_seconds\"] = kinematics[\"time_elapsed\"]/np.timedelta64(1,'s')\n",
    "    kinematics[\"speed m/s\"] = (kinematics[\"distance_travelled\"]*1000)/kinematics[\"time_elapsed_seconds\"]\n",
    "    kinematics[\"speed kmh\"] = kinematics[\"speed m/s\"]*3.6\n",
    "    kinematics[\"bearing\"] = compute_bearing(kinematics[[\"latitude\", \"longitude\"]].astype(float))\n",
    "    kinematics['bearing_diff'] = compute_bearing_diff(kinematics)\n",
    "    kinematics[\"rate_of_turn\"] = kinematics[\"bearing_diff\"]/kinematics[\"time_elapsed_seconds\"]\n",
    "    kinematics[\"acceleration\"] = (speed_diff(kinematics[\"speed m/s\"])) /kinematics[\"time_elapsed_seconds\"]\n",
    "    kinematics.drop(columns = ['time_elapsed'], inplace = True)\n",
    "    kinematics.fillna(0, inplace = True)\n",
    "#     df[\"distance_travelled\"] = kinematics[\"distance_travelled\"].values\n",
    "#     df[\"speed kmh\"] = kinematics[\"speed kmh\"].values\n",
    "    return kinematics\n",
    "\n",
    "def compute_bearing(df):\n",
    "    next_df = df.shift(1)\n",
    "    bear = cal_bearing(df.iloc[:,0], df.iloc[:,1],\n",
    "                    next_df.iloc[:,0], next_df.iloc[:,1])\n",
    "    return bear\n",
    "\n",
    "def bearing_diff(bearing, prev_bearing):\n",
    "    \n",
    "    \"\"\"\n",
    "    Calculates the absolute difference between two angles\n",
    "    Parameters\n",
    "      bearing: bearing in degrees of the first angle\n",
    "      prev_bearing: bearing in degrees of the second angle\n",
    "    Returns the difference in degrees as a float\n",
    "    \"\"\"\n",
    "\n",
    "    # if bearing - prev_bearing <=180 then taking the absolute difference is correct\n",
    "    if bearing - prev_bearing <= 180:\n",
    "        bearing_diff = abs(bearing - prev_bearing)\n",
    "    # otherwise if bearing is larger than previous_bearing the total difference is the prev_bearing plus the difference\n",
    "    # between 360 and the bearing\n",
    "    elif bearing > prev_bearing:\n",
    "        bearing_diff = prev_bearing + (360 - bearing)\n",
    "    # otherwise if prev_bearing is larger than bearing the total difference is the bearing plus the difference \n",
    "    # between 360 and the prev_bearing\n",
    "    elif prev_bearing > bearing:\n",
    "        bearing_diff = bearing + (360 - prev_bearing)\n",
    "    # in all other cases take the absolute difference\n",
    "    else:\n",
    "        bearing_diff = abs(bearing - prev_bearing)\n",
    "\n",
    "    return bearing_diff\n",
    "\n",
    "def cal_bearing(lat1, lon1, lat2, lon2):\n",
    "    \"\"\"\n",
    "    Calculates the bearing between two points using the formula\n",
    "        θ = atan2(sin(Δlong).cos(lat2),\n",
    "                  cos(lat1).sin(lat2) − sin(lat1).cos(lat2).cos(Δlong))\n",
    "    \"\"\"\n",
    "    \n",
    "    lat1, lon1, lat2, lon2 = map(radians, [lat1, lon1, lat2, lon2])\n",
    "\n",
    "    dlon = lon2 - lon1\n",
    "\n",
    "    x = sin(dlon) * cos(lat2)\n",
    "    y1 = cos(lat1) * sin(lat2)\n",
    "    y2 = sin(lat1) * cos(lat2) * cos(dlon)\n",
    "    y = y1 - y2\n",
    "\n",
    "    initial_bearing = arctan2(x, y)\n",
    "\n",
    "    initial_bearing = degrees(initial_bearing)\n",
    "    compass_bearing = (initial_bearing + 360) % 360\n",
    "\n",
    "    return compass_bearing\n",
    "\n",
    "def compute_bearing_diff(df):\n",
    "    df1 = df.copy()\n",
    "    df1[\"prev_bearing\"] = df1[\"bearing\"].shift(1)\n",
    "    df1[\"bearing diff\"] = df1.apply(lambda row: bearing_diff(row['bearing'],row['prev_bearing']),axis=1)\n",
    "    return df1[\"bearing diff\"]\n",
    "\n",
    "def speed_diff(df):\n",
    "    next_df = df.shift(1)\n",
    "    diff = df - next_df\n",
    "    return diff\n",
    "\n",
    "def compute_speed(df):\n",
    "    kinematics = df.copy()\n",
    "    kinematics[\"distance_travelled\"] = compute_dist(kinematics[[\"latitude\", \"longitude\"]].astype(float)).values\n",
    "    kinematics[\"time_elapsed\"] = compute_time(kinematics).values\n",
    "    kinematics[\"time_elapsed_seconds\"] = kinematics[\"time_elapsed\"]/np.timedelta64(1,'s')\n",
    "    kinematics[\"speed m/s\"] = (kinematics[\"distance_travelled\"]*1000)/kinematics[\"time_elapsed_seconds\"]\n",
    "    kinematics[\"speed kmh\"] = kinematics[\"speed m/s\"]*3.6\n",
    "    kinematics[\"bearing\"] = compute_bearing(kinematics[[\"latitude\", \"longitude\"]].astype(float))\n",
    "    kinematics['bearing_diff'] = compute_bearing_diff(kinematics)\n",
    "    kinematics[\"rate_of_turn\"] = kinematics[\"bearing_diff\"]/kinematics[\"time_elapsed_seconds\"]\n",
    "    kinematics[\"acceleration\"] = (speed_diff(kinematics[\"speed m/s\"])) /kinematics[\"time_elapsed_seconds\"]\n",
    "    kinematics.drop(columns = ['time_elapsed'], inplace = True)\n",
    "    kinematics.fillna(0, inplace = True)\n",
    "#     df[\"distance_travelled\"] = kinematics[\"distance_travelled\"].values\n",
    "#     df[\"speed kmh\"] = kinematics[\"speed kmh\"].values\n",
    "    return kinematics"
   ]
  },
  {
   "cell_type": "code",
   "execution_count": 3,
   "metadata": {},
   "outputs": [],
   "source": [
    "df =  pd.read_csv('/mnt/hgfs/FYP/porto_cleaned_100000.csv', parse_dates = ['time'])"
   ]
  },
  {
   "cell_type": "code",
   "execution_count": 4,
   "metadata": {},
   "outputs": [],
   "source": [
    "grouper = df.groupby('ID')"
   ]
  },
  {
   "cell_type": "code",
   "execution_count": 5,
   "metadata": {},
   "outputs": [
    {
     "name": "stderr",
     "output_type": "stream",
     "text": [
      "100%|██████████| 427/427 [00:21<00:00, 20.08it/s]\n"
     ]
    }
   ],
   "source": [
    "a = []\n",
    "b = []\n",
    "c = []\n",
    "for name, val in tqdm(grouper):\n",
    "    idx_grper = val.groupby(val['Unnamed: 0'].diff().ne(1).cumsum())\n",
    "    for name2, taxi in idx_grper:\n",
    "        a.append(len(taxi))\n",
    "        b.append(name)\n",
    "        c.append(taxi)"
   ]
  },
  {
   "cell_type": "code",
   "execution_count": null,
   "metadata": {},
   "outputs": [],
   "source": [
    "val = df[df['ID'] == 20000496]"
   ]
  },
  {
   "cell_type": "code",
   "execution_count": null,
   "metadata": {},
   "outputs": [],
   "source": [
    "a = []\n",
    "b = []\n",
    "idx_grper = val.groupby(val['Unnamed: 0'].diff().ne(1).cumsum())\n",
    "for name, taxi in idx_grper:\n",
    "    a.append(taxi)\n",
    "    b.append(len(taxi))"
   ]
  },
  {
   "cell_type": "code",
   "execution_count": null,
   "metadata": {},
   "outputs": [],
   "source": [
    "c[13].plot('longitude', 'latitude', kind = 'scatter', figsize = (16,9))"
   ]
  },
  {
   "cell_type": "code",
   "execution_count": null,
   "metadata": {},
   "outputs": [],
   "source": [
    "df2 = c[13]"
   ]
  },
  {
   "cell_type": "code",
   "execution_count": null,
   "metadata": {},
   "outputs": [],
   "source": [
    "df2"
   ]
  },
  {
   "cell_type": "code",
   "execution_count": null,
   "metadata": {},
   "outputs": [],
   "source": [
    "df2 = compute_speed(c[13])"
   ]
  },
  {
   "cell_type": "code",
   "execution_count": null,
   "metadata": {},
   "outputs": [],
   "source": [
    "df2.plot('time', 'speed kmh')"
   ]
  },
  {
   "cell_type": "code",
   "execution_count": 6,
   "metadata": {},
   "outputs": [],
   "source": [
    "def time_to_dest(df):\n",
    "    end_time = df['time'].iloc[-1]\n",
    "    df['time_to_dest'] = (end_time - df['time']).dt.total_seconds().astype(int)\n",
    "def set_dropoff(df):\n",
    "    df['dropoff_latitude'] = df['latitude'].iloc[-1]\n",
    "    df['dropoff_longitude'] = df['longitude'].iloc[-1]\n"
   ]
  },
  {
   "cell_type": "code",
   "execution_count": null,
   "metadata": {},
   "outputs": [],
   "source": [
    "time_to_dest(df2)\n",
    "set_dropoff(df2)\n",
    "\n",
    "df2['dist_to_dest'] = haversine(df2['latitude'].values, df2['longitude'].values, df2['dropoff_latitude'].values, df2['dropoff_longitude'].values)"
   ]
  },
  {
   "cell_type": "code",
   "execution_count": null,
   "metadata": {},
   "outputs": [],
   "source": [
    "df2['pickup_weekday'] = df2['time'].dt.weekday\n",
    "df2['pickup_hour_weekofyear'] = df2['time'].dt.weekofyear\n",
    "df2['pickup_hour'] = df2['time'].dt.hour\n",
    "df2['pickup_minute'] = df2['time'].dt.minute\n",
    "df2['pickup_dt'] = (df2['time'] - df2['time'].min()).dt.total_seconds()\n",
    "df2['pickup_week_hour'] = df2['pickup_weekday'] * 24 + df2['pickup_hour']"
   ]
  },
  {
   "cell_type": "code",
   "execution_count": null,
   "metadata": {},
   "outputs": [],
   "source": [
    "df2"
   ]
  },
  {
   "cell_type": "code",
   "execution_count": null,
   "metadata": {},
   "outputs": [],
   "source": [
    "train_x = df2.drop(['Unnamed: 0', 'time', 'ID', 'time_elapsed_seconds', 'time_to_dest'] ,axis =1)\n",
    "train_y = df2[['time_to_dest']]"
   ]
  },
  {
   "cell_type": "code",
   "execution_count": null,
   "metadata": {},
   "outputs": [],
   "source": [
    "train_x.columns"
   ]
  },
  {
   "cell_type": "code",
   "execution_count": null,
   "metadata": {},
   "outputs": [],
   "source": [
    "mu, sigma = 0, 5\n",
    "noise = np.random.normal(mu, sigma, [60,1]) \n"
   ]
  },
  {
   "cell_type": "code",
   "execution_count": null,
   "metadata": {},
   "outputs": [],
   "source": [
    "train_y = train_y + noise"
   ]
  },
  {
   "cell_type": "code",
   "execution_count": null,
   "metadata": {},
   "outputs": [],
   "source": [
    "x_data = train_x.values\n",
    "x_data = np.array(x_data)\n",
    "# x_data = x_data.reshape(19828,5,1)\n",
    "x_data.shape"
   ]
  },
  {
   "cell_type": "code",
   "execution_count": null,
   "metadata": {},
   "outputs": [],
   "source": [
    "y_data = train_y.values\n",
    "y_data.shape"
   ]
  },
  {
   "cell_type": "code",
   "execution_count": 7,
   "metadata": {},
   "outputs": [],
   "source": [
    "import tensorflow as tf\n",
    "from tensorflow.python.keras.models import Sequential\n",
    "from tensorflow.python.keras.layers import Input, Dense, GRU, Embedding\n",
    "from tensorflow.python.keras.layers.recurrent import LSTM,RNN\n",
    "from tensorflow.python.keras.layers.core import Dense, Activation, Dropout\n",
    "from tensorflow.python.keras.callbacks import EarlyStopping, ModelCheckpoint, TensorBoard, ReduceLROnPlateau\n",
    "\n",
    "from sklearn.preprocessing import MinMaxScaler\n",
    "from sklearn.metrics import mean_squared_error\n",
    "from sklearn.utils import shuffle\n",
    "from sklearn.model_selection import train_test_split"
   ]
  },
  {
   "cell_type": "code",
   "execution_count": 84,
   "metadata": {},
   "outputs": [
    {
     "data": {
      "text/plain": [
       "array([41.153598, -8.650521])"
      ]
     },
     "execution_count": 84,
     "metadata": {},
     "output_type": "execute_result"
    }
   ],
   "source": [
    "y_test_rescaled"
   ]
  },
  {
   "cell_type": "code",
   "execution_count": 404,
   "metadata": {},
   "outputs": [],
   "source": [
    "x_train = x_data[0:50]\n",
    "y_train = y_data[0:50]\n",
    "x_test = x_data[50:]\n",
    "y_test = y_data[50:]"
   ]
  },
  {
   "cell_type": "code",
   "execution_count": 405,
   "metadata": {},
   "outputs": [],
   "source": [
    "x_train, x_test, y_train, y_test = train_test_split(x_data, y_data, test_size=0.2, random_state=42)"
   ]
  },
  {
   "cell_type": "code",
   "execution_count": null,
   "metadata": {},
   "outputs": [],
   "source": [
    "# sc = MinMaxScaler(feature_range=(-1,1))\n",
    "scy = MinMaxScaler(feature_range=(-1,1))\n",
    "sc = sklearn.preprocessing.StandardScaler()\n",
    "# new_df= x_data[].reshape(x_data.shape[0],5)\n",
    "\n",
    "x_train = sc.fit_transform(x_train)\n",
    "x_train = x_train.reshape(50,18,1)\n",
    "x_test = sc.transform(x_test).reshape(10,18,1)\n",
    "\n",
    "\n",
    "y_train = scy.fit_transform(y_train)\n",
    "y_test = scy.transform(y_test)\n",
    "\n",
    "# new_y_data = y_data\n",
    "# new_y_data = scy.fit_transform(y_)"
   ]
  },
  {
   "cell_type": "code",
   "execution_count": null,
   "metadata": {},
   "outputs": [],
   "source": [
    "print(x_train.shape)\n",
    "print(y_train.shape)\n",
    "print(x_test.shape)\n",
    "print(y_test.shape)"
   ]
  },
  {
   "cell_type": "code",
   "execution_count": null,
   "metadata": {},
   "outputs": [],
   "source": [
    "# from keras import backend as K\n",
    "# import tensorflow as tf\n",
    "def rmsle_K(y, y0):\n",
    "    return K.sqrt(K.mean(K.square(tf.log1p(y) - tf.log1p(y0))))\n",
    "def rmsletf(y_pred, y_true): \n",
    "    y_pred= tf.cast(y_pred, tf.float64) \n",
    "    y_true= tf.cast(y_true, tf.float64) \n",
    "    y_pred=tf.nn.relu(y_pred) \n",
    "    return np.abs(tf.sqrt(tf.reduce_mean(tf.squared_difference(tf.log1p(y_pred), tf.log1p(y_true)))))"
   ]
  },
  {
   "cell_type": "code",
   "execution_count": null,
   "metadata": {},
   "outputs": [],
   "source": [
    "model = Sequential()\n",
    "\n",
    "# first layer\n",
    "model.add(LSTM(units=100, batch_input_shape=(None,18,1),return_sequences=True))\n",
    "model.add(Dropout(0.2))\n",
    "\n",
    "# second layer\n",
    "# model.add(Dense(128, 1))\n",
    "model.add(LSTM(units=100,return_sequences=True))\n",
    "model.add(Dropout(0.2))\n",
    "\n",
    "# third layer\n",
    "model.add(LSTM(units=50,return_sequences=False))\n",
    "model.add(Dropout(0.2))\n",
    "\n",
    "# fourth dense layer\n",
    "model.add(Dense(units=1))\n",
    "\n",
    "\n",
    "model.compile(loss='mean_absolute_error',optimizer='adam',metrics=[rmsletf])\n",
    "model.summary()\n",
    "          "
   ]
  },
  {
   "cell_type": "code",
   "execution_count": null,
   "metadata": {},
   "outputs": [],
   "source": [
    "model.fit(x_train,y_train,epochs=50,validation_data=(x_test,y_test))"
   ]
  },
  {
   "cell_type": "code",
   "execution_count": null,
   "metadata": {},
   "outputs": [],
   "source": [
    "result = model.predict(x_test)\n",
    "result"
   ]
  },
  {
   "cell_type": "code",
   "execution_count": null,
   "metadata": {},
   "outputs": [],
   "source": [
    "res_df = scy.inverse_transform(result)"
   ]
  },
  {
   "cell_type": "code",
   "execution_count": null,
   "metadata": {},
   "outputs": [],
   "source": [
    "y_test_actual=scy.inverse_transform(y_test)"
   ]
  },
  {
   "cell_type": "code",
   "execution_count": null,
   "metadata": {},
   "outputs": [],
   "source": [
    "plt.figure(figsize=(12,5))\n",
    "plt.plot(res_df, label = 'pred')\n",
    "plt.plot(y_test_actual, label = 'true')\n",
    "plt.ylabel('time to dest')\n",
    "plt.legend()"
   ]
  },
  {
   "cell_type": "code",
   "execution_count": null,
   "metadata": {},
   "outputs": [],
   "source": [
    "res_df"
   ]
  },
  {
   "cell_type": "code",
   "execution_count": null,
   "metadata": {},
   "outputs": [],
   "source": [
    "y_test_actual"
   ]
  },
  {
   "cell_type": "code",
   "execution_count": null,
   "metadata": {},
   "outputs": [],
   "source": [
    "metrics.mean_absolute_error(res_df, y_test_actual)"
   ]
  },
  {
   "cell_type": "code",
   "execution_count": 14,
   "metadata": {},
   "outputs": [],
   "source": [
    "for i, d in enumerate(c):\n",
    "    if len(d) < 40:\n",
    "        c.pop(i)"
   ]
  },
  {
   "cell_type": "code",
   "execution_count": null,
   "metadata": {},
   "outputs": [],
   "source": [
    "counter = 0\n",
    "for i in c:\n",
    "    i.plot('longitude', 'latitude', kind = 'scatter', figsize = (16,9))\n",
    "    counter += 1\n",
    "    if counter > 5:\n",
    "        break"
   ]
  },
  {
   "cell_type": "code",
   "execution_count": 15,
   "metadata": {
    "scrolled": true
   },
   "outputs": [
    {
     "name": "stderr",
     "output_type": "stream",
     "text": [
      "999it [01:00, 28.39it/s]"
     ]
    }
   ],
   "source": [
    "d = []\n",
    "for i, df in tqdm(enumerate(c)):\n",
    "    df2 = compute_speed(c[i])\n",
    "    time_to_dest(df2)\n",
    "    set_dropoff(df2)\n",
    "    df2['dist_to_dest'] = haversine(df2['latitude'].values, df2['longitude'].values, df2['dropoff_latitude'].values, df2['dropoff_longitude'].values)\n",
    "    df2['pickup_weekday'] = df2['time'].dt.weekday\n",
    "    df2['pickup_hour_weekofyear'] = df2['time'].dt.weekofyear\n",
    "    df2['pickup_hour'] = df2['time'].dt.hour\n",
    "    df2['pickup_minute'] = df2['time'].dt.minute\n",
    "    df2['pickup_dt'] = (df2['time'] - df2['time'].min()).dt.total_seconds()\n",
    "    df2['pickup_week_hour'] = df2['pickup_weekday'] * 24 + df2['pickup_hour']\n",
    "    df2[['next_lat', 'next_lon']] = df2[['latitude', 'longitude']].shift(-5)\n",
    "    d.append(df2)\n",
    "    if i > 1000:\n",
    "        break"
   ]
  },
  {
   "cell_type": "code",
   "execution_count": 46,
   "metadata": {},
   "outputs": [],
   "source": [
    "for i in d:\n",
    "    i.dropna(inplace = True)"
   ]
  },
  {
   "cell_type": "code",
   "execution_count": 16,
   "metadata": {},
   "outputs": [],
   "source": [
    "x_data = []\n",
    "for i in d:\n",
    "    x_data.append(i.drop(['Unnamed: 0', 'time', 'ID', 'time_elapsed_seconds', 'time_to_dest', 'next_lat', 'next_lon'] ,axis =1))\n",
    "y_data = []\n",
    "for i in d:\n",
    "    y_data.append(i[['time_to_dest']])\n",
    "#     y_data.append(i[['next_lat', 'next_lon']])"
   ]
  },
  {
   "cell_type": "code",
   "execution_count": 98,
   "metadata": {},
   "outputs": [
    {
     "data": {
      "text/html": [
       "<div>\n",
       "<style scoped>\n",
       "    .dataframe tbody tr th:only-of-type {\n",
       "        vertical-align: middle;\n",
       "    }\n",
       "\n",
       "    .dataframe tbody tr th {\n",
       "        vertical-align: top;\n",
       "    }\n",
       "\n",
       "    .dataframe thead th {\n",
       "        text-align: right;\n",
       "    }\n",
       "</style>\n",
       "<table border=\"1\" class=\"dataframe\">\n",
       "  <thead>\n",
       "    <tr style=\"text-align: right;\">\n",
       "      <th></th>\n",
       "      <th>longitude</th>\n",
       "      <th>latitude</th>\n",
       "      <th>distance_travelled</th>\n",
       "      <th>speed m/s</th>\n",
       "      <th>speed kmh</th>\n",
       "      <th>bearing</th>\n",
       "      <th>bearing_diff</th>\n",
       "      <th>rate_of_turn</th>\n",
       "      <th>acceleration</th>\n",
       "      <th>dropoff_latitude</th>\n",
       "      <th>dropoff_longitude</th>\n",
       "      <th>dist_to_dest</th>\n",
       "      <th>pickup_weekday</th>\n",
       "      <th>pickup_hour_weekofyear</th>\n",
       "      <th>pickup_hour</th>\n",
       "      <th>pickup_minute</th>\n",
       "      <th>pickup_dt</th>\n",
       "      <th>pickup_week_hour</th>\n",
       "    </tr>\n",
       "  </thead>\n",
       "  <tbody>\n",
       "    <tr>\n",
       "      <th>84793</th>\n",
       "      <td>-8.572221</td>\n",
       "      <td>41.163489</td>\n",
       "      <td>0.000000</td>\n",
       "      <td>0.000000</td>\n",
       "      <td>0.000000</td>\n",
       "      <td>0.000000</td>\n",
       "      <td>0.000000</td>\n",
       "      <td>0.000000</td>\n",
       "      <td>0.000000</td>\n",
       "      <td>41.147379</td>\n",
       "      <td>-8.620299</td>\n",
       "      <td>4.410719</td>\n",
       "      <td>0</td>\n",
       "      <td>27</td>\n",
       "      <td>12</td>\n",
       "      <td>17</td>\n",
       "      <td>0.0</td>\n",
       "      <td>12</td>\n",
       "    </tr>\n",
       "    <tr>\n",
       "      <th>84794</th>\n",
       "      <td>-8.572203</td>\n",
       "      <td>41.163489</td>\n",
       "      <td>0.001508</td>\n",
       "      <td>0.050283</td>\n",
       "      <td>0.181019</td>\n",
       "      <td>270.000006</td>\n",
       "      <td>0.000000</td>\n",
       "      <td>0.000000</td>\n",
       "      <td>0.000000</td>\n",
       "      <td>41.147379</td>\n",
       "      <td>-8.620299</td>\n",
       "      <td>4.412098</td>\n",
       "      <td>0</td>\n",
       "      <td>27</td>\n",
       "      <td>12</td>\n",
       "      <td>17</td>\n",
       "      <td>30.0</td>\n",
       "      <td>12</td>\n",
       "    </tr>\n",
       "    <tr>\n",
       "      <th>84795</th>\n",
       "      <td>-8.572203</td>\n",
       "      <td>41.163498</td>\n",
       "      <td>0.001002</td>\n",
       "      <td>0.066792</td>\n",
       "      <td>0.240450</td>\n",
       "      <td>180.000000</td>\n",
       "      <td>90.000006</td>\n",
       "      <td>6.000000</td>\n",
       "      <td>0.001101</td>\n",
       "      <td>41.147379</td>\n",
       "      <td>-8.620299</td>\n",
       "      <td>4.412505</td>\n",
       "      <td>0</td>\n",
       "      <td>27</td>\n",
       "      <td>12</td>\n",
       "      <td>17</td>\n",
       "      <td>45.0</td>\n",
       "      <td>12</td>\n",
       "    </tr>\n",
       "    <tr>\n",
       "      <th>84796</th>\n",
       "      <td>-8.572338</td>\n",
       "      <td>41.163426</td>\n",
       "      <td>0.013865</td>\n",
       "      <td>0.924338</td>\n",
       "      <td>3.327616</td>\n",
       "      <td>54.684924</td>\n",
       "      <td>125.315076</td>\n",
       "      <td>8.354338</td>\n",
       "      <td>0.057170</td>\n",
       "      <td>41.147379</td>\n",
       "      <td>-8.620299</td>\n",
       "      <td>4.398911</td>\n",
       "      <td>0</td>\n",
       "      <td>27</td>\n",
       "      <td>12</td>\n",
       "      <td>18</td>\n",
       "      <td>60.0</td>\n",
       "      <td>12</td>\n",
       "    </tr>\n",
       "    <tr>\n",
       "      <th>84797</th>\n",
       "      <td>-8.573355</td>\n",
       "      <td>41.162940</td>\n",
       "      <td>0.100951</td>\n",
       "      <td>6.730079</td>\n",
       "      <td>24.228284</td>\n",
       "      <td>57.593666</td>\n",
       "      <td>2.908742</td>\n",
       "      <td>0.193916</td>\n",
       "      <td>0.387049</td>\n",
       "      <td>41.147379</td>\n",
       "      <td>-8.620299</td>\n",
       "      <td>4.299084</td>\n",
       "      <td>0</td>\n",
       "      <td>27</td>\n",
       "      <td>12</td>\n",
       "      <td>18</td>\n",
       "      <td>75.0</td>\n",
       "      <td>12</td>\n",
       "    </tr>\n",
       "    <tr>\n",
       "      <th>...</th>\n",
       "      <td>...</td>\n",
       "      <td>...</td>\n",
       "      <td>...</td>\n",
       "      <td>...</td>\n",
       "      <td>...</td>\n",
       "      <td>...</td>\n",
       "      <td>...</td>\n",
       "      <td>...</td>\n",
       "      <td>...</td>\n",
       "      <td>...</td>\n",
       "      <td>...</td>\n",
       "      <td>...</td>\n",
       "      <td>...</td>\n",
       "      <td>...</td>\n",
       "      <td>...</td>\n",
       "      <td>...</td>\n",
       "      <td>...</td>\n",
       "      <td>...</td>\n",
       "    </tr>\n",
       "    <tr>\n",
       "      <th>84838</th>\n",
       "      <td>-8.619714</td>\n",
       "      <td>41.147919</td>\n",
       "      <td>0.805694</td>\n",
       "      <td>26.856478</td>\n",
       "      <td>96.683322</td>\n",
       "      <td>92.419958</td>\n",
       "      <td>14.347688</td>\n",
       "      <td>0.478256</td>\n",
       "      <td>0.686852</td>\n",
       "      <td>41.147379</td>\n",
       "      <td>-8.620299</td>\n",
       "      <td>0.077577</td>\n",
       "      <td>0</td>\n",
       "      <td>27</td>\n",
       "      <td>12</td>\n",
       "      <td>28</td>\n",
       "      <td>705.0</td>\n",
       "      <td>12</td>\n",
       "    </tr>\n",
       "    <tr>\n",
       "      <th>84839</th>\n",
       "      <td>-8.620344</td>\n",
       "      <td>41.147415</td>\n",
       "      <td>0.077050</td>\n",
       "      <td>5.136652</td>\n",
       "      <td>18.491948</td>\n",
       "      <td>43.266938</td>\n",
       "      <td>49.153019</td>\n",
       "      <td>3.276868</td>\n",
       "      <td>-1.447988</td>\n",
       "      <td>41.147379</td>\n",
       "      <td>-8.620299</td>\n",
       "      <td>0.005504</td>\n",
       "      <td>0</td>\n",
       "      <td>27</td>\n",
       "      <td>12</td>\n",
       "      <td>29</td>\n",
       "      <td>720.0</td>\n",
       "      <td>12</td>\n",
       "    </tr>\n",
       "    <tr>\n",
       "      <th>84840</th>\n",
       "      <td>-8.620335</td>\n",
       "      <td>41.147397</td>\n",
       "      <td>0.002141</td>\n",
       "      <td>0.142738</td>\n",
       "      <td>0.513857</td>\n",
       "      <td>339.368165</td>\n",
       "      <td>63.898774</td>\n",
       "      <td>4.259918</td>\n",
       "      <td>-0.332928</td>\n",
       "      <td>41.147379</td>\n",
       "      <td>-8.620299</td>\n",
       "      <td>0.003622</td>\n",
       "      <td>0</td>\n",
       "      <td>27</td>\n",
       "      <td>12</td>\n",
       "      <td>29</td>\n",
       "      <td>735.0</td>\n",
       "      <td>12</td>\n",
       "    </tr>\n",
       "    <tr>\n",
       "      <th>84841</th>\n",
       "      <td>-8.620308</td>\n",
       "      <td>41.147388</td>\n",
       "      <td>0.002475</td>\n",
       "      <td>0.165009</td>\n",
       "      <td>0.594031</td>\n",
       "      <td>293.877178</td>\n",
       "      <td>45.490987</td>\n",
       "      <td>3.032732</td>\n",
       "      <td>0.001485</td>\n",
       "      <td>41.147379</td>\n",
       "      <td>-8.620299</td>\n",
       "      <td>0.001254</td>\n",
       "      <td>0</td>\n",
       "      <td>27</td>\n",
       "      <td>12</td>\n",
       "      <td>29</td>\n",
       "      <td>750.0</td>\n",
       "      <td>12</td>\n",
       "    </tr>\n",
       "    <tr>\n",
       "      <th>84842</th>\n",
       "      <td>-8.620299</td>\n",
       "      <td>41.147379</td>\n",
       "      <td>0.001254</td>\n",
       "      <td>0.083611</td>\n",
       "      <td>0.300999</td>\n",
       "      <td>323.019543</td>\n",
       "      <td>29.142366</td>\n",
       "      <td>1.942824</td>\n",
       "      <td>-0.005427</td>\n",
       "      <td>41.147379</td>\n",
       "      <td>-8.620299</td>\n",
       "      <td>0.000000</td>\n",
       "      <td>0</td>\n",
       "      <td>27</td>\n",
       "      <td>12</td>\n",
       "      <td>29</td>\n",
       "      <td>765.0</td>\n",
       "      <td>12</td>\n",
       "    </tr>\n",
       "  </tbody>\n",
       "</table>\n",
       "<p>50 rows × 18 columns</p>\n",
       "</div>"
      ],
      "text/plain": [
       "       longitude   latitude  distance_travelled  speed m/s  speed kmh  \\\n",
       "84793  -8.572221  41.163489            0.000000   0.000000   0.000000   \n",
       "84794  -8.572203  41.163489            0.001508   0.050283   0.181019   \n",
       "84795  -8.572203  41.163498            0.001002   0.066792   0.240450   \n",
       "84796  -8.572338  41.163426            0.013865   0.924338   3.327616   \n",
       "84797  -8.573355  41.162940            0.100951   6.730079  24.228284   \n",
       "...          ...        ...                 ...        ...        ...   \n",
       "84838  -8.619714  41.147919            0.805694  26.856478  96.683322   \n",
       "84839  -8.620344  41.147415            0.077050   5.136652  18.491948   \n",
       "84840  -8.620335  41.147397            0.002141   0.142738   0.513857   \n",
       "84841  -8.620308  41.147388            0.002475   0.165009   0.594031   \n",
       "84842  -8.620299  41.147379            0.001254   0.083611   0.300999   \n",
       "\n",
       "          bearing  bearing_diff  rate_of_turn  acceleration  dropoff_latitude  \\\n",
       "84793    0.000000      0.000000      0.000000      0.000000         41.147379   \n",
       "84794  270.000006      0.000000      0.000000      0.000000         41.147379   \n",
       "84795  180.000000     90.000006      6.000000      0.001101         41.147379   \n",
       "84796   54.684924    125.315076      8.354338      0.057170         41.147379   \n",
       "84797   57.593666      2.908742      0.193916      0.387049         41.147379   \n",
       "...           ...           ...           ...           ...               ...   \n",
       "84838   92.419958     14.347688      0.478256      0.686852         41.147379   \n",
       "84839   43.266938     49.153019      3.276868     -1.447988         41.147379   \n",
       "84840  339.368165     63.898774      4.259918     -0.332928         41.147379   \n",
       "84841  293.877178     45.490987      3.032732      0.001485         41.147379   \n",
       "84842  323.019543     29.142366      1.942824     -0.005427         41.147379   \n",
       "\n",
       "       dropoff_longitude  dist_to_dest  pickup_weekday  \\\n",
       "84793          -8.620299      4.410719               0   \n",
       "84794          -8.620299      4.412098               0   \n",
       "84795          -8.620299      4.412505               0   \n",
       "84796          -8.620299      4.398911               0   \n",
       "84797          -8.620299      4.299084               0   \n",
       "...                  ...           ...             ...   \n",
       "84838          -8.620299      0.077577               0   \n",
       "84839          -8.620299      0.005504               0   \n",
       "84840          -8.620299      0.003622               0   \n",
       "84841          -8.620299      0.001254               0   \n",
       "84842          -8.620299      0.000000               0   \n",
       "\n",
       "       pickup_hour_weekofyear  pickup_hour  pickup_minute  pickup_dt  \\\n",
       "84793                      27           12             17        0.0   \n",
       "84794                      27           12             17       30.0   \n",
       "84795                      27           12             17       45.0   \n",
       "84796                      27           12             18       60.0   \n",
       "84797                      27           12             18       75.0   \n",
       "...                       ...          ...            ...        ...   \n",
       "84838                      27           12             28      705.0   \n",
       "84839                      27           12             29      720.0   \n",
       "84840                      27           12             29      735.0   \n",
       "84841                      27           12             29      750.0   \n",
       "84842                      27           12             29      765.0   \n",
       "\n",
       "       pickup_week_hour  \n",
       "84793                12  \n",
       "84794                12  \n",
       "84795                12  \n",
       "84796                12  \n",
       "84797                12  \n",
       "...                 ...  \n",
       "84838                12  \n",
       "84839                12  \n",
       "84840                12  \n",
       "84841                12  \n",
       "84842                12  \n",
       "\n",
       "[50 rows x 18 columns]"
      ]
     },
     "execution_count": 98,
     "metadata": {},
     "output_type": "execute_result"
    }
   ],
   "source": [
    "x_data[1]"
   ]
  },
  {
   "cell_type": "code",
   "execution_count": 18,
   "metadata": {},
   "outputs": [],
   "source": [
    "x_train = x_data[0:900]\n",
    "x_test = x_data[900:]\n",
    "y_train = y_data[0:900]\n",
    "y_test = y_data[900:]"
   ]
  },
  {
   "cell_type": "code",
   "execution_count": 19,
   "metadata": {},
   "outputs": [
    {
     "data": {
      "text/plain": [
       "MinMaxScaler(copy=True, feature_range=(-1, 1))"
      ]
     },
     "execution_count": 19,
     "metadata": {},
     "output_type": "execute_result"
    }
   ],
   "source": [
    "# sc = MinMaxScaler(feature_range=(-1,1))\n",
    "scy = MinMaxScaler(feature_range=(-1,1))\n",
    "sc = sklearn.preprocessing.StandardScaler()\n",
    "# new_df= x_data[].reshape(x_data.shape[0],5)\n",
    "\n",
    "sc.fit(pd.concat(x_train).values)\n",
    "scy.fit(pd.concat(y_train).values)\n"
   ]
  },
  {
   "cell_type": "code",
   "execution_count": 20,
   "metadata": {},
   "outputs": [],
   "source": [
    "for i, data in enumerate(x_train):\n",
    "    x_train[i] = sc.transform(data)\n",
    "    \n",
    "for i, data in enumerate(y_train):\n",
    "    y_train[i] = scy.transform(data)"
   ]
  },
  {
   "cell_type": "code",
   "execution_count": 21,
   "metadata": {},
   "outputs": [],
   "source": [
    "x_test = sc.transform(pd.concat(x_test).values)\n",
    "y_test = scy.transform(pd.concat(y_test).values)"
   ]
  },
  {
   "cell_type": "code",
   "execution_count": 124,
   "metadata": {},
   "outputs": [],
   "source": [
    "def batch_generator(batch_size, sequence_length):\n",
    "    \"\"\"\n",
    "    Generator function for creating random batches of training-data.\n",
    "    \"\"\"\n",
    "    # Infinite loop.\n",
    "    while True:\n",
    "        # Allocate a new array for the batch of input-signals.\n",
    "        x_shape = (batch_size, sequence_length, 18)\n",
    "        x_batch = np.zeros(shape=x_shape, dtype=np.float16)\n",
    "\n",
    "        # Allocate a new array for the batch of output-signals.\n",
    "        y_shape = (batch_size, sequence_length, 1)\n",
    "        y_batch = np.zeros(shape=y_shape, dtype=np.float16)\n",
    "\n",
    "        # Fill the batch with random sequences of data.\n",
    "        for i in range(batch_size):\n",
    "            j = np.random.randint(len(x_train))\n",
    "            # Get a random start-index.\n",
    "            # This points somewhere into the training-data.\n",
    "#             idx = np.random.randint(len(x_train[j]) - sequence_length)\n",
    "            \n",
    "            # Copy the sequences of data starting at this index.\n",
    "            x_batch[i] = x_train[j][idx:idx+sequence_length]\n",
    "            y_batch[i] = y_train[j][idx:idx+sequence_length]\n",
    "#             x_batch[i] = x_train[j][0:sequence_length]\n",
    "#             y_batch[i] = y_train[j][0:sequence_length]\n",
    "        \n",
    "        \n",
    "        yield (x_batch, y_batch)"
   ]
  },
  {
   "cell_type": "code",
   "execution_count": 125,
   "metadata": {},
   "outputs": [],
   "source": [
    "batch_size = 256\n",
    "sequence_length = 30"
   ]
  },
  {
   "cell_type": "code",
   "execution_count": 126,
   "metadata": {},
   "outputs": [],
   "source": [
    "generator = batch_generator(batch_size=batch_size, sequence_length=sequence_length)\n",
    "x_batch, y_batch = next(generator)"
   ]
  },
  {
   "cell_type": "code",
   "execution_count": 127,
   "metadata": {},
   "outputs": [
    {
     "name": "stdout",
     "output_type": "stream",
     "text": [
      "(256, 30, 18)\n",
      "(256, 30, 1)\n"
     ]
    }
   ],
   "source": [
    "print(x_batch.shape)\n",
    "print(y_batch.shape)"
   ]
  },
  {
   "cell_type": "code",
   "execution_count": null,
   "metadata": {},
   "outputs": [],
   "source": [
    "y_batch"
   ]
  },
  {
   "cell_type": "code",
   "execution_count": 115,
   "metadata": {},
   "outputs": [],
   "source": [
    "import random\n",
    "\n",
    "# c = list(zip(x_test, y_test))\n",
    "\n",
    "# random.shuffle(c)\n",
    "\n",
    "# x_test, y_test = zip(*c)\n"
   ]
  },
  {
   "cell_type": "code",
   "execution_count": 128,
   "metadata": {},
   "outputs": [],
   "source": [
    "validation_data = (np.expand_dims(x_test, axis=0),\n",
    "                   np.expand_dims(y_test, axis=0))"
   ]
  },
  {
   "cell_type": "code",
   "execution_count": 129,
   "metadata": {},
   "outputs": [
    {
     "data": {
      "text/plain": [
       "(1, 6341, 1)"
      ]
     },
     "execution_count": 129,
     "metadata": {},
     "output_type": "execute_result"
    }
   ],
   "source": [
    "validation_data[1].shape"
   ]
  },
  {
   "cell_type": "code",
   "execution_count": 130,
   "metadata": {},
   "outputs": [
    {
     "data": {
      "text/plain": [
       "array([[[-0.88993289],\n",
       "        [-0.89261745],\n",
       "        [-0.89530201],\n",
       "        ...,\n",
       "        [-0.99463087],\n",
       "        [-0.99731544],\n",
       "        [-1.        ]]])"
      ]
     },
     "execution_count": 130,
     "metadata": {},
     "output_type": "execute_result"
    }
   ],
   "source": [
    "validation_data[1]"
   ]
  },
  {
   "cell_type": "code",
   "execution_count": 131,
   "metadata": {},
   "outputs": [
    {
     "name": "stdout",
     "output_type": "stream",
     "text": [
      "Model: \"sequential_10\"\n",
      "_________________________________________________________________\n",
      "Layer (type)                 Output Shape              Param #   \n",
      "=================================================================\n",
      "lstm_25 (LSTM)               (None, None, 100)         47600     \n",
      "_________________________________________________________________\n",
      "dropout_27 (Dropout)         (None, None, 100)         0         \n",
      "_________________________________________________________________\n",
      "lstm_26 (LSTM)               (None, None, 100)         80400     \n",
      "_________________________________________________________________\n",
      "dropout_28 (Dropout)         (None, None, 100)         0         \n",
      "_________________________________________________________________\n",
      "dense_10 (Dense)             (None, None, 1)           101       \n",
      "=================================================================\n",
      "Total params: 128,101\n",
      "Trainable params: 128,101\n",
      "Non-trainable params: 0\n",
      "_________________________________________________________________\n"
     ]
    }
   ],
   "source": [
    "model = Sequential()\n",
    "\n",
    "# first layer\n",
    "model.add(LSTM(units=100, input_shape=(None,18),return_sequences=True))\n",
    "model.add(Dropout(0.2))\n",
    "\n",
    "# second layer\n",
    "# model.add(Dense(128, 1))\n",
    "model.add(LSTM(units=100,return_sequences=True))\n",
    "model.add(Dropout(0.2))\n",
    "\n",
    "# fourth dense layer\n",
    "model.add(Dense(units=1))\n",
    "\n",
    "\n",
    "model.compile(loss='mean_absolute_error',optimizer='adam',metrics=['mae'])\n",
    "model.summary()\n",
    "          "
   ]
  },
  {
   "cell_type": "code",
   "execution_count": 83,
   "metadata": {},
   "outputs": [
    {
     "name": "stdout",
     "output_type": "stream",
     "text": [
      "Model: \"sequential_7\"\n",
      "_________________________________________________________________\n",
      "Layer (type)                 Output Shape              Param #   \n",
      "=================================================================\n",
      "gru (GRU)                    (None, None, 50)          10350     \n",
      "_________________________________________________________________\n",
      "dropout_19 (Dropout)         (None, None, 50)          0         \n",
      "_________________________________________________________________\n",
      "gru_1 (GRU)                  (None, None, 25)          5700      \n",
      "_________________________________________________________________\n",
      "dropout_20 (Dropout)         (None, None, 25)          0         \n",
      "_________________________________________________________________\n",
      "dense_7 (Dense)              (None, None, 1)           26        \n",
      "=================================================================\n",
      "Total params: 16,076\n",
      "Trainable params: 16,076\n",
      "Non-trainable params: 0\n",
      "_________________________________________________________________\n"
     ]
    }
   ],
   "source": [
    "grumodel = Sequential()\n",
    "\n",
    "# first layer\n",
    "grumodel.add(GRU(units=50, input_shape=(None,18),return_sequences=True))\n",
    "grumodel.add(Dropout(0.2))\n",
    "\n",
    "# second layer\n",
    "# model.add(Dense(128, 1))\n",
    "grumodel.add(GRU(units=25,return_sequences=True))\n",
    "grumodel.add(Dropout(0.2))\n",
    "\n",
    "# third layer\n",
    "# model.add(LSTM(units=50,return_sequences=True))\n",
    "# model.add(Dropout(0.2))\n",
    "\n",
    "# fourth dense layer\n",
    "grumodel.add(Dense(units=1))\n",
    "\n",
    "\n",
    "grumodel.compile(loss='mean_absolute_error',optimizer='adam',metrics=['mae'])\n",
    "grumodel.summary()"
   ]
  },
  {
   "cell_type": "code",
   "execution_count": 39,
   "metadata": {},
   "outputs": [
    {
     "name": "stdout",
     "output_type": "stream",
     "text": [
      "The tensorboard extension is already loaded. To reload it, use:\n",
      "  %reload_ext tensorboard\n"
     ]
    }
   ],
   "source": [
    "%load_ext tensorboard\n",
    "!rm -rf ./logs/ "
   ]
  },
  {
   "cell_type": "code",
   "execution_count": 193,
   "metadata": {},
   "outputs": [],
   "source": [
    "# import datetime\n",
    "# log_dir=\"logs/fit/\" + datetime.datetime.now().strftime(\"%Y%m%d-%H%M%S\")\n",
    "# tensorboard_callback = tf.keras.callbacks.TensorBoard(log_dir=log_dir, histogram_freq=1)"
   ]
  },
  {
   "cell_type": "code",
   "execution_count": 132,
   "metadata": {},
   "outputs": [],
   "source": [
    "path_checkpoint = '23_checkpoint.keras'\n",
    "callback_checkpoint = ModelCheckpoint(filepath=path_checkpoint,\n",
    "                                      monitor='val_loss',\n",
    "                                      verbose=1,\n",
    "                                      save_weights_only=True,\n",
    "                                      save_best_only=True)\n",
    "callback_early_stopping = EarlyStopping(monitor='val_loss',\n",
    "                                        patience=5, verbose=1)\n",
    "callback_tensorboard = TensorBoard(log_dir='./23_logs/',\n",
    "                                   histogram_freq=0,\n",
    "                                   write_graph=False)\n",
    "callback_reduce_lr = ReduceLROnPlateau(monitor='val_loss',\n",
    "                                       factor=0.1,\n",
    "                                       min_lr=1e-4,\n",
    "                                       patience=0,\n",
    "                                       verbose=1)\n",
    "callbacks = [callback_early_stopping,\n",
    "             callback_checkpoint,\n",
    "             callback_tensorboard,\n",
    "             callback_reduce_lr]"
   ]
  },
  {
   "cell_type": "code",
   "execution_count": 133,
   "metadata": {},
   "outputs": [
    {
     "name": "stdout",
     "output_type": "stream",
     "text": [
      "Epoch 1/20\n",
      " 99/100 [============================>.] - ETA: 0s - loss: 0.1867 - mean_absolute_error: 0.1867\n",
      "Epoch 00001: val_loss improved from inf to 0.20978, saving model to 23_checkpoint.keras\n",
      "100/100 [==============================] - 26s 260ms/step - loss: 0.1859 - mean_absolute_error: 0.1859 - val_loss: 0.2098 - val_mean_absolute_error: 0.2098\n",
      "Epoch 2/20\n",
      " 99/100 [============================>.] - ETA: 0s - loss: 0.0792 - mean_absolute_error: 0.0792\n",
      "Epoch 00002: val_loss improved from 0.20978 to 0.19188, saving model to 23_checkpoint.keras\n",
      "100/100 [==============================] - 19s 194ms/step - loss: 0.0792 - mean_absolute_error: 0.0792 - val_loss: 0.1919 - val_mean_absolute_error: 0.1919\n",
      "Epoch 3/20\n",
      " 99/100 [============================>.] - ETA: 0s - loss: 0.0619 - mean_absolute_error: 0.0619\n",
      "Epoch 00003: val_loss improved from 0.19188 to 0.18562, saving model to 23_checkpoint.keras\n",
      "100/100 [==============================] - 19s 195ms/step - loss: 0.0618 - mean_absolute_error: 0.0618 - val_loss: 0.1856 - val_mean_absolute_error: 0.1856\n",
      "Epoch 4/20\n",
      " 99/100 [============================>.] - ETA: 0s - loss: 0.0589 - mean_absolute_error: 0.0589\n",
      "Epoch 00004: val_loss did not improve from 0.18562\n",
      "\n",
      "Epoch 00004: ReduceLROnPlateau reducing learning rate to 0.00010000000474974513.\n",
      "100/100 [==============================] - 21s 205ms/step - loss: 0.0591 - mean_absolute_error: 0.0591 - val_loss: 0.1976 - val_mean_absolute_error: 0.1976\n",
      "Epoch 5/20\n",
      " 99/100 [============================>.] - ETA: 0s - loss: 0.0555 - mean_absolute_error: 0.0555\n",
      "Epoch 00005: val_loss did not improve from 0.18562\n",
      "\n",
      "Epoch 00005: ReduceLROnPlateau reducing learning rate to 0.0001.\n",
      "100/100 [==============================] - 21s 205ms/step - loss: 0.0554 - mean_absolute_error: 0.0554 - val_loss: 0.1949 - val_mean_absolute_error: 0.1949\n",
      "Epoch 6/20\n",
      " 99/100 [============================>.] - ETA: 0s - loss: 0.0560 - mean_absolute_error: 0.0560\n",
      "Epoch 00006: val_loss did not improve from 0.18562\n",
      "100/100 [==============================] - 20s 202ms/step - loss: 0.0561 - mean_absolute_error: 0.0561 - val_loss: 0.1918 - val_mean_absolute_error: 0.1918\n",
      "Epoch 7/20\n",
      " 99/100 [============================>.] - ETA: 0s - loss: 0.0553 - mean_absolute_error: 0.0553\n",
      "Epoch 00007: val_loss did not improve from 0.18562\n",
      "100/100 [==============================] - 24s 242ms/step - loss: 0.0553 - mean_absolute_error: 0.0553 - val_loss: 0.1881 - val_mean_absolute_error: 0.1881\n",
      "Epoch 8/20\n",
      " 99/100 [============================>.] - ETA: 0s - loss: 0.0552 - mean_absolute_error: 0.0552- ETA: 6s - loss: 0.05\n",
      "Epoch 00008: val_loss did not improve from 0.18562\n",
      "100/100 [==============================] - 23s 229ms/step - loss: 0.0553 - mean_absolute_error: 0.0553 - val_loss: 0.1862 - val_mean_absolute_error: 0.1862\n",
      "Epoch 00008: early stopping\n"
     ]
    },
    {
     "data": {
      "text/plain": [
       "<tensorflow.python.keras.callbacks.History at 0x7feb56926438>"
      ]
     },
     "execution_count": 133,
     "metadata": {},
     "output_type": "execute_result"
    }
   ],
   "source": [
    "model.fit_generator(generator=generator,\n",
    "                    epochs=20,\n",
    "                    steps_per_epoch=100,\n",
    "                    validation_data=validation_data,\n",
    "                    callbacks=callbacks)"
   ]
  },
  {
   "cell_type": "code",
   "execution_count": 84,
   "metadata": {},
   "outputs": [
    {
     "name": "stdout",
     "output_type": "stream",
     "text": [
      "Epoch 1/20\n",
      " 99/100 [============================>.] - ETA: 0s - loss: 0.3108 - mean_absolute_error: 0.3108\n",
      "Epoch 00001: val_loss did not improve from 0.04922\n",
      "100/100 [==============================] - 13s 133ms/step - loss: 0.3093 - mean_absolute_error: 0.3093 - val_loss: 0.1113 - val_mean_absolute_error: 0.1113\n",
      "Epoch 2/20\n",
      " 99/100 [============================>.] - ETA: 0s - loss: 0.1320 - mean_absolute_error: 0.1320\n",
      "Epoch 00002: val_loss did not improve from 0.04922\n",
      "100/100 [==============================] - 9s 90ms/step - loss: 0.1318 - mean_absolute_error: 0.1318 - val_loss: 0.0926 - val_mean_absolute_error: 0.0926\n",
      "Epoch 3/20\n",
      " 99/100 [============================>.] - ETA: 0s - loss: 0.1019 - mean_absolute_error: 0.1019\n",
      "Epoch 00003: val_loss did not improve from 0.04922\n",
      "100/100 [==============================] - 9s 89ms/step - loss: 0.1018 - mean_absolute_error: 0.1018 - val_loss: 0.0850 - val_mean_absolute_error: 0.0850\n",
      "Epoch 4/20\n",
      " 99/100 [============================>.] - ETA: 0s - loss: 0.0861 - mean_absolute_error: 0.0861\n",
      "Epoch 00004: val_loss did not improve from 0.04922\n",
      "100/100 [==============================] - 8s 81ms/step - loss: 0.0860 - mean_absolute_error: 0.0860 - val_loss: 0.0760 - val_mean_absolute_error: 0.0760\n",
      "Epoch 5/20\n",
      " 99/100 [============================>.] - ETA: 0s - loss: 0.0754 - mean_absolute_error: 0.0754\n",
      "Epoch 00005: val_loss did not improve from 0.04922\n",
      "100/100 [==============================] - 9s 85ms/step - loss: 0.0754 - mean_absolute_error: 0.0754 - val_loss: 0.0710 - val_mean_absolute_error: 0.0710\n",
      "Epoch 6/20\n",
      " 99/100 [============================>.] - ETA: 0s - loss: 0.0685 - mean_absolute_error: 0.0685\n",
      "Epoch 00006: val_loss did not improve from 0.04922\n",
      "\n",
      "Epoch 00006: ReduceLROnPlateau reducing learning rate to 0.00010000000474974513.\n",
      "100/100 [==============================] - 9s 90ms/step - loss: 0.0684 - mean_absolute_error: 0.0684 - val_loss: 0.0721 - val_mean_absolute_error: 0.0721\n",
      "Epoch 7/20\n",
      " 99/100 [============================>.] - ETA: 0s - loss: 0.0650 - mean_absolute_error: 0.0650\n",
      "Epoch 00007: val_loss did not improve from 0.04922\n",
      "100/100 [==============================] - 8s 84ms/step - loss: 0.0650 - mean_absolute_error: 0.0650 - val_loss: 0.0707 - val_mean_absolute_error: 0.0707\n",
      "Epoch 8/20\n",
      " 99/100 [============================>.] - ETA: 0s - loss: 0.0651 - mean_absolute_error: 0.0651\n",
      "Epoch 00008: val_loss did not improve from 0.04922\n",
      "100/100 [==============================] - 8s 83ms/step - loss: 0.0651 - mean_absolute_error: 0.0651 - val_loss: 0.0699 - val_mean_absolute_error: 0.0699\n",
      "Epoch 9/20\n",
      " 99/100 [============================>.] - ETA: 0s - loss: 0.0641 - mean_absolute_error: 0.0641\n",
      "Epoch 00009: val_loss did not improve from 0.04922\n",
      "100/100 [==============================] - 8s 85ms/step - loss: 0.0640 - mean_absolute_error: 0.0640 - val_loss: 0.0691 - val_mean_absolute_error: 0.0691\n",
      "Epoch 10/20\n",
      " 99/100 [============================>.] - ETA: 0s - loss: 0.0641 - mean_absolute_error: 0.0641\n",
      "Epoch 00010: val_loss did not improve from 0.04922\n",
      "\n",
      "Epoch 00010: ReduceLROnPlateau reducing learning rate to 0.0001.\n",
      "100/100 [==============================] - 8s 84ms/step - loss: 0.0641 - mean_absolute_error: 0.0641 - val_loss: 0.0694 - val_mean_absolute_error: 0.0694\n",
      "Epoch 11/20\n",
      " 99/100 [============================>.] - ETA: 0s - loss: 0.0632 - mean_absolute_error: 0.0632\n",
      "Epoch 00011: val_loss did not improve from 0.04922\n",
      "100/100 [==============================] - 9s 86ms/step - loss: 0.0631 - mean_absolute_error: 0.0631 - val_loss: 0.0691 - val_mean_absolute_error: 0.0691\n",
      "Epoch 12/20\n",
      " 99/100 [============================>.] - ETA: 0s - loss: 0.0626 - mean_absolute_error: 0.0626\n",
      "Epoch 00012: val_loss did not improve from 0.04922\n",
      "100/100 [==============================] - 9s 86ms/step - loss: 0.0626 - mean_absolute_error: 0.0626 - val_loss: 0.0686 - val_mean_absolute_error: 0.0686\n",
      "Epoch 13/20\n",
      " 99/100 [============================>.] - ETA: 0s - loss: 0.0616 - mean_absolute_error: 0.0616\n",
      "Epoch 00013: val_loss did not improve from 0.04922\n",
      "100/100 [==============================] - 9s 91ms/step - loss: 0.0616 - mean_absolute_error: 0.0616 - val_loss: 0.0687 - val_mean_absolute_error: 0.0687\n",
      "Epoch 14/20\n",
      " 99/100 [============================>.] - ETA: 0s - loss: 0.0610 - mean_absolute_error: 0.0610\n",
      "Epoch 00014: val_loss did not improve from 0.04922\n",
      "100/100 [==============================] - 9s 86ms/step - loss: 0.0610 - mean_absolute_error: 0.0610 - val_loss: 0.0688 - val_mean_absolute_error: 0.0688\n",
      "Epoch 15/20\n",
      " 99/100 [============================>.] - ETA: 0s - loss: 0.0606 - mean_absolute_error: 0.0606\n",
      "Epoch 00015: val_loss did not improve from 0.04922\n",
      "100/100 [==============================] - 10s 100ms/step - loss: 0.0605 - mean_absolute_error: 0.0605 - val_loss: 0.0680 - val_mean_absolute_error: 0.0680\n",
      "Epoch 16/20\n",
      " 99/100 [============================>.] - ETA: 0s - loss: 0.0597 - mean_absolute_error: 0.0597\n",
      "Epoch 00016: val_loss did not improve from 0.04922\n",
      "100/100 [==============================] - 8s 85ms/step - loss: 0.0597 - mean_absolute_error: 0.0597 - val_loss: 0.0680 - val_mean_absolute_error: 0.0680\n",
      "Epoch 17/20\n",
      " 99/100 [============================>.] - ETA: 0s - loss: 0.0595 - mean_absolute_error: 0.0595\n",
      "Epoch 00017: val_loss did not improve from 0.04922\n",
      "100/100 [==============================] - 11s 113ms/step - loss: 0.0595 - mean_absolute_error: 0.0595 - val_loss: 0.0682 - val_mean_absolute_error: 0.0682\n",
      "Epoch 18/20\n",
      " 99/100 [============================>.] - ETA: 0s - loss: 0.0589 - mean_absolute_error: 0.0589\n",
      "Epoch 00018: val_loss did not improve from 0.04922\n",
      "100/100 [==============================] - 11s 114ms/step - loss: 0.0588 - mean_absolute_error: 0.0588 - val_loss: 0.0679 - val_mean_absolute_error: 0.0679\n",
      "Epoch 19/20\n",
      " 99/100 [============================>.] - ETA: 0s - loss: 0.0587 - mean_absolute_error: 0.0587\n",
      "Epoch 00019: val_loss did not improve from 0.04922\n",
      "100/100 [==============================] - 11s 107ms/step - loss: 0.0588 - mean_absolute_error: 0.0588 - val_loss: 0.0679 - val_mean_absolute_error: 0.0679\n",
      "Epoch 20/20\n",
      " 99/100 [============================>.] - ETA: 0s - loss: 0.0571 - mean_absolute_error: 0.0571\n",
      "Epoch 00020: val_loss did not improve from 0.04922\n",
      "100/100 [==============================] - 13s 128ms/step - loss: 0.0571 - mean_absolute_error: 0.0571 - val_loss: 0.0676 - val_mean_absolute_error: 0.0676\n"
     ]
    },
    {
     "data": {
      "text/plain": [
       "<tensorflow.python.keras.callbacks.History at 0x7feb56f44828>"
      ]
     },
     "execution_count": 84,
     "metadata": {},
     "output_type": "execute_result"
    }
   ],
   "source": [
    "grumodel.fit_generator(generator=generator,\n",
    "                    epochs=20,\n",
    "                    steps_per_epoch=100,\n",
    "                    validation_data=validation_data,\n",
    "                    callbacks=callbacks)"
   ]
  },
  {
   "cell_type": "code",
   "execution_count": 117,
   "metadata": {},
   "outputs": [],
   "source": [
    "try:\n",
    "    model.load_weights(path_checkpoint)\n",
    "except Exception as error:\n",
    "    print(\"Error trying to load checkpoint.\")\n",
    "    print(error)"
   ]
  },
  {
   "cell_type": "code",
   "execution_count": 85,
   "metadata": {},
   "outputs": [
    {
     "name": "stdout",
     "output_type": "stream",
     "text": [
      "1/1 [==============================] - 1s 1s/sample - loss: 0.0676 - mean_absolute_error: 0.0676\n"
     ]
    }
   ],
   "source": [
    "result = grumodel.evaluate(x=np.expand_dims(x_test, axis=0),\n",
    "                        y=np.expand_dims(y_test, axis=0))"
   ]
  },
  {
   "cell_type": "code",
   "execution_count": 135,
   "metadata": {},
   "outputs": [],
   "source": [
    "y_pred = model.predict(np.expand_dims(x_test, axis=0))"
   ]
  },
  {
   "cell_type": "code",
   "execution_count": 136,
   "metadata": {},
   "outputs": [],
   "source": [
    "y_pred_rescaled = scy.inverse_transform(y_pred[0])\n",
    "y_test_rescaled = scy.inverse_transform(y_test)"
   ]
  },
  {
   "cell_type": "code",
   "execution_count": 137,
   "metadata": {},
   "outputs": [
    {
     "data": {
      "text/plain": [
       "array([[981.8956],\n",
       "       [905.4175],\n",
       "       [861.4444],\n",
       "       ...,\n",
       "       [504.4851],\n",
       "       [506.3015],\n",
       "       [539.3405]], dtype=float32)"
      ]
     },
     "execution_count": 137,
     "metadata": {},
     "output_type": "execute_result"
    }
   ],
   "source": [
    "y_pred_rescaled "
   ]
  },
  {
   "cell_type": "code",
   "execution_count": 138,
   "metadata": {},
   "outputs": [
    {
     "data": {
      "text/plain": [
       "array([[615.],\n",
       "       [600.],\n",
       "       [585.],\n",
       "       ...,\n",
       "       [ 30.],\n",
       "       [ 15.],\n",
       "       [  0.]])"
      ]
     },
     "execution_count": 138,
     "metadata": {},
     "output_type": "execute_result"
    }
   ],
   "source": [
    "y_test_rescaled "
   ]
  },
  {
   "cell_type": "code",
   "execution_count": 139,
   "metadata": {},
   "outputs": [
    {
     "data": {
      "text/plain": [
       "<matplotlib.collections.PathCollection at 0x7feb5075eef0>"
      ]
     },
     "execution_count": 139,
     "metadata": {},
     "output_type": "execute_result"
    },
    {
     "data": {
      "image/png": "[encoded data removed]",
      "text/plain": [
       "<Figure size 864x576 with 1 Axes>"
      ]
     },
     "metadata": {
      "needs_background": "light"
     },
     "output_type": "display_data"
    }
   ],
   "source": [
    "plt.figure(figsize=(12, 8))\n",
    "plt.scatter(y_test_rescaled[0:50] , y_pred_rescaled[0:50])\n"
   ]
  },
  {
   "cell_type": "code",
   "execution_count": 140,
   "metadata": {},
   "outputs": [
    {
     "data": {
      "text/plain": [
       "<matplotlib.legend.Legend at 0x7feb568baa58>"
      ]
     },
     "execution_count": 140,
     "metadata": {},
     "output_type": "execute_result"
    },
    {
     "data": {
      "image/png": "[encoded data removed]",
      "text/plain": [
       "<Figure size 864x576 with 1 Axes>"
      ]
     },
     "metadata": {
      "needs_background": "light"
     },
     "output_type": "display_data"
    }
   ],
   "source": [
    "plt.figure(figsize=(12, 8))\n",
    "plt.ylabel('time to dest')\n",
    "\n",
    "plt.plot(y_pred_rescaled[1000:2000], label = 'pred')\n",
    "plt.plot(y_test_rescaled[1000:2000], label = 'true')\n",
    "plt.legend()"
   ]
  },
  {
   "cell_type": "code",
   "execution_count": 97,
   "metadata": {},
   "outputs": [
    {
     "data": {
      "text/plain": [
       "<matplotlib.legend.Legend at 0x7feb51b3ab70>"
      ]
     },
     "execution_count": 97,
     "metadata": {},
     "output_type": "execute_result"
    },
    {
     "data": {
      "image/png": "[encoded data removed]",
      "text/plain": [
       "<Figure size 864x576 with 1 Axes>"
      ]
     },
     "metadata": {
      "needs_background": "light"
     },
     "output_type": "display_data"
    }
   ],
   "source": [
    "plt.figure(figsize=(12, 8))\n",
    "plt.ylabel('time to dest')\n",
    "plt.xlabel('idx')\n",
    "\n",
    "plt.plot(y_pred_rescaled[3000:4000], label = 'pred')\n",
    "plt.plot(y_test_rescaled[3000:4000], label = 'true')\n",
    "plt.legend()"
   ]
  },
  {
   "cell_type": "code",
   "execution_count": 85,
   "metadata": {},
   "outputs": [],
   "source": [
    "predicted_df = pd.DataFrame(data=y_pred_rescaled[0:,0:],index=[i for i in range(y_pred_rescaled.shape[0])],columns=['f'+str(i) for i in range(y_pred_rescaled.shape[1])])\n",
    "\n",
    "actual_df = pd.DataFrame(data=y_test_rescaled[0:,0:],index=[i for i in range(y_test_rescaled.shape[0])],columns=['f'+str(i) for i in range(y_test_rescaled.shape[1])])\n"
   ]
  },
  {
   "cell_type": "code",
   "execution_count": 99,
   "metadata": {},
   "outputs": [
    {
     "data": {
      "text/plain": [
       "<matplotlib.collections.PathCollection at 0x7f654d3db7f0>"
      ]
     },
     "execution_count": 99,
     "metadata": {},
     "output_type": "execute_result"
    },
    {
     "data": {
      "image/png": "[encoded data removed]",
      "text/plain": [
       "<Figure size 864x576 with 1 Axes>"
      ]
     },
     "metadata": {
      "needs_background": "light"
     },
     "output_type": "display_data"
    }
   ],
   "source": [
    "plt.figure(figsize=(12, 8))\n",
    "\n",
    "\n",
    "plt.scatter(x=predicted_df['f0'][0:45],y=predicted_df['f1'][0:45],c='r',alpha=1)\n",
    "plt.scatter(x=actual_df['f0'][0:45],y=actual_df['f1'][0:45],c='g',alpha=1)"
   ]
  },
  {
   "cell_type": "code",
   "execution_count": 96,
   "metadata": {},
   "outputs": [
    {
     "data": {
      "text/html": [
       "<div>\n",
       "<style scoped>\n",
       "    .dataframe tbody tr th:only-of-type {\n",
       "        vertical-align: middle;\n",
       "    }\n",
       "\n",
       "    .dataframe tbody tr th {\n",
       "        vertical-align: top;\n",
       "    }\n",
       "\n",
       "    .dataframe thead th {\n",
       "        text-align: right;\n",
       "    }\n",
       "</style>\n",
       "<table border=\"1\" class=\"dataframe\">\n",
       "  <thead>\n",
       "    <tr style=\"text-align: right;\">\n",
       "      <th></th>\n",
       "      <th>f0</th>\n",
       "      <th>f1</th>\n",
       "    </tr>\n",
       "  </thead>\n",
       "  <tbody>\n",
       "    <tr>\n",
       "      <th>0</th>\n",
       "      <td>41.157089</td>\n",
       "      <td>-8.570538</td>\n",
       "    </tr>\n",
       "    <tr>\n",
       "      <th>1</th>\n",
       "      <td>41.156559</td>\n",
       "      <td>-8.605676</td>\n",
       "    </tr>\n",
       "    <tr>\n",
       "      <th>2</th>\n",
       "      <td>41.155952</td>\n",
       "      <td>-8.629983</td>\n",
       "    </tr>\n",
       "    <tr>\n",
       "      <th>3</th>\n",
       "      <td>41.155670</td>\n",
       "      <td>-8.643138</td>\n",
       "    </tr>\n",
       "    <tr>\n",
       "      <th>4</th>\n",
       "      <td>41.155777</td>\n",
       "      <td>-8.647686</td>\n",
       "    </tr>\n",
       "    <tr>\n",
       "      <th>...</th>\n",
       "      <td>...</td>\n",
       "      <td>...</td>\n",
       "    </tr>\n",
       "    <tr>\n",
       "      <th>5826</th>\n",
       "      <td>41.143692</td>\n",
       "      <td>-8.605156</td>\n",
       "    </tr>\n",
       "    <tr>\n",
       "      <th>5827</th>\n",
       "      <td>41.143353</td>\n",
       "      <td>-8.603797</td>\n",
       "    </tr>\n",
       "    <tr>\n",
       "      <th>5828</th>\n",
       "      <td>41.143044</td>\n",
       "      <td>-8.602565</td>\n",
       "    </tr>\n",
       "    <tr>\n",
       "      <th>5829</th>\n",
       "      <td>41.143341</td>\n",
       "      <td>-8.601144</td>\n",
       "    </tr>\n",
       "    <tr>\n",
       "      <th>5830</th>\n",
       "      <td>41.143528</td>\n",
       "      <td>-8.601198</td>\n",
       "    </tr>\n",
       "  </tbody>\n",
       "</table>\n",
       "<p>5831 rows × 2 columns</p>\n",
       "</div>"
      ],
      "text/plain": [
       "             f0        f1\n",
       "0     41.157089 -8.570538\n",
       "1     41.156559 -8.605676\n",
       "2     41.155952 -8.629983\n",
       "3     41.155670 -8.643138\n",
       "4     41.155777 -8.647686\n",
       "...         ...       ...\n",
       "5826  41.143692 -8.605156\n",
       "5827  41.143353 -8.603797\n",
       "5828  41.143044 -8.602565\n",
       "5829  41.143341 -8.601144\n",
       "5830  41.143528 -8.601198\n",
       "\n",
       "[5831 rows x 2 columns]"
      ]
     },
     "execution_count": 96,
     "metadata": {},
     "output_type": "execute_result"
    }
   ],
   "source": [
    "predicted_df"
   ]
  },
  {
   "cell_type": "code",
   "execution_count": null,
   "metadata": {},
   "outputs": [],
   "source": []
  }
 ],
 "metadata": {
  "kernelspec": {
   "display_name": "Python 3",
   "language": "python",
   "name": "python3"
  },
  "language_info": {
   "codemirror_mode": {
    "name": "ipython",
    "version": 3
   },
   "file_extension": ".py",
   "mimetype": "text/x-python",
   "name": "python",
   "nbconvert_exporter": "python",
   "pygments_lexer": "ipython3",
   "version": "3.7.3"
  }
 },
 "nbformat": 4,
 "nbformat_minor": 4
}
