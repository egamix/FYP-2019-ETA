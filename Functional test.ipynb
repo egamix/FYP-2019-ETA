{
 "cells": [
  {
   "cell_type": "code",
   "execution_count": 11,
   "metadata": {},
   "outputs": [],
   "source": [
    "from __future__ import print_function\n",
    "\n",
    "from IPython import display\n",
    "\n",
    "import math\n",
    "import matplotlib\n",
    "import sklearn\n",
    "import pandas as pd\n",
    "import numpy as np\n",
    "from matplotlib import pyplot as plt\n",
    "from numpy import radians, cos, sin, arcsin, arccos, sqrt, pi, arctan2, degrees, arctan\n",
    "\n",
    "from tqdm import tqdm, tqdm_notebook\n",
    "tqdm.pandas()\n",
    "tqdm.pandas(tqdm_notebook)\n",
    "\n",
    "from joblib import dump, load\n",
    "\n",
    "from natsort import natsorted\n",
    "from sklearn.model_selection import train_test_split\n",
    "from sklearn.model_selection import RandomizedSearchCV, GridSearchCV, train_test_split\n",
    "from sklearn import metrics\n",
    "\n",
    "from sklearn.decomposition import PCA\n",
    "from sklearn.cluster import DBSCAN\n",
    "from sklearn.cluster import KMeans\n",
    "\n",
    "\n",
    "pd.options.display.max_rows = 10"
   ]
  },
  {
   "cell_type": "code",
   "execution_count": 12,
   "metadata": {},
   "outputs": [],
   "source": [
    "\n",
    "def haversine(lat1, lon1, lat2, lon2):\n",
    "    #ensure using numpy and not math, or pandas series cannot be passed\n",
    "    lat1, lon1, lat2, lon2 = map(radians, [lat1, lon1, lat2, lon2])\n",
    "    dlon = lon2 - lon1\n",
    "    dlat = lat2 - lat1\n",
    "    a = sin(dlat/2)**2 + cos(lat1) * cos(lat2) * sin(dlon/2)**2\n",
    "    c = 2 * arcsin(sqrt(a))\n",
    "    r = 6378.137 ##radius of earth km\n",
    "    return c * r\n",
    "\n",
    "def compute_dist(df):\n",
    "    next_df = df.shift(1)\n",
    "    dist = haversine(df.iloc[:,0], df.iloc[:,1],\n",
    "                    next_df.iloc[:,0], next_df.iloc[:,1])\n",
    "    return dist\n",
    "\n",
    "def compute_time(df):\n",
    "    next_df = df.shift(1)\n",
    "#     df[\"time\"] = pd.to_datetime(df[\"time_utc\"], format=\"%Y-%m-%d %H:%M:%S.%f\", errors='raise')\n",
    "    timedelt = df[\"time\"] - next_df[\"time\"]\n",
    "    return timedelt\n",
    "\n",
    "def compute_speed(df):\n",
    "    kinematics = df.copy()\n",
    "    kinematics[\"distance_travelled\"] = compute_dist(kinematics[[\"latitude\", \"longitude\"]].astype(float)).values\n",
    "    kinematics[\"time_elapsed\"] = compute_time(kinematics).values\n",
    "    kinematics[\"time_elapsed_seconds\"] = kinematics[\"time_elapsed\"]/np.timedelta64(1,'s')\n",
    "    kinematics[\"speed m/s\"] = (kinematics[\"distance_travelled\"]*1000)/kinematics[\"time_elapsed_seconds\"]\n",
    "    kinematics[\"speed kmh\"] = kinematics[\"speed m/s\"]*3.6\n",
    "    kinematics[\"bearing\"] = compute_bearing(kinematics[[\"latitude\", \"longitude\"]].astype(float))\n",
    "    kinematics['bearing_diff'] = compute_bearing_diff(kinematics)\n",
    "    kinematics[\"rate_of_turn\"] = kinematics[\"bearing_diff\"]/kinematics[\"time_elapsed_seconds\"]\n",
    "    kinematics[\"acceleration\"] = (speed_diff(kinematics[\"speed m/s\"])) /kinematics[\"time_elapsed_seconds\"]\n",
    "    kinematics.drop(columns = ['time_elapsed'], inplace = True)\n",
    "    kinematics.fillna(0, inplace = True)\n",
    "#     df[\"distance_travelled\"] = kinematics[\"distance_travelled\"].values\n",
    "#     df[\"speed kmh\"] = kinematics[\"speed kmh\"].values\n",
    "    return kinematics\n",
    "\n",
    "def compute_bearing(df):\n",
    "    next_df = df.shift(1)\n",
    "    bear = cal_bearing(df.iloc[:,0], df.iloc[:,1],\n",
    "                    next_df.iloc[:,0], next_df.iloc[:,1])\n",
    "    return bear\n",
    "\n",
    "def bearing_diff(bearing, prev_bearing):\n",
    "    \n",
    "    \"\"\"\n",
    "    Calculates the absolute difference between two angles\n",
    "    Parameters\n",
    "      bearing: bearing in degrees of the first angle\n",
    "      prev_bearing: bearing in degrees of the second angle\n",
    "    Returns the difference in degrees as a float\n",
    "    \"\"\"\n",
    "\n",
    "    # if bearing - prev_bearing <=180 then taking the absolute difference is correct\n",
    "    if bearing - prev_bearing <= 180:\n",
    "        bearing_diff = abs(bearing - prev_bearing)\n",
    "    # otherwise if bearing is larger than previous_bearing the total difference is the prev_bearing plus the difference\n",
    "    # between 360 and the bearing\n",
    "    elif bearing > prev_bearing:\n",
    "        bearing_diff = prev_bearing + (360 - bearing)\n",
    "    # otherwise if prev_bearing is larger than bearing the total difference is the bearing plus the difference \n",
    "    # between 360 and the prev_bearing\n",
    "    elif prev_bearing > bearing:\n",
    "        bearing_diff = bearing + (360 - prev_bearing)\n",
    "    # in all other cases take the absolute difference\n",
    "    else:\n",
    "        bearing_diff = abs(bearing - prev_bearing)\n",
    "\n",
    "    return bearing_diff\n",
    "\n",
    "def cal_bearing(lat1, lon1, lat2, lon2):\n",
    "    \"\"\"\n",
    "    Calculates the bearing between two points using the formula\n",
    "        θ = atan2(sin(Δlong).cos(lat2),\n",
    "                  cos(lat1).sin(lat2) − sin(lat1).cos(lat2).cos(Δlong))\n",
    "    \"\"\"\n",
    "    \n",
    "    lat1, lon1, lat2, lon2 = map(radians, [lat1, lon1, lat2, lon2])\n",
    "\n",
    "    dlon = lon2 - lon1\n",
    "\n",
    "    x = sin(dlon) * cos(lat2)\n",
    "    y1 = cos(lat1) * sin(lat2)\n",
    "    y2 = sin(lat1) * cos(lat2) * cos(dlon)\n",
    "    y = y1 - y2\n",
    "\n",
    "    initial_bearing = arctan2(x, y)\n",
    "\n",
    "    initial_bearing = degrees(initial_bearing)\n",
    "    compass_bearing = (initial_bearing + 360) % 360\n",
    "\n",
    "    return compass_bearing\n",
    "\n",
    "def compute_bearing_diff(df):\n",
    "    df1 = df.copy()\n",
    "    df1[\"prev_bearing\"] = df1[\"bearing\"].shift(1)\n",
    "    df1[\"bearing diff\"] = df1.apply(lambda row: bearing_diff(row['bearing'],row['prev_bearing']),axis=1)\n",
    "    return df1[\"bearing diff\"]\n",
    "\n",
    "def speed_diff(df):\n",
    "    next_df = df.shift(1)\n",
    "    diff = df - next_df\n",
    "    return diff\n",
    "\n",
    "def compute_speed(df):\n",
    "    kinematics = df.copy()\n",
    "    kinematics[\"distance_travelled\"] = compute_dist(kinematics[[\"latitude\", \"longitude\"]].astype(float)).values\n",
    "    kinematics[\"time_elapsed\"] = compute_time(kinematics).values\n",
    "    kinematics[\"time_elapsed_seconds\"] = kinematics[\"time_elapsed\"]/np.timedelta64(1,'s')\n",
    "    kinematics[\"speed m/s\"] = (kinematics[\"distance_travelled\"]*1000)/kinematics[\"time_elapsed_seconds\"]\n",
    "    kinematics[\"speed kmh\"] = kinematics[\"speed m/s\"]*3.6\n",
    "    kinematics[\"bearing\"] = compute_bearing(kinematics[[\"latitude\", \"longitude\"]].astype(float))\n",
    "    kinematics['bearing_diff'] = compute_bearing_diff(kinematics)\n",
    "    kinematics[\"rate_of_turn\"] = kinematics[\"bearing_diff\"]/kinematics[\"time_elapsed_seconds\"]\n",
    "    kinematics[\"acceleration\"] = (speed_diff(kinematics[\"speed m/s\"])) /kinematics[\"time_elapsed_seconds\"]\n",
    "    kinematics.drop(columns = ['time_elapsed'], inplace = True)\n",
    "    kinematics.fillna(0, inplace = True)\n",
    "#     df[\"distance_travelled\"] = kinematics[\"distance_travelled\"].values\n",
    "#     df[\"speed kmh\"] = kinematics[\"speed kmh\"].values\n",
    "    return kinematics"
   ]
  },
  {
   "cell_type": "code",
   "execution_count": 13,
   "metadata": {},
   "outputs": [],
   "source": [
    "df =  pd.read_csv('/mnt/hgfs/FYP/porto_cleaned_100000.csv', parse_dates = ['time'])"
   ]
  },
  {
   "cell_type": "code",
   "execution_count": 14,
   "metadata": {},
   "outputs": [],
   "source": [
    "grouper = df.groupby('ID')"
   ]
  },
  {
   "cell_type": "code",
   "execution_count": 15,
   "metadata": {},
   "outputs": [
    {
     "name": "stderr",
     "output_type": "stream",
     "text": [
      "100%|██████████| 427/427 [00:29<00:00, 14.28it/s]\n"
     ]
    }
   ],
   "source": [
    "a = []\n",
    "b = []\n",
    "c = []\n",
    "for name, val in tqdm(grouper):\n",
    "    idx_grper = val.groupby(val['Unnamed: 0'].diff().ne(1).cumsum())\n",
    "    for name2, taxi in idx_grper:\n",
    "        a.append(len(taxi))\n",
    "        b.append(name)\n",
    "        c.append(taxi)"
   ]
  },
  {
   "cell_type": "code",
   "execution_count": 6,
   "metadata": {},
   "outputs": [],
   "source": [
    "val = df[df['ID'] == 20000496]"
   ]
  },
  {
   "cell_type": "code",
   "execution_count": 7,
   "metadata": {},
   "outputs": [],
   "source": [
    "a = []\n",
    "b = []\n",
    "idx_grper = val.groupby(val['Unnamed: 0'].diff().ne(1).cumsum())\n",
    "for name, taxi in idx_grper:\n",
    "    a.append(taxi)\n",
    "    b.append(len(taxi))"
   ]
  },
  {
   "cell_type": "code",
   "execution_count": null,
   "metadata": {},
   "outputs": [],
   "source": [
    "c[13].plot('longitude', 'latitude', kind = 'scatter', figsize = (16,9))"
   ]
  },
  {
   "cell_type": "code",
   "execution_count": 260,
   "metadata": {},
   "outputs": [],
   "source": [
    "df2 = c[13]"
   ]
  },
  {
   "cell_type": "code",
   "execution_count": 261,
   "metadata": {},
   "outputs": [
    {
     "data": {
      "text/html": [
       "<div>\n",
       "<style scoped>\n",
       "    .dataframe tbody tr th:only-of-type {\n",
       "        vertical-align: middle;\n",
       "    }\n",
       "\n",
       "    .dataframe tbody tr th {\n",
       "        vertical-align: top;\n",
       "    }\n",
       "\n",
       "    .dataframe thead th {\n",
       "        text-align: right;\n",
       "    }\n",
       "</style>\n",
       "<table border=\"1\" class=\"dataframe\">\n",
       "  <thead>\n",
       "    <tr style=\"text-align: right;\">\n",
       "      <th></th>\n",
       "      <th>Unnamed: 0</th>\n",
       "      <th>time</th>\n",
       "      <th>longitude</th>\n",
       "      <th>latitude</th>\n",
       "      <th>ID</th>\n",
       "    </tr>\n",
       "  </thead>\n",
       "  <tbody>\n",
       "    <tr>\n",
       "      <th>528363</th>\n",
       "      <td>0</td>\n",
       "      <td>2013-07-03 16:37:33</td>\n",
       "      <td>-8.617725</td>\n",
       "      <td>41.146101</td>\n",
       "      <td>20000001</td>\n",
       "    </tr>\n",
       "    <tr>\n",
       "      <th>528364</th>\n",
       "      <td>1</td>\n",
       "      <td>2013-07-03 16:37:48</td>\n",
       "      <td>-8.617698</td>\n",
       "      <td>41.146101</td>\n",
       "      <td>20000001</td>\n",
       "    </tr>\n",
       "    <tr>\n",
       "      <th>528365</th>\n",
       "      <td>2</td>\n",
       "      <td>2013-07-03 16:38:03</td>\n",
       "      <td>-8.617599</td>\n",
       "      <td>41.145786</td>\n",
       "      <td>20000001</td>\n",
       "    </tr>\n",
       "    <tr>\n",
       "      <th>528366</th>\n",
       "      <td>3</td>\n",
       "      <td>2013-07-03 16:38:18</td>\n",
       "      <td>-8.617383</td>\n",
       "      <td>41.144913</td>\n",
       "      <td>20000001</td>\n",
       "    </tr>\n",
       "    <tr>\n",
       "      <th>528367</th>\n",
       "      <td>4</td>\n",
       "      <td>2013-07-03 16:38:33</td>\n",
       "      <td>-8.616141</td>\n",
       "      <td>41.145228</td>\n",
       "      <td>20000001</td>\n",
       "    </tr>\n",
       "    <tr>\n",
       "      <th>...</th>\n",
       "      <td>...</td>\n",
       "      <td>...</td>\n",
       "      <td>...</td>\n",
       "      <td>...</td>\n",
       "      <td>...</td>\n",
       "    </tr>\n",
       "    <tr>\n",
       "      <th>528399</th>\n",
       "      <td>36</td>\n",
       "      <td>2013-07-03 16:47:33</td>\n",
       "      <td>-8.605179</td>\n",
       "      <td>41.149764</td>\n",
       "      <td>20000001</td>\n",
       "    </tr>\n",
       "    <tr>\n",
       "      <th>528400</th>\n",
       "      <td>37</td>\n",
       "      <td>2013-07-03 16:47:48</td>\n",
       "      <td>-8.605404</td>\n",
       "      <td>41.149764</td>\n",
       "      <td>20000001</td>\n",
       "    </tr>\n",
       "    <tr>\n",
       "      <th>528401</th>\n",
       "      <td>38</td>\n",
       "      <td>2013-07-03 16:48:03</td>\n",
       "      <td>-8.606727</td>\n",
       "      <td>41.150043</td>\n",
       "      <td>20000001</td>\n",
       "    </tr>\n",
       "    <tr>\n",
       "      <th>528402</th>\n",
       "      <td>39</td>\n",
       "      <td>2013-07-03 16:48:18</td>\n",
       "      <td>-8.606934</td>\n",
       "      <td>41.150079</td>\n",
       "      <td>20000001</td>\n",
       "    </tr>\n",
       "    <tr>\n",
       "      <th>528403</th>\n",
       "      <td>40</td>\n",
       "      <td>2013-07-03 16:48:33</td>\n",
       "      <td>-8.607411</td>\n",
       "      <td>41.150268</td>\n",
       "      <td>20000001</td>\n",
       "    </tr>\n",
       "  </tbody>\n",
       "</table>\n",
       "<p>41 rows × 5 columns</p>\n",
       "</div>"
      ],
      "text/plain": [
       "        Unnamed: 0                time  longitude   latitude        ID\n",
       "528363           0 2013-07-03 16:37:33  -8.617725  41.146101  20000001\n",
       "528364           1 2013-07-03 16:37:48  -8.617698  41.146101  20000001\n",
       "528365           2 2013-07-03 16:38:03  -8.617599  41.145786  20000001\n",
       "528366           3 2013-07-03 16:38:18  -8.617383  41.144913  20000001\n",
       "528367           4 2013-07-03 16:38:33  -8.616141  41.145228  20000001\n",
       "...            ...                 ...        ...        ...       ...\n",
       "528399          36 2013-07-03 16:47:33  -8.605179  41.149764  20000001\n",
       "528400          37 2013-07-03 16:47:48  -8.605404  41.149764  20000001\n",
       "528401          38 2013-07-03 16:48:03  -8.606727  41.150043  20000001\n",
       "528402          39 2013-07-03 16:48:18  -8.606934  41.150079  20000001\n",
       "528403          40 2013-07-03 16:48:33  -8.607411  41.150268  20000001\n",
       "\n",
       "[41 rows x 5 columns]"
      ]
     },
     "execution_count": 261,
     "metadata": {},
     "output_type": "execute_result"
    }
   ],
   "source": [
    "df2"
   ]
  },
  {
   "cell_type": "code",
   "execution_count": 100,
   "metadata": {},
   "outputs": [],
   "source": [
    "df2 = compute_speed(c[1854])"
   ]
  },
  {
   "cell_type": "code",
   "execution_count": 101,
   "metadata": {},
   "outputs": [
    {
     "data": {
      "text/plain": [
       "<matplotlib.axes._subplots.AxesSubplot at 0x7f20e9345ef0>"
      ]
     },
     "execution_count": 101,
     "metadata": {},
     "output_type": "execute_result"
    },
    {
     "data": {
      "image/png": "[encoded data removed]",
      "text/plain": [
       "<Figure size 432x288 with 1 Axes>"
      ]
     },
     "metadata": {
      "needs_background": "light"
     },
     "output_type": "display_data"
    }
   ],
   "source": [
    "df2.plot('time', 'speed kmh')"
   ]
  },
  {
   "cell_type": "code",
   "execution_count": 16,
   "metadata": {},
   "outputs": [],
   "source": [
    "def time_to_dest(df):\n",
    "    end_time = df['time'].iloc[-1]\n",
    "    df['time_to_dest'] = (end_time - df['time']).dt.total_seconds().astype(int)\n",
    "def set_dropoff(df):\n",
    "    df['dropoff_latitude'] = df['latitude'].iloc[-1]\n",
    "    df['dropoff_longitude'] = df['longitude'].iloc[-1]\n"
   ]
  },
  {
   "cell_type": "code",
   "execution_count": 105,
   "metadata": {},
   "outputs": [
    {
     "data": {
      "text/plain": [
       "57230   00:16:30\n",
       "57231   00:16:15\n",
       "57232   00:16:00\n",
       "57233   00:15:30\n",
       "57234   00:15:15\n",
       "          ...   \n",
       "57288   00:01:15\n",
       "57289   00:01:00\n",
       "57290   00:00:30\n",
       "57291   00:00:15\n",
       "57292   00:00:00\n",
       "Name: time, Length: 63, dtype: timedelta64[ns]"
      ]
     },
     "execution_count": 105,
     "metadata": {},
     "output_type": "execute_result"
    }
   ],
   "source": [
    "df2['time'].iloc[-1] - df2['time']"
   ]
  },
  {
   "cell_type": "code",
   "execution_count": 265,
   "metadata": {},
   "outputs": [],
   "source": [
    "time_to_dest(df2)\n",
    "set_dropoff(df2)\n",
    "\n",
    "df2['dist_to_dest'] = haversine(df2['latitude'].values, df2['longitude'].values, df2['dropoff_latitude'].values, df2['dropoff_longitude'].values)"
   ]
  },
  {
   "cell_type": "code",
   "execution_count": 266,
   "metadata": {},
   "outputs": [],
   "source": [
    "df2['pickup_weekday'] = df2['time'].dt.weekday\n",
    "df2['pickup_hour_weekofyear'] = df2['time'].dt.weekofyear\n",
    "df2['pickup_hour'] = df2['time'].dt.hour\n",
    "df2['pickup_minute'] = df2['time'].dt.minute\n",
    "df2['pickup_dt'] = (df2['time'] - df2['time'].min()).dt.total_seconds()\n",
    "df2['pickup_week_hour'] = df2['pickup_weekday'] * 24 + df2['pickup_hour']"
   ]
  },
  {
   "cell_type": "code",
   "execution_count": 267,
   "metadata": {},
   "outputs": [
    {
     "data": {
      "text/plain": [
       "Index(['Unnamed: 0', 'time', 'longitude', 'latitude', 'ID',\n",
       "       'distance_travelled', 'time_elapsed_seconds', 'speed m/s', 'speed kmh',\n",
       "       'bearing', 'bearing_diff', 'rate_of_turn', 'acceleration',\n",
       "       'time_to_dest', 'dropoff_latitude', 'dropoff_longitude', 'dist_to_dest',\n",
       "       'pickup_weekday', 'pickup_hour_weekofyear', 'pickup_hour',\n",
       "       'pickup_minute', 'pickup_dt', 'pickup_week_hour'],\n",
       "      dtype='object')"
      ]
     },
     "execution_count": 267,
     "metadata": {},
     "output_type": "execute_result"
    }
   ],
   "source": [
    "df2.columns"
   ]
  },
  {
   "cell_type": "code",
   "execution_count": 17,
   "metadata": {},
   "outputs": [],
   "source": [
    "import tensorflow as tf\n",
    "from tensorflow.python.keras.backend import tanh, conv1d, expand_dims, squeeze, clip\n",
    "from tensorflow.python.keras.models import Sequential, Model\n",
    "from tensorflow.python.keras.layers import Input, Dense, GRU, Embedding, Flatten, Conv1D, Conv2D, Lambda, concatenate, Reshape, TimeDistributed, MaxPooling1D, Permute, BatchNormalization, ELU\n",
    "from tensorflow.python.keras.layers.recurrent import LSTM,RNN\n",
    "from tensorflow.python.keras.layers.core import Dense, Activation, Dropout\n",
    "from tensorflow.python.keras.callbacks import EarlyStopping, ModelCheckpoint, TensorBoard, ReduceLROnPlateau\n",
    "from tensorflow.python.keras import losses\n",
    "# from tensorflow.python.keras.activations import elu\n",
    "\n",
    "\n",
    "import tensorflow.python.keras.backend as K\n",
    "\n",
    "\n",
    "from sklearn.preprocessing import MinMaxScaler\n",
    "from sklearn.metrics import mean_squared_error\n",
    "from sklearn.utils import shuffle\n",
    "from sklearn.model_selection import train_test_split"
   ]
  },
  {
   "cell_type": "code",
   "execution_count": 18,
   "metadata": {},
   "outputs": [],
   "source": [
    "from tensorflow.python.keras import backend as K\n",
    "# import tensorflow as tf\n",
    "def rmsle_K(y, y0):\n",
    "    return K.sqrt(K.mean(K.square(tf.log1p(y) - tf.log1p(y0))))\n",
    "def rmsletf(y_pred, y_true): \n",
    "    y_pred= tf.cast(y_pred, tf.float64) \n",
    "    y_true= tf.cast(y_true, tf.float64) \n",
    "    y_pred=tf.nn.relu(y_pred) \n",
    "    return np.abs(tf.sqrt(tf.reduce_mean(tf.squared_difference(tf.log1p(y_pred), tf.log1p(y_true)))))"
   ]
  },
  {
   "cell_type": "code",
   "execution_count": 268,
   "metadata": {},
   "outputs": [],
   "source": [
    "x = df2[['longitude', 'latitude']].values\n",
    "x = x.reshape(len(x), 2,1)\n",
    "y = df2[['time_to_dest']].values\n",
    "y = y.reshape(len(y),1,1)"
   ]
  },
  {
   "cell_type": "code",
   "execution_count": 269,
   "metadata": {},
   "outputs": [
    {
     "data": {
      "text/plain": [
       "(63, 1, 1)"
      ]
     },
     "execution_count": 269,
     "metadata": {},
     "output_type": "execute_result"
    }
   ],
   "source": [
    "y.shape"
   ]
  },
  {
   "cell_type": "code",
   "execution_count": 270,
   "metadata": {},
   "outputs": [
    {
     "data": {
      "text/plain": [
       "(63, 2, 1)"
      ]
     },
     "execution_count": 270,
     "metadata": {},
     "output_type": "execute_result"
    }
   ],
   "source": [
    "x.shape"
   ]
  },
  {
   "cell_type": "code",
   "execution_count": 156,
   "metadata": {},
   "outputs": [],
   "source": [
    "# define two sets of inputs\n",
    "inputA = Input(shape=(2,1))\n",
    "# the first branch operates on the first input\n",
    "cnn = Dense(16, activation=\"tanh\")(inputA)\n",
    "# x = tanh(x)\n",
    "# cnn = Reshape((16,2))(cnn)\n",
    "cnn = Permute(dims = (2,1))(cnn)\n",
    "cnn = Conv1D(32, activation = 'elu', kernel_size = 3)(cnn)\n",
    "cnn = MaxPooling1D(3)(cnn)\n",
    "cnn_out = Flatten()(cnn)\n",
    "# cnn = Reshape((None,16))(cnn)\n",
    "# cnn = Dense(16, activation = 'relu')(cnn)\n",
    "# cnn_output = Dense(16, activation='sigmoid')(cnn)\n",
    "# cnn = Model(inputs=inputA, outputs=cnn_out)"
   ]
  },
  {
   "cell_type": "code",
   "execution_count": 26,
   "metadata": {},
   "outputs": [],
   "source": [
    "\n",
    "mfcc_input = Input(shape=(None, 18, 1), dtype='float', name='mfcc_input')\n",
    "CNN_out = TimeDistributed(Conv1D(32, 3, activation='relu'))(mfcc_input)\n",
    "CNN_out = BatchNormalization(axis=-1, momentum=0.99, epsilon=0.001, center=True, scale=True)(CNN_out)\n",
    "CNN_out = TimeDistributed(MaxPooling1D(pool_size=(3), strides=None, padding='valid'))(CNN_out)\n",
    "CNN_out = Permute(dims = (3,2,1))(CNN_out)\n",
    "\n",
    "cnn = Model(inputs=mfcc_input, outputs=CNN_out)"
   ]
  },
  {
   "cell_type": "code",
   "execution_count": 27,
   "metadata": {},
   "outputs": [
    {
     "name": "stdout",
     "output_type": "stream",
     "text": [
      "Model: \"model_1\"\n",
      "_________________________________________________________________\n",
      "Layer (type)                 Output Shape              Param #   \n",
      "=================================================================\n",
      "mfcc_input (InputLayer)      [(None, None, 18, 1)]     0         \n",
      "_________________________________________________________________\n",
      "time_distributed (TimeDistri (None, None, 16, 32)      128       \n",
      "_________________________________________________________________\n",
      "batch_normalization (BatchNo (None, None, 16, 32)      128       \n",
      "_________________________________________________________________\n",
      "time_distributed_1 (TimeDist (None, None, 5, 32)       0         \n",
      "_________________________________________________________________\n",
      "permute_2 (Permute)          (None, 32, 5, None)       0         \n",
      "=================================================================\n",
      "Total params: 256\n",
      "Trainable params: 192\n",
      "Non-trainable params: 64\n",
      "_________________________________________________________________\n"
     ]
    }
   ],
   "source": [
    "cnn.summary()"
   ]
  },
  {
   "cell_type": "code",
   "execution_count": 28,
   "metadata": {},
   "outputs": [],
   "source": [
    "cnn = Sequential()\n",
    "cnn.add(Dense(16, activation='tanh'))\n",
    "cnn.add(Conv1D(1, kernel_size = 4, activation = \"elu\"))"
   ]
  },
  {
   "cell_type": "code",
   "execution_count": 29,
   "metadata": {},
   "outputs": [],
   "source": [
    "auxiliary_output = Dense(1, activation='sigmoid', name='aux_output')(cnn_out)"
   ]
  },
  {
   "cell_type": "code",
   "execution_count": null,
   "metadata": {},
   "outputs": [],
   "source": [
    "auxiliary_input = Input(shape=(18,1), name='aux_input')\n",
    "x = concatenate([cnn_out, auxiliary_input], axis = 1)"
   ]
  },
  {
   "cell_type": "code",
   "execution_count": 531,
   "metadata": {},
   "outputs": [],
   "source": [
    "# x = Dense(64, activation='relu')(x)"
   ]
  },
  {
   "cell_type": "code",
   "execution_count": 532,
   "metadata": {},
   "outputs": [],
   "source": [
    "x = LSTM(100, return_sequences = True)(x)\n",
    "x = Dropout(0.2)(x)\n",
    "x = LSTM(100,return_sequences = True)(x)\n",
    "x = Dropout(0.2)(x)\n",
    "x = LSTM(50)(x)\n",
    "x = Dropout(0.2)(x)\n",
    "main_output = Dense(1, activation='sigmoid', name='main_output')(x)\n",
    "model = Model(inputs=[inputA, auxiliary_input], outputs=[main_output])\n"
   ]
  },
  {
   "cell_type": "code",
   "execution_count": 533,
   "metadata": {},
   "outputs": [],
   "source": [
    "model.compile(optimizer='adam', loss='mae', metrics=[rmsletf])"
   ]
  },
  {
   "cell_type": "code",
   "execution_count": null,
   "metadata": {},
   "outputs": [],
   "source": [
    "model.summary()"
   ]
  },
  {
   "cell_type": "code",
   "execution_count": 228,
   "metadata": {},
   "outputs": [
    {
     "name": "stdout",
     "output_type": "stream",
     "text": [
      "Model: \"sequential_19\"\n",
      "_________________________________________________________________\n",
      "Layer (type)                 Output Shape              Param #   \n",
      "=================================================================\n",
      "lstm_19 (LSTM)               (None, 512)               1052672   \n",
      "_________________________________________________________________\n",
      "dropout_19 (Dropout)         (None, 512)               0         \n",
      "_________________________________________________________________\n",
      "dense_20 (Dense)             (None, 1)                 513       \n",
      "=================================================================\n",
      "Total params: 1,053,185\n",
      "Trainable params: 1,053,185\n",
      "Non-trainable params: 0\n",
      "_________________________________________________________________\n"
     ]
    }
   ],
   "source": [
    "model = Sequential()\n",
    "\n",
    "# first layer\n",
    "model.add(LSTM(units=512, batch_input_shape=(None,18,1),return_sequences=False, activation = 'tanh'))\n",
    "model.add(Dropout(0.2))\n",
    "\n",
    "# second layer\n",
    "# model.add(Dense(128, 1))\n",
    "# model.add(LSTM(units=100,return_sequences=False))\n",
    "# model.add(Dropout(0.2))\n",
    "\n",
    "# third layer\n",
    "# model.add(LSTM(units=50,return_sequences=False))\n",
    "# model.add(Dropout(0.2))\n",
    "\n",
    "# fourth dense layer\n",
    "model.add(Dense(units=1))\n",
    "\n",
    "\n",
    "model.compile(loss='mean_absolute_error',optimizer='adam',metrics=[rmsle_K])\n",
    "model.summary()\n",
    "          "
   ]
  },
  {
   "cell_type": "code",
   "execution_count": 271,
   "metadata": {},
   "outputs": [],
   "source": [
    "train_x = df2.drop(['Unnamed: 0', 'time', 'ID', 'time_elapsed_seconds', 'time_to_dest'] ,axis =1)\n",
    "train_y = df2[['time_to_dest']]"
   ]
  },
  {
   "cell_type": "code",
   "execution_count": 99,
   "metadata": {},
   "outputs": [
    {
     "data": {
      "text/html": [
       "<div>\n",
       "<style scoped>\n",
       "    .dataframe tbody tr th:only-of-type {\n",
       "        vertical-align: middle;\n",
       "    }\n",
       "\n",
       "    .dataframe tbody tr th {\n",
       "        vertical-align: top;\n",
       "    }\n",
       "\n",
       "    .dataframe thead th {\n",
       "        text-align: right;\n",
       "    }\n",
       "</style>\n",
       "<table border=\"1\" class=\"dataframe\">\n",
       "  <thead>\n",
       "    <tr style=\"text-align: right;\">\n",
       "      <th></th>\n",
       "      <th>Unnamed: 0</th>\n",
       "      <th>time</th>\n",
       "      <th>longitude</th>\n",
       "      <th>latitude</th>\n",
       "      <th>ID</th>\n",
       "      <th>distance_travelled</th>\n",
       "      <th>time_elapsed_seconds</th>\n",
       "      <th>speed m/s</th>\n",
       "      <th>speed kmh</th>\n",
       "      <th>bearing</th>\n",
       "      <th>...</th>\n",
       "      <th>dropoff_longitude</th>\n",
       "      <th>dist_to_dest</th>\n",
       "      <th>pickup_weekday</th>\n",
       "      <th>pickup_hour_weekofyear</th>\n",
       "      <th>pickup_hour</th>\n",
       "      <th>pickup_minute</th>\n",
       "      <th>pickup_dt</th>\n",
       "      <th>pickup_week_hour</th>\n",
       "      <th>next_lat</th>\n",
       "      <th>next_lon</th>\n",
       "    </tr>\n",
       "  </thead>\n",
       "  <tbody>\n",
       "    <tr>\n",
       "      <th>2382005</th>\n",
       "      <td>NaN</td>\n",
       "      <td>NaT</td>\n",
       "      <td>NaN</td>\n",
       "      <td>NaN</td>\n",
       "      <td>NaN</td>\n",
       "      <td>NaN</td>\n",
       "      <td>NaN</td>\n",
       "      <td>NaN</td>\n",
       "      <td>NaN</td>\n",
       "      <td>NaN</td>\n",
       "      <td>...</td>\n",
       "      <td>NaN</td>\n",
       "      <td>NaN</td>\n",
       "      <td>NaN</td>\n",
       "      <td>NaN</td>\n",
       "      <td>NaN</td>\n",
       "      <td>NaN</td>\n",
       "      <td>NaN</td>\n",
       "      <td>NaN</td>\n",
       "      <td>NaN</td>\n",
       "      <td>NaN</td>\n",
       "    </tr>\n",
       "    <tr>\n",
       "      <th>2382006</th>\n",
       "      <td>NaN</td>\n",
       "      <td>NaT</td>\n",
       "      <td>NaN</td>\n",
       "      <td>NaN</td>\n",
       "      <td>NaN</td>\n",
       "      <td>NaN</td>\n",
       "      <td>NaN</td>\n",
       "      <td>NaN</td>\n",
       "      <td>NaN</td>\n",
       "      <td>NaN</td>\n",
       "      <td>...</td>\n",
       "      <td>NaN</td>\n",
       "      <td>NaN</td>\n",
       "      <td>NaN</td>\n",
       "      <td>NaN</td>\n",
       "      <td>NaN</td>\n",
       "      <td>NaN</td>\n",
       "      <td>NaN</td>\n",
       "      <td>NaN</td>\n",
       "      <td>NaN</td>\n",
       "      <td>NaN</td>\n",
       "    </tr>\n",
       "    <tr>\n",
       "      <th>2382007</th>\n",
       "      <td>NaN</td>\n",
       "      <td>NaT</td>\n",
       "      <td>NaN</td>\n",
       "      <td>NaN</td>\n",
       "      <td>NaN</td>\n",
       "      <td>NaN</td>\n",
       "      <td>NaN</td>\n",
       "      <td>NaN</td>\n",
       "      <td>NaN</td>\n",
       "      <td>NaN</td>\n",
       "      <td>...</td>\n",
       "      <td>NaN</td>\n",
       "      <td>NaN</td>\n",
       "      <td>NaN</td>\n",
       "      <td>NaN</td>\n",
       "      <td>NaN</td>\n",
       "      <td>NaN</td>\n",
       "      <td>NaN</td>\n",
       "      <td>NaN</td>\n",
       "      <td>NaN</td>\n",
       "      <td>NaN</td>\n",
       "    </tr>\n",
       "    <tr>\n",
       "      <th>2382008</th>\n",
       "      <td>NaN</td>\n",
       "      <td>NaT</td>\n",
       "      <td>NaN</td>\n",
       "      <td>NaN</td>\n",
       "      <td>NaN</td>\n",
       "      <td>NaN</td>\n",
       "      <td>NaN</td>\n",
       "      <td>NaN</td>\n",
       "      <td>NaN</td>\n",
       "      <td>NaN</td>\n",
       "      <td>...</td>\n",
       "      <td>NaN</td>\n",
       "      <td>NaN</td>\n",
       "      <td>NaN</td>\n",
       "      <td>NaN</td>\n",
       "      <td>NaN</td>\n",
       "      <td>NaN</td>\n",
       "      <td>NaN</td>\n",
       "      <td>NaN</td>\n",
       "      <td>NaN</td>\n",
       "      <td>NaN</td>\n",
       "    </tr>\n",
       "    <tr>\n",
       "      <th>2382009</th>\n",
       "      <td>NaN</td>\n",
       "      <td>NaT</td>\n",
       "      <td>NaN</td>\n",
       "      <td>NaN</td>\n",
       "      <td>NaN</td>\n",
       "      <td>NaN</td>\n",
       "      <td>NaN</td>\n",
       "      <td>NaN</td>\n",
       "      <td>NaN</td>\n",
       "      <td>NaN</td>\n",
       "      <td>...</td>\n",
       "      <td>NaN</td>\n",
       "      <td>NaN</td>\n",
       "      <td>NaN</td>\n",
       "      <td>NaN</td>\n",
       "      <td>NaN</td>\n",
       "      <td>NaN</td>\n",
       "      <td>NaN</td>\n",
       "      <td>NaN</td>\n",
       "      <td>NaN</td>\n",
       "      <td>NaN</td>\n",
       "    </tr>\n",
       "    <tr>\n",
       "      <th>...</th>\n",
       "      <td>...</td>\n",
       "      <td>...</td>\n",
       "      <td>...</td>\n",
       "      <td>...</td>\n",
       "      <td>...</td>\n",
       "      <td>...</td>\n",
       "      <td>...</td>\n",
       "      <td>...</td>\n",
       "      <td>...</td>\n",
       "      <td>...</td>\n",
       "      <td>...</td>\n",
       "      <td>...</td>\n",
       "      <td>...</td>\n",
       "      <td>...</td>\n",
       "      <td>...</td>\n",
       "      <td>...</td>\n",
       "      <td>...</td>\n",
       "      <td>...</td>\n",
       "      <td>...</td>\n",
       "      <td>...</td>\n",
       "      <td>...</td>\n",
       "    </tr>\n",
       "    <tr>\n",
       "      <th>2382046</th>\n",
       "      <td>NaN</td>\n",
       "      <td>NaT</td>\n",
       "      <td>NaN</td>\n",
       "      <td>NaN</td>\n",
       "      <td>NaN</td>\n",
       "      <td>NaN</td>\n",
       "      <td>NaN</td>\n",
       "      <td>NaN</td>\n",
       "      <td>NaN</td>\n",
       "      <td>NaN</td>\n",
       "      <td>...</td>\n",
       "      <td>NaN</td>\n",
       "      <td>NaN</td>\n",
       "      <td>NaN</td>\n",
       "      <td>NaN</td>\n",
       "      <td>NaN</td>\n",
       "      <td>NaN</td>\n",
       "      <td>NaN</td>\n",
       "      <td>NaN</td>\n",
       "      <td>NaN</td>\n",
       "      <td>NaN</td>\n",
       "    </tr>\n",
       "    <tr>\n",
       "      <th>2382047</th>\n",
       "      <td>NaN</td>\n",
       "      <td>NaT</td>\n",
       "      <td>NaN</td>\n",
       "      <td>NaN</td>\n",
       "      <td>NaN</td>\n",
       "      <td>NaN</td>\n",
       "      <td>NaN</td>\n",
       "      <td>NaN</td>\n",
       "      <td>NaN</td>\n",
       "      <td>NaN</td>\n",
       "      <td>...</td>\n",
       "      <td>NaN</td>\n",
       "      <td>NaN</td>\n",
       "      <td>NaN</td>\n",
       "      <td>NaN</td>\n",
       "      <td>NaN</td>\n",
       "      <td>NaN</td>\n",
       "      <td>NaN</td>\n",
       "      <td>NaN</td>\n",
       "      <td>NaN</td>\n",
       "      <td>NaN</td>\n",
       "    </tr>\n",
       "    <tr>\n",
       "      <th>2382048</th>\n",
       "      <td>NaN</td>\n",
       "      <td>NaT</td>\n",
       "      <td>NaN</td>\n",
       "      <td>NaN</td>\n",
       "      <td>NaN</td>\n",
       "      <td>NaN</td>\n",
       "      <td>NaN</td>\n",
       "      <td>NaN</td>\n",
       "      <td>NaN</td>\n",
       "      <td>NaN</td>\n",
       "      <td>...</td>\n",
       "      <td>NaN</td>\n",
       "      <td>NaN</td>\n",
       "      <td>NaN</td>\n",
       "      <td>NaN</td>\n",
       "      <td>NaN</td>\n",
       "      <td>NaN</td>\n",
       "      <td>NaN</td>\n",
       "      <td>NaN</td>\n",
       "      <td>NaN</td>\n",
       "      <td>NaN</td>\n",
       "    </tr>\n",
       "    <tr>\n",
       "      <th>2382049</th>\n",
       "      <td>NaN</td>\n",
       "      <td>NaT</td>\n",
       "      <td>NaN</td>\n",
       "      <td>NaN</td>\n",
       "      <td>NaN</td>\n",
       "      <td>NaN</td>\n",
       "      <td>NaN</td>\n",
       "      <td>NaN</td>\n",
       "      <td>NaN</td>\n",
       "      <td>NaN</td>\n",
       "      <td>...</td>\n",
       "      <td>NaN</td>\n",
       "      <td>NaN</td>\n",
       "      <td>NaN</td>\n",
       "      <td>NaN</td>\n",
       "      <td>NaN</td>\n",
       "      <td>NaN</td>\n",
       "      <td>NaN</td>\n",
       "      <td>NaN</td>\n",
       "      <td>NaN</td>\n",
       "      <td>NaN</td>\n",
       "    </tr>\n",
       "    <tr>\n",
       "      <th>2382050</th>\n",
       "      <td>NaN</td>\n",
       "      <td>NaT</td>\n",
       "      <td>NaN</td>\n",
       "      <td>NaN</td>\n",
       "      <td>NaN</td>\n",
       "      <td>NaN</td>\n",
       "      <td>NaN</td>\n",
       "      <td>NaN</td>\n",
       "      <td>NaN</td>\n",
       "      <td>NaN</td>\n",
       "      <td>...</td>\n",
       "      <td>NaN</td>\n",
       "      <td>NaN</td>\n",
       "      <td>NaN</td>\n",
       "      <td>NaN</td>\n",
       "      <td>NaN</td>\n",
       "      <td>NaN</td>\n",
       "      <td>NaN</td>\n",
       "      <td>NaN</td>\n",
       "      <td>NaN</td>\n",
       "      <td>NaN</td>\n",
       "    </tr>\n",
       "  </tbody>\n",
       "</table>\n",
       "<p>46 rows × 25 columns</p>\n",
       "</div>"
      ],
      "text/plain": [
       "         Unnamed: 0 time  longitude  latitude  ID  distance_travelled  \\\n",
       "2382005         NaN  NaT        NaN       NaN NaN                 NaN   \n",
       "2382006         NaN  NaT        NaN       NaN NaN                 NaN   \n",
       "2382007         NaN  NaT        NaN       NaN NaN                 NaN   \n",
       "2382008         NaN  NaT        NaN       NaN NaN                 NaN   \n",
       "2382009         NaN  NaT        NaN       NaN NaN                 NaN   \n",
       "...             ...  ...        ...       ...  ..                 ...   \n",
       "2382046         NaN  NaT        NaN       NaN NaN                 NaN   \n",
       "2382047         NaN  NaT        NaN       NaN NaN                 NaN   \n",
       "2382048         NaN  NaT        NaN       NaN NaN                 NaN   \n",
       "2382049         NaN  NaT        NaN       NaN NaN                 NaN   \n",
       "2382050         NaN  NaT        NaN       NaN NaN                 NaN   \n",
       "\n",
       "         time_elapsed_seconds  speed m/s  speed kmh  bearing  ...  \\\n",
       "2382005                   NaN        NaN        NaN      NaN  ...   \n",
       "2382006                   NaN        NaN        NaN      NaN  ...   \n",
       "2382007                   NaN        NaN        NaN      NaN  ...   \n",
       "2382008                   NaN        NaN        NaN      NaN  ...   \n",
       "2382009                   NaN        NaN        NaN      NaN  ...   \n",
       "...                       ...        ...        ...      ...  ...   \n",
       "2382046                   NaN        NaN        NaN      NaN  ...   \n",
       "2382047                   NaN        NaN        NaN      NaN  ...   \n",
       "2382048                   NaN        NaN        NaN      NaN  ...   \n",
       "2382049                   NaN        NaN        NaN      NaN  ...   \n",
       "2382050                   NaN        NaN        NaN      NaN  ...   \n",
       "\n",
       "         dropoff_longitude  dist_to_dest  pickup_weekday  \\\n",
       "2382005                NaN           NaN             NaN   \n",
       "2382006                NaN           NaN             NaN   \n",
       "2382007                NaN           NaN             NaN   \n",
       "2382008                NaN           NaN             NaN   \n",
       "2382009                NaN           NaN             NaN   \n",
       "...                    ...           ...             ...   \n",
       "2382046                NaN           NaN             NaN   \n",
       "2382047                NaN           NaN             NaN   \n",
       "2382048                NaN           NaN             NaN   \n",
       "2382049                NaN           NaN             NaN   \n",
       "2382050                NaN           NaN             NaN   \n",
       "\n",
       "         pickup_hour_weekofyear  pickup_hour  pickup_minute  pickup_dt  \\\n",
       "2382005                     NaN          NaN            NaN        NaN   \n",
       "2382006                     NaN          NaN            NaN        NaN   \n",
       "2382007                     NaN          NaN            NaN        NaN   \n",
       "2382008                     NaN          NaN            NaN        NaN   \n",
       "2382009                     NaN          NaN            NaN        NaN   \n",
       "...                         ...          ...            ...        ...   \n",
       "2382046                     NaN          NaN            NaN        NaN   \n",
       "2382047                     NaN          NaN            NaN        NaN   \n",
       "2382048                     NaN          NaN            NaN        NaN   \n",
       "2382049                     NaN          NaN            NaN        NaN   \n",
       "2382050                     NaN          NaN            NaN        NaN   \n",
       "\n",
       "         pickup_week_hour  next_lat  next_lon  \n",
       "2382005               NaN       NaN       NaN  \n",
       "2382006               NaN       NaN       NaN  \n",
       "2382007               NaN       NaN       NaN  \n",
       "2382008               NaN       NaN       NaN  \n",
       "2382009               NaN       NaN       NaN  \n",
       "...                   ...       ...       ...  \n",
       "2382046               NaN       NaN       NaN  \n",
       "2382047               NaN       NaN       NaN  \n",
       "2382048               NaN       NaN       NaN  \n",
       "2382049               NaN       NaN       NaN  \n",
       "2382050               NaN       NaN       NaN  \n",
       "\n",
       "[46 rows x 25 columns]"
      ]
     },
     "execution_count": 99,
     "metadata": {},
     "output_type": "execute_result"
    }
   ],
   "source": [
    "df2[df2[['time_to_dest']] < 75]"
   ]
  },
  {
   "cell_type": "code",
   "execution_count": 158,
   "metadata": {},
   "outputs": [],
   "source": [
    "mu, sigma = 0, 5\n",
    "noise = np.random.normal(mu, sigma, [67,1]) \n",
    "train_y = train_y + noise"
   ]
  },
  {
   "cell_type": "code",
   "execution_count": 272,
   "metadata": {},
   "outputs": [
    {
     "data": {
      "text/plain": [
       "(63, 18)"
      ]
     },
     "execution_count": 272,
     "metadata": {},
     "output_type": "execute_result"
    }
   ],
   "source": [
    "x_data = train_x.values\n",
    "x_data = np.array(x_data)\n",
    "# x_data = x_data.reshape(19828,5,1)\n",
    "x_data.shape"
   ]
  },
  {
   "cell_type": "code",
   "execution_count": 273,
   "metadata": {},
   "outputs": [
    {
     "data": {
      "text/plain": [
       "(63, 1)"
      ]
     },
     "execution_count": 273,
     "metadata": {},
     "output_type": "execute_result"
    }
   ],
   "source": [
    "y_data = train_y.values\n",
    "y_data.shape"
   ]
  },
  {
   "cell_type": "code",
   "execution_count": 274,
   "metadata": {},
   "outputs": [],
   "source": [
    "# x_test = x_data\n",
    "# y_test = y_data"
   ]
  },
  {
   "cell_type": "code",
   "execution_count": 164,
   "metadata": {},
   "outputs": [],
   "source": [
    "x_train = x_data[0:50]\n",
    "y_train = y_data[0:50]\n",
    "x_test = x_data[50:]\n",
    "y_test = y_data[50:]"
   ]
  },
  {
   "cell_type": "code",
   "execution_count": 275,
   "metadata": {},
   "outputs": [],
   "source": [
    "# sc = MinMaxScaler(feature_range=(-1,1))\n",
    "scy = MinMaxScaler(feature_range=(-1,1))\n",
    "sc = sklearn.preprocessing.StandardScaler()\n",
    "# new_df= x_data[].reshape(x_data.shape[0],5)\n",
    "\n",
    "x_train = sc.fit_transform(x_train)\n",
    "x_train = x_train.reshape(50,18,1)\n",
    "x_test = sc.transform(x_test).reshape(17,18,1)\n",
    "\n",
    "\n",
    "y_train = scy.fit_transform(y_train)\n",
    "y_test = scy.transform(y_test)\n",
    "\n",
    "# new_y_data = y_data\n",
    "# new_y_data = scy.fit_transform(y_)"
   ]
  },
  {
   "cell_type": "code",
   "execution_count": 229,
   "metadata": {},
   "outputs": [],
   "source": [
    "callback_early_stopping = EarlyStopping(monitor='val_loss',\n",
    "                                        patience=10, verbose=1)"
   ]
  },
  {
   "cell_type": "code",
   "execution_count": null,
   "metadata": {},
   "outputs": [],
   "source": [
    "model.fit(x_train,y_train,epochs=50,validation_data=(x_test,y_test), callbacks = [callback_early_stopping], verbose = 1)"
   ]
  },
  {
   "cell_type": "code",
   "execution_count": null,
   "metadata": {},
   "outputs": [],
   "source": [
    "\n",
    "c2 = list(zip(x_test, y_test))\n",
    "\n",
    "random.shuffle(c)\n",
    "\n",
    "x_test, y_test = zip(*c2)\n"
   ]
  },
  {
   "cell_type": "code",
   "execution_count": null,
   "metadata": {},
   "outputs": [],
   "source": [
    "result = model.predict(np.array(x_test))\n",
    "result"
   ]
  },
  {
   "cell_type": "code",
   "execution_count": 277,
   "metadata": {},
   "outputs": [],
   "source": [
    "res_df = scy.inverse_transform(result)"
   ]
  },
  {
   "cell_type": "code",
   "execution_count": 278,
   "metadata": {},
   "outputs": [],
   "source": [
    "y_test_actual=scy.inverse_transform(y_test)"
   ]
  },
  {
   "cell_type": "code",
   "execution_count": 279,
   "metadata": {},
   "outputs": [
    {
     "data": {
      "text/plain": [
       "15577.308237227182"
      ]
     },
     "execution_count": 279,
     "metadata": {},
     "output_type": "execute_result"
    }
   ],
   "source": [
    "mean_absolute_error(res_df , y_test_actual )"
   ]
  },
  {
   "cell_type": "code",
   "execution_count": 280,
   "metadata": {},
   "outputs": [
    {
     "data": {
      "text/plain": [
       "<matplotlib.legend.Legend at 0x7f543256b668>"
      ]
     },
     "execution_count": 280,
     "metadata": {},
     "output_type": "execute_result"
    },
    {
     "data": {
      "image/png": "[encoded data removed]",
      "text/plain": [
       "<Figure size 864x360 with 1 Axes>"
      ]
     },
     "metadata": {
      "needs_background": "light"
     },
     "output_type": "display_data"
    }
   ],
   "source": [
    "plt.figure(figsize=(12,5))\n",
    "plt.plot(res_df, label = 'pred')\n",
    "plt.plot(y_test_actual, label = 'true')\n",
    "plt.ylabel('time to dest')\n",
    "plt.legend()"
   ]
  },
  {
   "cell_type": "code",
   "execution_count": 432,
   "metadata": {},
   "outputs": [
    {
     "data": {
      "text/plain": [
       "<matplotlib.legend.Legend at 0x7fd10a541a90>"
      ]
     },
     "execution_count": 432,
     "metadata": {},
     "output_type": "execute_result"
    },
    {
     "data": {
      "image/png": "[encoded data removed]",
      "text/plain": [
       "<Figure size 864x360 with 1 Axes>"
      ]
     },
     "metadata": {
      "needs_background": "light"
     },
     "output_type": "display_data"
    }
   ],
   "source": [
    "plt.figure(figsize=(12,5))\n",
    "plt.plot(res_df, label = 'pred')\n",
    "plt.plot(y_test_actual, label = 'true')\n",
    "plt.ylabel('time to dest')\n",
    "plt.legend()"
   ]
  },
  {
   "cell_type": "code",
   "execution_count": 486,
   "metadata": {},
   "outputs": [
    {
     "data": {
      "image/svg+xml": [
       "<svg height=\"921pt\" viewBox=\"0.00 0.00 371.50 921.00\" width=\"372pt\" xmlns=\"http://www.w3.org/2000/svg\" xmlns:xlink=\"http://www.w3.org/1999/xlink\">\n",
       "<g class=\"graph\" id=\"graph0\" transform=\"scale(1 1) rotate(0) translate(4 917)\">\n",
       "<title>G</title>\n",
       "<polygon fill=\"#ffffff\" points=\"-4,4 -4,-917 367.5,-917 367.5,4 -4,4\" stroke=\"transparent\"/>\n",
       "<!-- 140535714927392 -->\n",
       "<g class=\"node\" id=\"node1\">\n",
       "<title>140535714927392</title>\n",
       "<polygon fill=\"none\" points=\"34,-876.5 34,-912.5 173,-912.5 173,-876.5 34,-876.5\" stroke=\"#000000\"/>\n",
       "<text fill=\"#000000\" font-family=\"Times,serif\" font-size=\"14.00\" text-anchor=\"middle\" x=\"103.5\" y=\"-890.8\">input_113: InputLayer</text>\n",
       "</g>\n",
       "<!-- 140535714927336 -->\n",
       "<g class=\"node\" id=\"node2\">\n",
       "<title>140535714927336</title>\n",
       "<polygon fill=\"none\" points=\"45.5,-803.5 45.5,-839.5 161.5,-839.5 161.5,-803.5 45.5,-803.5\" stroke=\"#000000\"/>\n",
       "<text fill=\"#000000\" font-family=\"Times,serif\" font-size=\"14.00\" text-anchor=\"middle\" x=\"103.5\" y=\"-817.8\">dense_130: Dense</text>\n",
       "</g>\n",
       "<!-- 140535714927392&#45;&gt;140535714927336 -->\n",
       "<g class=\"edge\" id=\"edge1\">\n",
       "<title>140535714927392-&gt;140535714927336</title>\n",
       "<path d=\"M103.5,-876.4551C103.5,-868.3828 103.5,-858.6764 103.5,-849.6817\" fill=\"none\" stroke=\"#000000\"/>\n",
       "<polygon fill=\"#000000\" points=\"107.0001,-849.5903 103.5,-839.5904 100.0001,-849.5904 107.0001,-849.5903\" stroke=\"#000000\"/>\n",
       "</g>\n",
       "<!-- 140535714927504 -->\n",
       "<g class=\"node\" id=\"node3\">\n",
       "<title>140535714927504</title>\n",
       "<polygon fill=\"none\" points=\"38,-730.5 38,-766.5 169,-766.5 169,-730.5 38,-730.5\" stroke=\"#000000\"/>\n",
       "<text fill=\"#000000\" font-family=\"Times,serif\" font-size=\"14.00\" text-anchor=\"middle\" x=\"103.5\" y=\"-744.8\">reshape_59: Reshape</text>\n",
       "</g>\n",
       "<!-- 140535714927336&#45;&gt;140535714927504 -->\n",
       "<g class=\"edge\" id=\"edge2\">\n",
       "<title>140535714927336-&gt;140535714927504</title>\n",
       "<path d=\"M103.5,-803.4551C103.5,-795.3828 103.5,-785.6764 103.5,-776.6817\" fill=\"none\" stroke=\"#000000\"/>\n",
       "<polygon fill=\"#000000\" points=\"107.0001,-776.5903 103.5,-766.5904 100.0001,-776.5904 107.0001,-776.5903\" stroke=\"#000000\"/>\n",
       "</g>\n",
       "<!-- 140535705655000 -->\n",
       "<g class=\"node\" id=\"node4\">\n",
       "<title>140535705655000</title>\n",
       "<polygon fill=\"none\" points=\"38.5,-657.5 38.5,-693.5 168.5,-693.5 168.5,-657.5 38.5,-657.5\" stroke=\"#000000\"/>\n",
       "<text fill=\"#000000\" font-family=\"Times,serif\" font-size=\"14.00\" text-anchor=\"middle\" x=\"103.5\" y=\"-671.8\">conv1d_89: Conv1D</text>\n",
       "</g>\n",
       "<!-- 140535714927504&#45;&gt;140535705655000 -->\n",
       "<g class=\"edge\" id=\"edge3\">\n",
       "<title>140535714927504-&gt;140535705655000</title>\n",
       "<path d=\"M103.5,-730.4551C103.5,-722.3828 103.5,-712.6764 103.5,-703.6817\" fill=\"none\" stroke=\"#000000\"/>\n",
       "<polygon fill=\"#000000\" points=\"107.0001,-703.5903 103.5,-693.5904 100.0001,-703.5904 107.0001,-703.5903\" stroke=\"#000000\"/>\n",
       "</g>\n",
       "<!-- 140535705653656 -->\n",
       "<g class=\"node\" id=\"node5\">\n",
       "<title>140535705653656</title>\n",
       "<polygon fill=\"none\" points=\"0,-584.5 0,-620.5 207,-620.5 207,-584.5 0,-584.5\" stroke=\"#000000\"/>\n",
       "<text fill=\"#000000\" font-family=\"Times,serif\" font-size=\"14.00\" text-anchor=\"middle\" x=\"103.5\" y=\"-598.8\">max_pooling1d_6: MaxPooling1D</text>\n",
       "</g>\n",
       "<!-- 140535705655000&#45;&gt;140535705653656 -->\n",
       "<g class=\"edge\" id=\"edge4\">\n",
       "<title>140535705655000-&gt;140535705653656</title>\n",
       "<path d=\"M103.5,-657.4551C103.5,-649.3828 103.5,-639.6764 103.5,-630.6817\" fill=\"none\" stroke=\"#000000\"/>\n",
       "<polygon fill=\"#000000\" points=\"107.0001,-630.5903 103.5,-620.5904 100.0001,-630.5904 107.0001,-630.5903\" stroke=\"#000000\"/>\n",
       "</g>\n",
       "<!-- 140535703908248 -->\n",
       "<g class=\"node\" id=\"node7\">\n",
       "<title>140535703908248</title>\n",
       "<polygon fill=\"none\" points=\"111,-511.5 111,-547.5 286,-547.5 286,-511.5 111,-511.5\" stroke=\"#000000\"/>\n",
       "<text fill=\"#000000\" font-family=\"Times,serif\" font-size=\"14.00\" text-anchor=\"middle\" x=\"198.5\" y=\"-525.8\">concatenate_29: Concatenate</text>\n",
       "</g>\n",
       "<!-- 140535705653656&#45;&gt;140535703908248 -->\n",
       "<g class=\"edge\" id=\"edge5\">\n",
       "<title>140535705653656-&gt;140535703908248</title>\n",
       "<path d=\"M126.9832,-584.4551C138.9725,-575.2422 153.7321,-563.9006 166.7231,-553.918\" fill=\"none\" stroke=\"#000000\"/>\n",
       "<polygon fill=\"#000000\" points=\"169.161,-556.4587 174.9578,-547.5904 164.8958,-550.9082 169.161,-556.4587\" stroke=\"#000000\"/>\n",
       "</g>\n",
       "<!-- 140535703908304 -->\n",
       "<g class=\"node\" id=\"node6\">\n",
       "<title>140535703908304</title>\n",
       "<polygon fill=\"none\" points=\"225.5,-584.5 225.5,-620.5 363.5,-620.5 363.5,-584.5 225.5,-584.5\" stroke=\"#000000\"/>\n",
       "<text fill=\"#000000\" font-family=\"Times,serif\" font-size=\"14.00\" text-anchor=\"middle\" x=\"294.5\" y=\"-598.8\">aux_input: InputLayer</text>\n",
       "</g>\n",
       "<!-- 140535703908304&#45;&gt;140535703908248 -->\n",
       "<g class=\"edge\" id=\"edge6\">\n",
       "<title>140535703908304-&gt;140535703908248</title>\n",
       "<path d=\"M270.7697,-584.4551C258.6541,-575.2422 243.7392,-563.9006 230.6114,-553.918\" fill=\"none\" stroke=\"#000000\"/>\n",
       "<polygon fill=\"#000000\" points=\"232.3686,-550.8573 222.2901,-547.5904 228.1316,-556.4293 232.3686,-550.8573\" stroke=\"#000000\"/>\n",
       "</g>\n",
       "<!-- 140535703587696 -->\n",
       "<g class=\"node\" id=\"node8\">\n",
       "<title>140535703587696</title>\n",
       "<polygon fill=\"none\" points=\"146,-438.5 146,-474.5 251,-474.5 251,-438.5 146,-438.5\" stroke=\"#000000\"/>\n",
       "<text fill=\"#000000\" font-family=\"Times,serif\" font-size=\"14.00\" text-anchor=\"middle\" x=\"198.5\" y=\"-452.8\">lstm_65: LSTM</text>\n",
       "</g>\n",
       "<!-- 140535703908248&#45;&gt;140535703587696 -->\n",
       "<g class=\"edge\" id=\"edge7\">\n",
       "<title>140535703908248-&gt;140535703587696</title>\n",
       "<path d=\"M198.5,-511.4551C198.5,-503.3828 198.5,-493.6764 198.5,-484.6817\" fill=\"none\" stroke=\"#000000\"/>\n",
       "<polygon fill=\"#000000\" points=\"202.0001,-484.5903 198.5,-474.5904 195.0001,-484.5904 202.0001,-484.5903\" stroke=\"#000000\"/>\n",
       "</g>\n",
       "<!-- 140535703587640 -->\n",
       "<g class=\"node\" id=\"node9\">\n",
       "<title>140535703587640</title>\n",
       "<polygon fill=\"none\" points=\"133,-365.5 133,-401.5 264,-401.5 264,-365.5 133,-365.5\" stroke=\"#000000\"/>\n",
       "<text fill=\"#000000\" font-family=\"Times,serif\" font-size=\"14.00\" text-anchor=\"middle\" x=\"198.5\" y=\"-379.8\">dropout_46: Dropout</text>\n",
       "</g>\n",
       "<!-- 140535703587696&#45;&gt;140535703587640 -->\n",
       "<g class=\"edge\" id=\"edge8\">\n",
       "<title>140535703587696-&gt;140535703587640</title>\n",
       "<path d=\"M198.5,-438.4551C198.5,-430.3828 198.5,-420.6764 198.5,-411.6817\" fill=\"none\" stroke=\"#000000\"/>\n",
       "<polygon fill=\"#000000\" points=\"202.0001,-411.5903 198.5,-401.5904 195.0001,-411.5904 202.0001,-411.5903\" stroke=\"#000000\"/>\n",
       "</g>\n",
       "<!-- 140535703621816 -->\n",
       "<g class=\"node\" id=\"node10\">\n",
       "<title>140535703621816</title>\n",
       "<polygon fill=\"none\" points=\"146,-292.5 146,-328.5 251,-328.5 251,-292.5 146,-292.5\" stroke=\"#000000\"/>\n",
       "<text fill=\"#000000\" font-family=\"Times,serif\" font-size=\"14.00\" text-anchor=\"middle\" x=\"198.5\" y=\"-306.8\">lstm_66: LSTM</text>\n",
       "</g>\n",
       "<!-- 140535703587640&#45;&gt;140535703621816 -->\n",
       "<g class=\"edge\" id=\"edge9\">\n",
       "<title>140535703587640-&gt;140535703621816</title>\n",
       "<path d=\"M198.5,-365.4551C198.5,-357.3828 198.5,-347.6764 198.5,-338.6817\" fill=\"none\" stroke=\"#000000\"/>\n",
       "<polygon fill=\"#000000\" points=\"202.0001,-338.5903 198.5,-328.5904 195.0001,-338.5904 202.0001,-338.5903\" stroke=\"#000000\"/>\n",
       "</g>\n",
       "<!-- 140535703622320 -->\n",
       "<g class=\"node\" id=\"node11\">\n",
       "<title>140535703622320</title>\n",
       "<polygon fill=\"none\" points=\"133,-219.5 133,-255.5 264,-255.5 264,-219.5 133,-219.5\" stroke=\"#000000\"/>\n",
       "<text fill=\"#000000\" font-family=\"Times,serif\" font-size=\"14.00\" text-anchor=\"middle\" x=\"198.5\" y=\"-233.8\">dropout_47: Dropout</text>\n",
       "</g>\n",
       "<!-- 140535703621816&#45;&gt;140535703622320 -->\n",
       "<g class=\"edge\" id=\"edge10\">\n",
       "<title>140535703621816-&gt;140535703622320</title>\n",
       "<path d=\"M198.5,-292.4551C198.5,-284.3828 198.5,-274.6764 198.5,-265.6817\" fill=\"none\" stroke=\"#000000\"/>\n",
       "<polygon fill=\"#000000\" points=\"202.0001,-265.5903 198.5,-255.5904 195.0001,-265.5904 202.0001,-265.5903\" stroke=\"#000000\"/>\n",
       "</g>\n",
       "<!-- 140535700763592 -->\n",
       "<g class=\"node\" id=\"node12\">\n",
       "<title>140535700763592</title>\n",
       "<polygon fill=\"none\" points=\"146,-146.5 146,-182.5 251,-182.5 251,-146.5 146,-146.5\" stroke=\"#000000\"/>\n",
       "<text fill=\"#000000\" font-family=\"Times,serif\" font-size=\"14.00\" text-anchor=\"middle\" x=\"198.5\" y=\"-160.8\">lstm_67: LSTM</text>\n",
       "</g>\n",
       "<!-- 140535703622320&#45;&gt;140535700763592 -->\n",
       "<g class=\"edge\" id=\"edge11\">\n",
       "<title>140535703622320-&gt;140535700763592</title>\n",
       "<path d=\"M198.5,-219.4551C198.5,-211.3828 198.5,-201.6764 198.5,-192.6817\" fill=\"none\" stroke=\"#000000\"/>\n",
       "<polygon fill=\"#000000\" points=\"202.0001,-192.5903 198.5,-182.5904 195.0001,-192.5904 202.0001,-192.5903\" stroke=\"#000000\"/>\n",
       "</g>\n",
       "<!-- 140535697522984 -->\n",
       "<g class=\"node\" id=\"node13\">\n",
       "<title>140535697522984</title>\n",
       "<polygon fill=\"none\" points=\"133,-73.5 133,-109.5 264,-109.5 264,-73.5 133,-73.5\" stroke=\"#000000\"/>\n",
       "<text fill=\"#000000\" font-family=\"Times,serif\" font-size=\"14.00\" text-anchor=\"middle\" x=\"198.5\" y=\"-87.8\">dropout_48: Dropout</text>\n",
       "</g>\n",
       "<!-- 140535700763592&#45;&gt;140535697522984 -->\n",
       "<g class=\"edge\" id=\"edge12\">\n",
       "<title>140535700763592-&gt;140535697522984</title>\n",
       "<path d=\"M198.5,-146.4551C198.5,-138.3828 198.5,-128.6764 198.5,-119.6817\" fill=\"none\" stroke=\"#000000\"/>\n",
       "<polygon fill=\"#000000\" points=\"202.0001,-119.5903 198.5,-109.5904 195.0001,-119.5904 202.0001,-119.5903\" stroke=\"#000000\"/>\n",
       "</g>\n",
       "<!-- 140535697523096 -->\n",
       "<g class=\"node\" id=\"node14\">\n",
       "<title>140535697523096</title>\n",
       "<polygon fill=\"none\" points=\"135,-.5 135,-36.5 262,-36.5 262,-.5 135,-.5\" stroke=\"#000000\"/>\n",
       "<text fill=\"#000000\" font-family=\"Times,serif\" font-size=\"14.00\" text-anchor=\"middle\" x=\"198.5\" y=\"-14.8\">main_output: Dense</text>\n",
       "</g>\n",
       "<!-- 140535697522984&#45;&gt;140535697523096 -->\n",
       "<g class=\"edge\" id=\"edge13\">\n",
       "<title>140535697522984-&gt;140535697523096</title>\n",
       "<path d=\"M198.5,-73.4551C198.5,-65.3828 198.5,-55.6764 198.5,-46.6817\" fill=\"none\" stroke=\"#000000\"/>\n",
       "<polygon fill=\"#000000\" points=\"202.0001,-46.5903 198.5,-36.5904 195.0001,-46.5904 202.0001,-46.5903\" stroke=\"#000000\"/>\n",
       "</g>\n",
       "</g>\n",
       "</svg>"
      ],
      "text/plain": [
       "<IPython.core.display.SVG object>"
      ]
     },
     "execution_count": 486,
     "metadata": {},
     "output_type": "execute_result"
    }
   ],
   "source": [
    "from IPython.display import SVG\n",
    "from tensorflow.python.keras.utils import model_to_dot\n",
    "\n",
    "SVG(model_to_dot(model).create(prog='dot', format='svg'))"
   ]
  },
  {
   "cell_type": "code",
   "execution_count": 487,
   "metadata": {},
   "outputs": [],
   "source": [
    "aux_x = df2.drop(['Unnamed: 0', 'time', 'ID', 'time_elapsed_seconds', 'time_to_dest'] ,axis =1)\n",
    "cnn_x = df2[['latitude', 'longitude']]\n",
    "# aux_x = train_x.drop(['latitude', 'longitude'], axis = 1)\n",
    "train_y = df2[['time_to_dest']]"
   ]
  },
  {
   "cell_type": "code",
   "execution_count": 488,
   "metadata": {},
   "outputs": [
    {
     "data": {
      "text/plain": [
       "(60, 18)"
      ]
     },
     "execution_count": 488,
     "metadata": {},
     "output_type": "execute_result"
    }
   ],
   "source": [
    "aux_x.shape"
   ]
  },
  {
   "cell_type": "code",
   "execution_count": 489,
   "metadata": {},
   "outputs": [
    {
     "data": {
      "text/plain": [
       "(60, 2)"
      ]
     },
     "execution_count": 489,
     "metadata": {},
     "output_type": "execute_result"
    }
   ],
   "source": [
    "cnn_x = cnn_x.values\n",
    "aux_x = aux_x.values\n",
    "y_data = train_y.values\n",
    "# x_data = x_data.reshape(19828,5,1)\n",
    "cnn_x.shape"
   ]
  },
  {
   "cell_type": "code",
   "execution_count": 490,
   "metadata": {},
   "outputs": [],
   "source": [
    "cnn_x_train = cnn_x[0:50]\n",
    "aux_x_train = aux_x[0:50]\n",
    "y_train = y_data[0:50]\n",
    "cnn_x_test = cnn_x[50:]\n",
    "aux_x_test = aux_x[50:]\n",
    "y_test = y_data[50:]"
   ]
  },
  {
   "cell_type": "code",
   "execution_count": 491,
   "metadata": {},
   "outputs": [],
   "source": [
    "# sc = MinMaxScaler(feature_range=(-1,1))\n",
    "scy = MinMaxScaler(feature_range=(-1,1))\n",
    "sca = sklearn.preprocessing.StandardScaler()\n",
    "scl = sklearn.preprocessing.StandardScaler()\n",
    "# new_df= x_data[].reshape(x_data.shape[0],5)\n",
    "\n",
    "cnn_x_train = scl.fit_transform(cnn_x_train)\n",
    "cnn_x_train = cnn_x_train.reshape(len(cnn_x_train), 2, 1)\n",
    "aux_x_train = sca.fit_transform(aux_x_train)\n",
    "aux_x_train = aux_x_train.reshape(len(aux_x_train), 18, 1)\n",
    "\n",
    "cnn_x_test = scl.transform(cnn_x_test).reshape(len(cnn_x_test), 2, 1)\n",
    "aux_x_test = sca.transform(aux_x_test).reshape(len(aux_x_test), 18, 1)\n",
    "\n",
    "y_train = scy.fit_transform(y_train)\n",
    "y_test = scy.transform(y_test)\n",
    "\n",
    "# new_y_data = y_data\n",
    "# new_y_data = scy.fit_transform(y_)"
   ]
  },
  {
   "cell_type": "code",
   "execution_count": null,
   "metadata": {},
   "outputs": [],
   "source": [
    "model.fit([cnn_x_train, aux_x_train], [y_train], validation_data = ([cnn_x_test, aux_x_test], y_test),\n",
    "          epochs=50)"
   ]
  },
  {
   "cell_type": "code",
   "execution_count": 456,
   "metadata": {},
   "outputs": [
    {
     "data": {
      "text/plain": [
       "array([[0.00039375],\n",
       "       [0.00039527],\n",
       "       [0.00039431],\n",
       "       [0.00039303],\n",
       "       [0.00039306],\n",
       "       [0.00039351],\n",
       "       [0.00039288],\n",
       "       [0.0003922 ],\n",
       "       [0.00039209],\n",
       "       [0.00039205]], dtype=float32)"
      ]
     },
     "execution_count": 456,
     "metadata": {},
     "output_type": "execute_result"
    }
   ],
   "source": [
    "result = model.predict([cnn_x_test, aux_x_test])\n",
    "result"
   ]
  },
  {
   "cell_type": "code",
   "execution_count": 457,
   "metadata": {},
   "outputs": [],
   "source": [
    "res_df = scy.inverse_transform(result)"
   ]
  },
  {
   "cell_type": "code",
   "execution_count": 458,
   "metadata": {},
   "outputs": [],
   "source": [
    "y_test_actual=scy.inverse_transform(y_test)"
   ]
  },
  {
   "cell_type": "code",
   "execution_count": 459,
   "metadata": {},
   "outputs": [
    {
     "data": {
      "text/plain": [
       "<matplotlib.legend.Legend at 0x7fd106bd94a8>"
      ]
     },
     "execution_count": 459,
     "metadata": {},
     "output_type": "execute_result"
    },
    {
     "data": {
      "image/png": "[encoded data removed]",
      "text/plain": [
       "<Figure size 864x360 with 1 Axes>"
      ]
     },
     "metadata": {
      "needs_background": "light"
     },
     "output_type": "display_data"
    }
   ],
   "source": [
    "plt.figure(figsize=(12,5))\n",
    "plt.plot(res_df, label = 'pred')\n",
    "plt.plot(y_test_actual, label = 'true')\n",
    "plt.ylabel('time to dest')\n",
    "plt.legend()"
   ]
  },
  {
   "cell_type": "code",
   "execution_count": null,
   "metadata": {},
   "outputs": [],
   "source": [
    "res_df"
   ]
  },
  {
   "cell_type": "code",
   "execution_count": null,
   "metadata": {},
   "outputs": [],
   "source": [
    "y_test_actual"
   ]
  },
  {
   "cell_type": "code",
   "execution_count": null,
   "metadata": {},
   "outputs": [],
   "source": [
    "metrics.mean_absolute_error(res_df, y_test_actual)"
   ]
  },
  {
   "cell_type": "code",
   "execution_count": null,
   "metadata": {},
   "outputs": [],
   "source": []
  },
  {
   "cell_type": "code",
   "execution_count": 19,
   "metadata": {},
   "outputs": [],
   "source": [
    "for i, d in enumerate(c):\n",
    "    if len(d) < 40:\n",
    "        c.pop(i)"
   ]
  },
  {
   "cell_type": "code",
   "execution_count": null,
   "metadata": {},
   "outputs": [],
   "source": [
    "counter = 0\n",
    "for i in c:\n",
    "    i.plot('longitude', 'latitude', kind = 'scatter', figsize = (16,9))\n",
    "    counter += 1\n",
    "    if counter > 5:\n",
    "        break"
   ]
  },
  {
   "cell_type": "code",
   "execution_count": null,
   "metadata": {
    "jupyter": {
     "source_hidden": true
    }
   },
   "outputs": [],
   "source": [
    "def coord_pca(taxi):\n",
    "    coords = np.vstack((taxi[['pickup_latitude', 'pickup_longitude']].values,\n",
    "                        taxi[['dropoff_latitude', 'dropoff_longitude']].values))\n",
    "    pca = PCA()\n",
    "    pca = pca.fit(coords)\n",
    "    taxi['pickup_pca0'] = pca.transform(taxi[['pickup_latitude', 'pickup_longitude']])[:, 0]\n",
    "    taxi['pickup_pca1'] = pca.transform(taxi[['pickup_latitude', 'pickup_longitude']])[:, 1]\n",
    "    taxi['dropoff_pca0'] = pca.transform(taxi[['dropoff_latitude', 'dropoff_longitude']])[:, 0]\n",
    "    taxi['dropoff_pca1'] = pca.transform(taxi[['dropoff_latitude', 'dropoff_longitude']])[:, 1]"
   ]
  },
  {
   "cell_type": "code",
   "execution_count": 22,
   "metadata": {},
   "outputs": [
    {
     "data": {
      "text/plain": [
       "KMeans(algorithm='auto', copy_x=True, init='random', max_iter=300,\n",
       "       n_clusters=40, n_init=10, n_jobs=None, precompute_distances='auto',\n",
       "       random_state=0, tol=0.0001, verbose=0)"
      ]
     },
     "execution_count": 22,
     "metadata": {},
     "output_type": "execute_result"
    }
   ],
   "source": [
    "km = KMeans(\n",
    "    n_clusters=40, init='random',\n",
    "    n_init=10, max_iter=300, \n",
    "    tol=1e-04, random_state=0\n",
    ")\n",
    "coordinates = pd.concat(c)[[\"longitude\", \"latitude\"]].sample(10000).values\n",
    "km.fit(coordinates)"
   ]
  },
  {
   "cell_type": "code",
   "execution_count": 23,
   "metadata": {},
   "outputs": [],
   "source": [
    "def add_travel_vector_features(df):\n",
    "    df['abs_diff_longitude'] = (df.dropoff_longitude - df.longitude).abs()\n",
    "    df['abs_diff_latitude'] = (df.dropoff_latitude - df.latitude).abs()\n",
    "    \n",
    "    #the Haversine version\n",
    "    foob = df[[\"latitude\", \"longitude\",\"dropoff_latitude\", \"dropoff_longitude\"]].astype(float)\n",
    "    df['hav_dist_lat'] = haversine(foob.iloc[:,0], foob.iloc[:,1],foob.iloc[:,2],foob.iloc[:,1])\n",
    "    df['hav_dist_lon'] = haversine(foob.iloc[:,2], foob.iloc[:,1],foob.iloc[:,2],foob.iloc[:,3])\n",
    "    \n",
    "    \n",
    "def convert_km(df):\n",
    "    df['abs_diff_longitude'] = df.abs_diff_longitude*80.4\n",
    "    df['abs_diff_latitude'] = df.abs_diff_latitude*111"
   ]
  },
  {
   "cell_type": "code",
   "execution_count": 24,
   "metadata": {
    "scrolled": true
   },
   "outputs": [],
   "source": [
    "d = []\n",
    "for i, df in (enumerate(c)):\n",
    "    df2 = compute_speed(c[i])\n",
    "    time_to_dest(df2)\n",
    "    set_dropoff(df2)\n",
    "    add_travel_vector_features(df2)\n",
    "    convert_km(df2)\n",
    "    df2['Euclidean'] = (df2.abs_diff_latitude**2 + df2.abs_diff_longitude**2)**0.5 \n",
    "    \n",
    "    df2['manh_length_hav'] = df2.hav_dist_lat + df2.hav_dist_lon\n",
    "    df2['manh_length_euc'] = df2.abs_diff_latitude + df2.abs_diff_longitude\n",
    "    \n",
    "    df2['minkowski_0.9'] = (df2.hav_dist_lat**0.92 + df2.hav_dist_lon**0.92)**(1/0.92)\n",
    "    df2['dist_to_dest'] = haversine(df2['latitude'].values, df2['longitude'].values, df2['dropoff_latitude'].values, df2['dropoff_longitude'].values)\n",
    "    df2['pickup_weekday'] = df2['time'].dt.weekday\n",
    "    df2['pickup_hour_weekofyear'] = df2['time'].dt.weekofyear\n",
    "    df2['pickup_hour'] = df2['time'].dt.hour\n",
    "    df2['pickup_minute'] = df2['time'].dt.minute\n",
    "    df2['pickup_dt'] = (df2['time'] - df2['time'].min()).dt.total_seconds()\n",
    "    df2['pickup_week_hour'] = df2['pickup_weekday'] * 24 + df2['pickup_hour']\n",
    "    df2[['next_lat', 'next_lon']] = df2[['latitude', 'longitude']].shift(-5)\n",
    "    \n",
    "    coordinates = df2[['latitude', 'longitude']]\n",
    "    pickup_km = km.predict(coordinates)\n",
    "    df2[\"pickup_cluster\"] = pickup_km\n",
    "    \n",
    "    coordinates = df2[['dropoff_latitude', 'dropoff_longitude']]\n",
    "    dropoff_km = km.predict(coordinates)\n",
    "    df2[\"dropoff_cluster\"] = dropoff_km\n",
    "    \n",
    "    d.append(df2)\n",
    "    if i > 3000:\n",
    "        break"
   ]
  },
  {
   "cell_type": "code",
   "execution_count": 111,
   "metadata": {},
   "outputs": [],
   "source": [
    "for i in d:\n",
    "    i.dropna(inplace = True)"
   ]
  },
  {
   "cell_type": "code",
   "execution_count": null,
   "metadata": {},
   "outputs": [],
   "source": [
    "d"
   ]
  },
  {
   "cell_type": "code",
   "execution_count": 55,
   "metadata": {},
   "outputs": [],
   "source": [
    "import random\n",
    "random.shuffle(d)\n",
    "mu, sigma = 0, 5"
   ]
  },
  {
   "cell_type": "code",
   "execution_count": 56,
   "metadata": {},
   "outputs": [],
   "source": [
    "x_data = []\n",
    "for i in d:\n",
    "    x_data.append(i.drop(['Unnamed: 0', 'time', 'ID', 'time_elapsed_seconds', 'time_to_dest', 'next_lat', 'next_lon'] ,axis =1))\n",
    "y_data = []\n",
    "for i in d:\n",
    "    noise = np.random.normal(mu, sigma, [len(i),1]) \n",
    "    y_data.append(i[['time_to_dest']] + abs(noise))\n",
    "#     y_data.append(i[['next_lat', 'next_lon']])"
   ]
  },
  {
   "cell_type": "code",
   "execution_count": 57,
   "metadata": {},
   "outputs": [
    {
     "data": {
      "text/html": [
       "<div>\n",
       "<style scoped>\n",
       "    .dataframe tbody tr th:only-of-type {\n",
       "        vertical-align: middle;\n",
       "    }\n",
       "\n",
       "    .dataframe tbody tr th {\n",
       "        vertical-align: top;\n",
       "    }\n",
       "\n",
       "    .dataframe thead th {\n",
       "        text-align: right;\n",
       "    }\n",
       "</style>\n",
       "<table border=\"1\" class=\"dataframe\">\n",
       "  <thead>\n",
       "    <tr style=\"text-align: right;\">\n",
       "      <th></th>\n",
       "      <th>time_to_dest</th>\n",
       "    </tr>\n",
       "  </thead>\n",
       "  <tbody>\n",
       "    <tr>\n",
       "      <th>1834569</th>\n",
       "      <td>1232.394970</td>\n",
       "    </tr>\n",
       "    <tr>\n",
       "      <th>1834570</th>\n",
       "      <td>1206.022104</td>\n",
       "    </tr>\n",
       "    <tr>\n",
       "      <th>1834571</th>\n",
       "      <td>1190.818638</td>\n",
       "    </tr>\n",
       "    <tr>\n",
       "      <th>1834572</th>\n",
       "      <td>1147.173416</td>\n",
       "    </tr>\n",
       "    <tr>\n",
       "      <th>1834573</th>\n",
       "      <td>1112.498453</td>\n",
       "    </tr>\n",
       "    <tr>\n",
       "      <th>...</th>\n",
       "      <td>...</td>\n",
       "    </tr>\n",
       "    <tr>\n",
       "      <th>1834637</th>\n",
       "      <td>71.476660</td>\n",
       "    </tr>\n",
       "    <tr>\n",
       "      <th>1834638</th>\n",
       "      <td>52.516723</td>\n",
       "    </tr>\n",
       "    <tr>\n",
       "      <th>1834639</th>\n",
       "      <td>33.813959</td>\n",
       "    </tr>\n",
       "    <tr>\n",
       "      <th>1834640</th>\n",
       "      <td>15.578406</td>\n",
       "    </tr>\n",
       "    <tr>\n",
       "      <th>1834641</th>\n",
       "      <td>2.772735</td>\n",
       "    </tr>\n",
       "  </tbody>\n",
       "</table>\n",
       "<p>73 rows × 1 columns</p>\n",
       "</div>"
      ],
      "text/plain": [
       "         time_to_dest\n",
       "1834569   1232.394970\n",
       "1834570   1206.022104\n",
       "1834571   1190.818638\n",
       "1834572   1147.173416\n",
       "1834573   1112.498453\n",
       "...               ...\n",
       "1834637     71.476660\n",
       "1834638     52.516723\n",
       "1834639     33.813959\n",
       "1834640     15.578406\n",
       "1834641      2.772735\n",
       "\n",
       "[73 rows x 1 columns]"
      ]
     },
     "execution_count": 57,
     "metadata": {},
     "output_type": "execute_result"
    }
   ],
   "source": [
    "y_data[1]"
   ]
  },
  {
   "cell_type": "code",
   "execution_count": 58,
   "metadata": {},
   "outputs": [
    {
     "data": {
      "text/html": [
       "<div>\n",
       "<style scoped>\n",
       "    .dataframe tbody tr th:only-of-type {\n",
       "        vertical-align: middle;\n",
       "    }\n",
       "\n",
       "    .dataframe tbody tr th {\n",
       "        vertical-align: top;\n",
       "    }\n",
       "\n",
       "    .dataframe thead th {\n",
       "        text-align: right;\n",
       "    }\n",
       "</style>\n",
       "<table border=\"1\" class=\"dataframe\">\n",
       "  <thead>\n",
       "    <tr style=\"text-align: right;\">\n",
       "      <th></th>\n",
       "      <th>longitude</th>\n",
       "      <th>latitude</th>\n",
       "      <th>distance_travelled</th>\n",
       "      <th>speed m/s</th>\n",
       "      <th>speed kmh</th>\n",
       "      <th>bearing</th>\n",
       "      <th>bearing_diff</th>\n",
       "      <th>rate_of_turn</th>\n",
       "      <th>acceleration</th>\n",
       "      <th>dropoff_latitude</th>\n",
       "      <th>...</th>\n",
       "      <th>minkowski_0.9</th>\n",
       "      <th>dist_to_dest</th>\n",
       "      <th>pickup_weekday</th>\n",
       "      <th>pickup_hour_weekofyear</th>\n",
       "      <th>pickup_hour</th>\n",
       "      <th>pickup_minute</th>\n",
       "      <th>pickup_dt</th>\n",
       "      <th>pickup_week_hour</th>\n",
       "      <th>pickup_cluster</th>\n",
       "      <th>dropoff_cluster</th>\n",
       "    </tr>\n",
       "  </thead>\n",
       "  <tbody>\n",
       "    <tr>\n",
       "      <th>1834569</th>\n",
       "      <td>-8.609679</td>\n",
       "      <td>41.171139</td>\n",
       "      <td>0.000000</td>\n",
       "      <td>0.000000</td>\n",
       "      <td>0.000000</td>\n",
       "      <td>0.000000</td>\n",
       "      <td>0.000000</td>\n",
       "      <td>0.000000</td>\n",
       "      <td>0.000000</td>\n",
       "      <td>41.236812</td>\n",
       "      <td>...</td>\n",
       "      <td>13.129700</td>\n",
       "      <td>8.896643</td>\n",
       "      <td>2</td>\n",
       "      <td>28</td>\n",
       "      <td>4</td>\n",
       "      <td>36</td>\n",
       "      <td>0.0</td>\n",
       "      <td>52</td>\n",
       "      <td>0</td>\n",
       "      <td>0</td>\n",
       "    </tr>\n",
       "    <tr>\n",
       "      <th>1834570</th>\n",
       "      <td>-8.609697</td>\n",
       "      <td>41.171130</td>\n",
       "      <td>0.001811</td>\n",
       "      <td>0.060358</td>\n",
       "      <td>0.217289</td>\n",
       "      <td>56.406526</td>\n",
       "      <td>0.000000</td>\n",
       "      <td>0.000000</td>\n",
       "      <td>0.000000</td>\n",
       "      <td>41.236812</td>\n",
       "      <td>...</td>\n",
       "      <td>13.129124</td>\n",
       "      <td>8.896607</td>\n",
       "      <td>2</td>\n",
       "      <td>28</td>\n",
       "      <td>4</td>\n",
       "      <td>36</td>\n",
       "      <td>30.0</td>\n",
       "      <td>52</td>\n",
       "      <td>0</td>\n",
       "      <td>0</td>\n",
       "    </tr>\n",
       "    <tr>\n",
       "      <th>1834571</th>\n",
       "      <td>-8.609697</td>\n",
       "      <td>41.171130</td>\n",
       "      <td>0.000000</td>\n",
       "      <td>0.000000</td>\n",
       "      <td>0.000000</td>\n",
       "      <td>0.000000</td>\n",
       "      <td>56.406526</td>\n",
       "      <td>3.760435</td>\n",
       "      <td>-0.004024</td>\n",
       "      <td>41.236812</td>\n",
       "      <td>...</td>\n",
       "      <td>13.129124</td>\n",
       "      <td>8.896607</td>\n",
       "      <td>2</td>\n",
       "      <td>28</td>\n",
       "      <td>4</td>\n",
       "      <td>37</td>\n",
       "      <td>45.0</td>\n",
       "      <td>52</td>\n",
       "      <td>0</td>\n",
       "      <td>0</td>\n",
       "    </tr>\n",
       "    <tr>\n",
       "      <th>1834572</th>\n",
       "      <td>-8.609697</td>\n",
       "      <td>41.171130</td>\n",
       "      <td>0.000000</td>\n",
       "      <td>0.000000</td>\n",
       "      <td>0.000000</td>\n",
       "      <td>0.000000</td>\n",
       "      <td>0.000000</td>\n",
       "      <td>0.000000</td>\n",
       "      <td>0.000000</td>\n",
       "      <td>41.236812</td>\n",
       "      <td>...</td>\n",
       "      <td>13.129124</td>\n",
       "      <td>8.896607</td>\n",
       "      <td>2</td>\n",
       "      <td>28</td>\n",
       "      <td>4</td>\n",
       "      <td>37</td>\n",
       "      <td>90.0</td>\n",
       "      <td>52</td>\n",
       "      <td>0</td>\n",
       "      <td>0</td>\n",
       "    </tr>\n",
       "    <tr>\n",
       "      <th>1834573</th>\n",
       "      <td>-8.609688</td>\n",
       "      <td>41.171121</td>\n",
       "      <td>0.001254</td>\n",
       "      <td>0.041800</td>\n",
       "      <td>0.150480</td>\n",
       "      <td>323.029516</td>\n",
       "      <td>36.970484</td>\n",
       "      <td>1.232349</td>\n",
       "      <td>0.001393</td>\n",
       "      <td>41.236812</td>\n",
       "      <td>...</td>\n",
       "      <td>13.130987</td>\n",
       "      <td>8.897860</td>\n",
       "      <td>2</td>\n",
       "      <td>28</td>\n",
       "      <td>4</td>\n",
       "      <td>38</td>\n",
       "      <td>120.0</td>\n",
       "      <td>52</td>\n",
       "      <td>0</td>\n",
       "      <td>0</td>\n",
       "    </tr>\n",
       "    <tr>\n",
       "      <th>...</th>\n",
       "      <td>...</td>\n",
       "      <td>...</td>\n",
       "      <td>...</td>\n",
       "      <td>...</td>\n",
       "      <td>...</td>\n",
       "      <td>...</td>\n",
       "      <td>...</td>\n",
       "      <td>...</td>\n",
       "      <td>...</td>\n",
       "      <td>...</td>\n",
       "      <td>...</td>\n",
       "      <td>...</td>\n",
       "      <td>...</td>\n",
       "      <td>...</td>\n",
       "      <td>...</td>\n",
       "      <td>...</td>\n",
       "      <td>...</td>\n",
       "      <td>...</td>\n",
       "      <td>...</td>\n",
       "      <td>...</td>\n",
       "      <td>...</td>\n",
       "    </tr>\n",
       "    <tr>\n",
       "      <th>1834637</th>\n",
       "      <td>-8.670213</td>\n",
       "      <td>41.236794</td>\n",
       "      <td>0.002507</td>\n",
       "      <td>0.055713</td>\n",
       "      <td>0.200567</td>\n",
       "      <td>36.942855</td>\n",
       "      <td>94.615237</td>\n",
       "      <td>2.102561</td>\n",
       "      <td>-0.003237</td>\n",
       "      <td>41.236812</td>\n",
       "      <td>...</td>\n",
       "      <td>0.002004</td>\n",
       "      <td>0.002004</td>\n",
       "      <td>2</td>\n",
       "      <td>28</td>\n",
       "      <td>4</td>\n",
       "      <td>55</td>\n",
       "      <td>1170.0</td>\n",
       "      <td>52</td>\n",
       "      <td>0</td>\n",
       "      <td>0</td>\n",
       "    </tr>\n",
       "    <tr>\n",
       "      <th>1834638</th>\n",
       "      <td>-8.670231</td>\n",
       "      <td>41.236794</td>\n",
       "      <td>0.001507</td>\n",
       "      <td>0.100454</td>\n",
       "      <td>0.361633</td>\n",
       "      <td>89.999994</td>\n",
       "      <td>53.057140</td>\n",
       "      <td>3.537143</td>\n",
       "      <td>0.002983</td>\n",
       "      <td>41.236812</td>\n",
       "      <td>...</td>\n",
       "      <td>0.003726</td>\n",
       "      <td>0.002507</td>\n",
       "      <td>2</td>\n",
       "      <td>28</td>\n",
       "      <td>4</td>\n",
       "      <td>56</td>\n",
       "      <td>1185.0</td>\n",
       "      <td>52</td>\n",
       "      <td>0</td>\n",
       "      <td>0</td>\n",
       "    </tr>\n",
       "    <tr>\n",
       "      <th>1834639</th>\n",
       "      <td>-8.670231</td>\n",
       "      <td>41.236803</td>\n",
       "      <td>0.001002</td>\n",
       "      <td>0.066792</td>\n",
       "      <td>0.240450</td>\n",
       "      <td>180.000000</td>\n",
       "      <td>90.000006</td>\n",
       "      <td>6.000000</td>\n",
       "      <td>-0.002244</td>\n",
       "      <td>41.236812</td>\n",
       "      <td>...</td>\n",
       "      <td>0.002660</td>\n",
       "      <td>0.001809</td>\n",
       "      <td>2</td>\n",
       "      <td>28</td>\n",
       "      <td>4</td>\n",
       "      <td>56</td>\n",
       "      <td>1200.0</td>\n",
       "      <td>52</td>\n",
       "      <td>0</td>\n",
       "      <td>0</td>\n",
       "    </tr>\n",
       "    <tr>\n",
       "      <th>1834640</th>\n",
       "      <td>-8.670231</td>\n",
       "      <td>41.236803</td>\n",
       "      <td>0.000000</td>\n",
       "      <td>0.000000</td>\n",
       "      <td>0.000000</td>\n",
       "      <td>0.000000</td>\n",
       "      <td>180.000000</td>\n",
       "      <td>12.000000</td>\n",
       "      <td>-0.004453</td>\n",
       "      <td>41.236812</td>\n",
       "      <td>...</td>\n",
       "      <td>0.002660</td>\n",
       "      <td>0.001809</td>\n",
       "      <td>2</td>\n",
       "      <td>28</td>\n",
       "      <td>4</td>\n",
       "      <td>56</td>\n",
       "      <td>1215.0</td>\n",
       "      <td>52</td>\n",
       "      <td>0</td>\n",
       "      <td>0</td>\n",
       "    </tr>\n",
       "    <tr>\n",
       "      <th>1834641</th>\n",
       "      <td>-8.670213</td>\n",
       "      <td>41.236812</td>\n",
       "      <td>0.001809</td>\n",
       "      <td>0.120632</td>\n",
       "      <td>0.434275</td>\n",
       "      <td>236.380031</td>\n",
       "      <td>123.619969</td>\n",
       "      <td>8.241331</td>\n",
       "      <td>0.008042</td>\n",
       "      <td>41.236812</td>\n",
       "      <td>...</td>\n",
       "      <td>0.000000</td>\n",
       "      <td>0.000000</td>\n",
       "      <td>2</td>\n",
       "      <td>28</td>\n",
       "      <td>4</td>\n",
       "      <td>56</td>\n",
       "      <td>1230.0</td>\n",
       "      <td>52</td>\n",
       "      <td>0</td>\n",
       "      <td>0</td>\n",
       "    </tr>\n",
       "  </tbody>\n",
       "</table>\n",
       "<p>73 rows × 28 columns</p>\n",
       "</div>"
      ],
      "text/plain": [
       "         longitude   latitude  distance_travelled  speed m/s  speed kmh  \\\n",
       "1834569  -8.609679  41.171139            0.000000   0.000000   0.000000   \n",
       "1834570  -8.609697  41.171130            0.001811   0.060358   0.217289   \n",
       "1834571  -8.609697  41.171130            0.000000   0.000000   0.000000   \n",
       "1834572  -8.609697  41.171130            0.000000   0.000000   0.000000   \n",
       "1834573  -8.609688  41.171121            0.001254   0.041800   0.150480   \n",
       "...            ...        ...                 ...        ...        ...   \n",
       "1834637  -8.670213  41.236794            0.002507   0.055713   0.200567   \n",
       "1834638  -8.670231  41.236794            0.001507   0.100454   0.361633   \n",
       "1834639  -8.670231  41.236803            0.001002   0.066792   0.240450   \n",
       "1834640  -8.670231  41.236803            0.000000   0.000000   0.000000   \n",
       "1834641  -8.670213  41.236812            0.001809   0.120632   0.434275   \n",
       "\n",
       "            bearing  bearing_diff  rate_of_turn  acceleration  \\\n",
       "1834569    0.000000      0.000000      0.000000      0.000000   \n",
       "1834570   56.406526      0.000000      0.000000      0.000000   \n",
       "1834571    0.000000     56.406526      3.760435     -0.004024   \n",
       "1834572    0.000000      0.000000      0.000000      0.000000   \n",
       "1834573  323.029516     36.970484      1.232349      0.001393   \n",
       "...             ...           ...           ...           ...   \n",
       "1834637   36.942855     94.615237      2.102561     -0.003237   \n",
       "1834638   89.999994     53.057140      3.537143      0.002983   \n",
       "1834639  180.000000     90.000006      6.000000     -0.002244   \n",
       "1834640    0.000000    180.000000     12.000000     -0.004453   \n",
       "1834641  236.380031    123.619969      8.241331      0.008042   \n",
       "\n",
       "         dropoff_latitude  ...  minkowski_0.9  dist_to_dest  pickup_weekday  \\\n",
       "1834569         41.236812  ...      13.129700      8.896643               2   \n",
       "1834570         41.236812  ...      13.129124      8.896607               2   \n",
       "1834571         41.236812  ...      13.129124      8.896607               2   \n",
       "1834572         41.236812  ...      13.129124      8.896607               2   \n",
       "1834573         41.236812  ...      13.130987      8.897860               2   \n",
       "...                   ...  ...            ...           ...             ...   \n",
       "1834637         41.236812  ...       0.002004      0.002004               2   \n",
       "1834638         41.236812  ...       0.003726      0.002507               2   \n",
       "1834639         41.236812  ...       0.002660      0.001809               2   \n",
       "1834640         41.236812  ...       0.002660      0.001809               2   \n",
       "1834641         41.236812  ...       0.000000      0.000000               2   \n",
       "\n",
       "         pickup_hour_weekofyear  pickup_hour  pickup_minute  pickup_dt  \\\n",
       "1834569                      28            4             36        0.0   \n",
       "1834570                      28            4             36       30.0   \n",
       "1834571                      28            4             37       45.0   \n",
       "1834572                      28            4             37       90.0   \n",
       "1834573                      28            4             38      120.0   \n",
       "...                         ...          ...            ...        ...   \n",
       "1834637                      28            4             55     1170.0   \n",
       "1834638                      28            4             56     1185.0   \n",
       "1834639                      28            4             56     1200.0   \n",
       "1834640                      28            4             56     1215.0   \n",
       "1834641                      28            4             56     1230.0   \n",
       "\n",
       "         pickup_week_hour  pickup_cluster  dropoff_cluster  \n",
       "1834569                52               0                0  \n",
       "1834570                52               0                0  \n",
       "1834571                52               0                0  \n",
       "1834572                52               0                0  \n",
       "1834573                52               0                0  \n",
       "...                   ...             ...              ...  \n",
       "1834637                52               0                0  \n",
       "1834638                52               0                0  \n",
       "1834639                52               0                0  \n",
       "1834640                52               0                0  \n",
       "1834641                52               0                0  \n",
       "\n",
       "[73 rows x 28 columns]"
      ]
     },
     "execution_count": 58,
     "metadata": {},
     "output_type": "execute_result"
    }
   ],
   "source": [
    "x_data[1]"
   ]
  },
  {
   "cell_type": "code",
   "execution_count": 59,
   "metadata": {},
   "outputs": [],
   "source": [
    "x_train = x_data[0:2900]\n",
    "x_test = x_data[2900:]\n",
    "y_train = y_data[0:2900]\n",
    "y_test = y_data[2900:]"
   ]
  },
  {
   "cell_type": "code",
   "execution_count": 60,
   "metadata": {},
   "outputs": [
    {
     "data": {
      "text/plain": [
       "MinMaxScaler(copy=True, feature_range=(-1, 1))"
      ]
     },
     "execution_count": 60,
     "metadata": {},
     "output_type": "execute_result"
    }
   ],
   "source": [
    "# sc = MinMaxScaler(feature_range=(-1,1))\n",
    "scy = MinMaxScaler(feature_range=(-1,1))\n",
    "# scy = sklearn.preprocessing.MaxAbsScaler()\n",
    "sc = sklearn.preprocessing.StandardScaler()\n",
    "# new_df= x_data[].reshape(x_data.shape[0],5)\n",
    "\n",
    "sc.fit(pd.concat(x_train).values)\n",
    "scy.fit(pd.concat(y_train).values)\n"
   ]
  },
  {
   "cell_type": "code",
   "execution_count": 61,
   "metadata": {},
   "outputs": [],
   "source": [
    "for i, data in enumerate(x_train):\n",
    "    x_train[i] = sc.transform(data)\n",
    "    \n",
    "for i, data in enumerate(y_train):\n",
    "    y_train[i] = scy.transform(data)"
   ]
  },
  {
   "cell_type": "code",
   "execution_count": 62,
   "metadata": {},
   "outputs": [],
   "source": [
    "x_test = sc.transform(pd.concat(x_test).values)\n",
    "y_test = scy.transform(pd.concat(y_test).values)\n",
    "# y_test = pd.concat(y_test).values"
   ]
  },
  {
   "cell_type": "code",
   "execution_count": 586,
   "metadata": {},
   "outputs": [
    {
     "data": {
      "text/plain": [
       "array([[-0.96166058, -0.07873294],\n",
       "       [-0.92260041, -0.07734957],\n",
       "       [-0.87270056, -0.07077855]])"
      ]
     },
     "execution_count": 586,
     "metadata": {},
     "output_type": "execute_result"
    }
   ],
   "source": [
    "x_train[1][12:15,0:2]"
   ]
  },
  {
   "cell_type": "code",
   "execution_count": null,
   "metadata": {},
   "outputs": [],
   "source": []
  },
  {
   "cell_type": "code",
   "execution_count": 310,
   "metadata": {},
   "outputs": [],
   "source": [
    "def batch_generator(batch_size, sequence_length):\n",
    "    \"\"\"\n",
    "    Generator function for creating random batches of training-data.\n",
    "    \"\"\"\n",
    "    # Infinite loop.\n",
    "    while True:\n",
    "        # Allocate a new array for the batch of input-signals.\n",
    "        x_shape = (batch_size, sequence_length, 28)\n",
    "        x_batch = np.zeros(shape=x_shape, dtype=np.float16)\n",
    "\n",
    "        # Allocate a new array for the batch of output-signals.\n",
    "        y_shape = (batch_size, sequence_length, 1)\n",
    "        y_batch = np.zeros(shape=y_shape, dtype=np.float16)\n",
    "\n",
    "        # Fill the batch with random sequences of data.\n",
    "        for i in range(batch_size):\n",
    "            j = np.random.randint(len(x_train))\n",
    "            # Get a random start-index.\n",
    "            # This points somewhere into the training-data.\n",
    "            try:\n",
    "                idx = np.random.randint(len(x_train[j]) - sequence_length)\n",
    "            except:\n",
    "                continue\n",
    "            \n",
    "            # Copy the sequences of data starting at this index.\n",
    "            x_batch[i] = x_train[j][idx:idx+sequence_length]\n",
    "            y_batch[i] = y_train[j][idx:idx+sequence_length]\n",
    "#             x_batch[i] = x_train[j][0:sequence_length]\n",
    "#             y_batch[i] = y_train[j][0:sequence_length]\n",
    "        \n",
    "        \n",
    "        yield (x_batch, y_batch)"
   ]
  },
  {
   "cell_type": "code",
   "execution_count": 30,
   "metadata": {},
   "outputs": [],
   "source": [
    "def batch_generator_multi_td(batch_size, sequence_length):\n",
    "    \"\"\"\n",
    "    Generator function for creating random batches of training-data.\n",
    "    \"\"\"\n",
    "    # Infinite loop.\n",
    "    while True:\n",
    "        # Allocate a new array for the batch of input-signals.\n",
    "        cnn_x_shape = (batch_size, sequence_length, 2)\n",
    "        cnn_x_batch = np.zeros(shape=cnn_x_shape, dtype=np.float16)\n",
    "        cnn_x_batch = cnn_x_batch.reshape(-1,2,sequence_length,1)\n",
    "        aux_x_shape = (batch_size, sequence_length, 18)\n",
    "        aux_x_batch = np.zeros(shape=aux_x_shape, dtype=np.float16)\n",
    "\n",
    "        # Allocate a new array for the batch of output-signals.\n",
    "        y_shape = (batch_size, sequence_length, 1)\n",
    "        y_batch = np.zeros(shape=y_shape, dtype=np.float16)\n",
    "\n",
    "        # Fill the batch with random sequences of data.\n",
    "        for i in range(batch_size):\n",
    "            j = np.random.randint(len(x_train))\n",
    "            # Get a random start-index.\n",
    "            # This points somewhere into the training-data.\n",
    "            idx = np.random.randint(len(x_train[j]) - sequence_length)\n",
    "            \n",
    "            # Copy the sequences of data starting at this index.\n",
    "            batchfiles = x_train[j][idx:idx+sequence_length, 0:2]\n",
    "            cnn_x_batch[i] = batchfiles.reshape((2,sequence_length, -1))\n",
    "            aux_x_batch[i] = x_train[j][idx:idx+sequence_length]\n",
    "            y_batch[i] = y_train[j][idx:idx+sequence_length]\n",
    "#             x_batch[i] = x_train[j][0:sequence_length]\n",
    "#             y_batch[i] = y_train[j][0:sequence_length]\n",
    "        \n",
    "        \n",
    "        yield [cnn_x_batch, aux_x_batch], y_batch"
   ]
  },
  {
   "cell_type": "code",
   "execution_count": 33,
   "metadata": {},
   "outputs": [],
   "source": [
    "def batch_generator_multi(batch_size, sequence_length):\n",
    "    \"\"\"\n",
    "    Generator function for creating random batches of training-data.\n",
    "    \"\"\"\n",
    "    # Infinite loop.\n",
    "    while True:\n",
    "        # Allocate a new array for the batch of input-signals.\n",
    "        cnn_x_shape = (batch_size, sequence_length, 2)\n",
    "        cnn_x_batch = np.zeros(shape=cnn_x_shape, dtype=np.float16)\n",
    "        aux_x_shape = (batch_size, sequence_length, 26)\n",
    "        aux_x_batch = np.zeros(shape=aux_x_shape, dtype=np.float16)\n",
    "\n",
    "        # Allocate a new array for the batch of output-signals.\n",
    "        y_shape = (batch_size, sequence_length, 1)\n",
    "        y_batch = np.zeros(shape=y_shape, dtype=np.float16)\n",
    "\n",
    "        # Fill the batch with random sequences of data.\n",
    "        for i in range(batch_size):\n",
    "            j = np.random.randint(len(x_train))\n",
    "            # Get a random start-index.\n",
    "            # This points somewhere into the training-data.\n",
    "            idx = np.random.randint(len(x_train[j]) - sequence_length)\n",
    "            \n",
    "            # Copy the sequences of data starting at this index.\n",
    "\n",
    "            cnn_x_batch[i] = x_train[j][idx:idx+sequence_length, 0:2]\n",
    "            aux_x_batch[i] = x_train[j][idx:idx+sequence_length, 2:]\n",
    "            y_batch[i] = y_train[j][idx:idx+sequence_length]\n",
    "#             x_batch[i] = x_train[j][0:sequence_length]\n",
    "#             y_batch[i] = y_train[j][0:sequence_length]\n",
    "        \n",
    "        \n",
    "        yield [cnn_x_batch, aux_x_batch], y_batch"
   ]
  },
  {
   "cell_type": "code",
   "execution_count": 69,
   "metadata": {},
   "outputs": [],
   "source": [
    "for i, data in enumerate(x_train):\n",
    "    if len(x_train[i]) < 40:\n",
    "        x_train.pop(i)\n",
    "        y_train.pop(i)"
   ]
  },
  {
   "cell_type": "code",
   "execution_count": 70,
   "metadata": {},
   "outputs": [],
   "source": [
    "x_len = []\n",
    "for i, data in enumerate(x_train):\n",
    "    x_len.append(len(x_train[i]))\n",
    "    "
   ]
  },
  {
   "cell_type": "code",
   "execution_count": 71,
   "metadata": {},
   "outputs": [
    {
     "data": {
      "text/plain": [
       "(array([121.,  93.,   0.,  87.,   0.,  85.,  78.,   0.,  74.,   0.,  72.,\n",
       "         61.,   0.,  74.,   0.,  64.,  66.,   0.,  61.,   0.,  50.,   0.,\n",
       "         57.,  58.,   0.,  37.,   0.,  48.,  35.,   0.,  49.,   0.,  39.,\n",
       "         33.,   0.,  34.,   0.,  34.,  33.,   0.,  28.,   0.,  18.,   0.,\n",
       "         27.,  22.,   0.,  17.,   0.,  18.,  19.,   0.,  19.,   0.,  17.,\n",
       "         16.,   0.,  15.,   0.,  11.,   0.,  17.,  14.,   0.,  18.,   0.,\n",
       "         11.,   5.,   0.,   8.,   0.,  12.,   9.,   0.,  11.,   0.,  12.,\n",
       "          4.,   0.,   9.,   0.,   5.,   0.,   6.,   8.,   0.,   2.,   0.,\n",
       "          5.,   5.,   0.,   5.,   0.,   3.,   3.,   0.,   5.,   0.,   3.,\n",
       "          3.]),\n",
       " array([40.  , 40.59, 41.18, 41.77, 42.36, 42.95, 43.54, 44.13, 44.72,\n",
       "        45.31, 45.9 , 46.49, 47.08, 47.67, 48.26, 48.85, 49.44, 50.03,\n",
       "        50.62, 51.21, 51.8 , 52.39, 52.98, 53.57, 54.16, 54.75, 55.34,\n",
       "        55.93, 56.52, 57.11, 57.7 , 58.29, 58.88, 59.47, 60.06, 60.65,\n",
       "        61.24, 61.83, 62.42, 63.01, 63.6 , 64.19, 64.78, 65.37, 65.96,\n",
       "        66.55, 67.14, 67.73, 68.32, 68.91, 69.5 , 70.09, 70.68, 71.27,\n",
       "        71.86, 72.45, 73.04, 73.63, 74.22, 74.81, 75.4 , 75.99, 76.58,\n",
       "        77.17, 77.76, 78.35, 78.94, 79.53, 80.12, 80.71, 81.3 , 81.89,\n",
       "        82.48, 83.07, 83.66, 84.25, 84.84, 85.43, 86.02, 86.61, 87.2 ,\n",
       "        87.79, 88.38, 88.97, 89.56, 90.15, 90.74, 91.33, 91.92, 92.51,\n",
       "        93.1 , 93.69, 94.28, 94.87, 95.46, 96.05, 96.64, 97.23, 97.82,\n",
       "        98.41, 99.  ]),\n",
       " <a list of 100 Patch objects>)"
      ]
     },
     "execution_count": 71,
     "metadata": {},
     "output_type": "execute_result"
    },
    {
     "data": {
      "image/png": "[encoded data removed]",
      "text/plain": [
       "<Figure size 432x288 with 1 Axes>"
      ]
     },
     "metadata": {
      "needs_background": "light"
     },
     "output_type": "display_data"
    }
   ],
   "source": [
    "plt.hist(np.array(x_len)[np.array(x_len) < 100], bins = 100)"
   ]
  },
  {
   "cell_type": "code",
   "execution_count": null,
   "metadata": {},
   "outputs": [],
   "source": [
    "y_data[2900:]"
   ]
  },
  {
   "cell_type": "code",
   "execution_count": 43,
   "metadata": {},
   "outputs": [],
   "source": [
    "batch_size = 256\n",
    "sequence_length = 35"
   ]
  },
  {
   "cell_type": "code",
   "execution_count": 311,
   "metadata": {},
   "outputs": [],
   "source": [
    "generator = batch_generator(batch_size=batch_size, sequence_length=sequence_length)\n",
    "cnnx_batch, y_batch = next(generator)"
   ]
  },
  {
   "cell_type": "code",
   "execution_count": 272,
   "metadata": {},
   "outputs": [
    {
     "data": {
      "text/plain": [
       "(30, 18)"
      ]
     },
     "execution_count": 272,
     "metadata": {},
     "output_type": "execute_result"
    }
   ],
   "source": [
    "cnnx_batch[0].shape"
   ]
  },
  {
   "cell_type": "code",
   "execution_count": null,
   "metadata": {},
   "outputs": [],
   "source": [
    "print(x_batch.shape)\n",
    "print(y_batch.shape)"
   ]
  },
  {
   "cell_type": "code",
   "execution_count": null,
   "metadata": {},
   "outputs": [],
   "source": [
    "y_batch"
   ]
  },
  {
   "cell_type": "code",
   "execution_count": 312,
   "metadata": {},
   "outputs": [],
   "source": [
    "validation_data = (np.expand_dims(x_test, axis =0),\n",
    "                   np.expand_dims(y_test, axis=0))"
   ]
  },
  {
   "cell_type": "code",
   "execution_count": 77,
   "metadata": {},
   "outputs": [],
   "source": [
    "validation_data = ([np.expand_dims(x_test[:,0:2], axis=0).reshape(1,2,-1,1), np.expand_dims(x_test, axis =0)],\n",
    "                   np.expand_dims(y_test, axis=0))"
   ]
  },
  {
   "cell_type": "code",
   "execution_count": 73,
   "metadata": {},
   "outputs": [],
   "source": [
    "validation_data = ([np.expand_dims(x_test[:,0:2], axis=0), np.expand_dims(x_test[:,2:], axis =0)],\n",
    "                   np.expand_dims(y_test, axis=0))"
   ]
  },
  {
   "cell_type": "code",
   "execution_count": 49,
   "metadata": {},
   "outputs": [
    {
     "data": {
      "text/plain": [
       "(4762, 28)"
      ]
     },
     "execution_count": 49,
     "metadata": {},
     "output_type": "execute_result"
    }
   ],
   "source": [
    "validation_data[0][0].shape"
   ]
  },
  {
   "cell_type": "code",
   "execution_count": 50,
   "metadata": {},
   "outputs": [
    {
     "data": {
      "text/plain": [
       "array([[[-0.90109517],\n",
       "        [-0.90273209],\n",
       "        [-0.90540749],\n",
       "        ...,\n",
       "        [-0.99674747],\n",
       "        [-0.99844067],\n",
       "        [-0.9998758 ]]])"
      ]
     },
     "execution_count": 50,
     "metadata": {},
     "output_type": "execute_result"
    }
   ],
   "source": [
    "validation_data[1]"
   ]
  },
  {
   "cell_type": "code",
   "execution_count": 207,
   "metadata": {},
   "outputs": [],
   "source": [
    "num_steps = 50\n",
    "lats = 128\n",
    "lons = 128\n",
    "features = 4\n",
    "out_feats = 3\n",
    "\n",
    "model = Sequential()\n",
    "model.add(TimeDistributed(Conv1D(16, (3), activation='relu', padding='same'), \n",
    "                          input_shape=(num_steps, lats, features)))\n",
    "model.add(TimeDistributed(MaxPooling1D(pool_size=(2))))\n",
    "model.add(TimeDistributed(Conv1D(32, (3), activation='relu', padding='same')))\n",
    "model.add(TimeDistributed(MaxPooling1D(pool_size=(2))))\n",
    "model.add(TimeDistributed(Conv1D(32, (3), activation='relu', padding='same')))\n",
    "model.add(TimeDistributed(MaxPooling1D(pool_size=(2))))\n",
    "model.add(TimeDistributed(Flatten()))\n",
    "model.add(LSTM(units=64, return_sequences=True))\n"
   ]
  },
  {
   "cell_type": "code",
   "execution_count": 205,
   "metadata": {},
   "outputs": [
    {
     "name": "stdout",
     "output_type": "stream",
     "text": [
      "Model: \"sequential_4\"\n",
      "_________________________________________________________________\n",
      "Layer (type)                 Output Shape              Param #   \n",
      "=================================================================\n",
      "time_distributed_82 (TimeDis (None, 50, 128, 16)       208       \n",
      "_________________________________________________________________\n",
      "time_distributed_83 (TimeDis (None, 50, 64, 16)        0         \n",
      "_________________________________________________________________\n",
      "time_distributed_84 (TimeDis (None, 50, 64, 32)        1568      \n",
      "_________________________________________________________________\n",
      "time_distributed_85 (TimeDis (None, 50, 32, 32)        0         \n",
      "_________________________________________________________________\n",
      "time_distributed_86 (TimeDis (None, 50, 32, 32)        3104      \n",
      "_________________________________________________________________\n",
      "time_distributed_87 (TimeDis (None, 50, 16, 32)        0         \n",
      "_________________________________________________________________\n",
      "time_distributed_88 (TimeDis (None, 50, 512)           0         \n",
      "_________________________________________________________________\n",
      "lstm_22 (LSTM)               (None, 50, 64)            147712    \n",
      "=================================================================\n",
      "Total params: 152,592\n",
      "Trainable params: 152,592\n",
      "Non-trainable params: 0\n",
      "_________________________________________________________________\n"
     ]
    }
   ],
   "source": [
    "model.summary()"
   ]
  },
  {
   "cell_type": "code",
   "execution_count": 83,
   "metadata": {},
   "outputs": [],
   "source": [
    "cnn_input = Input(shape=(2, 30,1), dtype='float', name='cnn_input')\n",
    "CNN_out = (TimeDistributed(Conv1D(16, (3), activation='relu', padding='same')))(cnn_input)\n",
    "\n",
    "CNN_out = (TimeDistributed(MaxPooling1D(pool_size=(2), strides=None, padding='valid')))(CNN_out)\n",
    "# CNN_out = Permute(dims = (2,3,1))(CNN_out)\n",
    "CNN_out = (TimeDistributed(Flatten()))(CNN_out)\n",
    "# CNN_out = Permute(dims = (2,1))(CNN_out)\n",
    "cnn = Model(inputs=cnn_input, outputs=CNN_out)"
   ]
  },
  {
   "cell_type": "code",
   "execution_count": 292,
   "metadata": {},
   "outputs": [],
   "source": [
    "cnn_input = Input(shape=(None,2), dtype='float', name='cnn_input')\n",
    "CNN_out = Lambda(lambda x: expand_dims(x, -1))(cnn_input)\n",
    "CNN_out = (TimeDistributed(Dense(8, activation = 'tanh')))(CNN_out)\n",
    "# CNN_out = (TimeDistributed(Conv1D(16, (16), activation='tanh', padding='same')))(CNN_out)\n",
    "# CNN_out = (TimeDistributed(MaxPooling1D(pool_size=(2), strides=None, padding='valid')))(CNN_out)\n",
    "CNN_out = (TimeDistributed(Conv1D(4, (10), activation='elu', padding='same')))(CNN_out)\n",
    "CNN_out = (TimeDistributed(MaxPooling1D(pool_size=(2), strides=None, padding='valid')))(CNN_out)\n",
    "# CNN_out = Permute(dims = (2,3,1))(CNN_out)\n",
    "CNN_out = (TimeDistributed(Flatten()))(CNN_out)\n",
    "# CNN_out = (TimeDistributed(Dense(4)))(CNN_out)\n",
    "# CNN_out = Permute(dims = (2,1))(CNN_out)\n",
    "# CNN_out = (Lambda(lambda x: squeeze(x, -1)))(CNN_out)\n",
    "cnn = Model(inputs=cnn_input, outputs=CNN_out)"
   ]
  },
  {
   "cell_type": "code",
   "execution_count": 674,
   "metadata": {},
   "outputs": [],
   "source": [
    "cnn_input = Input(shape=(30,2), dtype='float', name='cnn_input')\n",
    "CNN_out = Dense(16)(cnn_input)\n",
    "CNN_out = (Conv1D(2, (6), activation='relu', padding='same'))(cnn_input)\n",
    "# CNN_out = (Conv1D(16, (15), activation='relu', padding='same'))(CNN_out)\n",
    "CNN_out = (MaxPooling1D(pool_size=(3), strides=None, padding='valid'))(CNN_out)\n",
    "# CNN_out = (Flatten())(CNN_out)\n",
    "cnn = Model(inputs=cnn_input, outputs=CNN_out)"
   ]
  },
  {
   "cell_type": "code",
   "execution_count": 109,
   "metadata": {},
   "outputs": [
    {
     "name": "stdout",
     "output_type": "stream",
     "text": [
      "Model: \"model_13\"\n",
      "_________________________________________________________________\n",
      "Layer (type)                 Output Shape              Param #   \n",
      "=================================================================\n",
      "cnn_input (InputLayer)       [(None, None, 2)]         0         \n",
      "_________________________________________________________________\n",
      "lambda_6 (Lambda)            (None, None, 2, 1)        0         \n",
      "_________________________________________________________________\n",
      "time_distributed_24 (TimeDis (None, None, 2, 8)        16        \n",
      "_________________________________________________________________\n",
      "time_distributed_25 (TimeDis (None, None, 2, 4)        324       \n",
      "_________________________________________________________________\n",
      "time_distributed_26 (TimeDis (None, None, 1, 4)        0         \n",
      "_________________________________________________________________\n",
      "time_distributed_27 (TimeDis (None, None, 4)           0         \n",
      "=================================================================\n",
      "Total params: 340\n",
      "Trainable params: 340\n",
      "Non-trainable params: 0\n",
      "_________________________________________________________________\n"
     ]
    }
   ],
   "source": [
    "cnn.summary()"
   ]
  },
  {
   "cell_type": "code",
   "execution_count": 491,
   "metadata": {},
   "outputs": [],
   "source": [
    "def layer_clip(input, maxx, minn):\n",
    "    return K.clip(input, minn, maxx)"
   ]
  },
  {
   "cell_type": "code",
   "execution_count": 318,
   "metadata": {},
   "outputs": [],
   "source": [
    "aux_input = Input(shape=(None,28), name='aux_input')\n",
    "x = GRU(50, return_sequences = True, activation = 'tanh')(aux_input)\n",
    "# x = Dropout(0.5)(x)\n",
    "x = GRU(38,return_sequences = True, activation = 'tanh')(x)\n",
    "# x = Dropout(0.01)(x)\n",
    "x = GRU(24,return_sequences = True, activation = 'tanh')(x)\n",
    "# x = Dropout(0.2)(x)\n",
    "# x = concatenate([CNN_out, x], axis = 2)\n",
    "# x = Dense(30, activation = 'elu')(x)\n",
    "main_output = Dense(1, name='main_output')(x)\n",
    "# x = Dense(1, name='main_output')(x)\n",
    "# main_output = ELU(alpha = 1.5)(x)\n",
    "# main_output = Lambda(lambda x: K.clip(x, -1.0,1.0))(x)\n",
    "# model = Model(inputs= [cnn_input,aux_input], outputs=[main_output])\n",
    "model = Model(inputs= aux_input, outputs=[main_output])"
   ]
  },
  {
   "cell_type": "code",
   "execution_count": 232,
   "metadata": {},
   "outputs": [],
   "source": [
    "aux_input = Input(shape=(None,26), name='aux_input')\n",
    "x = GRU(40, return_sequences = True, activation = 'tanh')(aux_input)\n",
    "# x = Dropout(0.5)(x)\n",
    "x = GRU(20,return_sequences = True, activation = 'tanh')(x)\n",
    "# x = Dropout(0.01)(x)\n",
    "# x = GRU(24,return_sequences = True, activation = 'tanh')(x)\n",
    "# x = Dropout(0.2)(x)\n",
    "x = concatenate([CNN_out, x], axis = 2)\n",
    "# x = Dense(30, activation = 'elu')(x)\n",
    "main_output = Dense(1, name='main_output')(x)\n",
    "# x = Dense(1, name='main_output')(x)\n",
    "# main_output = ELU(alpha = 1.5)(x)\n",
    "# main_output = Lambda(lambda x: K.clip(x, -1.0,1.0))(x)\n",
    "model = Model(inputs= [cnn_input,aux_input], outputs=[main_output])\n",
    "# model = Model(inputs= aux_input, outputs=[main_output])"
   ]
  },
  {
   "cell_type": "code",
   "execution_count": null,
   "metadata": {},
   "outputs": [],
   "source": [
    "auxiliary_output = Dense(1, activation='sigmoid', name='aux_output')(CNN_out)"
   ]
  },
  {
   "cell_type": "code",
   "execution_count": 293,
   "metadata": {},
   "outputs": [],
   "source": [
    "auxiliary_input = Input(shape=(None,26), name='aux_input')\n",
    "x = concatenate([CNN_out, auxiliary_input], axis = 2)"
   ]
  },
  {
   "cell_type": "code",
   "execution_count": 294,
   "metadata": {},
   "outputs": [],
   "source": [
    "x = GRU(50, return_sequences = True, activation = 'tanh')(x)\n",
    "# x = Dropout(0.2)(x)\n",
    "x = GRU(38,return_sequences = True, activation = 'tanh')(x)\n",
    "x = GRU(24,return_sequences = True, activation = 'tanh')(x)\n",
    "# x = Dropout(0.2)(x)\n",
    "# x = Dropout(0.2)(x)\n",
    "main_output = Dense(1, name='main_output')(x)\n",
    "model = Model(inputs=[cnn_input, auxiliary_input], outputs=[main_output])\n"
   ]
  },
  {
   "cell_type": "code",
   "execution_count": 319,
   "metadata": {},
   "outputs": [],
   "source": [
    "model.compile(optimizer='adam', loss='mean_absolute_error', metrics=['mae'])"
   ]
  },
  {
   "cell_type": "code",
   "execution_count": 320,
   "metadata": {},
   "outputs": [
    {
     "name": "stdout",
     "output_type": "stream",
     "text": [
      "Model: \"model_46\"\n",
      "_________________________________________________________________\n",
      "Layer (type)                 Output Shape              Param #   \n",
      "=================================================================\n",
      "aux_input (InputLayer)       [(None, None, 28)]        0         \n",
      "_________________________________________________________________\n",
      "gru_61 (GRU)                 (None, None, 50)          11850     \n",
      "_________________________________________________________________\n",
      "gru_62 (GRU)                 (None, None, 38)          10146     \n",
      "_________________________________________________________________\n",
      "gru_63 (GRU)                 (None, None, 24)          4536      \n",
      "_________________________________________________________________\n",
      "main_output (Dense)          (None, None, 1)           25        \n",
      "=================================================================\n",
      "Total params: 26,557\n",
      "Trainable params: 26,557\n",
      "Non-trainable params: 0\n",
      "_________________________________________________________________\n"
     ]
    }
   ],
   "source": [
    "model.summary()"
   ]
  },
  {
   "cell_type": "code",
   "execution_count": 113,
   "metadata": {},
   "outputs": [],
   "source": [
    "from IPython.display import SVG\n",
    "from tensorflow.python.keras.utils import model_to_dot"
   ]
  },
  {
   "cell_type": "code",
   "execution_count": 114,
   "metadata": {},
   "outputs": [
    {
     "data": {
      "text/plain": [
       "<pydot.Dot at 0x7f37e1c75f98>"
      ]
     },
     "execution_count": 114,
     "metadata": {},
     "output_type": "execute_result"
    }
   ],
   "source": [
    "model_to_dot(model)"
   ]
  },
  {
   "cell_type": "code",
   "execution_count": 115,
   "metadata": {},
   "outputs": [
    {
     "data": {
      "image/svg+xml": [
       "<svg height=\"556pt\" viewBox=\"0.00 0.00 565.50 556.00\" width=\"566pt\" xmlns=\"http://www.w3.org/2000/svg\" xmlns:xlink=\"http://www.w3.org/1999/xlink\">\n",
       "<g class=\"graph\" id=\"graph0\" transform=\"scale(1 1) rotate(0) translate(4 552)\">\n",
       "<title>G</title>\n",
       "<polygon fill=\"#ffffff\" points=\"-4,4 -4,-552 561.5,-552 561.5,4 -4,4\" stroke=\"transparent\"/>\n",
       "<!-- 139878011323672 -->\n",
       "<g class=\"node\" id=\"node1\">\n",
       "<title>139878011323672</title>\n",
       "<polygon fill=\"none\" points=\"143.5,-511.5 143.5,-547.5 281.5,-547.5 281.5,-511.5 143.5,-511.5\" stroke=\"#000000\"/>\n",
       "<text fill=\"#000000\" font-family=\"Times,serif\" font-size=\"14.00\" text-anchor=\"middle\" x=\"212.5\" y=\"-525.8\">cnn_input: InputLayer</text>\n",
       "</g>\n",
       "<!-- 139878011323616 -->\n",
       "<g class=\"node\" id=\"node2\">\n",
       "<title>139878011323616</title>\n",
       "<polygon fill=\"none\" points=\"151,-438.5 151,-474.5 274,-474.5 274,-438.5 151,-438.5\" stroke=\"#000000\"/>\n",
       "<text fill=\"#000000\" font-family=\"Times,serif\" font-size=\"14.00\" text-anchor=\"middle\" x=\"212.5\" y=\"-452.8\">lambda_6: Lambda</text>\n",
       "</g>\n",
       "<!-- 139878011323672&#45;&gt;139878011323616 -->\n",
       "<g class=\"edge\" id=\"edge1\">\n",
       "<title>139878011323672-&gt;139878011323616</title>\n",
       "<path d=\"M212.5,-511.4551C212.5,-503.3828 212.5,-493.6764 212.5,-484.6817\" fill=\"none\" stroke=\"#000000\"/>\n",
       "<polygon fill=\"#000000\" points=\"216.0001,-484.5903 212.5,-474.5904 209.0001,-484.5904 216.0001,-484.5903\" stroke=\"#000000\"/>\n",
       "</g>\n",
       "<!-- 139878011326248 -->\n",
       "<g class=\"node\" id=\"node3\">\n",
       "<title>139878011326248</title>\n",
       "<polygon fill=\"none\" points=\"52.5,-365.5 52.5,-401.5 372.5,-401.5 372.5,-365.5 52.5,-365.5\" stroke=\"#000000\"/>\n",
       "<text fill=\"#000000\" font-family=\"Times,serif\" font-size=\"14.00\" text-anchor=\"middle\" x=\"212.5\" y=\"-379.8\">time_distributed_24(dense_6): TimeDistributed(Dense)</text>\n",
       "</g>\n",
       "<!-- 139878011323616&#45;&gt;139878011326248 -->\n",
       "<g class=\"edge\" id=\"edge2\">\n",
       "<title>139878011323616-&gt;139878011326248</title>\n",
       "<path d=\"M212.5,-438.4551C212.5,-430.3828 212.5,-420.6764 212.5,-411.6817\" fill=\"none\" stroke=\"#000000\"/>\n",
       "<polygon fill=\"#000000\" points=\"216.0001,-411.5903 212.5,-401.5904 209.0001,-411.5904 216.0001,-411.5903\" stroke=\"#000000\"/>\n",
       "</g>\n",
       "<!-- 139878011172456 -->\n",
       "<g class=\"node\" id=\"node4\">\n",
       "<title>139878011172456</title>\n",
       "<polygon fill=\"none\" points=\"42,-292.5 42,-328.5 383,-328.5 383,-292.5 42,-292.5\" stroke=\"#000000\"/>\n",
       "<text fill=\"#000000\" font-family=\"Times,serif\" font-size=\"14.00\" text-anchor=\"middle\" x=\"212.5\" y=\"-306.8\">time_distributed_25(conv1d_6): TimeDistributed(Conv1D)</text>\n",
       "</g>\n",
       "<!-- 139878011326248&#45;&gt;139878011172456 -->\n",
       "<g class=\"edge\" id=\"edge3\">\n",
       "<title>139878011326248-&gt;139878011172456</title>\n",
       "<path d=\"M212.5,-365.4551C212.5,-357.3828 212.5,-347.6764 212.5,-338.6817\" fill=\"none\" stroke=\"#000000\"/>\n",
       "<polygon fill=\"#000000\" points=\"216.0001,-338.5903 212.5,-328.5904 209.0001,-338.5904 216.0001,-338.5903\" stroke=\"#000000\"/>\n",
       "</g>\n",
       "<!-- 139878010818120 -->\n",
       "<g class=\"node\" id=\"node6\">\n",
       "<title>139878010818120</title>\n",
       "<polygon fill=\"none\" points=\"0,-219.5 0,-255.5 425,-255.5 425,-219.5 0,-219.5\" stroke=\"#000000\"/>\n",
       "<text fill=\"#000000\" font-family=\"Times,serif\" font-size=\"14.00\" text-anchor=\"middle\" x=\"212.5\" y=\"-233.8\">time_distributed_26(max_pooling1d_6): TimeDistributed(MaxPooling1D)</text>\n",
       "</g>\n",
       "<!-- 139878011172456&#45;&gt;139878010818120 -->\n",
       "<g class=\"edge\" id=\"edge4\">\n",
       "<title>139878011172456-&gt;139878010818120</title>\n",
       "<path d=\"M212.5,-292.4551C212.5,-284.3828 212.5,-274.6764 212.5,-265.6817\" fill=\"none\" stroke=\"#000000\"/>\n",
       "<polygon fill=\"#000000\" points=\"216.0001,-265.5903 212.5,-255.5904 209.0001,-265.5904 216.0001,-265.5903\" stroke=\"#000000\"/>\n",
       "</g>\n",
       "<!-- 139878010254392 -->\n",
       "<g class=\"node\" id=\"node5\">\n",
       "<title>139878010254392</title>\n",
       "<polygon fill=\"none\" points=\"419.5,-292.5 419.5,-328.5 557.5,-328.5 557.5,-292.5 419.5,-292.5\" stroke=\"#000000\"/>\n",
       "<text fill=\"#000000\" font-family=\"Times,serif\" font-size=\"14.00\" text-anchor=\"middle\" x=\"488.5\" y=\"-306.8\">aux_input: InputLayer</text>\n",
       "</g>\n",
       "<!-- 139878011323560 -->\n",
       "<g class=\"node\" id=\"node7\">\n",
       "<title>139878011323560</title>\n",
       "<polygon fill=\"none\" points=\"443,-219.5 443,-255.5 534,-255.5 534,-219.5 443,-219.5\" stroke=\"#000000\"/>\n",
       "<text fill=\"#000000\" font-family=\"Times,serif\" font-size=\"14.00\" text-anchor=\"middle\" x=\"488.5\" y=\"-233.8\">gru_20: GRU</text>\n",
       "</g>\n",
       "<!-- 139878010254392&#45;&gt;139878011323560 -->\n",
       "<g class=\"edge\" id=\"edge5\">\n",
       "<title>139878010254392-&gt;139878011323560</title>\n",
       "<path d=\"M488.5,-292.4551C488.5,-284.3828 488.5,-274.6764 488.5,-265.6817\" fill=\"none\" stroke=\"#000000\"/>\n",
       "<polygon fill=\"#000000\" points=\"492.0001,-265.5903 488.5,-255.5904 485.0001,-265.5904 492.0001,-265.5903\" stroke=\"#000000\"/>\n",
       "</g>\n",
       "<!-- 139878010577080 -->\n",
       "<g class=\"node\" id=\"node8\">\n",
       "<title>139878010577080</title>\n",
       "<polygon fill=\"none\" points=\"73,-146.5 73,-182.5 400,-182.5 400,-146.5 73,-146.5\" stroke=\"#000000\"/>\n",
       "<text fill=\"#000000\" font-family=\"Times,serif\" font-size=\"14.00\" text-anchor=\"middle\" x=\"236.5\" y=\"-160.8\">time_distributed_27(flatten_6): TimeDistributed(Flatten)</text>\n",
       "</g>\n",
       "<!-- 139878010818120&#45;&gt;139878010577080 -->\n",
       "<g class=\"edge\" id=\"edge6\">\n",
       "<title>139878010818120-&gt;139878010577080</title>\n",
       "<path d=\"M218.4326,-219.4551C221.1442,-211.2074 224.4166,-201.2536 227.4273,-192.0962\" fill=\"none\" stroke=\"#000000\"/>\n",
       "<polygon fill=\"#000000\" points=\"230.7541,-193.1833 230.5525,-182.5904 224.1043,-190.997 230.7541,-193.1833\" stroke=\"#000000\"/>\n",
       "</g>\n",
       "<!-- 139878010254448 -->\n",
       "<g class=\"node\" id=\"node9\">\n",
       "<title>139878010254448</title>\n",
       "<polygon fill=\"none\" points=\"430,-146.5 430,-182.5 521,-182.5 521,-146.5 430,-146.5\" stroke=\"#000000\"/>\n",
       "<text fill=\"#000000\" font-family=\"Times,serif\" font-size=\"14.00\" text-anchor=\"middle\" x=\"475.5\" y=\"-160.8\">gru_21: GRU</text>\n",
       "</g>\n",
       "<!-- 139878011323560&#45;&gt;139878010254448 -->\n",
       "<g class=\"edge\" id=\"edge7\">\n",
       "<title>139878011323560-&gt;139878010254448</title>\n",
       "<path d=\"M485.2865,-219.4551C483.849,-211.3828 482.1205,-201.6764 480.5187,-192.6817\" fill=\"none\" stroke=\"#000000\"/>\n",
       "<polygon fill=\"#000000\" points=\"483.9207,-191.8218 478.7216,-182.5904 477.0291,-193.0491 483.9207,-191.8218\" stroke=\"#000000\"/>\n",
       "</g>\n",
       "<!-- 139878010580888 -->\n",
       "<g class=\"node\" id=\"node10\">\n",
       "<title>139878010580888</title>\n",
       "<polygon fill=\"none\" points=\"265.5,-73.5 265.5,-109.5 433.5,-109.5 433.5,-73.5 265.5,-73.5\" stroke=\"#000000\"/>\n",
       "<text fill=\"#000000\" font-family=\"Times,serif\" font-size=\"14.00\" text-anchor=\"middle\" x=\"349.5\" y=\"-87.8\">concatenate_6: Concatenate</text>\n",
       "</g>\n",
       "<!-- 139878010577080&#45;&gt;139878010580888 -->\n",
       "<g class=\"edge\" id=\"edge8\">\n",
       "<title>139878010577080-&gt;139878010580888</title>\n",
       "<path d=\"M264.4326,-146.4551C279.101,-136.979 297.2556,-125.2508 313.0214,-115.0658\" fill=\"none\" stroke=\"#000000\"/>\n",
       "<polygon fill=\"#000000\" points=\"314.9966,-117.9566 321.4971,-109.5904 311.1982,-112.0769 314.9966,-117.9566\" stroke=\"#000000\"/>\n",
       "</g>\n",
       "<!-- 139878010254448&#45;&gt;139878010580888 -->\n",
       "<g class=\"edge\" id=\"edge9\">\n",
       "<title>139878010254448-&gt;139878010580888</title>\n",
       "<path d=\"M444.3539,-146.4551C427.8465,-136.8912 407.3796,-125.0334 389.6876,-114.7833\" fill=\"none\" stroke=\"#000000\"/>\n",
       "<polygon fill=\"#000000\" points=\"391.1318,-111.575 380.7245,-109.5904 387.6226,-117.6319 391.1318,-111.575\" stroke=\"#000000\"/>\n",
       "</g>\n",
       "<!-- 139878010389504 -->\n",
       "<g class=\"node\" id=\"node11\">\n",
       "<title>139878010389504</title>\n",
       "<polygon fill=\"none\" points=\"286,-.5 286,-36.5 413,-36.5 413,-.5 286,-.5\" stroke=\"#000000\"/>\n",
       "<text fill=\"#000000\" font-family=\"Times,serif\" font-size=\"14.00\" text-anchor=\"middle\" x=\"349.5\" y=\"-14.8\">main_output: Dense</text>\n",
       "</g>\n",
       "<!-- 139878010580888&#45;&gt;139878010389504 -->\n",
       "<g class=\"edge\" id=\"edge10\">\n",
       "<title>139878010580888-&gt;139878010389504</title>\n",
       "<path d=\"M349.5,-73.4551C349.5,-65.3828 349.5,-55.6764 349.5,-46.6817\" fill=\"none\" stroke=\"#000000\"/>\n",
       "<polygon fill=\"#000000\" points=\"353.0001,-46.5903 349.5,-36.5904 346.0001,-46.5904 353.0001,-46.5903\" stroke=\"#000000\"/>\n",
       "</g>\n",
       "</g>\n",
       "</svg>"
      ],
      "text/plain": [
       "<IPython.core.display.SVG object>"
      ]
     },
     "execution_count": 115,
     "metadata": {},
     "output_type": "execute_result"
    }
   ],
   "source": [
    "SVG(model_to_dot(model).create(prog='dot', format='svg'))"
   ]
  },
  {
   "cell_type": "code",
   "execution_count": 52,
   "metadata": {},
   "outputs": [],
   "source": [
    "%load_ext tensorboard\n",
    "!rm -rf ./logs/ "
   ]
  },
  {
   "cell_type": "code",
   "execution_count": 36,
   "metadata": {},
   "outputs": [],
   "source": [
    "# import datetime\n",
    "# log_dir=\"logs/fit/\" + datetime.datetime.now().strftime(\"%Y%m%d-%H%M%S\")\n",
    "# tensorboard_callback = tf.keras.callbacks.TensorBoard(log_dir=log_dir, histogram_freq=1)"
   ]
  },
  {
   "cell_type": "code",
   "execution_count": 321,
   "metadata": {},
   "outputs": [],
   "source": [
    "path_checkpoint = '23_checkpoint.keras'\n",
    "callback_checkpoint = ModelCheckpoint(filepath=path_checkpoint,\n",
    "                                      monitor='val_loss',\n",
    "                                      verbose=1,\n",
    "                                      save_weights_only=True,\n",
    "                                      save_best_only=True)\n",
    "callback_early_stopping = EarlyStopping(monitor='val_loss',\n",
    "                                        patience=5, verbose=1)\n",
    "callback_tensorboard = TensorBoard(log_dir='./23_logs/',\n",
    "                                   histogram_freq=0,\n",
    "                                   write_graph=False)\n",
    "callback_reduce_lr = ReduceLROnPlateau(monitor='val_loss',\n",
    "                                       factor=0.1,\n",
    "                                       min_lr=1e-4,\n",
    "                                       patience=0,\n",
    "                                       verbose=1)\n",
    "callbacks = [callback_early_stopping,\n",
    "             callback_checkpoint,\n",
    "             callback_tensorboard,\n",
    "             callback_reduce_lr]"
   ]
  },
  {
   "cell_type": "code",
   "execution_count": 409,
   "metadata": {
    "collapsed": true,
    "jupyter": {
     "outputs_hidden": true,
     "source_hidden": true
    }
   },
   "outputs": [
    {
     "name": "stdout",
     "output_type": "stream",
     "text": [
      "0.05\n",
      "0.1\n",
      "0.2\n",
      "0.3\n",
      "0.4\n",
      "Epoch 00031: early stopping\n"
     ]
    },
    {
     "data": {
      "image/png": "[encoded data removed]",
      "text/plain": [
       "<Figure size 864x576 with 1 Axes>"
      ]
     },
     "metadata": {
      "needs_background": "light"
     },
     "output_type": "display_data"
    }
   ],
   "source": [
    "# batch_size = [40,80,120]\n",
    "num_units = [18,19,20,21,22]\n",
    "drop_rate = [0.05,0.1,0.2,0.3, 0.4]\n",
    "plt.figure(figsize=(12, 8))\n",
    "plt.plot(y_test_rescaled[1100:1500], label = 'true')\n",
    "for i, j in enumerate(drop_rate):\n",
    "    print(j)\n",
    "    generator = batch_generator_multi(batch_size=batch_size, sequence_length=sequence_length)\n",
    "    \n",
    "    path_checkpoint = '23_checkpoint.keras'\n",
    "    callback_checkpoint = ModelCheckpoint(filepath=path_checkpoint,\n",
    "                                          monitor='val_loss',\n",
    "                                          verbose=0,\n",
    "                                          save_weights_only=True,\n",
    "                                          save_best_only=True)\n",
    "    callback_early_stopping = EarlyStopping(monitor='val_loss',\n",
    "                                            patience=5, verbose=1)\n",
    "    callback_tensorboard = TensorBoard(log_dir='./23_logs/',\n",
    "                                       histogram_freq=0,\n",
    "                                       write_graph=False)\n",
    "    callback_reduce_lr = ReduceLROnPlateau(monitor='val_loss',\n",
    "                                           factor=0.1,\n",
    "                                           min_lr=1e-4,\n",
    "                                           patience=0,\n",
    "                                           verbose=0)\n",
    "\n",
    "    callbacks = [callback_early_stopping,\n",
    "                 callback_checkpoint,\n",
    "                 callback_tensorboard,\n",
    "                 callback_reduce_lr]\n",
    "    \n",
    "    cnn_input = Input(shape=(None,2), dtype='float', name='cnn_input')\n",
    "    CNN_out = Lambda(lambda x: expand_dims(x, -1))(cnn_input)\n",
    "    CNN_out = (TimeDistributed(Dense(8, activation = 'tanh')))(CNN_out)\n",
    "    # CNN_out = (TimeDistributed(Conv1D(16, (16), activation='tanh', padding='same')))(CNN_out)\n",
    "    # CNN_out = (TimeDistributed(MaxPooling1D(pool_size=(2), strides=None, padding='valid')))(CNN_out)\n",
    "    CNN_out = (TimeDistributed(Conv1D(16, (20), activation='elu', padding='same')))(CNN_out)\n",
    "    CNN_out = (TimeDistributed(MaxPooling1D(pool_size=(1), strides=None, padding='valid')))(CNN_out)\n",
    "    # CNN_out = Permute(dims = (2,3,1))(CNN_out)\n",
    "    CNN_out = (TimeDistributed(Flatten()))(CNN_out)\n",
    "    \n",
    "    auxiliary_input = Input(shape=(None,26), name='aux_input')\n",
    "    x = concatenate([CNN_out, auxiliary_input], axis = 2)\n",
    "\n",
    "    aux_input = Input(shape=(None,26), name='aux_input')\n",
    "    x = GRU(60, return_sequences = True, activation = 'tanh')(aux_input)\n",
    "    x = Dropout(j)(x)\n",
    "#     x = GRU(20,return_sequences = True, activation = 'tanh')(x)\n",
    "    main_output = Dense(1, name='main_output')(x)\n",
    "\n",
    "    model = Model(inputs= [cnn_input, aux_input], outputs=[main_output])\n",
    "    model.compile(optimizer='adam', loss='mean_absolute_error', metrics=['mae'])\n",
    "    model.fit_generator(generator=generator,\n",
    "                        epochs=50,\n",
    "                        steps_per_epoch=50,\n",
    "                        validation_data=validation_data,\n",
    "                        callbacks=callbacks,\n",
    "                       verbose = 0)\n",
    "    try:\n",
    "        model.load_weights(path_checkpoint)\n",
    "    except Exception as error:\n",
    "        print(\"Error trying to load checkpoint.\")\n",
    "        print(error)\n",
    "#     y_pred = model.predict(np.expand_dims(x_test, axis =0))\n",
    "    y_pred = model.predict([np.expand_dims(x_test[:,0:2], axis=0), np.expand_dims(x_test[:,2:], axis =0)])\n",
    "\n",
    "    y_pred_rescaled = scy.inverse_transform(y_pred[0])\n",
    "    y_test_rescaled = scy.inverse_transform(y_test)\n",
    "\n",
    "#     plt.figure(figsize=(12, 8))\n",
    "    plt.ylabel('time to dest')\n",
    "    # plt.plot(y_pred_rescaled, label = 'pred')\n",
    "    # plt.plot(y_test_rescaled, label = 'true')\n",
    "    plt.plot(y_pred_rescaled[1100:1500], label = 'dropout =' + str(j))\n",
    "\n",
    "#     plt.plot(y_test_rescaled[1400:2000], label = 'true')\n",
    "#     plt.legend()\n",
    "plt.grid(axis = 'y')\n",
    "plt.axhline(0, color='black',alpha = 0.5)\n",
    "plt.legend() \n",
    "plt.show()"
   ]
  },
  {
   "cell_type": "code",
   "execution_count": 322,
   "metadata": {},
   "outputs": [
    {
     "name": "stdout",
     "output_type": "stream",
     "text": [
      "Epoch 1/50\n",
      "199/200 [============================>.] - ETA: 0s - loss: 0.1248 - mean_absolute_error: 0.1248\n",
      "Epoch 00001: val_loss improved from inf to 0.03188, saving model to 23_checkpoint.keras\n",
      "200/200 [==============================] - 39s 195ms/step - loss: 0.1244 - mean_absolute_error: 0.1244 - val_loss: 0.0319 - val_mean_absolute_error: 0.0319\n",
      "Epoch 2/50\n",
      "199/200 [============================>.] - ETA: 0s - loss: 0.0232 - mean_absolute_error: 0.0232\n",
      "Epoch 00002: val_loss improved from 0.03188 to 0.02737, saving model to 23_checkpoint.keras\n",
      "200/200 [==============================] - 25s 125ms/step - loss: 0.0232 - mean_absolute_error: 0.0232 - val_loss: 0.0274 - val_mean_absolute_error: 0.0274\n",
      "Epoch 3/50\n",
      "199/200 [============================>.] - ETA: 0s - loss: 0.0159 - mean_absolute_error: 0.0159\n",
      "Epoch 00003: val_loss improved from 0.02737 to 0.02497, saving model to 23_checkpoint.keras\n",
      "200/200 [==============================] - 25s 124ms/step - loss: 0.0159 - mean_absolute_error: 0.0159 - val_loss: 0.0250 - val_mean_absolute_error: 0.0250\n",
      "Epoch 4/50\n",
      "199/200 [============================>.] - ETA: 0s - loss: 0.0142 - mean_absolute_error: 0.0142\n",
      "Epoch 00004: val_loss improved from 0.02497 to 0.02455, saving model to 23_checkpoint.keras\n",
      "200/200 [==============================] - 25s 124ms/step - loss: 0.0142 - mean_absolute_error: 0.0142 - val_loss: 0.0245 - val_mean_absolute_error: 0.0245\n",
      "Epoch 5/50\n",
      "199/200 [============================>.] - ETA: 0s - loss: 0.0131 - mean_absolute_error: 0.0131\n",
      "Epoch 00005: val_loss improved from 0.02455 to 0.02370, saving model to 23_checkpoint.keras\n",
      "200/200 [==============================] - 28s 142ms/step - loss: 0.0131 - mean_absolute_error: 0.0131 - val_loss: 0.0237 - val_mean_absolute_error: 0.0237\n",
      "Epoch 6/50\n",
      "199/200 [============================>.] - ETA: 0s - loss: 0.0126 - mean_absolute_error: 0.0126\n",
      "Epoch 00006: val_loss did not improve from 0.02370\n",
      "\n",
      "Epoch 00006: ReduceLROnPlateau reducing learning rate to 0.00010000000474974513.\n",
      "200/200 [==============================] - 33s 163ms/step - loss: 0.0126 - mean_absolute_error: 0.0126 - val_loss: 0.0255 - val_mean_absolute_error: 0.0255\n",
      "Epoch 7/50\n",
      "199/200 [============================>.] - ETA: 0s - loss: 0.0119 - mean_absolute_error: 0.0119\n",
      "Epoch 00007: val_loss did not improve from 0.02370\n",
      "\n",
      "Epoch 00007: ReduceLROnPlateau reducing learning rate to 0.0001.\n",
      "200/200 [==============================] - 27s 134ms/step - loss: 0.0119 - mean_absolute_error: 0.0119 - val_loss: 0.0244 - val_mean_absolute_error: 0.0244\n",
      "Epoch 8/50\n",
      "199/200 [============================>.] - ETA: 0s - loss: 0.0121 - mean_absolute_error: 0.0121\n",
      "Epoch 00008: val_loss did not improve from 0.02370\n",
      "200/200 [==============================] - 25s 127ms/step - loss: 0.0121 - mean_absolute_error: 0.0121 - val_loss: 0.0250 - val_mean_absolute_error: 0.0250\n",
      "Epoch 9/50\n",
      "199/200 [============================>.] - ETA: 0s - loss: 0.0118 - mean_absolute_error: 0.0118\n",
      "Epoch 00009: val_loss did not improve from 0.02370\n",
      "200/200 [==============================] - 23s 117ms/step - loss: 0.0118 - mean_absolute_error: 0.0118 - val_loss: 0.0246 - val_mean_absolute_error: 0.0246\n",
      "Epoch 10/50\n",
      "199/200 [============================>.] - ETA: 0s - loss: 0.0119 - mean_absolute_error: 0.0119\n",
      "Epoch 00010: val_loss did not improve from 0.02370\n",
      "200/200 [==============================] - 26s 129ms/step - loss: 0.0119 - mean_absolute_error: 0.0119 - val_loss: 0.0240 - val_mean_absolute_error: 0.0240\n",
      "Epoch 00010: early stopping\n"
     ]
    },
    {
     "data": {
      "text/plain": [
       "<matplotlib.legend.Legend at 0x7f37bd30d7b8>"
      ]
     },
     "execution_count": 322,
     "metadata": {},
     "output_type": "execute_result"
    },
    {
     "data": {
      "image/png": "[encoded data removed]",
      "text/plain": [
       "<Figure size 864x576 with 1 Axes>"
      ]
     },
     "metadata": {
      "needs_background": "light"
     },
     "output_type": "display_data"
    }
   ],
   "source": [
    "model.fit_generator(generator=generator,\n",
    "                    epochs=50,\n",
    "                    steps_per_epoch=200,\n",
    "                    validation_data=validation_data,\n",
    "                    callbacks=callbacks)\n",
    "try:\n",
    "    model.load_weights(path_checkpoint)\n",
    "except Exception as error:\n",
    "    print(\"Error trying to load checkpoint.\")\n",
    "    print(error)\n",
    "y_pred = model.predict(np.expand_dims(x_test, axis =0))\n",
    "# y_pred = model.predict([np.expand_dims(x_test[:,0:2], axis=0), np.expand_dims(x_test[:,2:], axis =0)])\n",
    "# y_pred = model.predict([np.expand_dims(x_test[:,0:2], axis=0), np.expand_dims(x_test, axis =0)])\n",
    "\n",
    "y_pred_rescaled = scy.inverse_transform(y_pred[0])\n",
    "y_test_rescaled = scy.inverse_transform(y_test)\n",
    "\n",
    "plt.figure(figsize=(12, 8))\n",
    "plt.ylabel('time to dest')\n",
    "# plt.plot(y_pred_rescaled, label = 'pred')\n",
    "# plt.plot(y_test_rescaled, label = 'true')\n",
    "plt.plot(y_pred_rescaled[1100:1500], label = 'pred')\n",
    "plt.plot(y_test_rescaled[1100:1500], label = 'true')\n",
    "plt.legend()"
   ]
  },
  {
   "cell_type": "code",
   "execution_count": 258,
   "metadata": {},
   "outputs": [],
   "source": [
    "model.save('cnnrnn parallel 2603.h5')"
   ]
  },
  {
   "cell_type": "code",
   "execution_count": 999,
   "metadata": {},
   "outputs": [
    {
     "data": {
      "text/plain": [
       "4651"
      ]
     },
     "execution_count": 999,
     "metadata": {},
     "output_type": "execute_result"
    }
   ],
   "source": [
    "import gc\n",
    "gc.collect()"
   ]
  },
  {
   "cell_type": "code",
   "execution_count": 1153,
   "metadata": {},
   "outputs": [],
   "source": [
    "try:\n",
    "    model.load_weights(path_checkpoint)\n",
    "except Exception as error:\n",
    "    print(\"Error trying to load checkpoint.\")\n",
    "    print(error)"
   ]
  },
  {
   "cell_type": "code",
   "execution_count": 864,
   "metadata": {},
   "outputs": [
    {
     "name": "stdout",
     "output_type": "stream",
     "text": [
      "1/1 [==============================] - 1s 1s/sample - loss: 0.0316 - mean_absolute_error: 0.0316\n"
     ]
    }
   ],
   "source": [
    "result = model.evaluate(x=[np.expand_dims(x_test[:,0:2], axis=0).reshape(1,-1,2,1), np.expand_dims(x_test, axis =0)],\n",
    "                        y=np.expand_dims(y_test, axis=0))"
   ]
  },
  {
   "cell_type": "code",
   "execution_count": 83,
   "metadata": {},
   "outputs": [],
   "source": [
    "y_pred = model.predict(np.expand_dims(x_test, axis =0))"
   ]
  },
  {
   "cell_type": "code",
   "execution_count": 301,
   "metadata": {},
   "outputs": [],
   "source": [
    "y_pred = np.clip(y_pred,-1.0,1.0)"
   ]
  },
  {
   "cell_type": "code",
   "execution_count": 894,
   "metadata": {},
   "outputs": [],
   "source": [
    "y_pred = model.predict([np.expand_dims(x_test[:,0:2], axis=0).reshape(1,2,-1,1), np.expand_dims(x_test, axis =0)])"
   ]
  },
  {
   "cell_type": "code",
   "execution_count": 277,
   "metadata": {},
   "outputs": [],
   "source": [
    "y_pred = model.predict([np.expand_dims(x_test[:,0:2], axis=0), np.expand_dims(x_test, axis =0)])"
   ]
  },
  {
   "cell_type": "code",
   "execution_count": 302,
   "metadata": {},
   "outputs": [],
   "source": [
    "y_pred_rescaled = scy.inverse_transform(y_pred[0])\n",
    "y_test_rescaled = scy.inverse_transform(y_test)"
   ]
  },
  {
   "cell_type": "code",
   "execution_count": 305,
   "metadata": {},
   "outputs": [
    {
     "data": {
      "text/plain": [
       "array([], dtype=float32)"
      ]
     },
     "execution_count": 305,
     "metadata": {},
     "output_type": "execute_result"
    }
   ],
   "source": [
    "y_pred[0][y_pred[0]> 1]"
   ]
  },
  {
   "cell_type": "code",
   "execution_count": null,
   "metadata": {},
   "outputs": [],
   "source": [
    "scy.inverse_transform(y_pred[0][y_pred[0] < -1].reshape(1,-1))"
   ]
  },
  {
   "cell_type": "code",
   "execution_count": 585,
   "metadata": {},
   "outputs": [
    {
     "data": {
      "text/plain": [
       "array([[[0.03194636],\n",
       "        [0.03321187],\n",
       "        [0.02991301],\n",
       "        ...,\n",
       "        [0.01069504],\n",
       "        [0.01074362],\n",
       "        [0.01027091]]], dtype=float32)"
      ]
     },
     "execution_count": 585,
     "metadata": {},
     "output_type": "execute_result"
    }
   ],
   "source": [
    "y_pred"
   ]
  },
  {
   "cell_type": "code",
   "execution_count": 583,
   "metadata": {},
   "outputs": [
    {
     "data": {
      "text/plain": [
       "array([[685.83997],\n",
       "       [713.0084 ],\n",
       "       [642.187  ],\n",
       "       ...,\n",
       "       [229.60704],\n",
       "       [230.64989],\n",
       "       [220.50168]], dtype=float32)"
      ]
     },
     "execution_count": 583,
     "metadata": {},
     "output_type": "execute_result"
    }
   ],
   "source": [
    "y_pred_rescaled "
   ]
  },
  {
   "cell_type": "code",
   "execution_count": 584,
   "metadata": {},
   "outputs": [
    {
     "data": {
      "text/plain": [
       "array([[1008.61199244],\n",
       "       [ 994.10646438],\n",
       "       [ 979.97496105],\n",
       "       ...,\n",
       "       [  60.42329355],\n",
       "       [  16.96941317],\n",
       "       [   2.81317724]])"
      ]
     },
     "execution_count": 584,
     "metadata": {},
     "output_type": "execute_result"
    }
   ],
   "source": [
    "y_test_rescaled "
   ]
  },
  {
   "cell_type": "code",
   "execution_count": 656,
   "metadata": {},
   "outputs": [
    {
     "data": {
      "text/plain": [
       "<matplotlib.collections.PathCollection at 0x7fe852df5390>"
      ]
     },
     "execution_count": 656,
     "metadata": {},
     "output_type": "execute_result"
    },
    {
     "data": {
      "image/png": "[encoded data removed]",
      "text/plain": [
       "<Figure size 864x576 with 1 Axes>"
      ]
     },
     "metadata": {
      "needs_background": "light"
     },
     "output_type": "display_data"
    }
   ],
   "source": [
    "plt.figure(figsize=(12, 8))\n",
    "plt.scatter(y_test_rescaled[120:160] , y_pred_rescaled[120:160])\n"
   ]
  },
  {
   "cell_type": "code",
   "execution_count": 323,
   "metadata": {},
   "outputs": [
    {
     "data": {
      "text/plain": [
       "<matplotlib.legend.Legend at 0x7f37bd268dd8>"
      ]
     },
     "execution_count": 323,
     "metadata": {},
     "output_type": "execute_result"
    },
    {
     "data": {
      "image/png": "[encoded data removed]",
      "text/plain": [
       "<Figure size 1224x576 with 1 Axes>"
      ]
     },
     "metadata": {
      "needs_background": "light"
     },
     "output_type": "display_data"
    }
   ],
   "source": [
    "plt.figure(figsize=(17, 8))\n",
    "plt.ylabel('time to dest')\n",
    "# plt.plot(y_pred_rescaled, label = 'pred')\n",
    "# plt.plot(y_test_rescaled, label = 'true')\n",
    "plt.plot(y_pred_rescaled[400:2500], label = 'pred')\n",
    "plt.plot(y_test_rescaled[400:2500], label = 'true')\n",
    "plt.legend()"
   ]
  },
  {
   "cell_type": "code",
   "execution_count": 324,
   "metadata": {},
   "outputs": [
    {
     "data": {
      "text/plain": [
       "<matplotlib.legend.Legend at 0x7f37bd233f98>"
      ]
     },
     "execution_count": 324,
     "metadata": {},
     "output_type": "execute_result"
    },
    {
     "data": {
      "image/png": "[encoded data removed]",
      "text/plain": [
       "<Figure size 864x576 with 1 Axes>"
      ]
     },
     "metadata": {
      "needs_background": "light"
     },
     "output_type": "display_data"
    }
   ],
   "source": [
    "plt.figure(figsize=(12, 8))\n",
    "plt.ylabel('time to dest')\n",
    "plt.xlabel('idx')\n",
    "\n",
    "plt.plot(y_pred_rescaled[1650:1950], label = 'pred')\n",
    "plt.plot(y_test_rescaled[1650:1950], label = 'true')\n",
    "plt.grid(axis = 'y')\n",
    "plt.axhline(0, color='black',alpha = 0.5)\n",
    "plt.legend()"
   ]
  },
  {
   "cell_type": "markdown",
   "metadata": {},
   "source": [
    "### x"
   ]
  },
  {
   "cell_type": "code",
   "execution_count": 161,
   "metadata": {},
   "outputs": [],
   "source": [
    "from sklearn.metrics import mean_absolute_error"
   ]
  },
  {
   "cell_type": "code",
   "execution_count": 325,
   "metadata": {},
   "outputs": [
    {
     "data": {
      "text/plain": [
       "254.3194663760776"
      ]
     },
     "execution_count": 325,
     "metadata": {},
     "output_type": "execute_result"
    }
   ],
   "source": [
    "mean_absolute_error(y_test_rescaled , y_pred_rescaled )"
   ]
  },
  {
   "cell_type": "code",
   "execution_count": 1090,
   "metadata": {},
   "outputs": [],
   "source": [
    "def tanh(z):\n",
    "    return (np.exp(z) - np.exp(-z)) / (np.exp(z) + np.exp(-z))"
   ]
  },
  {
   "cell_type": "code",
   "execution_count": 337,
   "metadata": {},
   "outputs": [],
   "source": [
    "def elu(z,alpha):\n",
    "    return z if z >= 0 else alpha*(np.exp(z) -1)"
   ]
  },
  {
   "cell_type": "code",
   "execution_count": 372,
   "metadata": {},
   "outputs": [
    {
     "data": {
      "image/png": "[encoded data removed]",
      "text/plain": [
       "<Figure size 432x288 with 1 Axes>"
      ]
     },
     "metadata": {
      "needs_background": "light"
     },
     "output_type": "display_data"
    }
   ],
   "source": [
    "x = np.arange(-2,2,0.1)\n",
    "y =[]\n",
    "for i in x:\n",
    "    y.append(elu(i,1.5))\n",
    "plt.axvline(0, color='black')\n",
    "plt.axhline(0, color='black')\n",
    "plt.axhline(-1, color='red')\n",
    "plt.axvline(-1, color='red')\n",
    "plt.plot(x, y)\n",
    "plt.xlabel('x')\n",
    "plt.ylabel('y')\n",
    "plt.grid()\n",
    "plt.title('ELU')\n",
    "plt.show()"
   ]
  },
  {
   "cell_type": "code",
   "execution_count": null,
   "metadata": {},
   "outputs": [],
   "source": []
  }
 ],
 "metadata": {
  "kernelspec": {
   "display_name": "Python 3",
   "language": "python",
   "name": "python3"
  },
  "language_info": {
   "codemirror_mode": {
    "name": "ipython",
    "version": 3
   },
   "file_extension": ".py",
   "mimetype": "text/x-python",
   "name": "python",
   "nbconvert_exporter": "python",
   "pygments_lexer": "ipython3",
   "version": "3.7.3"
  }
 },
 "nbformat": 4,
 "nbformat_minor": 4
}
